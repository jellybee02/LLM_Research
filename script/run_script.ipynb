{
 "cells": [
  {
   "cell_type": "markdown",
   "id": "b24ad5b3",
   "metadata": {},
   "source": [
    "# Pckage List"
   ]
  },
  {
   "cell_type": "code",
   "execution_count": 1,
   "id": "4f5da466",
   "metadata": {},
   "outputs": [
    {
     "name": "stderr",
     "output_type": "stream",
     "text": [
      "/home/ethan/anaconda3/envs/pl_llm/lib/python3.12/site-packages/tqdm/auto.py:21: TqdmWarning: IProgress not found. Please update jupyter and ipywidgets. See https://ipywidgets.readthedocs.io/en/stable/user_install.html\n",
      "  from .autonotebook import tqdm as notebook_tqdm\n"
     ]
    }
   ],
   "source": [
    "import numpy as np, pandas as pd, warnings, os, openai, json\n",
    "from tqdm.auto import tqdm\n",
    "from openai import OpenAI\n",
    "warnings.filterwarnings('ignore')\n",
    "import requests\n",
    "from typing import List, Tuple, Union\n",
    "from langchain_ollama.embeddings import OllamaEmbeddings\n",
    "import pickle\n",
    "from sklearn.metrics.pairwise import cosine_similarity\n",
    "from haversine import haversine, Unit"
   ]
  },
  {
   "cell_type": "markdown",
   "id": "c8e74ff5",
   "metadata": {},
   "source": [
    "# Data Load"
   ]
  },
  {
   "cell_type": "code",
   "execution_count": 2,
   "id": "dd1c19a5",
   "metadata": {},
   "outputs": [],
   "source": [
    "df = pd.read_csv(\"../data/prep2.csv\", encoding='cp949')"
   ]
  },
  {
   "cell_type": "markdown",
   "id": "948bf96e",
   "metadata": {},
   "source": [
    "# Function"
   ]
  },
  {
   "cell_type": "code",
   "execution_count": 3,
   "id": "30b9be78",
   "metadata": {},
   "outputs": [],
   "source": [
    "class OllamaSentenceTransformer():\n",
    "    def __init__(\n",
    "            self,\n",
    "            *args,\n",
    "            **kargs,\n",
    "            ) -> None:\n",
    "                # self.base_url = kargs.get()\n",
    "                self.model = kargs.get(\"model\",\"bge-m3\")\n",
    "                self.embedding_model = OllamaEmbeddings(\n",
    "                            model = self.model,\n",
    "                            # base_url = self.base_rul,\n",
    "                        )\n",
    "                        \n",
    "    \n",
    "    def encode(\n",
    "            self,\n",
    "            documents:Union[str, List[str], np.ndarray],\n",
    "            *args,\n",
    "            **kargs,\n",
    "        )-> np.ndarray:\n",
    "        if isinstance(documents, str):\n",
    "            document_embeddings = self.embedding_model.embed_query(documents)\n",
    "            return np.array(document_embeddings)\n",
    "        \n",
    "        if isinstance(documents, np.ndarray):\n",
    "            documents = documents.tolist()\n",
    "        \n",
    "        document_embeddings = [self.embedding_model.embed_query(s) for s in documents]\n",
    "        return np.array(document_embeddings)\n",
    "        \n",
    "sentence_transformer = OllamaSentenceTransformer()"
   ]
  },
  {
   "cell_type": "markdown",
   "id": "e5a6db69",
   "metadata": {},
   "source": [
    "## 위치 관련 정보 제공"
   ]
  },
  {
   "cell_type": "code",
   "execution_count": 4,
   "id": "d290fa2b",
   "metadata": {},
   "outputs": [
    {
     "name": "stdout",
     "output_type": "stream",
     "text": [
      "진천군 위도/경도: (36.855461, 127.4353927)\n"
     ]
    }
   ],
   "source": [
    "def get_lat_lon(location_name):\n",
    "    url = 'https://nominatim.openstreetmap.org/search'\n",
    "    params = {\n",
    "        'q': location_name,\n",
    "        'format': 'json'\n",
    "    }\n",
    "    headers = {\n",
    "        'User-Agent': 'Mozilla/5.0 (compatible; ChatGPT-Example/1.0; +http://yourdomain.com)'\n",
    "    }\n",
    "\n",
    "    response = requests.get(url, params=params, headers=headers)\n",
    "\n",
    "    # 응답 확인\n",
    "    if response.status_code != 200:\n",
    "        print(f\"요청 실패: {response.status_code}\")\n",
    "        print(\"응답 내용:\", response.text)\n",
    "        return None\n",
    "\n",
    "    try:\n",
    "        data = response.json()\n",
    "        if data:\n",
    "            lat = data[0]['lat']\n",
    "            lon = data[0]['lon']\n",
    "            return float(lat), float(lon)\n",
    "        else:\n",
    "            print(\"위치 정보를 찾을 수 없습니다.\")\n",
    "            return None\n",
    "    except ValueError as e:\n",
    "        print(\"JSON 파싱 오류:\", e)\n",
    "        print(\"응답 내용:\", response.text)\n",
    "        return None\n",
    "\n",
    "# 테스트\n",
    "location = '진천군'\n",
    "result = get_lat_lon(location)\n",
    "print(f\"{location} 위도/경도: {result}\")\n"
   ]
  },
  {
   "cell_type": "markdown",
   "id": "a01f0f15",
   "metadata": {},
   "source": [
    "## API 키 설정"
   ]
  },
  {
   "cell_type": "code",
   "execution_count": 5,
   "id": "bb9ec44a",
   "metadata": {},
   "outputs": [],
   "source": [
    "key = open('../../../api_key.txt','r')\n",
    "api_key = key.read()\n",
    "openai.api_key = api_key"
   ]
  },
  {
   "cell_type": "markdown",
   "id": "63a9a845",
   "metadata": {},
   "source": [
    "# 전체 툴 인코딩 값"
   ]
  },
  {
   "cell_type": "code",
   "execution_count": 6,
   "id": "c067dc8c",
   "metadata": {},
   "outputs": [],
   "source": [
    "with open('../data/encoded_tool_name2.pkl', \"rb\") as f:\n",
    "    all_tool_encoded_array = pickle.load(f)"
   ]
  },
  {
   "cell_type": "markdown",
   "id": "cdc02ac7",
   "metadata": {},
   "source": [
    "# Input Content"
   ]
  },
  {
   "cell_type": "code",
   "execution_count": 13,
   "id": "2eecf873",
   "metadata": {},
   "outputs": [],
   "source": [
    "with open('../data/user_input_content.json', \"rb\") as f:\n",
    "    input_content = json.load(f)"
   ]
  },
  {
   "cell_type": "code",
   "execution_count": 45,
   "id": "a362b1c4",
   "metadata": {},
   "outputs": [],
   "source": [
    "input_content = {\n",
    "    'tool_name': '전동드릴',\n",
    "    'location': '강남역',\n",
    "    'job_content': '전동드릴을 사용해서 나무를 고정하고 싶어',    \n",
    "}"
   ]
  },
  {
   "cell_type": "code",
   "execution_count": 46,
   "id": "84df8505",
   "metadata": {},
   "outputs": [],
   "source": [
    "encoded_tool_name = sentence_transformer.encode(input_content['tool_name'])\n",
    "location_name = input_content['location']\n",
    "spot_location = get_lat_lon(location_name)\n",
    "\n"
   ]
  },
  {
   "cell_type": "code",
   "execution_count": 47,
   "id": "966c039d",
   "metadata": {},
   "outputs": [],
   "source": [
    "def compare_cosim(all_asset_encoded_val:np.array, asset_info:np.array) -> float:\n",
    "    \"\"\"\n",
    "    두 임베딩 벡터의 코사인 유사도를 계산합니다.\n",
    "    \n",
    "    Args:\n",
    "        all_asset_encoded_val (np.array): 첫 번째 임베딩 벡터\n",
    "        asset_info (np.array): 두 번째 임베딩 벡터\n",
    "    \n",
    "    Returns:\n",
    "        float: 코사인 유사도\n",
    "    \"\"\"\n",
    "    # return np.dot(all_asset_encoded_val, asset_info) / (np.linalg.norm(all_asset_encoded_val) * np.linalg.norm(asset_info))\n",
    "    \n",
    "    cos_sim = cosine_similarity(all_asset_encoded_val, [asset_info])\n",
    "    return cos_sim"
   ]
  },
  {
   "cell_type": "code",
   "execution_count": 48,
   "id": "acd47701",
   "metadata": {},
   "outputs": [],
   "source": [
    "df['tool_sim_result'] = compare_cosim(all_tool_encoded_array, encoded_tool_name)\n",
    "\n",
    "df_s = df[df['tool_sim_result']>0.9]\n",
    "df_s['Distance'] = df_s[[\"위도\",\"경도\"]].apply(lambda x : haversine((spot_location[0], spot_location[1]), (x['위도'], x['경도']), unit=Unit.KILOMETERS), axis=1)\n",
    "df_s.sort_values(by='Distance', ascending=True, inplace=True)"
   ]
  },
  {
   "cell_type": "code",
   "execution_count": 51,
   "id": "ed19c1a1",
   "metadata": {},
   "outputs": [
    {
     "data": {
      "text/html": [
       "<div>\n",
       "<style scoped>\n",
       "    .dataframe tbody tr th:only-of-type {\n",
       "        vertical-align: middle;\n",
       "    }\n",
       "\n",
       "    .dataframe tbody tr th {\n",
       "        vertical-align: top;\n",
       "    }\n",
       "\n",
       "    .dataframe thead th {\n",
       "        text-align: right;\n",
       "    }\n",
       "</style>\n",
       "<table border=\"1\" class=\"dataframe\">\n",
       "  <thead>\n",
       "    <tr style=\"text-align: right;\">\n",
       "      <th></th>\n",
       "      <th>공구 이름</th>\n",
       "      <th>과금기준</th>\n",
       "      <th>수량</th>\n",
       "      <th>대여장소명</th>\n",
       "      <th>상세주소</th>\n",
       "      <th>전화번호</th>\n",
       "      <th>평일오픈시간</th>\n",
       "      <th>평일클로즈시간</th>\n",
       "      <th>생성일시</th>\n",
       "      <th>요금</th>\n",
       "    </tr>\n",
       "  </thead>\n",
       "  <tbody>\n",
       "    <tr>\n",
       "      <th>0</th>\n",
       "      <td>고압세척기</td>\n",
       "      <td>없음</td>\n",
       "      <td>1</td>\n",
       "      <td>황학동 공구대여소</td>\n",
       "      <td>서울특별시 중구 황학동 1010</td>\n",
       "      <td>02-3396-6909</td>\n",
       "      <td>1000.0</td>\n",
       "      <td>1700.0</td>\n",
       "      <td>2022-06-14 11:29:16</td>\n",
       "      <td>무료</td>\n",
       "    </tr>\n",
       "    <tr>\n",
       "      <th>1</th>\n",
       "      <td>(57)레이저거리측정기</td>\n",
       "      <td>없음</td>\n",
       "      <td>1</td>\n",
       "      <td>우리마을 공구대여소(사당1동)</td>\n",
       "      <td>서울 동작구 동작대로17길 28</td>\n",
       "      <td>02-820-2571</td>\n",
       "      <td>900.0</td>\n",
       "      <td>1800.0</td>\n",
       "      <td>2022-09-21 15:47:07</td>\n",
       "      <td>무료</td>\n",
       "    </tr>\n",
       "    <tr>\n",
       "      <th>2</th>\n",
       "      <td>2단 사다리</td>\n",
       "      <td>없음</td>\n",
       "      <td>1</td>\n",
       "      <td>묵1동 공유마을 공유대여소</td>\n",
       "      <td>공릉로2가길 5</td>\n",
       "      <td>02-2094-6400</td>\n",
       "      <td>900.0</td>\n",
       "      <td>1800.0</td>\n",
       "      <td>2022-06-22 12:03:54</td>\n",
       "      <td>무료</td>\n",
       "    </tr>\n",
       "  </tbody>\n",
       "</table>\n",
       "</div>"
      ],
      "text/plain": [
       "          공구 이름 과금기준  수량             대여장소명               상세주소          전화번호  \\\n",
       "0         고압세척기   없음   1        황학동 공구대여소   서울특별시 중구 황학동 1010  02-3396-6909   \n",
       "1  (57)레이저거리측정기   없음   1  우리마을 공구대여소(사당1동)  서울 동작구 동작대로17길 28   02-820-2571   \n",
       "2        2단 사다리   없음   1    묵1동 공유마을 공유대여소           공릉로2가길 5  02-2094-6400   \n",
       "\n",
       "   평일오픈시간  평일클로즈시간                 생성일시  요금  \n",
       "0  1000.0   1700.0  2022-06-14 11:29:16  무료  \n",
       "1   900.0   1800.0  2022-09-21 15:47:07  무료  \n",
       "2   900.0   1800.0  2022-06-22 12:03:54  무료  "
      ]
     },
     "execution_count": 51,
     "metadata": {},
     "output_type": "execute_result"
    }
   ],
   "source": [
    "df.columns\n",
    "use_col = ['공구 이름', '과금기준', '수량','대여장소명', '상세주소','전화번호', '평일오픈시간', '평일클로즈시간', '생성일시', '요금']\n",
    "df[use_col].head(3)"
   ]
  },
  {
   "cell_type": "code",
   "execution_count": null,
   "id": "5f4eb8a3",
   "metadata": {},
   "outputs": [],
   "source": []
  },
  {
   "cell_type": "code",
   "execution_count": 52,
   "id": "506a7bcf",
   "metadata": {},
   "outputs": [],
   "source": [
    "client = OpenAI(api_key=api_key)\n",
    "def invoke(question, info = None, model=\"gpt-4o\", temperature=0.7):\n",
    "    response = client.chat.completions.create(\n",
    "        model=model,\n",
    "        messages = [\n",
    "                    {\"role\": \"system\", \n",
    "                        \"content\": \n",
    "                            \n",
    "                        \n",
    "                            f\"\"\"너는 사람들의 질문에 친절히 답해주는 도우미야.\n",
    "                        너는 서울시에서 운영하는 대여 공구 찾기 정보 시스템이야. \n",
    "                        관련 정보는 {info}와 같아. \n",
    "                        이정보를 통해서 사용자의 답변에 친절해 답해줘.\n",
    "                        \"\"\" if info != None else\n",
    "                            f\"\"\"너는 사람들의 질문에 친절히 답해주는 도우미야.\n",
    "                        너는 서울시에서 운영하는 대여 공구 찾기 정보 시스템이야. \n",
    "                        사용자의 답변에 친절해 답해줘.\n",
    "                        \"\"\"\n",
    "                        },\n",
    "                    {\"role\": \"user\", \n",
    "                    \"content\": question}\n",
    "                ],\n",
    "        temperature=temperature\n",
    "    )\n",
    "    return response.choices[0].message.content"
   ]
  },
  {
   "cell_type": "code",
   "execution_count": 54,
   "id": "52d1c8e0",
   "metadata": {},
   "outputs": [],
   "source": [
    "question = f\"나는 {input_content['tool_name']}을(를) 빌리고 싶어. 그리고 이 도구를 이용해서 하려는 작업은 '{input_content['job_content']}' 이야. 해당 작업을 하면서 같이 빌리면 좋은 공구도 함께 알려줘\""
   ]
  },
  {
   "cell_type": "code",
   "execution_count": 55,
   "id": "4f32fb3b",
   "metadata": {},
   "outputs": [],
   "source": [
    "from langchain_ollama.embeddings import OllamaEmbeddings\n",
    "class OllamaSentenceTransformer():\n",
    "    def __init__(\n",
    "            self,\n",
    "            *args,\n",
    "            **kargs,\n",
    "            ) -> None:\n",
    "                # self.base_url = kargs.get()\n",
    "                self.model = kargs.get(\"model\",\"bge-m3\")\n",
    "                self.embedding_model = OllamaEmbeddings(\n",
    "                            model = self.model,\n",
    "                            # base_url = \"http://211.170.172.234:11434\",\n",
    "                        )\n",
    "                        \n",
    "    \n",
    "    def encode(\n",
    "            self,\n",
    "            documents:Union[str, List[str], np.ndarray],\n",
    "            *args,\n",
    "            **kargs,\n",
    "        )-> np.ndarray:\n",
    "        if isinstance(documents, str):\n",
    "            document_embeddings = self.embedding_model.embed_query(documents)\n",
    "            return np.array(document_embeddings)\n",
    "        \n",
    "        if isinstance(documents, np.ndarray):\n",
    "            documents = documents.tolist()\n",
    "        \n",
    "        document_embeddings = [self.embedding_model.embed_query(s) for s in documents]\n",
    "        return np.array(document_embeddings)\n",
    "        "
   ]
  },
  {
   "cell_type": "code",
   "execution_count": 19,
   "id": "eb5a8c81",
   "metadata": {},
   "outputs": [],
   "source": [
    "sentence_transformer = OllamaSentenceTransformer(base_url=\"http://211.170.172.234:11434\")"
   ]
  },
  {
   "cell_type": "code",
   "execution_count": 27,
   "id": "82b79b7e",
   "metadata": {},
   "outputs": [
    {
     "data": {
      "text/plain": [
       "array([[ 0.00064017,  0.03853519, -0.05002856, ..., -0.01979913,\n",
       "         0.00115635,  0.04959872]])"
      ]
     },
     "execution_count": 27,
     "metadata": {},
     "output_type": "execute_result"
    }
   ],
   "source": [
    "sentence_transformer.encode([\"1234\"])"
   ]
  },
  {
   "cell_type": "code",
   "execution_count": 34,
   "id": "73821be7",
   "metadata": {},
   "outputs": [
    {
     "name": "stdout",
     "output_type": "stream",
     "text": [
      "Okay, let's break down how to set up Docker on your machine. I'll cover the main operating systems (Windows, macOS, and Linux) and provide step-by-step instructions.  I'll also include troubleshooting tips and resources at the end.\n",
      "\n",
      "**1. Understanding Docker and Prerequisites**\n",
      "\n",
      "* **What is Docker?** Docker is a platform for containerizing applications.  Think of containers as lightweight, self-contained packages that include everything your application needs to run: code, runtime environment, system tools, libraries, settings. This ensures consistency across different environments.\n",
      "* **Hardware Requirements:**\n",
      "    * **RAM:**  At least 4 GB is recommended.  More is better, especially if you plan to run multiple containers.\n",
      "    * **Disk Space:**  At least 20 GB of free disk space.  The Docker image size can vary considerably.\n",
      "    * **Processor:** A modern processor (x86-64 architecture) is generally required.\n",
      "* **Administrator Privileges:**  You'll likely need administrator/root privileges to install Docker.\n",
      "\n",
      "**2. Installation by Operating System**\n",
      "\n",
      "**A. Windows**\n",
      "\n",
      "* **Choose your Docker Version:** Docker Desktop for Windows is the recommended approach.  Choose between the \"Windows Home\" or \"Windows Pro/Enterprise/Education\" option depending on your Windows edition.\n",
      "    * **Windows Home:**  Requires WSL 2 (Windows Subsystem for Linux 2) to be enabled.  Docker Desktop will guide you through this.  If WSL2 isn't enabled, you might need to enable virtualization in your BIOS.\n",
      "    * **Windows Pro/Enterprise/Education:**  Can use either WSL 2 or Hyper-V.  Docker Desktop will usually default to WSL 2, but you can configure it.\n",
      "* **Download and Install Docker Desktop:**\n",
      "    1. Go to [https://www.docker.com/products/docker-desktop/](https://www.docker.com/products/docker-desktop/) and download the installer.\n",
      "    2. Run the installer and follow the on-screen instructions.  You'll likely be prompted to enable virtualization and install WSL 2 if it's not already enabled.\n",
      "* **Verify Installation:**\n",
      "    1. Open a PowerShell or Command Prompt window.\n",
      "    2. Type `docker --version` and press Enter. You should see the Docker version information displayed.\n",
      "    3. Type `docker run hello-world` and press Enter.  This will download and run a simple \"hello-world\" image, confirming that Docker is working.\n",
      "\n",
      "**B. macOS**\n",
      "\n",
      "* **System Requirements:**\n",
      "    * macOS Monterey 12.3 or later (recommended).  Older versions are possible, but may have compatibility issues.\n",
      "    * Intel or Apple Silicon (ARM) processor\n",
      "    * At least 4 GB of RAM\n",
      "* **Download and Install Docker Desktop:**\n",
      "    1. Go to [https://www.docker.com/products/docker-desktop/](https://www.docker.com/products/docker-desktop/) and download the installer.\n",
      "    2. Run the installer and follow the on-screen instructions.\n",
      "* **Verify Installation:**\n",
      "    1. Open a Terminal window.\n",
      "    2. Type `docker --version` and press Enter.\n",
      "    3. Type `docker run hello-world` and press Enter.\n",
      "\n",
      "**C. Linux (Ubuntu, Debian, Fedora, CentOS, etc.)**\n",
      "\n",
      "The installation process varies slightly depending on your Linux distribution. I'm providing instructions for Ubuntu/Debian, as they are common.  See Docker's official documentation for other distributions: [https://docs.docker.com/engine/install/](https://docs.docker.com/engine/install/)\n",
      "\n",
      "* **Update Package Lists:**\n",
      "    ```bash\n",
      "    sudo apt update\n",
      "    ```\n",
      "* **Install Docker Engine:**\n",
      "    ```bash\n",
      "    sudo apt install docker.io\n",
      "    ```\n",
      "* **Add User to `docker` Group (optional, but recommended):**\n",
      "    This allows you to run Docker commands without using `sudo`.\n",
      "    ```bash\n",
      "    sudo usermod -aG docker $USER\n",
      "    newgrp docker  # Apply the group change to your current session\n",
      "    ```\n",
      "* **Verify Installation:**\n",
      "    ```bash\n",
      "    docker --version\n",
      "    docker run hello-world\n",
      "    ```\n",
      "\n",
      "**3. Post-Installation Steps & Important Commands**\n",
      "\n",
      "* **Docker Hub Account:** Create an account at [https://hub.docker.com/](https://hub.docker.com/).  This is where Docker images are stored and shared.\n",
      "* **Basic Docker Commands:**\n",
      "    * `docker ps`: List running containers.\n",
      "    * `docker images`: List downloaded images.\n",
      "    * `docker pull <image_name>`: Download an image from Docker Hub.  Example: `docker pull ubuntu`\n",
      "    * `docker run <image_name>`: Run a container from an image. Example: `docker run ubuntu`\n",
      "    * `docker stop <container_id>`: Stop a running container.\n",
      "    * `docker rm <container_id>`: Remove a stopped container.\n",
      "    * `docker build -t <image_name> .`: Build a Docker image from a `Dockerfile` in the current directory.\n",
      "* **Docker Compose (Optional, but Recommended for Multi-Container Applications):**  Docker Compose is a tool for defining and running multi-container Docker applications. Install it based on your OS.  [https://docs.docker.com/compose/install/](https://docs.docker.com/compose/install/)\n",
      "\n",
      "**4. Troubleshooting**\n",
      "\n",
      "* **Virtualization Issues:** If you encounter errors related to virtualization (especially on Windows), make sure virtualization is enabled in your BIOS/UEFI settings.  The exact steps vary by motherboard manufacturer.\n",
      "* **WSL 2 Issues (Windows):**\n",
      "    * Ensure you're using a supported Windows version.\n",
      "    * Check the WSL 2 installation status: `wsl --status` in PowerShell.\n",
      "    * Update WSL: `wsl --update`\n",
      "* **Permission Denied Errors (Linux):** If you get \"permission denied\" errors, make sure you've added your user to the `docker` group (see Linux instructions above) and have logged out and back in or run `newgrp docker`.\n",
      "* **Conflicting Processes:**  Sometimes, other software (e.g., antivirus, virtualization tools) can interfere with Docker. Try disabling them temporarily to see if it resolves the problem.\n",
      "* **Docker Desktop Won't Start:**  Check Docker Desktop logs for errors. Restart your computer.  Make sure you meet the system requirements.\n",
      "\n",
      "**5. Resources**\n",
      "\n",
      "* **Docker Official Documentation:** [https://docs.docker.com/](https://docs.docker.com/)\n",
      "* **Docker Get Started Tutorial:** [https://docs.docker.com/get-started/](https://docs.docker.com/get-started/)\n",
      "* **Docker Hub:** [https://hub.docker.com/](https://hub.docker.com/)\n",
      "* **Stack Overflow:**  A great resource for troubleshooting specific Docker issues.\n",
      "\n",
      "\n",
      "\n",
      "To help me provide more specific instructions, could you tell me:\n",
      "\n",
      "* **What operating system are you using (Windows, macOS, Linux)?**\n",
      "* **If Windows, which version of Windows?**\n",
      "* **Have you installed Docker before, and if so, what problems did you encounter?**"
     ]
    }
   ],
   "source": [
    "\n",
    "ollama_chat = langchain_ollama.chat_models.ChatOllama(model=\"gemma3:12b\", base_url=\"http://211.170.172.234:11434\")\n",
    "# make stream call using for loop \n",
    "for chunk in ollama_chat.stream(\"how can i set up docker on my machine?\"):\n",
    "    print(chunk.content, end='', flush=True)"
   ]
  },
  {
   "cell_type": "code",
   "execution_count": 56,
   "id": "5c4cb53d",
   "metadata": {},
   "outputs": [],
   "source": [
    "# import pickle\n",
    "# with open('../data/encoded_tool_name2.pkl', 'wb') as f:\n",
    "#     pickle.dump(embeddings, f)"
   ]
  },
  {
   "cell_type": "code",
   "execution_count": 57,
   "id": "9bd12f4e",
   "metadata": {},
   "outputs": [
    {
     "name": "stdout",
     "output_type": "stream",
     "text": [
      "💬 GPT 응답: 전동드릴을 사용해서 나무를 고정하려는 작업을 계획하고 계시다면, 몇 가지 추가 공구를 함께 빌리시면 작업이 더 수월할 수 있습니다. 다음은 추천드릴 수 있는 공구들입니다:\n",
      "\n",
      "1. **드릴 비트 세트**: 나무에 구멍을 뚫기 위해 다양한 크기의 드릴 비트가 필요합니다. 나무 작업에 적합한 비트를 함께 빌리시면 좋습니다.\n",
      "\n",
      "2. **스크루 드라이버 비트 세트**: 나무를 고정할 때 나사못을 돌려서 고정하기 위해 필요한 비트입니다.\n",
      "\n",
      "3. **클램프**: 나무를 고정할 때 안정적으로 잡아주는 역할을 합니다. 작업 중 흔들림 없이 나무를 고정할 수 있어 유용합니다.\n",
      "\n",
      "4. **수평계**: 나무가 수평으로 잘 고정되었는지 확인하기 위해 필요합니다.\n",
      "\n",
      "5. **안전장비**: 마스크, 보호안경, 장갑 등 작업 시 안전을 위한 장비를 준비하는 것이 좋습니다.\n",
      "\n",
      "서울시의 공구 대여 서비스에서는 이런 다양한 공구들을 대여할 수 있으니, 가까운 대여소에 문의하셔서 필요한 공구를 확인하고 예약하시면 좋겠습니다. 안전하고 즐거운 작업 되세요!\n"
     ]
    }
   ],
   "source": [
    "answer = invoke(question)\n",
    "print(\"💬 GPT 응답:\", answer)"
   ]
  },
  {
   "cell_type": "code",
   "execution_count": 58,
   "id": "46536a8c",
   "metadata": {},
   "outputs": [
    {
     "name": "stdout",
     "output_type": "stream",
     "text": [
      "전동드릴을 사용해서 나무를 고정하려는 작업을 계획하고 계시다면, 몇 가지 추가 공구를 함께 빌리시면 작업이 더 수월할 수 있습니다. 다음은 추천드릴 수 있는 공구들입니다:\n",
      "\n",
      "1. **드릴 비트 세트**: 나무에 구멍을 뚫기 위해 다양한 크기의 드릴 비트가 필요합니다. 나무 작업에 적합한 비트를 함께 빌리시면 좋습니다.\n",
      "\n",
      "2. **스크루 드라이버 비트 세트**: 나무를 고정할 때 나사못을 돌려서 고정하기 위해 필요한 비트입니다.\n",
      "\n",
      "3. **클램프**: 나무를 고정할 때 안정적으로 잡아주는 역할을 합니다. 작업 중 흔들림 없이 나무를 고정할 수 있어 유용합니다.\n",
      "\n",
      "4. **수평계**: 나무가 수평으로 잘 고정되었는지 확인하기 위해 필요합니다.\n",
      "\n",
      "5. **안전장비**: 마스크, 보호안경, 장갑 등 작업 시 안전을 위한 장비를 준비하는 것이 좋습니다.\n",
      "\n",
      "서울시의 공구 대여 서비스에서는 이런 다양한 공구들을 대여할 수 있으니, 가까운 대여소에 문의하셔서 필요한 공구를 확인하고 예약하시면 좋겠습니다. 안전하고 즐거운 작업 되세요!"
     ]
    }
   ],
   "source": [
    "for chunk in answer:\n",
    "    print(chunk, end='', flush=True)"
   ]
  },
  {
   "cell_type": "code",
   "execution_count": null,
   "id": "69ccc641",
   "metadata": {},
   "outputs": [],
   "source": [
    "def invoke(question: str):\n",
    "    prompt = f\"\"\"\n",
    "    너는 도우미야 사용자의 물음에 친절히 답해줘야해.\n",
    "    \"\"\"\n",
    "    response = client.responses.create(\n",
    "        model='gpt-4.1',\n",
    "        messages=[\n",
    "                {\"role\": \"system\", \"content\": \"당신은 완벽한 도우미입니다.\"},\n",
    "                {\"role\": \"user\", \"content\": prompt}\n",
    "            ],\n",
    "        input = question\n",
    "        )\n",
    "    return response"
   ]
  },
  {
   "cell_type": "code",
   "execution_count": null,
   "id": "859f54df",
   "metadata": {},
   "outputs": [],
   "source": []
  },
  {
   "cell_type": "code",
   "execution_count": null,
   "id": "d2fec0c0",
   "metadata": {},
   "outputs": [],
   "source": []
  },
  {
   "cell_type": "code",
   "execution_count": null,
   "id": "0a703b89",
   "metadata": {},
   "outputs": [],
   "source": []
  },
  {
   "cell_type": "code",
   "execution_count": null,
   "id": "ff6c5e4d",
   "metadata": {},
   "outputs": [],
   "source": []
  },
  {
   "cell_type": "code",
   "execution_count": null,
   "id": "675b505a",
   "metadata": {},
   "outputs": [],
   "source": []
  },
  {
   "cell_type": "code",
   "execution_count": null,
   "id": "114fabd7",
   "metadata": {},
   "outputs": [],
   "source": []
  },
  {
   "cell_type": "code",
   "execution_count": null,
   "id": "79d082ff",
   "metadata": {},
   "outputs": [],
   "source": []
  },
  {
   "cell_type": "code",
   "execution_count": null,
   "id": "baf1b48d",
   "metadata": {},
   "outputs": [],
   "source": []
  },
  {
   "cell_type": "code",
   "execution_count": null,
   "id": "921fb652",
   "metadata": {},
   "outputs": [],
   "source": []
  },
  {
   "cell_type": "code",
   "execution_count": null,
   "id": "03b5d1a4",
   "metadata": {},
   "outputs": [],
   "source": []
  },
  {
   "cell_type": "code",
   "execution_count": null,
   "id": "f3208ba7",
   "metadata": {},
   "outputs": [],
   "source": []
  },
  {
   "cell_type": "code",
   "execution_count": null,
   "id": "e3394c74",
   "metadata": {},
   "outputs": [],
   "source": []
  }
 ],
 "metadata": {
  "kernelspec": {
   "display_name": "pl_llm",
   "language": "python",
   "name": "python3"
  },
  "language_info": {
   "codemirror_mode": {
    "name": "ipython",
    "version": 3
   },
   "file_extension": ".py",
   "mimetype": "text/x-python",
   "name": "python",
   "nbconvert_exporter": "python",
   "pygments_lexer": "ipython3",
   "version": "3.12.0"
  }
 },
 "nbformat": 4,
 "nbformat_minor": 5
}
