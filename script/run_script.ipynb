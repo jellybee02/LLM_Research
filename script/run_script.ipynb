{
 "cells": [
  {
   "cell_type": "markdown",
   "id": "b24ad5b3",
   "metadata": {},
   "source": [
    "# Pckage List"
   ]
  },
  {
   "cell_type": "code",
   "execution_count": 1,
   "id": "4f5da466",
   "metadata": {},
   "outputs": [
    {
     "name": "stderr",
     "output_type": "stream",
     "text": [
      "/home/ubuntu2204/miniconda3/envs/llm/lib/python3.12/site-packages/tqdm/auto.py:21: TqdmWarning: IProgress not found. Please update jupyter and ipywidgets. See https://ipywidgets.readthedocs.io/en/stable/user_install.html\n",
      "  from .autonotebook import tqdm as notebook_tqdm\n"
     ]
    }
   ],
   "source": [
    "import numpy as np, pandas as pd, warnings, os, openai, json\n",
    "from tqdm.auto import tqdm\n",
    "from openai import OpenAI\n",
    "warnings.filterwarnings('ignore')\n",
    "import requests\n",
    "from typing import List, Tuple, Union\n",
    "from langchain_ollama.embeddings import OllamaEmbeddings\n",
    "import pickle\n",
    "from sklearn.metrics.pairwise import cosine_similarity\n",
    "from haversine import haversine, Unit"
   ]
  },
  {
   "cell_type": "markdown",
   "id": "c8e74ff5",
   "metadata": {},
   "source": [
    "# Data Load"
   ]
  },
  {
   "cell_type": "code",
   "execution_count": 2,
   "id": "dd1c19a5",
   "metadata": {},
   "outputs": [],
   "source": [
    "df = pd.read_csv(\"../data/prep3.csv\", encoding='cp949')"
   ]
  },
  {
   "cell_type": "markdown",
   "id": "948bf96e",
   "metadata": {},
   "source": [
    "# Function"
   ]
  },
  {
   "cell_type": "markdown",
   "id": "9fbb8ff6",
   "metadata": {},
   "source": [
    "## API 키 설정"
   ]
  },
  {
   "cell_type": "code",
   "execution_count": null,
   "id": "6b27a02e",
   "metadata": {},
   "outputs": [],
   "source": [
    "'../../../api_key'"
   ]
  },
  {
   "cell_type": "code",
   "execution_count": 6,
   "id": "6635e5dd",
   "metadata": {},
   "outputs": [],
   "source": [
    "key = open('../../../api_key.txt','r')\n",
    "api_key = key.read()\n",
    "openai.api_key = api_key\n",
    "\n",
    "base_ = open('../../../base_url.txt','r')\n",
    "base_url = base_.read()\n",
    "# openai.api_key = api_key"
   ]
  },
  {
   "cell_type": "code",
   "execution_count": 18,
   "id": "30b9be78",
   "metadata": {},
   "outputs": [],
   "source": [
    "class OllamaSentenceTransformer():\n",
    "    def __init__(\n",
    "            self,\n",
    "            *args,\n",
    "            **kargs,\n",
    "            ) -> None:\n",
    "                # self.base_url = kargs.get(\"base_url\", \"http://localhost:11434\")\n",
    "                self.model = kargs.get(\"model\",\"bge-m3\")\n",
    "                self.embedding_model = OllamaEmbeddings(\n",
    "                            model = self.model,\n",
    "                            base_url = base_url,\n",
    "                        )\n",
    "                        \n",
    "    \n",
    "    def encode(\n",
    "            self,\n",
    "            documents:Union[str, List[str], np.ndarray],\n",
    "            *args,\n",
    "            **kargs,\n",
    "        )-> np.ndarray:\n",
    "        if isinstance(documents, str):\n",
    "            document_embeddings = self.embedding_model.embed_query(documents)\n",
    "            return np.array(document_embeddings)\n",
    "        \n",
    "        if isinstance(documents, np.ndarray):\n",
    "            documents = documents.tolist()\n",
    "        \n",
    "        document_embeddings = [self.embedding_model.embed_query(s) for s in documents]\n",
    "        return np.array(document_embeddings)\n",
    "        \n"
   ]
  },
  {
   "cell_type": "code",
   "execution_count": 8,
   "id": "10078f1f",
   "metadata": {},
   "outputs": [],
   "source": [
    "sentence_transformer = OllamaSentenceTransformer(base_url=base_url)"
   ]
  },
  {
   "cell_type": "markdown",
   "id": "e5a6db69",
   "metadata": {},
   "source": [
    "## 위치 관련 정보 제공"
   ]
  },
  {
   "cell_type": "code",
   "execution_count": 9,
   "id": "d290fa2b",
   "metadata": {},
   "outputs": [
    {
     "name": "stdout",
     "output_type": "stream",
     "text": [
      "진천군 위도/경도: (36.855461, 127.4353927)\n"
     ]
    }
   ],
   "source": [
    "def get_lat_lon(location_name):\n",
    "    url = 'https://nominatim.openstreetmap.org/search'\n",
    "    params = {\n",
    "        'q': location_name,\n",
    "        'format': 'json'\n",
    "    }\n",
    "    headers = {\n",
    "        'User-Agent': 'Mozilla/5.0 (compatible; ChatGPT-Example/1.0; +http://yourdomain.com)'\n",
    "    }\n",
    "\n",
    "    response = requests.get(url, params=params, headers=headers)\n",
    "\n",
    "    # 응답 확인\n",
    "    if response.status_code != 200:\n",
    "        print(f\"요청 실패: {response.status_code}\")\n",
    "        print(\"응답 내용:\", response.text)\n",
    "        return None\n",
    "\n",
    "    try:\n",
    "        data = response.json()\n",
    "        if data:\n",
    "            lat = data[0]['lat']\n",
    "            lon = data[0]['lon']\n",
    "            return float(lat), float(lon)\n",
    "        else:\n",
    "            print(\"위치 정보를 찾을 수 없습니다.\")\n",
    "            return None\n",
    "    except ValueError as e:\n",
    "        print(\"JSON 파싱 오류:\", e)\n",
    "        print(\"응답 내용:\", response.text)\n",
    "        return None\n",
    "\n",
    "# 테스트\n",
    "location = '진천군'\n",
    "result = get_lat_lon(location)\n",
    "print(f\"{location} 위도/경도: {result}\")\n"
   ]
  },
  {
   "cell_type": "markdown",
   "id": "63a9a845",
   "metadata": {},
   "source": [
    "# 전체 툴 인코딩 값"
   ]
  },
  {
   "cell_type": "code",
   "execution_count": 10,
   "id": "c067dc8c",
   "metadata": {},
   "outputs": [],
   "source": [
    "with open('../data/encoded_tool_name2.pkl', \"rb\") as f:\n",
    "    all_tool_encoded_array = pickle.load(f)"
   ]
  },
  {
   "cell_type": "markdown",
   "id": "cdc02ac7",
   "metadata": {},
   "source": [
    "# Input Content"
   ]
  },
  {
   "cell_type": "code",
   "execution_count": 11,
   "id": "2eecf873",
   "metadata": {},
   "outputs": [],
   "source": [
    "with open('../data/user_input_content.json', \"rb\") as f:\n",
    "    input_content = json.load(f)"
   ]
  },
  {
   "cell_type": "code",
   "execution_count": 19,
   "id": "98f9b170",
   "metadata": {},
   "outputs": [],
   "source": [
    "def run_search_tool(inputed_content, df, all_tool_encoded_array,head_count=3):\n",
    "    spot_location = get_lat_lon(inputed_content['location'])\n",
    "    if not spot_location:\n",
    "        print(\"위치 정보를 가져오지 못했습니다.\")\n",
    "        return None\n",
    "    \n",
    "    encoded_tool_name = sentence_transformer.encode(inputed_content['tool_name'])\n",
    "    \n",
    "    df['tool_sim_result'] = cosine_similarity(all_tool_encoded_array, encoded_tool_name.reshape(1, -1)).flatten()\n",
    "    \n",
    "    df_s = df[df['tool_sim_result'] > 0.9]\n",
    "    # use_col = ['대여소명', '위도', '경도', '주소', 'tool_sim_result']\n",
    "    use_col = ['공구 이름', '과금기준', '수량','대여장소명', '상세주소','전화번호', '평일오픈시간', '평일클로즈시간', '생성일시', '요금']\n",
    "\n",
    "    \n",
    "    df_s['Distance(Km)'] = df_s[[\"위도\", \"경도\"]].apply(lambda x: haversine((spot_location[0], spot_location[1]), (x['위도'], x['경도']), unit=Unit.KILOMETERS), axis=1)\n",
    "    df_s.sort_values(by='Distance(Km)', ascending=True, inplace=True)\n",
    "    \n",
    "    return df_s[use_col].head(head_count)"
   ]
  },
  {
   "cell_type": "code",
   "execution_count": 17,
   "id": "6fac1bc9",
   "metadata": {},
   "outputs": [
    {
     "data": {
      "text/plain": [
       "{'tool_name': '전동드릴',\n",
       " 'location': '강남역',\n",
       " 'job_content': '전동드릴을 사용해서 나무를 고정하고 싶어'}"
      ]
     },
     "execution_count": 17,
     "metadata": {},
     "output_type": "execute_result"
    }
   ],
   "source": [
    "input_content\n"
   ]
  },
  {
   "cell_type": "code",
   "execution_count": 20,
   "id": "e6e0a987",
   "metadata": {},
   "outputs": [
    {
     "ename": "KeyboardInterrupt",
     "evalue": "",
     "output_type": "error",
     "traceback": [
      "\u001b[31m---------------------------------------------------------------------------\u001b[39m",
      "\u001b[31mKeyboardInterrupt\u001b[39m                         Traceback (most recent call last)",
      "\u001b[36mCell\u001b[39m\u001b[36m \u001b[39m\u001b[32mIn[20]\u001b[39m\u001b[32m, line 1\u001b[39m\n\u001b[32m----> \u001b[39m\u001b[32m1\u001b[39m df_filter = \u001b[43mrun_search_tool\u001b[49m\u001b[43m(\u001b[49m\u001b[43minput_content\u001b[49m\u001b[43m,\u001b[49m\u001b[43m \u001b[49m\u001b[43mdf\u001b[49m\u001b[43m,\u001b[49m\u001b[43m \u001b[49m\u001b[43mall_tool_encoded_array\u001b[49m\u001b[43m)\u001b[49m\n",
      "\u001b[36mCell\u001b[39m\u001b[36m \u001b[39m\u001b[32mIn[19]\u001b[39m\u001b[32m, line 7\u001b[39m, in \u001b[36mrun_search_tool\u001b[39m\u001b[34m(inputed_content, df, all_tool_encoded_array, head_count)\u001b[39m\n\u001b[32m      4\u001b[39m     \u001b[38;5;28mprint\u001b[39m(\u001b[33m\"\u001b[39m\u001b[33m위치 정보를 가져오지 못했습니다.\u001b[39m\u001b[33m\"\u001b[39m)\n\u001b[32m      5\u001b[39m     \u001b[38;5;28;01mreturn\u001b[39;00m \u001b[38;5;28;01mNone\u001b[39;00m\n\u001b[32m----> \u001b[39m\u001b[32m7\u001b[39m encoded_tool_name = \u001b[43msentence_transformer\u001b[49m\u001b[43m.\u001b[49m\u001b[43mencode\u001b[49m\u001b[43m(\u001b[49m\u001b[43minputed_content\u001b[49m\u001b[43m[\u001b[49m\u001b[33;43m'\u001b[39;49m\u001b[33;43mtool_name\u001b[39;49m\u001b[33;43m'\u001b[39;49m\u001b[43m]\u001b[49m\u001b[43m)\u001b[49m\n\u001b[32m      9\u001b[39m df[\u001b[33m'\u001b[39m\u001b[33mtool_sim_result\u001b[39m\u001b[33m'\u001b[39m] = cosine_similarity(all_tool_encoded_array, encoded_tool_name.reshape(\u001b[32m1\u001b[39m, -\u001b[32m1\u001b[39m)).flatten()\n\u001b[32m     11\u001b[39m df_s = df[df[\u001b[33m'\u001b[39m\u001b[33mtool_sim_result\u001b[39m\u001b[33m'\u001b[39m] > \u001b[32m0.9\u001b[39m]\n",
      "\u001b[36mCell\u001b[39m\u001b[36m \u001b[39m\u001b[32mIn[7]\u001b[39m\u001b[32m, line 22\u001b[39m, in \u001b[36mOllamaSentenceTransformer.encode\u001b[39m\u001b[34m(self, documents, *args, **kargs)\u001b[39m\n\u001b[32m     15\u001b[39m \u001b[38;5;28;01mdef\u001b[39;00m\u001b[38;5;250m \u001b[39m\u001b[34mencode\u001b[39m(\n\u001b[32m     16\u001b[39m         \u001b[38;5;28mself\u001b[39m,\n\u001b[32m     17\u001b[39m         documents:Union[\u001b[38;5;28mstr\u001b[39m, List[\u001b[38;5;28mstr\u001b[39m], np.ndarray],\n\u001b[32m     18\u001b[39m         *args,\n\u001b[32m     19\u001b[39m         **kargs,\n\u001b[32m     20\u001b[39m     )-> np.ndarray:\n\u001b[32m     21\u001b[39m     \u001b[38;5;28;01mif\u001b[39;00m \u001b[38;5;28misinstance\u001b[39m(documents, \u001b[38;5;28mstr\u001b[39m):\n\u001b[32m---> \u001b[39m\u001b[32m22\u001b[39m         document_embeddings = \u001b[38;5;28;43mself\u001b[39;49m\u001b[43m.\u001b[49m\u001b[43membedding_model\u001b[49m\u001b[43m.\u001b[49m\u001b[43membed_query\u001b[49m\u001b[43m(\u001b[49m\u001b[43mdocuments\u001b[49m\u001b[43m)\u001b[49m\n\u001b[32m     23\u001b[39m         \u001b[38;5;28;01mreturn\u001b[39;00m np.array(document_embeddings)\n\u001b[32m     25\u001b[39m     \u001b[38;5;28;01mif\u001b[39;00m \u001b[38;5;28misinstance\u001b[39m(documents, np.ndarray):\n",
      "\u001b[36mFile \u001b[39m\u001b[32m~/miniconda3/envs/llm/lib/python3.12/site-packages/langchain_ollama/embeddings.py:272\u001b[39m, in \u001b[36mOllamaEmbeddings.embed_query\u001b[39m\u001b[34m(self, text)\u001b[39m\n\u001b[32m    270\u001b[39m \u001b[38;5;28;01mdef\u001b[39;00m\u001b[38;5;250m \u001b[39m\u001b[34membed_query\u001b[39m(\u001b[38;5;28mself\u001b[39m, text: \u001b[38;5;28mstr\u001b[39m) -> \u001b[38;5;28mlist\u001b[39m[\u001b[38;5;28mfloat\u001b[39m]:\n\u001b[32m    271\u001b[39m \u001b[38;5;250m    \u001b[39m\u001b[33;03m\"\"\"Embed query text.\"\"\"\u001b[39;00m\n\u001b[32m--> \u001b[39m\u001b[32m272\u001b[39m     \u001b[38;5;28;01mreturn\u001b[39;00m \u001b[38;5;28;43mself\u001b[39;49m\u001b[43m.\u001b[49m\u001b[43membed_documents\u001b[49m\u001b[43m(\u001b[49m\u001b[43m[\u001b[49m\u001b[43mtext\u001b[49m\u001b[43m]\u001b[49m\u001b[43m)\u001b[49m[\u001b[32m0\u001b[39m]\n",
      "\u001b[36mFile \u001b[39m\u001b[32m~/miniconda3/envs/llm/lib/python3.12/site-packages/langchain_ollama/embeddings.py:265\u001b[39m, in \u001b[36mOllamaEmbeddings.embed_documents\u001b[39m\u001b[34m(self, texts)\u001b[39m\n\u001b[32m    263\u001b[39m \u001b[38;5;28;01mdef\u001b[39;00m\u001b[38;5;250m \u001b[39m\u001b[34membed_documents\u001b[39m(\u001b[38;5;28mself\u001b[39m, texts: \u001b[38;5;28mlist\u001b[39m[\u001b[38;5;28mstr\u001b[39m]) -> \u001b[38;5;28mlist\u001b[39m[\u001b[38;5;28mlist\u001b[39m[\u001b[38;5;28mfloat\u001b[39m]]:\n\u001b[32m    264\u001b[39m \u001b[38;5;250m    \u001b[39m\u001b[33;03m\"\"\"Embed search docs.\"\"\"\u001b[39;00m\n\u001b[32m--> \u001b[39m\u001b[32m265\u001b[39m     embedded_docs = \u001b[38;5;28;43mself\u001b[39;49m\u001b[43m.\u001b[49m\u001b[43m_client\u001b[49m\u001b[43m.\u001b[49m\u001b[43membed\u001b[49m\u001b[43m(\u001b[49m\n\u001b[32m    266\u001b[39m \u001b[43m        \u001b[49m\u001b[38;5;28;43mself\u001b[39;49m\u001b[43m.\u001b[49m\u001b[43mmodel\u001b[49m\u001b[43m,\u001b[49m\u001b[43m \u001b[49m\u001b[43mtexts\u001b[49m\u001b[43m,\u001b[49m\u001b[43m \u001b[49m\u001b[43moptions\u001b[49m\u001b[43m=\u001b[49m\u001b[38;5;28;43mself\u001b[39;49m\u001b[43m.\u001b[49m\u001b[43m_default_params\u001b[49m\u001b[43m,\u001b[49m\u001b[43m \u001b[49m\u001b[43mkeep_alive\u001b[49m\u001b[43m=\u001b[49m\u001b[38;5;28;43mself\u001b[39;49m\u001b[43m.\u001b[49m\u001b[43mkeep_alive\u001b[49m\n\u001b[32m    267\u001b[39m \u001b[43m    \u001b[49m\u001b[43m)\u001b[49m[\u001b[33m\"\u001b[39m\u001b[33membeddings\u001b[39m\u001b[33m\"\u001b[39m]\n\u001b[32m    268\u001b[39m     \u001b[38;5;28;01mreturn\u001b[39;00m embedded_docs\n",
      "\u001b[36mFile \u001b[39m\u001b[32m~/miniconda3/envs/llm/lib/python3.12/site-packages/ollama/_client.py:367\u001b[39m, in \u001b[36mClient.embed\u001b[39m\u001b[34m(self, model, input, truncate, options, keep_alive)\u001b[39m\n\u001b[32m    359\u001b[39m \u001b[38;5;28;01mdef\u001b[39;00m\u001b[38;5;250m \u001b[39m\u001b[34membed\u001b[39m(\n\u001b[32m    360\u001b[39m   \u001b[38;5;28mself\u001b[39m,\n\u001b[32m    361\u001b[39m   model: \u001b[38;5;28mstr\u001b[39m = \u001b[33m'\u001b[39m\u001b[33m'\u001b[39m,\n\u001b[32m   (...)\u001b[39m\u001b[32m    365\u001b[39m   keep_alive: Optional[Union[\u001b[38;5;28mfloat\u001b[39m, \u001b[38;5;28mstr\u001b[39m]] = \u001b[38;5;28;01mNone\u001b[39;00m,\n\u001b[32m    366\u001b[39m ) -> EmbedResponse:\n\u001b[32m--> \u001b[39m\u001b[32m367\u001b[39m   \u001b[38;5;28;01mreturn\u001b[39;00m \u001b[38;5;28;43mself\u001b[39;49m\u001b[43m.\u001b[49m\u001b[43m_request\u001b[49m\u001b[43m(\u001b[49m\n\u001b[32m    368\u001b[39m \u001b[43m    \u001b[49m\u001b[43mEmbedResponse\u001b[49m\u001b[43m,\u001b[49m\n\u001b[32m    369\u001b[39m \u001b[43m    \u001b[49m\u001b[33;43m'\u001b[39;49m\u001b[33;43mPOST\u001b[39;49m\u001b[33;43m'\u001b[39;49m\u001b[43m,\u001b[49m\n\u001b[32m    370\u001b[39m \u001b[43m    \u001b[49m\u001b[33;43m'\u001b[39;49m\u001b[33;43m/api/embed\u001b[39;49m\u001b[33;43m'\u001b[39;49m\u001b[43m,\u001b[49m\n\u001b[32m    371\u001b[39m \u001b[43m    \u001b[49m\u001b[43mjson\u001b[49m\u001b[43m=\u001b[49m\u001b[43mEmbedRequest\u001b[49m\u001b[43m(\u001b[49m\n\u001b[32m    372\u001b[39m \u001b[43m      \u001b[49m\u001b[43mmodel\u001b[49m\u001b[43m=\u001b[49m\u001b[43mmodel\u001b[49m\u001b[43m,\u001b[49m\n\u001b[32m    373\u001b[39m \u001b[43m      \u001b[49m\u001b[38;5;28;43minput\u001b[39;49m\u001b[43m=\u001b[49m\u001b[38;5;28;43minput\u001b[39;49m\u001b[43m,\u001b[49m\n\u001b[32m    374\u001b[39m \u001b[43m      \u001b[49m\u001b[43mtruncate\u001b[49m\u001b[43m=\u001b[49m\u001b[43mtruncate\u001b[49m\u001b[43m,\u001b[49m\n\u001b[32m    375\u001b[39m \u001b[43m      \u001b[49m\u001b[43moptions\u001b[49m\u001b[43m=\u001b[49m\u001b[43moptions\u001b[49m\u001b[43m,\u001b[49m\n\u001b[32m    376\u001b[39m \u001b[43m      \u001b[49m\u001b[43mkeep_alive\u001b[49m\u001b[43m=\u001b[49m\u001b[43mkeep_alive\u001b[49m\u001b[43m,\u001b[49m\n\u001b[32m    377\u001b[39m \u001b[43m    \u001b[49m\u001b[43m)\u001b[49m\u001b[43m.\u001b[49m\u001b[43mmodel_dump\u001b[49m\u001b[43m(\u001b[49m\u001b[43mexclude_none\u001b[49m\u001b[43m=\u001b[49m\u001b[38;5;28;43;01mTrue\u001b[39;49;00m\u001b[43m)\u001b[49m\u001b[43m,\u001b[49m\n\u001b[32m    378\u001b[39m \u001b[43m  \u001b[49m\u001b[43m)\u001b[49m\n",
      "\u001b[36mFile \u001b[39m\u001b[32m~/miniconda3/envs/llm/lib/python3.12/site-packages/ollama/_client.py:180\u001b[39m, in \u001b[36mClient._request\u001b[39m\u001b[34m(self, cls, stream, *args, **kwargs)\u001b[39m\n\u001b[32m    176\u001b[39m         \u001b[38;5;28;01myield\u001b[39;00m \u001b[38;5;28mcls\u001b[39m(**part)\n\u001b[32m    178\u001b[39m   \u001b[38;5;28;01mreturn\u001b[39;00m inner()\n\u001b[32m--> \u001b[39m\u001b[32m180\u001b[39m \u001b[38;5;28;01mreturn\u001b[39;00m \u001b[38;5;28mcls\u001b[39m(**\u001b[38;5;28;43mself\u001b[39;49m\u001b[43m.\u001b[49m\u001b[43m_request_raw\u001b[49m\u001b[43m(\u001b[49m\u001b[43m*\u001b[49m\u001b[43margs\u001b[49m\u001b[43m,\u001b[49m\u001b[43m \u001b[49m\u001b[43m*\u001b[49m\u001b[43m*\u001b[49m\u001b[43mkwargs\u001b[49m\u001b[43m)\u001b[49m.json())\n",
      "\u001b[36mFile \u001b[39m\u001b[32m~/miniconda3/envs/llm/lib/python3.12/site-packages/ollama/_client.py:120\u001b[39m, in \u001b[36mClient._request_raw\u001b[39m\u001b[34m(self, *args, **kwargs)\u001b[39m\n\u001b[32m    118\u001b[39m \u001b[38;5;28;01mdef\u001b[39;00m\u001b[38;5;250m \u001b[39m\u001b[34m_request_raw\u001b[39m(\u001b[38;5;28mself\u001b[39m, *args, **kwargs):\n\u001b[32m    119\u001b[39m   \u001b[38;5;28;01mtry\u001b[39;00m:\n\u001b[32m--> \u001b[39m\u001b[32m120\u001b[39m     r = \u001b[38;5;28;43mself\u001b[39;49m\u001b[43m.\u001b[49m\u001b[43m_client\u001b[49m\u001b[43m.\u001b[49m\u001b[43mrequest\u001b[49m\u001b[43m(\u001b[49m\u001b[43m*\u001b[49m\u001b[43margs\u001b[49m\u001b[43m,\u001b[49m\u001b[43m \u001b[49m\u001b[43m*\u001b[49m\u001b[43m*\u001b[49m\u001b[43mkwargs\u001b[49m\u001b[43m)\u001b[49m\n\u001b[32m    121\u001b[39m     r.raise_for_status()\n\u001b[32m    122\u001b[39m     \u001b[38;5;28;01mreturn\u001b[39;00m r\n",
      "\u001b[36mFile \u001b[39m\u001b[32m~/miniconda3/envs/llm/lib/python3.12/site-packages/httpx/_client.py:825\u001b[39m, in \u001b[36mClient.request\u001b[39m\u001b[34m(self, method, url, content, data, files, json, params, headers, cookies, auth, follow_redirects, timeout, extensions)\u001b[39m\n\u001b[32m    810\u001b[39m     warnings.warn(message, \u001b[38;5;167;01mDeprecationWarning\u001b[39;00m, stacklevel=\u001b[32m2\u001b[39m)\n\u001b[32m    812\u001b[39m request = \u001b[38;5;28mself\u001b[39m.build_request(\n\u001b[32m    813\u001b[39m     method=method,\n\u001b[32m    814\u001b[39m     url=url,\n\u001b[32m   (...)\u001b[39m\u001b[32m    823\u001b[39m     extensions=extensions,\n\u001b[32m    824\u001b[39m )\n\u001b[32m--> \u001b[39m\u001b[32m825\u001b[39m \u001b[38;5;28;01mreturn\u001b[39;00m \u001b[38;5;28;43mself\u001b[39;49m\u001b[43m.\u001b[49m\u001b[43msend\u001b[49m\u001b[43m(\u001b[49m\u001b[43mrequest\u001b[49m\u001b[43m,\u001b[49m\u001b[43m \u001b[49m\u001b[43mauth\u001b[49m\u001b[43m=\u001b[49m\u001b[43mauth\u001b[49m\u001b[43m,\u001b[49m\u001b[43m \u001b[49m\u001b[43mfollow_redirects\u001b[49m\u001b[43m=\u001b[49m\u001b[43mfollow_redirects\u001b[49m\u001b[43m)\u001b[49m\n",
      "\u001b[36mFile \u001b[39m\u001b[32m~/miniconda3/envs/llm/lib/python3.12/site-packages/httpx/_client.py:914\u001b[39m, in \u001b[36mClient.send\u001b[39m\u001b[34m(self, request, stream, auth, follow_redirects)\u001b[39m\n\u001b[32m    910\u001b[39m \u001b[38;5;28mself\u001b[39m._set_timeout(request)\n\u001b[32m    912\u001b[39m auth = \u001b[38;5;28mself\u001b[39m._build_request_auth(request, auth)\n\u001b[32m--> \u001b[39m\u001b[32m914\u001b[39m response = \u001b[38;5;28;43mself\u001b[39;49m\u001b[43m.\u001b[49m\u001b[43m_send_handling_auth\u001b[49m\u001b[43m(\u001b[49m\n\u001b[32m    915\u001b[39m \u001b[43m    \u001b[49m\u001b[43mrequest\u001b[49m\u001b[43m,\u001b[49m\n\u001b[32m    916\u001b[39m \u001b[43m    \u001b[49m\u001b[43mauth\u001b[49m\u001b[43m=\u001b[49m\u001b[43mauth\u001b[49m\u001b[43m,\u001b[49m\n\u001b[32m    917\u001b[39m \u001b[43m    \u001b[49m\u001b[43mfollow_redirects\u001b[49m\u001b[43m=\u001b[49m\u001b[43mfollow_redirects\u001b[49m\u001b[43m,\u001b[49m\n\u001b[32m    918\u001b[39m \u001b[43m    \u001b[49m\u001b[43mhistory\u001b[49m\u001b[43m=\u001b[49m\u001b[43m[\u001b[49m\u001b[43m]\u001b[49m\u001b[43m,\u001b[49m\n\u001b[32m    919\u001b[39m \u001b[43m\u001b[49m\u001b[43m)\u001b[49m\n\u001b[32m    920\u001b[39m \u001b[38;5;28;01mtry\u001b[39;00m:\n\u001b[32m    921\u001b[39m     \u001b[38;5;28;01mif\u001b[39;00m \u001b[38;5;129;01mnot\u001b[39;00m stream:\n",
      "\u001b[36mFile \u001b[39m\u001b[32m~/miniconda3/envs/llm/lib/python3.12/site-packages/httpx/_client.py:942\u001b[39m, in \u001b[36mClient._send_handling_auth\u001b[39m\u001b[34m(self, request, auth, follow_redirects, history)\u001b[39m\n\u001b[32m    939\u001b[39m request = \u001b[38;5;28mnext\u001b[39m(auth_flow)\n\u001b[32m    941\u001b[39m \u001b[38;5;28;01mwhile\u001b[39;00m \u001b[38;5;28;01mTrue\u001b[39;00m:\n\u001b[32m--> \u001b[39m\u001b[32m942\u001b[39m     response = \u001b[38;5;28;43mself\u001b[39;49m\u001b[43m.\u001b[49m\u001b[43m_send_handling_redirects\u001b[49m\u001b[43m(\u001b[49m\n\u001b[32m    943\u001b[39m \u001b[43m        \u001b[49m\u001b[43mrequest\u001b[49m\u001b[43m,\u001b[49m\n\u001b[32m    944\u001b[39m \u001b[43m        \u001b[49m\u001b[43mfollow_redirects\u001b[49m\u001b[43m=\u001b[49m\u001b[43mfollow_redirects\u001b[49m\u001b[43m,\u001b[49m\n\u001b[32m    945\u001b[39m \u001b[43m        \u001b[49m\u001b[43mhistory\u001b[49m\u001b[43m=\u001b[49m\u001b[43mhistory\u001b[49m\u001b[43m,\u001b[49m\n\u001b[32m    946\u001b[39m \u001b[43m    \u001b[49m\u001b[43m)\u001b[49m\n\u001b[32m    947\u001b[39m     \u001b[38;5;28;01mtry\u001b[39;00m:\n\u001b[32m    948\u001b[39m         \u001b[38;5;28;01mtry\u001b[39;00m:\n",
      "\u001b[36mFile \u001b[39m\u001b[32m~/miniconda3/envs/llm/lib/python3.12/site-packages/httpx/_client.py:979\u001b[39m, in \u001b[36mClient._send_handling_redirects\u001b[39m\u001b[34m(self, request, follow_redirects, history)\u001b[39m\n\u001b[32m    976\u001b[39m \u001b[38;5;28;01mfor\u001b[39;00m hook \u001b[38;5;129;01min\u001b[39;00m \u001b[38;5;28mself\u001b[39m._event_hooks[\u001b[33m\"\u001b[39m\u001b[33mrequest\u001b[39m\u001b[33m\"\u001b[39m]:\n\u001b[32m    977\u001b[39m     hook(request)\n\u001b[32m--> \u001b[39m\u001b[32m979\u001b[39m response = \u001b[38;5;28;43mself\u001b[39;49m\u001b[43m.\u001b[49m\u001b[43m_send_single_request\u001b[49m\u001b[43m(\u001b[49m\u001b[43mrequest\u001b[49m\u001b[43m)\u001b[49m\n\u001b[32m    980\u001b[39m \u001b[38;5;28;01mtry\u001b[39;00m:\n\u001b[32m    981\u001b[39m     \u001b[38;5;28;01mfor\u001b[39;00m hook \u001b[38;5;129;01min\u001b[39;00m \u001b[38;5;28mself\u001b[39m._event_hooks[\u001b[33m\"\u001b[39m\u001b[33mresponse\u001b[39m\u001b[33m\"\u001b[39m]:\n",
      "\u001b[36mFile \u001b[39m\u001b[32m~/miniconda3/envs/llm/lib/python3.12/site-packages/httpx/_client.py:1014\u001b[39m, in \u001b[36mClient._send_single_request\u001b[39m\u001b[34m(self, request)\u001b[39m\n\u001b[32m   1009\u001b[39m     \u001b[38;5;28;01mraise\u001b[39;00m \u001b[38;5;167;01mRuntimeError\u001b[39;00m(\n\u001b[32m   1010\u001b[39m         \u001b[33m\"\u001b[39m\u001b[33mAttempted to send an async request with a sync Client instance.\u001b[39m\u001b[33m\"\u001b[39m\n\u001b[32m   1011\u001b[39m     )\n\u001b[32m   1013\u001b[39m \u001b[38;5;28;01mwith\u001b[39;00m request_context(request=request):\n\u001b[32m-> \u001b[39m\u001b[32m1014\u001b[39m     response = \u001b[43mtransport\u001b[49m\u001b[43m.\u001b[49m\u001b[43mhandle_request\u001b[49m\u001b[43m(\u001b[49m\u001b[43mrequest\u001b[49m\u001b[43m)\u001b[49m\n\u001b[32m   1016\u001b[39m \u001b[38;5;28;01massert\u001b[39;00m \u001b[38;5;28misinstance\u001b[39m(response.stream, SyncByteStream)\n\u001b[32m   1018\u001b[39m response.request = request\n",
      "\u001b[36mFile \u001b[39m\u001b[32m~/miniconda3/envs/llm/lib/python3.12/site-packages/httpx/_transports/default.py:250\u001b[39m, in \u001b[36mHTTPTransport.handle_request\u001b[39m\u001b[34m(self, request)\u001b[39m\n\u001b[32m    237\u001b[39m req = httpcore.Request(\n\u001b[32m    238\u001b[39m     method=request.method,\n\u001b[32m    239\u001b[39m     url=httpcore.URL(\n\u001b[32m   (...)\u001b[39m\u001b[32m    247\u001b[39m     extensions=request.extensions,\n\u001b[32m    248\u001b[39m )\n\u001b[32m    249\u001b[39m \u001b[38;5;28;01mwith\u001b[39;00m map_httpcore_exceptions():\n\u001b[32m--> \u001b[39m\u001b[32m250\u001b[39m     resp = \u001b[38;5;28;43mself\u001b[39;49m\u001b[43m.\u001b[49m\u001b[43m_pool\u001b[49m\u001b[43m.\u001b[49m\u001b[43mhandle_request\u001b[49m\u001b[43m(\u001b[49m\u001b[43mreq\u001b[49m\u001b[43m)\u001b[49m\n\u001b[32m    252\u001b[39m \u001b[38;5;28;01massert\u001b[39;00m \u001b[38;5;28misinstance\u001b[39m(resp.stream, typing.Iterable)\n\u001b[32m    254\u001b[39m \u001b[38;5;28;01mreturn\u001b[39;00m Response(\n\u001b[32m    255\u001b[39m     status_code=resp.status,\n\u001b[32m    256\u001b[39m     headers=resp.headers,\n\u001b[32m    257\u001b[39m     stream=ResponseStream(resp.stream),\n\u001b[32m    258\u001b[39m     extensions=resp.extensions,\n\u001b[32m    259\u001b[39m )\n",
      "\u001b[36mFile \u001b[39m\u001b[32m~/miniconda3/envs/llm/lib/python3.12/site-packages/httpcore/_sync/connection_pool.py:256\u001b[39m, in \u001b[36mConnectionPool.handle_request\u001b[39m\u001b[34m(self, request)\u001b[39m\n\u001b[32m    253\u001b[39m         closing = \u001b[38;5;28mself\u001b[39m._assign_requests_to_connections()\n\u001b[32m    255\u001b[39m     \u001b[38;5;28mself\u001b[39m._close_connections(closing)\n\u001b[32m--> \u001b[39m\u001b[32m256\u001b[39m     \u001b[38;5;28;01mraise\u001b[39;00m exc \u001b[38;5;28;01mfrom\u001b[39;00m\u001b[38;5;250m \u001b[39m\u001b[38;5;28;01mNone\u001b[39;00m\n\u001b[32m    258\u001b[39m \u001b[38;5;66;03m# Return the response. Note that in this case we still have to manage\u001b[39;00m\n\u001b[32m    259\u001b[39m \u001b[38;5;66;03m# the point at which the response is closed.\u001b[39;00m\n\u001b[32m    260\u001b[39m \u001b[38;5;28;01massert\u001b[39;00m \u001b[38;5;28misinstance\u001b[39m(response.stream, typing.Iterable)\n",
      "\u001b[36mFile \u001b[39m\u001b[32m~/miniconda3/envs/llm/lib/python3.12/site-packages/httpcore/_sync/connection_pool.py:236\u001b[39m, in \u001b[36mConnectionPool.handle_request\u001b[39m\u001b[34m(self, request)\u001b[39m\n\u001b[32m    232\u001b[39m connection = pool_request.wait_for_connection(timeout=timeout)\n\u001b[32m    234\u001b[39m \u001b[38;5;28;01mtry\u001b[39;00m:\n\u001b[32m    235\u001b[39m     \u001b[38;5;66;03m# Send the request on the assigned connection.\u001b[39;00m\n\u001b[32m--> \u001b[39m\u001b[32m236\u001b[39m     response = \u001b[43mconnection\u001b[49m\u001b[43m.\u001b[49m\u001b[43mhandle_request\u001b[49m\u001b[43m(\u001b[49m\n\u001b[32m    237\u001b[39m \u001b[43m        \u001b[49m\u001b[43mpool_request\u001b[49m\u001b[43m.\u001b[49m\u001b[43mrequest\u001b[49m\n\u001b[32m    238\u001b[39m \u001b[43m    \u001b[49m\u001b[43m)\u001b[49m\n\u001b[32m    239\u001b[39m \u001b[38;5;28;01mexcept\u001b[39;00m ConnectionNotAvailable:\n\u001b[32m    240\u001b[39m     \u001b[38;5;66;03m# In some cases a connection may initially be available to\u001b[39;00m\n\u001b[32m    241\u001b[39m     \u001b[38;5;66;03m# handle a request, but then become unavailable.\u001b[39;00m\n\u001b[32m    242\u001b[39m     \u001b[38;5;66;03m#\u001b[39;00m\n\u001b[32m    243\u001b[39m     \u001b[38;5;66;03m# In this case we clear the connection and try again.\u001b[39;00m\n\u001b[32m    244\u001b[39m     pool_request.clear_connection()\n",
      "\u001b[36mFile \u001b[39m\u001b[32m~/miniconda3/envs/llm/lib/python3.12/site-packages/httpcore/_sync/connection.py:101\u001b[39m, in \u001b[36mHTTPConnection.handle_request\u001b[39m\u001b[34m(self, request)\u001b[39m\n\u001b[32m     99\u001b[39m \u001b[38;5;28;01mexcept\u001b[39;00m \u001b[38;5;167;01mBaseException\u001b[39;00m \u001b[38;5;28;01mas\u001b[39;00m exc:\n\u001b[32m    100\u001b[39m     \u001b[38;5;28mself\u001b[39m._connect_failed = \u001b[38;5;28;01mTrue\u001b[39;00m\n\u001b[32m--> \u001b[39m\u001b[32m101\u001b[39m     \u001b[38;5;28;01mraise\u001b[39;00m exc\n\u001b[32m    103\u001b[39m \u001b[38;5;28;01mreturn\u001b[39;00m \u001b[38;5;28mself\u001b[39m._connection.handle_request(request)\n",
      "\u001b[36mFile \u001b[39m\u001b[32m~/miniconda3/envs/llm/lib/python3.12/site-packages/httpcore/_sync/connection.py:78\u001b[39m, in \u001b[36mHTTPConnection.handle_request\u001b[39m\u001b[34m(self, request)\u001b[39m\n\u001b[32m     76\u001b[39m \u001b[38;5;28;01mwith\u001b[39;00m \u001b[38;5;28mself\u001b[39m._request_lock:\n\u001b[32m     77\u001b[39m     \u001b[38;5;28;01mif\u001b[39;00m \u001b[38;5;28mself\u001b[39m._connection \u001b[38;5;129;01mis\u001b[39;00m \u001b[38;5;28;01mNone\u001b[39;00m:\n\u001b[32m---> \u001b[39m\u001b[32m78\u001b[39m         stream = \u001b[38;5;28;43mself\u001b[39;49m\u001b[43m.\u001b[49m\u001b[43m_connect\u001b[49m\u001b[43m(\u001b[49m\u001b[43mrequest\u001b[49m\u001b[43m)\u001b[49m\n\u001b[32m     80\u001b[39m         ssl_object = stream.get_extra_info(\u001b[33m\"\u001b[39m\u001b[33mssl_object\u001b[39m\u001b[33m\"\u001b[39m)\n\u001b[32m     81\u001b[39m         http2_negotiated = (\n\u001b[32m     82\u001b[39m             ssl_object \u001b[38;5;129;01mis\u001b[39;00m \u001b[38;5;129;01mnot\u001b[39;00m \u001b[38;5;28;01mNone\u001b[39;00m\n\u001b[32m     83\u001b[39m             \u001b[38;5;129;01mand\u001b[39;00m ssl_object.selected_alpn_protocol() == \u001b[33m\"\u001b[39m\u001b[33mh2\u001b[39m\u001b[33m\"\u001b[39m\n\u001b[32m     84\u001b[39m         )\n",
      "\u001b[36mFile \u001b[39m\u001b[32m~/miniconda3/envs/llm/lib/python3.12/site-packages/httpcore/_sync/connection.py:124\u001b[39m, in \u001b[36mHTTPConnection._connect\u001b[39m\u001b[34m(self, request)\u001b[39m\n\u001b[32m    116\u001b[39m     kwargs = {\n\u001b[32m    117\u001b[39m         \u001b[33m\"\u001b[39m\u001b[33mhost\u001b[39m\u001b[33m\"\u001b[39m: \u001b[38;5;28mself\u001b[39m._origin.host.decode(\u001b[33m\"\u001b[39m\u001b[33mascii\u001b[39m\u001b[33m\"\u001b[39m),\n\u001b[32m    118\u001b[39m         \u001b[33m\"\u001b[39m\u001b[33mport\u001b[39m\u001b[33m\"\u001b[39m: \u001b[38;5;28mself\u001b[39m._origin.port,\n\u001b[32m   (...)\u001b[39m\u001b[32m    121\u001b[39m         \u001b[33m\"\u001b[39m\u001b[33msocket_options\u001b[39m\u001b[33m\"\u001b[39m: \u001b[38;5;28mself\u001b[39m._socket_options,\n\u001b[32m    122\u001b[39m     }\n\u001b[32m    123\u001b[39m     \u001b[38;5;28;01mwith\u001b[39;00m Trace(\u001b[33m\"\u001b[39m\u001b[33mconnect_tcp\u001b[39m\u001b[33m\"\u001b[39m, logger, request, kwargs) \u001b[38;5;28;01mas\u001b[39;00m trace:\n\u001b[32m--> \u001b[39m\u001b[32m124\u001b[39m         stream = \u001b[38;5;28;43mself\u001b[39;49m\u001b[43m.\u001b[49m\u001b[43m_network_backend\u001b[49m\u001b[43m.\u001b[49m\u001b[43mconnect_tcp\u001b[49m\u001b[43m(\u001b[49m\u001b[43m*\u001b[49m\u001b[43m*\u001b[49m\u001b[43mkwargs\u001b[49m\u001b[43m)\u001b[49m\n\u001b[32m    125\u001b[39m         trace.return_value = stream\n\u001b[32m    126\u001b[39m \u001b[38;5;28;01melse\u001b[39;00m:\n",
      "\u001b[36mFile \u001b[39m\u001b[32m~/miniconda3/envs/llm/lib/python3.12/site-packages/httpcore/_backends/sync.py:208\u001b[39m, in \u001b[36mSyncBackend.connect_tcp\u001b[39m\u001b[34m(self, host, port, timeout, local_address, socket_options)\u001b[39m\n\u001b[32m    202\u001b[39m exc_map: ExceptionMapping = {\n\u001b[32m    203\u001b[39m     socket.timeout: ConnectTimeout,\n\u001b[32m    204\u001b[39m     \u001b[38;5;167;01mOSError\u001b[39;00m: ConnectError,\n\u001b[32m    205\u001b[39m }\n\u001b[32m    207\u001b[39m \u001b[38;5;28;01mwith\u001b[39;00m map_exceptions(exc_map):\n\u001b[32m--> \u001b[39m\u001b[32m208\u001b[39m     sock = \u001b[43msocket\u001b[49m\u001b[43m.\u001b[49m\u001b[43mcreate_connection\u001b[49m\u001b[43m(\u001b[49m\n\u001b[32m    209\u001b[39m \u001b[43m        \u001b[49m\u001b[43maddress\u001b[49m\u001b[43m,\u001b[49m\n\u001b[32m    210\u001b[39m \u001b[43m        \u001b[49m\u001b[43mtimeout\u001b[49m\u001b[43m,\u001b[49m\n\u001b[32m    211\u001b[39m \u001b[43m        \u001b[49m\u001b[43msource_address\u001b[49m\u001b[43m=\u001b[49m\u001b[43msource_address\u001b[49m\u001b[43m,\u001b[49m\n\u001b[32m    212\u001b[39m \u001b[43m    \u001b[49m\u001b[43m)\u001b[49m\n\u001b[32m    213\u001b[39m     \u001b[38;5;28;01mfor\u001b[39;00m option \u001b[38;5;129;01min\u001b[39;00m socket_options:\n\u001b[32m    214\u001b[39m         sock.setsockopt(*option)  \u001b[38;5;66;03m# pragma: no cover\u001b[39;00m\n",
      "\u001b[36mFile \u001b[39m\u001b[32m~/miniconda3/envs/llm/lib/python3.12/socket.py:850\u001b[39m, in \u001b[36mcreate_connection\u001b[39m\u001b[34m(address, timeout, source_address, all_errors)\u001b[39m\n\u001b[32m    848\u001b[39m \u001b[38;5;28;01mif\u001b[39;00m source_address:\n\u001b[32m    849\u001b[39m     sock.bind(source_address)\n\u001b[32m--> \u001b[39m\u001b[32m850\u001b[39m \u001b[43msock\u001b[49m\u001b[43m.\u001b[49m\u001b[43mconnect\u001b[49m\u001b[43m(\u001b[49m\u001b[43msa\u001b[49m\u001b[43m)\u001b[49m\n\u001b[32m    851\u001b[39m \u001b[38;5;66;03m# Break explicitly a reference cycle\u001b[39;00m\n\u001b[32m    852\u001b[39m exceptions.clear()\n",
      "\u001b[31mKeyboardInterrupt\u001b[39m: "
     ]
    }
   ],
   "source": [
    "df_filter = run_search_tool(input_content, df, all_tool_encoded_array)"
   ]
  },
  {
   "cell_type": "markdown",
   "id": "dbc444ed",
   "metadata": {},
   "source": [
    "# Question"
   ]
  },
  {
   "cell_type": "code",
   "execution_count": null,
   "id": "5f4eb8a3",
   "metadata": {},
   "outputs": [],
   "source": [
    "question = f\"\"\"나는 {input_content['tool_name']}을(를) 빌리고 싶어. \n",
    "그리고 이 도구를 이용해서 하려는 작업은 '{input_content['job_content']}' 이야. \n",
    "해당 작업을 하면서 같이 빌리면 좋은 공구도 함께 알려줘\"\"\""
   ]
  },
  {
   "cell_type": "markdown",
   "id": "f01558e7",
   "metadata": {},
   "source": [
    "# Ver.ChatGPT"
   ]
  },
  {
   "cell_type": "code",
   "execution_count": null,
   "id": "506a7bcf",
   "metadata": {},
   "outputs": [],
   "source": [
    "def invoke(question, info = None, api_key=api_key, model=\"gpt-4o\", temperature=0.7):\n",
    "    client = OpenAI(api_key=api_key)\n",
    "    if info is not None:\n",
    "        system_content = (\n",
    "            f\"\"\"너는 사람들의 질문에 친절히 답해주는 도우미야.\n",
    "                서울시에서 운영하는 대여 공구 찾기 정보 시스템이야.\n",
    "                관련 정보는 다음과 같아: {info}\n",
    "                이 정보를 참고해서 사용자의 질문에 친절히 답해줘.\"\"\"\n",
    "        )\n",
    "    else:\n",
    "        system_content = (\n",
    "            \"\"\"너는 사람들의 질문에 친절히 답해주는 도우미야.\n",
    "                서울시에서 운영하는 대여 공구 찾기 정보 시스템이야.\n",
    "                사용자의 질문에 친절히 답해줘.\"\"\"\n",
    "        )\n",
    "\n",
    "    # 메시지 구성\n",
    "    messages = [\n",
    "        {\"role\": \"system\", \"content\": system_content},\n",
    "        {\"role\": \"user\", \"content\": question}\n",
    "    ]\n",
    "    # 스트리밍 요청\n",
    "    stream = client.chat.completions.create(\n",
    "        model=model,\n",
    "        messages=messages,\n",
    "        temperature=temperature,\n",
    "        stream=True  # ⭐ 핵심 옵션!\n",
    "    )\n",
    "\n",
    "    # generator 반환 (chunk 단위 텍스트 출력)\n",
    "    return stream\n",
    "    "
   ]
  },
  {
   "cell_type": "code",
   "execution_count": 46,
   "id": "6d09f0fe",
   "metadata": {},
   "outputs": [
    {
     "data": {
      "text/plain": [
       "'가까운 대여소 : '"
      ]
     },
     "metadata": {},
     "output_type": "display_data"
    },
    {
     "data": {
      "text/html": [
       "<div>\n",
       "<style scoped>\n",
       "    .dataframe tbody tr th:only-of-type {\n",
       "        vertical-align: middle;\n",
       "    }\n",
       "\n",
       "    .dataframe tbody tr th {\n",
       "        vertical-align: top;\n",
       "    }\n",
       "\n",
       "    .dataframe thead th {\n",
       "        text-align: right;\n",
       "    }\n",
       "</style>\n",
       "<table border=\"1\" class=\"dataframe\">\n",
       "  <thead>\n",
       "    <tr style=\"text-align: right;\">\n",
       "      <th></th>\n",
       "      <th>공구 이름</th>\n",
       "      <th>과금기준</th>\n",
       "      <th>수량</th>\n",
       "      <th>대여장소명</th>\n",
       "      <th>상세주소</th>\n",
       "      <th>전화번호</th>\n",
       "      <th>평일오픈시간</th>\n",
       "      <th>평일클로즈시간</th>\n",
       "      <th>생성일시</th>\n",
       "      <th>요금</th>\n",
       "    </tr>\n",
       "  </thead>\n",
       "  <tbody>\n",
       "    <tr>\n",
       "      <th>10414</th>\n",
       "      <td>전동드릴</td>\n",
       "      <td>1일</td>\n",
       "      <td>3</td>\n",
       "      <td>서초1동반딧불센터</td>\n",
       "      <td>서울특별시 서초구 남부순환로339길 47-1 2층</td>\n",
       "      <td>02-521-0364</td>\n",
       "      <td>10:00</td>\n",
       "      <td>18:00</td>\n",
       "      <td>2018-01-23 17:33:00</td>\n",
       "      <td>10000원</td>\n",
       "    </tr>\n",
       "    <tr>\n",
       "      <th>10423</th>\n",
       "      <td>전동드릴</td>\n",
       "      <td>1일</td>\n",
       "      <td>1</td>\n",
       "      <td>반포반딧불센터</td>\n",
       "      <td>서울특별시 서초구 신반포로42길 12 1층</td>\n",
       "      <td>02-516-7887</td>\n",
       "      <td>10:00</td>\n",
       "      <td>18:00</td>\n",
       "      <td>2018-01-23 17:33:00</td>\n",
       "      <td>10000원</td>\n",
       "    </tr>\n",
       "    <tr>\n",
       "      <th>10306</th>\n",
       "      <td>전동드릴</td>\n",
       "      <td>없음</td>\n",
       "      <td>1</td>\n",
       "      <td>잠원동주민센터</td>\n",
       "      <td>나루터로 38</td>\n",
       "      <td>02-2155-7543</td>\n",
       "      <td>09:00</td>\n",
       "      <td>18:00</td>\n",
       "      <td>2023-08-02 07:49:01</td>\n",
       "      <td>무료</td>\n",
       "    </tr>\n",
       "  </tbody>\n",
       "</table>\n",
       "</div>"
      ],
      "text/plain": [
       "      공구 이름 과금기준  수량      대여장소명                         상세주소          전화번호  \\\n",
       "10414  전동드릴   1일   3  서초1동반딧불센터  서울특별시 서초구 남부순환로339길 47-1 2층   02-521-0364   \n",
       "10423  전동드릴   1일   1    반포반딧불센터      서울특별시 서초구 신반포로42길 12 1층   02-516-7887   \n",
       "10306  전동드릴   없음   1    잠원동주민센터                      나루터로 38  02-2155-7543   \n",
       "\n",
       "      평일오픈시간 평일클로즈시간                 생성일시      요금  \n",
       "10414  10:00   18:00  2018-01-23 17:33:00  10000원  \n",
       "10423  10:00   18:00  2018-01-23 17:33:00  10000원  \n",
       "10306  09:00   18:00  2023-08-02 07:49:01      무료  "
      ]
     },
     "metadata": {},
     "output_type": "display_data"
    },
    {
     "name": "stdout",
     "output_type": "stream",
     "text": [
      "전동드릴을 사용해서 나무를 고정하려면, 다음과 같은 공구를 함께 대여하는 게 좋습니다:\n",
      "\n",
      "1. **드릴 비트 세트**: 나무에 구멍을 뚫기 위한 다양한 크기의 드릴 비트가 필요합니다.\n",
      "2. **스크루**: 나무를 고정하기 위한 적절한 크기와 길이의 스크루가 필요합니다.\n",
      "3. **스크루드라이버**: 드릴로 스크루를 박기 어려운 작은 공간에서는 스크루드라이버가 유용할 수 있습니다.\n",
      "4. **클램프**: 작업 중 나무를 고정시켜 안정성을 높여줄 수 있는 클램프가 있으면 좋습니다.\n",
      "5. **수평기**: 나무를 수평으로 고정하기 위해 수평기를 사용하면 작업의 정확성을 높일 수 있습니다.\n",
      "6. **줄자**: 정확한 측정을 위해 필수적입니다.\n",
      "7. **연필 및 표시 도구**: 정확한 위치를 표시하는 데 필요합니다.\n",
      "\n",
      "서울시에서는 주민들이 다양한 공구를 대여할 수 있는 공구 대여소를 운영하고 있습니다. 가까운 주민센터에 문의하시거나 서울시 공구 대여소 웹사이트를 통해 대여 가능 여부와 절차를 확인해보세요. 안전하게 작업하시길 바랍니다!"
     ]
    }
   ],
   "source": [
    "display(\"가까운 대여소 : \", df_filter)\n",
    "for chunk in invoke(question):\n",
    "    if chunk.choices[0].delta.content:\n",
    "        print(chunk.choices[0].delta.content, end='', flush=True)"
   ]
  },
  {
   "cell_type": "code",
   "execution_count": null,
   "id": "c496541b",
   "metadata": {},
   "outputs": [],
   "source": [
    "pd.read_csv('')"
   ]
  },
  {
   "cell_type": "markdown",
   "id": "66e3d556",
   "metadata": {},
   "source": [
    "# Ver. Gemma3:12b"
   ]
  },
  {
   "cell_type": "code",
   "execution_count": null,
   "id": "67642fb3",
   "metadata": {},
   "outputs": [],
   "source": [
    "from langchain_ollama.chat_models import ChatOllama\n",
    "\n",
    "def invoke(question, info = None, model=\"gemma3:12b\", temperature=0.7):\n",
    "    chat = ChatOllama(model=model,\n",
    "                      base_url=base_url,\n",
    "                      temperature=temperature,)\n",
    "    # 시스템 메시지 조건 처리\n",
    "    if info is not None:\n",
    "        system_content = (\n",
    "            f\"\"\"너는 사람들의 질문에 친절히 답해주는 도우미야.\n",
    "                서울시에서 운영하는 대여 공구 찾기 정보 시스템이야.\n",
    "                관련 정보는 다음과 같아: {info}\n",
    "                이 정보를 참고해서 사용자의 질문에 친절히 답해줘.\"\"\"\n",
    "        )\n",
    "    else:\n",
    "        system_content = (\n",
    "            \"\"\"너는 사람들의 질문에 친절히 답해주는 도우미야.\n",
    "                서울시에서 운영하는 대여 공구 찾기 정보 시스템이야.\n",
    "                사용자의 질문에 친절히 답해줘.\"\"\"\n",
    "        )\n",
    "\n",
    "    # 메시지 구성\n",
    "    messages = [\n",
    "        {\"role\": \"system\", \"content\": system_content},\n",
    "        {\"role\": \"user\", \"content\": question}\n",
    "    ]\n",
    "\n",
    "    # invoke로 전체 응답 받기\n",
    "    # response = chat.invoke(messages).content\n",
    "    response = chat.stream(messages)\n",
    "\n",
    "    # 응답 내용 반환\n",
    "    return response\n"
   ]
  },
  {
   "cell_type": "code",
   "execution_count": 14,
   "id": "845cd5ff",
   "metadata": {},
   "outputs": [
    {
     "data": {
      "text/plain": [
       "'가까운 대여소 : '"
      ]
     },
     "metadata": {},
     "output_type": "display_data"
    },
    {
     "data": {
      "text/html": [
       "<div>\n",
       "<style scoped>\n",
       "    .dataframe tbody tr th:only-of-type {\n",
       "        vertical-align: middle;\n",
       "    }\n",
       "\n",
       "    .dataframe tbody tr th {\n",
       "        vertical-align: top;\n",
       "    }\n",
       "\n",
       "    .dataframe thead th {\n",
       "        text-align: right;\n",
       "    }\n",
       "</style>\n",
       "<table border=\"1\" class=\"dataframe\">\n",
       "  <thead>\n",
       "    <tr style=\"text-align: right;\">\n",
       "      <th></th>\n",
       "      <th>공구 이름</th>\n",
       "      <th>과금기준</th>\n",
       "      <th>수량</th>\n",
       "      <th>대여장소명</th>\n",
       "      <th>상세주소</th>\n",
       "      <th>전화번호</th>\n",
       "      <th>평일오픈시간</th>\n",
       "      <th>평일클로즈시간</th>\n",
       "      <th>생성일시</th>\n",
       "      <th>요금</th>\n",
       "    </tr>\n",
       "  </thead>\n",
       "  <tbody>\n",
       "    <tr>\n",
       "      <th>10414</th>\n",
       "      <td>전동드릴</td>\n",
       "      <td>1일</td>\n",
       "      <td>3</td>\n",
       "      <td>서초1동반딧불센터</td>\n",
       "      <td>서울특별시 서초구 남부순환로339길 47-1 2층</td>\n",
       "      <td>02-521-0364</td>\n",
       "      <td>10:00</td>\n",
       "      <td>18:00</td>\n",
       "      <td>2018-01-23 17:33:00</td>\n",
       "      <td>10000원</td>\n",
       "    </tr>\n",
       "    <tr>\n",
       "      <th>10423</th>\n",
       "      <td>전동드릴</td>\n",
       "      <td>1일</td>\n",
       "      <td>1</td>\n",
       "      <td>반포반딧불센터</td>\n",
       "      <td>서울특별시 서초구 신반포로42길 12 1층</td>\n",
       "      <td>02-516-7887</td>\n",
       "      <td>10:00</td>\n",
       "      <td>18:00</td>\n",
       "      <td>2018-01-23 17:33:00</td>\n",
       "      <td>10000원</td>\n",
       "    </tr>\n",
       "    <tr>\n",
       "      <th>10306</th>\n",
       "      <td>전동드릴</td>\n",
       "      <td>없음</td>\n",
       "      <td>1</td>\n",
       "      <td>잠원동주민센터</td>\n",
       "      <td>나루터로 38</td>\n",
       "      <td>02-2155-7543</td>\n",
       "      <td>09:00</td>\n",
       "      <td>18:00</td>\n",
       "      <td>2023-08-02 07:49:01</td>\n",
       "      <td>무료</td>\n",
       "    </tr>\n",
       "  </tbody>\n",
       "</table>\n",
       "</div>"
      ],
      "text/plain": [
       "      공구 이름 과금기준  수량      대여장소명                         상세주소          전화번호  \\\n",
       "10414  전동드릴   1일   3  서초1동반딧불센터  서울특별시 서초구 남부순환로339길 47-1 2층   02-521-0364   \n",
       "10423  전동드릴   1일   1    반포반딧불센터      서울특별시 서초구 신반포로42길 12 1층   02-516-7887   \n",
       "10306  전동드릴   없음   1    잠원동주민센터                      나루터로 38  02-2155-7543   \n",
       "\n",
       "      평일오픈시간 평일클로즈시간                 생성일시      요금  \n",
       "10414  10:00   18:00  2018-01-23 17:33:00  10000원  \n",
       "10423  10:00   18:00  2018-01-23 17:33:00  10000원  \n",
       "10306  09:00   18:00  2023-08-02 07:49:01      무료  "
      ]
     },
     "metadata": {},
     "output_type": "display_data"
    },
    {
     "name": "stdout",
     "output_type": "stream",
     "text": [
      "안녕하세요! 전동드릴을 찾으시는군요. 나무를 고정하는 작업에 필요한 전동드릴과 함께 사용하면 좋을 공구들을 찾아드릴게요.\n",
      "\n",
      "**1. 전동드릴 대여 정보**\n",
      "\n",
      "서울시에서는 공유소가 운영하는 공구 대여 서비스를 통해 전동드릴을 빌릴 수 있습니다.\n",
      "\n",
      "*   **공유소 위치:** 서울시 곳곳에 위치하고 있으며, 가까운 공유소를 찾으려면 서울시 공유소 홈페이지에서 검색할 수 있습니다.\n",
      "    *   **서울시 공유소 홈페이지:** [https://www.seoulshare.kr/](https://www.seoulshare.kr/)\n",
      "*   **대여 조건:**\n",
      "    *   서울시민이라면 누구나 이용 가능합니다.\n",
      "    *   대여료는 공구 종류 및 대여 기간에 따라 다릅니다.\n",
      "    *   대여 전 안전 교육 이수 또는 온라인 교육 수료가 필요할 수 있습니다.\n",
      "*   **예약 방법:** 서울시 공유소 홈페이지 또는 앱에서 예약할 수 있습니다.\n",
      "\n",
      "**2. 함께 빌리면 좋은 공구**\n",
      "\n",
      "나무를 고정하는 작업에 전동드릴과 함께 사용하면 다음과 같은 공구들이 유용합니다.\n",
      "\n",
      "*   **드라이버:** 전동드릴에 맞는 드라이버 비트를 사용하여 나사를 조일 때 사용합니다.\n",
      "*   **나사:** 나무를 고정할 때 필요한 나사를 준비합니다. 나무의 종류와 크기에 맞는 나사를 선택하는 것이 중요합니다.\n",
      "*   **줄자:** 나무를 정확하게 측정하고 자를 때 사용합니다.\n",
      "*   **연필:** 나무에 표시를 할 때 사용합니다.\n",
      "*   **보안경:** 작업 중 파편이 튀는 것을 보호하기 위해 착용합니다.\n",
      "*   **장갑:** 작업 중 손을 보호하기 위해 착용합니다.\n",
      "\n",
      "**3. 추가 조언**\n",
      "\n",
      "*   작업 전에 전동드릴 사용법을 숙지하고 안전 수칙을 준수하세요.\n",
      "*   나무의 종류와 크기에 맞는 전동드릴과 나사를 선택하세요.\n",
      "*   작업 중에는 항상 안전에 유의하세요.\n",
      "\n",
      "**4. 추가 문의**\n",
      "\n",
      "*   더 궁금한 점이 있으시면 언제든지 다시 질문해주세요.\n",
      "*   서울시 공유소 홈페이지 또는 고객센터를 통해 자세한 정보를 얻을 수 있습니다.\n",
      "\n",
      "안전하고 즐거운 DIY 작업 되세요!"
     ]
    }
   ],
   "source": [
    "display(\"가까운 대여소 : \", df_filter)\n",
    "for chunk in invoke(question):\n",
    "    print(chunk.content, end='', flush=True)"
   ]
  },
  {
   "cell_type": "code",
   "execution_count": null,
   "id": "52d1c8e0",
   "metadata": {},
   "outputs": [],
   "source": []
  },
  {
   "cell_type": "code",
   "execution_count": null,
   "id": "859f54df",
   "metadata": {},
   "outputs": [],
   "source": []
  },
  {
   "cell_type": "code",
   "execution_count": null,
   "id": "d2fec0c0",
   "metadata": {},
   "outputs": [],
   "source": [
    "def invoke(question, \n",
    "           prompt,\n",
    "           api_key=api_key,\n",
    "           model=\"gpt-4o\",\n",
    "           temperature=0.7):\n",
    "    client = OpenAI(api_key=api_key)\n",
    "\n",
    "    # 메시지 구성\n",
    "    messages = [\n",
    "        {\"role\": \"system\", \"content\": prompt},\n",
    "        {\"role\": \"user\", \"content\": question}\n",
    "    ]\n",
    "    # 스트리밍 요청\n",
    "    stream = client.chat.completions.create(\n",
    "        model=model,\n",
    "        messages=messages,\n",
    "        temperature=temperature,\n",
    "        # stream=True  # ⭐ 핵심 옵션!\n",
    "    )\n",
    "\n",
    "    # generator 반환 (chunk 단위 텍스트 출력)\n",
    "    return stream\n",
    "    "
   ]
  },
  {
   "cell_type": "code",
   "execution_count": 21,
   "id": "0a703b89",
   "metadata": {},
   "outputs": [],
   "source": [
    "def invoke(\n",
    "           prompt,\n",
    "           api_key=api_key,\n",
    "           model=\"gpt-4o\",\n",
    "           temperature=0.7):\n",
    "    client = OpenAI(api_key=api_key)\n",
    "\n",
    "    # 메시지 구성\n",
    "    messages = [\n",
    "        # {\"role\": \"system\", \"content\": prompt},\n",
    "        {\"role\": \"user\", \"content\": prompt}\n",
    "    ]\n",
    "    # 스트리밍 요청\n",
    "    stream = client.chat.completions.create(\n",
    "        model=model,\n",
    "        messages=messages,\n",
    "        temperature=temperature,\n",
    "        # stream=True  # ⭐ 핵심 옵션!\n",
    "    )\n",
    "\n",
    "    # generator 반환 (chunk 단위 텍스트 출력)\n",
    "    return stream"
   ]
  },
  {
   "cell_type": "code",
   "execution_count": 22,
   "id": "ff6c5e4d",
   "metadata": {},
   "outputs": [],
   "source": [
    "prompt = f\"\"\"\n",
    "                너는 가위바위보 천재야 가위바위보 이기는 방법에 대해서 설명해줘\n",
    "                \"\"\""
   ]
  },
  {
   "cell_type": "code",
   "execution_count": 23,
   "id": "675b505a",
   "metadata": {},
   "outputs": [],
   "source": [
    "response = invoke(prompt)"
   ]
  },
  {
   "cell_type": "code",
   "execution_count": 32,
   "id": "49ff31dd",
   "metadata": {},
   "outputs": [
    {
     "data": {
      "text/plain": [
       "'가위바위보는 운에 크게 좌우되는 게임이지만, 몇 가지 전략을 통해 이길 확률을 조금 높일 수 있습니다. 다음은 가위바위보에서 이길 가능성을 증가시키는 몇 가지 팁입니다.\\n\\n1. **상대방의 패턴 파악하기**: 상대방이 이전에 어떤 선택을 했는지 관찰하고, 반복되는 패턴이 있는지 확인하세요. 사람들은 종종 무의식적으로 패턴을 따르기도 합니다.\\n\\n2. **심리전 활용하기**: 상대방이 여러분이 어떤 선택을 할 것이라고 생각할지를 고려하고, 그에 반하는 선택을 하세요. 예를 들어, 상대방이 당신이 가위를 낼 것이라고 생각한다면 바위를 내 보세요.\\n\\n3. **무작위 선택**: 상대방이 당신의 패턴을 읽지 못하게 하려면, 완전히 무작위로 선택하는 것이 좋습니다. 이를 통해 예측 가능성을 줄일 수 있습니다.\\n\\n4. **초반에 바위 내기**: 통계적으로 많은 사람들이 처음에 가위나 보다는 바위를 내는 경향이 있습니다. 따라서 첫 판에 바위를 내는 것이 유리할 수도 있습니다.\\n\\n5. **심리적 유도**: 상대방에게 특정 선택을 하도록 유도할 수 있습니다. 예를 들어, 가위를 낼 것처럼 손을 움찔하는 등의 동작으로 상대방을 혼란스럽게 할 수 있습니다.\\n\\n이러한 방법들은 확률을 조금 높일 수는 있지만, 가위바위보는 여전히 운이 크게 작용하는 게임임을 기억하세요.'"
      ]
     },
     "execution_count": 32,
     "metadata": {},
     "output_type": "execute_result"
    }
   ],
   "source": [
    "response.choices[0].message.content"
   ]
  },
  {
   "cell_type": "code",
   "execution_count": null,
   "id": "114fabd7",
   "metadata": {},
   "outputs": [],
   "source": []
  },
  {
   "cell_type": "code",
   "execution_count": null,
   "id": "79d082ff",
   "metadata": {},
   "outputs": [],
   "source": []
  },
  {
   "cell_type": "code",
   "execution_count": null,
   "id": "baf1b48d",
   "metadata": {},
   "outputs": [],
   "source": []
  },
  {
   "cell_type": "code",
   "execution_count": null,
   "id": "921fb652",
   "metadata": {},
   "outputs": [],
   "source": []
  },
  {
   "cell_type": "code",
   "execution_count": null,
   "id": "03b5d1a4",
   "metadata": {},
   "outputs": [],
   "source": []
  },
  {
   "cell_type": "code",
   "execution_count": null,
   "id": "f3208ba7",
   "metadata": {},
   "outputs": [],
   "source": []
  },
  {
   "cell_type": "code",
   "execution_count": null,
   "id": "e3394c74",
   "metadata": {},
   "outputs": [],
   "source": []
  }
 ],
 "metadata": {
  "kernelspec": {
   "display_name": "llm",
   "language": "python",
   "name": "python3"
  },
  "language_info": {
   "codemirror_mode": {
    "name": "ipython",
    "version": 3
   },
   "file_extension": ".py",
   "mimetype": "text/x-python",
   "name": "python",
   "nbconvert_exporter": "python",
   "pygments_lexer": "ipython3",
   "version": "3.12.11"
  }
 },
 "nbformat": 4,
 "nbformat_minor": 5
}
