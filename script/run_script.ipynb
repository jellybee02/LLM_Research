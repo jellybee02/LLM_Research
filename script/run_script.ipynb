{
 "cells": [
  {
   "cell_type": "markdown",
   "id": "b24ad5b3",
   "metadata": {},
   "source": [
    "# Pckage List"
   ]
  },
  {
   "cell_type": "code",
   "execution_count": 1,
   "id": "4f5da466",
   "metadata": {},
   "outputs": [
    {
     "name": "stderr",
     "output_type": "stream",
     "text": [
      "/home/ethan/anaconda3/envs/pl_llm/lib/python3.12/site-packages/tqdm/auto.py:21: TqdmWarning: IProgress not found. Please update jupyter and ipywidgets. See https://ipywidgets.readthedocs.io/en/stable/user_install.html\n",
      "  from .autonotebook import tqdm as notebook_tqdm\n"
     ]
    }
   ],
   "source": [
    "import numpy as np, pandas as pd, warnings, os, openai, json\n",
    "from tqdm.auto import tqdm\n",
    "from openai import OpenAI\n",
    "warnings.filterwarnings('ignore')\n",
    "import requests\n",
    "from typing import List, Tuple, Union\n",
    "from langchain_ollama.embeddings import OllamaEmbeddings\n",
    "import pickle\n",
    "from sklearn.metrics.pairwise import cosine_similarity\n",
    "from haversine import haversine, Unit"
   ]
  },
  {
   "cell_type": "markdown",
   "id": "c8e74ff5",
   "metadata": {},
   "source": [
    "# Data Load"
   ]
  },
  {
   "cell_type": "code",
   "execution_count": 2,
   "id": "dd1c19a5",
   "metadata": {},
   "outputs": [],
   "source": [
    "df = pd.read_csv(\"../data/prep3.csv\", encoding='cp949')"
   ]
  },
  {
   "cell_type": "markdown",
   "id": "948bf96e",
   "metadata": {},
   "source": [
    "# Function"
   ]
  },
  {
   "cell_type": "markdown",
   "id": "9fbb8ff6",
   "metadata": {},
   "source": [
    "## API 키 설정"
   ]
  },
  {
   "cell_type": "code",
   "execution_count": 3,
   "id": "6635e5dd",
   "metadata": {},
   "outputs": [],
   "source": [
    "key = open('../../../api_key.txt','r')\n",
    "api_key = key.read()\n",
    "openai.api_key = api_key\n",
    "\n",
    "base_ = open('../../../base_url.txt','r')\n",
    "base_url = base_.read()\n",
    "# openai.api_key = api_key"
   ]
  },
  {
   "cell_type": "code",
   "execution_count": 4,
   "id": "30b9be78",
   "metadata": {},
   "outputs": [],
   "source": [
    "class OllamaSentenceTransformer():\n",
    "    def __init__(\n",
    "            self,\n",
    "            *args,\n",
    "            **kargs,\n",
    "            ) -> None:\n",
    "                self.base_url = kargs.get(\"base_url\", \"http://localhost:11434\")\n",
    "                self.model = kargs.get(\"model\",\"bge-m3\")\n",
    "                self.embedding_model = OllamaEmbeddings(\n",
    "                            model = self.model,\n",
    "                            base_url = self.base_url,\n",
    "                        )\n",
    "                        \n",
    "    \n",
    "    def encode(\n",
    "            self,\n",
    "            documents:Union[str, List[str], np.ndarray],\n",
    "            *args,\n",
    "            **kargs,\n",
    "        )-> np.ndarray:\n",
    "        if isinstance(documents, str):\n",
    "            document_embeddings = self.embedding_model.embed_query(documents)\n",
    "            return np.array(document_embeddings)\n",
    "        \n",
    "        if isinstance(documents, np.ndarray):\n",
    "            documents = documents.tolist()\n",
    "        \n",
    "        document_embeddings = [self.embedding_model.embed_query(s) for s in documents]\n",
    "        return np.array(document_embeddings)\n",
    "        \n"
   ]
  },
  {
   "cell_type": "code",
   "execution_count": 5,
   "id": "10078f1f",
   "metadata": {},
   "outputs": [],
   "source": [
    "sentence_transformer = OllamaSentenceTransformer(base_url=base_url)"
   ]
  },
  {
   "cell_type": "markdown",
   "id": "e5a6db69",
   "metadata": {},
   "source": [
    "## 위치 관련 정보 제공"
   ]
  },
  {
   "cell_type": "code",
   "execution_count": 6,
   "id": "d290fa2b",
   "metadata": {},
   "outputs": [
    {
     "name": "stdout",
     "output_type": "stream",
     "text": [
      "진천군 위도/경도: (36.855461, 127.4353927)\n"
     ]
    }
   ],
   "source": [
    "def get_lat_lon(location_name):\n",
    "    url = 'https://nominatim.openstreetmap.org/search'\n",
    "    params = {\n",
    "        'q': location_name,\n",
    "        'format': 'json'\n",
    "    }\n",
    "    headers = {\n",
    "        'User-Agent': 'Mozilla/5.0 (compatible; ChatGPT-Example/1.0; +http://yourdomain.com)'\n",
    "    }\n",
    "\n",
    "    response = requests.get(url, params=params, headers=headers)\n",
    "\n",
    "    # 응답 확인\n",
    "    if response.status_code != 200:\n",
    "        print(f\"요청 실패: {response.status_code}\")\n",
    "        print(\"응답 내용:\", response.text)\n",
    "        return None\n",
    "\n",
    "    try:\n",
    "        data = response.json()\n",
    "        if data:\n",
    "            lat = data[0]['lat']\n",
    "            lon = data[0]['lon']\n",
    "            return float(lat), float(lon)\n",
    "        else:\n",
    "            print(\"위치 정보를 찾을 수 없습니다.\")\n",
    "            return None\n",
    "    except ValueError as e:\n",
    "        print(\"JSON 파싱 오류:\", e)\n",
    "        print(\"응답 내용:\", response.text)\n",
    "        return None\n",
    "\n",
    "# 테스트\n",
    "location = '진천군'\n",
    "result = get_lat_lon(location)\n",
    "print(f\"{location} 위도/경도: {result}\")\n"
   ]
  },
  {
   "cell_type": "markdown",
   "id": "63a9a845",
   "metadata": {},
   "source": [
    "# 전체 툴 인코딩 값"
   ]
  },
  {
   "cell_type": "code",
   "execution_count": 7,
   "id": "c067dc8c",
   "metadata": {},
   "outputs": [],
   "source": [
    "with open('../data/encoded_tool_name2.pkl', \"rb\") as f:\n",
    "    all_tool_encoded_array = pickle.load(f)"
   ]
  },
  {
   "cell_type": "markdown",
   "id": "cdc02ac7",
   "metadata": {},
   "source": [
    "# Input Content"
   ]
  },
  {
   "cell_type": "code",
   "execution_count": 8,
   "id": "2eecf873",
   "metadata": {},
   "outputs": [],
   "source": [
    "with open('../data/user_input_content.json', \"rb\") as f:\n",
    "    input_content = json.load(f)"
   ]
  },
  {
   "cell_type": "code",
   "execution_count": 49,
   "id": "98f9b170",
   "metadata": {},
   "outputs": [],
   "source": [
    "def run_search_tool(inputed_content, df, all_tool_encoded_array,head_count=3):\n",
    "    spot_location = get_lat_lon(inputed_content['location'])\n",
    "    if not spot_location:\n",
    "        print(\"위치 정보를 가져오지 못했습니다.\")\n",
    "        return None\n",
    "    \n",
    "    encoded_tool_name = sentence_transformer.encode(inputed_content['tool_name'])\n",
    "    \n",
    "    df['tool_sim_result'] = cosine_similarity(all_tool_encoded_array, encoded_tool_name.reshape(1, -1)).flatten()\n",
    "    \n",
    "    df_s = df[df['tool_sim_result'] > 0.9]\n",
    "    # use_col = ['대여소명', '위도', '경도', '주소', 'tool_sim_result']\n",
    "    use_col = ['공구 이름', '과금기준', '수량','대여장소명', '상세주소','전화번호', '평일오픈시간', '평일클로즈시간', '생성일시', '요금']\n",
    "\n",
    "    \n",
    "    df_s['Distance(Km)'] = df_s[[\"위도\", \"경도\"]].apply(lambda x: haversine((spot_location[0], spot_location[1]), (x['위도'], x['경도']), unit=Unit.KILOMETERS), axis=1)\n",
    "    df_s.sort_values(by='Distance(Km)', ascending=True, inplace=True)\n",
    "    \n",
    "    return df_s[use_col].head(head_count)"
   ]
  },
  {
   "cell_type": "code",
   "execution_count": 50,
   "id": "e6e0a987",
   "metadata": {},
   "outputs": [],
   "source": [
    "df_filter = run_search_tool(input_content, df, all_tool_encoded_array)"
   ]
  },
  {
   "cell_type": "code",
   "execution_count": 51,
   "id": "e9d19426",
   "metadata": {},
   "outputs": [
    {
     "data": {
      "text/html": [
       "<div>\n",
       "<style scoped>\n",
       "    .dataframe tbody tr th:only-of-type {\n",
       "        vertical-align: middle;\n",
       "    }\n",
       "\n",
       "    .dataframe tbody tr th {\n",
       "        vertical-align: top;\n",
       "    }\n",
       "\n",
       "    .dataframe thead th {\n",
       "        text-align: right;\n",
       "    }\n",
       "</style>\n",
       "<table border=\"1\" class=\"dataframe\">\n",
       "  <thead>\n",
       "    <tr style=\"text-align: right;\">\n",
       "      <th></th>\n",
       "      <th>공구 이름</th>\n",
       "      <th>과금기준</th>\n",
       "      <th>수량</th>\n",
       "      <th>대여장소명</th>\n",
       "      <th>상세주소</th>\n",
       "      <th>전화번호</th>\n",
       "      <th>평일오픈시간</th>\n",
       "      <th>평일클로즈시간</th>\n",
       "      <th>생성일시</th>\n",
       "      <th>요금</th>\n",
       "    </tr>\n",
       "  </thead>\n",
       "  <tbody>\n",
       "    <tr>\n",
       "      <th>10414</th>\n",
       "      <td>전동드릴</td>\n",
       "      <td>1일</td>\n",
       "      <td>3</td>\n",
       "      <td>서초1동반딧불센터</td>\n",
       "      <td>서울특별시 서초구 남부순환로339길 47-1 2층</td>\n",
       "      <td>02-521-0364</td>\n",
       "      <td>10:00</td>\n",
       "      <td>18:00</td>\n",
       "      <td>2018-01-23 17:33:00</td>\n",
       "      <td>10000원</td>\n",
       "    </tr>\n",
       "    <tr>\n",
       "      <th>10423</th>\n",
       "      <td>전동드릴</td>\n",
       "      <td>1일</td>\n",
       "      <td>1</td>\n",
       "      <td>반포반딧불센터</td>\n",
       "      <td>서울특별시 서초구 신반포로42길 12 1층</td>\n",
       "      <td>02-516-7887</td>\n",
       "      <td>10:00</td>\n",
       "      <td>18:00</td>\n",
       "      <td>2018-01-23 17:33:00</td>\n",
       "      <td>10000원</td>\n",
       "    </tr>\n",
       "    <tr>\n",
       "      <th>10306</th>\n",
       "      <td>전동드릴</td>\n",
       "      <td>없음</td>\n",
       "      <td>1</td>\n",
       "      <td>잠원동주민센터</td>\n",
       "      <td>나루터로 38</td>\n",
       "      <td>02-2155-7543</td>\n",
       "      <td>09:00</td>\n",
       "      <td>18:00</td>\n",
       "      <td>2023-08-02 07:49:01</td>\n",
       "      <td>무료</td>\n",
       "    </tr>\n",
       "  </tbody>\n",
       "</table>\n",
       "</div>"
      ],
      "text/plain": [
       "      공구 이름 과금기준  수량      대여장소명                         상세주소          전화번호  \\\n",
       "10414  전동드릴   1일   3  서초1동반딧불센터  서울특별시 서초구 남부순환로339길 47-1 2층   02-521-0364   \n",
       "10423  전동드릴   1일   1    반포반딧불센터      서울특별시 서초구 신반포로42길 12 1층   02-516-7887   \n",
       "10306  전동드릴   없음   1    잠원동주민센터                      나루터로 38  02-2155-7543   \n",
       "\n",
       "      평일오픈시간 평일클로즈시간                 생성일시      요금  \n",
       "10414  10:00   18:00  2018-01-23 17:33:00  10000원  \n",
       "10423  10:00   18:00  2018-01-23 17:33:00  10000원  \n",
       "10306  09:00   18:00  2023-08-02 07:49:01      무료  "
      ]
     },
     "execution_count": 51,
     "metadata": {},
     "output_type": "execute_result"
    }
   ],
   "source": [
    "df_filter"
   ]
  },
  {
   "cell_type": "markdown",
   "id": "dbc444ed",
   "metadata": {},
   "source": [
    "# Question"
   ]
  },
  {
   "cell_type": "code",
   "execution_count": null,
   "id": "5f4eb8a3",
   "metadata": {},
   "outputs": [],
   "source": [
    "question = f\"\"\"나는 {input_content['tool_name']}을(를) 빌리고 싶어. \n",
    "그리고 이 도구를 이용해서 하려는 작업은 '{input_content['job_content']}' 이야. \n",
    "해당 작업을 하면서 같이 빌리면 좋은 공구도 함께 알려줘\"\"\""
   ]
  },
  {
   "cell_type": "markdown",
   "id": "f01558e7",
   "metadata": {},
   "source": [
    "# Ver.ChatGPT"
   ]
  },
  {
   "cell_type": "code",
   "execution_count": 44,
   "id": "506a7bcf",
   "metadata": {},
   "outputs": [],
   "source": [
    "def invoke(question, info = None, api_key=api_key, model=\"gpt-4o\", temperature=0.7):\n",
    "    client = OpenAI(api_key=api_key)\n",
    "    if info is not None:\n",
    "        system_content = (\n",
    "            f\"\"\"너는 사람들의 질문에 친절히 답해주는 도우미야.\n",
    "                서울시에서 운영하는 대여 공구 찾기 정보 시스템이야.\n",
    "                관련 정보는 다음과 같아: {info}\n",
    "                이 정보를 참고해서 사용자의 질문에 친절히 답해줘.\"\"\"\n",
    "        )\n",
    "    else:\n",
    "        system_content = (\n",
    "            \"\"\"너는 사람들의 질문에 친절히 답해주는 도우미야.\n",
    "                서울시에서 운영하는 대여 공구 찾기 정보 시스템이야.\n",
    "                사용자의 질문에 친절히 답해줘.\"\"\"\n",
    "        )\n",
    "\n",
    "    # 메시지 구성\n",
    "    messages = [\n",
    "        {\"role\": \"system\", \"content\": system_content},\n",
    "        {\"role\": \"user\", \"content\": question}\n",
    "    ]\n",
    "    # 스트리밍 요청\n",
    "    stream = client.chat.completions.create(\n",
    "        model=model,\n",
    "        messages=messages,\n",
    "        temperature=temperature,\n",
    "        stream=True  # ⭐ 핵심 옵션!\n",
    "    )\n",
    "\n",
    "    # generator 반환 (chunk 단위 텍스트 출력)\n",
    "    return stream\n",
    "    "
   ]
  },
  {
   "cell_type": "code",
   "execution_count": null,
   "id": "6d09f0fe",
   "metadata": {},
   "outputs": [
    {
     "data": {
      "text/plain": [
       "'가까운 대여소 : '"
      ]
     },
     "metadata": {},
     "output_type": "display_data"
    },
    {
     "data": {
      "text/html": [
       "<div>\n",
       "<style scoped>\n",
       "    .dataframe tbody tr th:only-of-type {\n",
       "        vertical-align: middle;\n",
       "    }\n",
       "\n",
       "    .dataframe tbody tr th {\n",
       "        vertical-align: top;\n",
       "    }\n",
       "\n",
       "    .dataframe thead th {\n",
       "        text-align: right;\n",
       "    }\n",
       "</style>\n",
       "<table border=\"1\" class=\"dataframe\">\n",
       "  <thead>\n",
       "    <tr style=\"text-align: right;\">\n",
       "      <th></th>\n",
       "      <th>공구 이름</th>\n",
       "      <th>과금기준</th>\n",
       "      <th>수량</th>\n",
       "      <th>대여장소명</th>\n",
       "      <th>상세주소</th>\n",
       "      <th>전화번호</th>\n",
       "      <th>평일오픈시간</th>\n",
       "      <th>평일클로즈시간</th>\n",
       "      <th>생성일시</th>\n",
       "      <th>요금</th>\n",
       "    </tr>\n",
       "  </thead>\n",
       "  <tbody>\n",
       "    <tr>\n",
       "      <th>10414</th>\n",
       "      <td>전동드릴</td>\n",
       "      <td>1일</td>\n",
       "      <td>3</td>\n",
       "      <td>서초1동반딧불센터</td>\n",
       "      <td>서울특별시 서초구 남부순환로339길 47-1 2층</td>\n",
       "      <td>02-521-0364</td>\n",
       "      <td>10:00</td>\n",
       "      <td>18:00</td>\n",
       "      <td>2018-01-23 17:33:00</td>\n",
       "      <td>10000원</td>\n",
       "    </tr>\n",
       "    <tr>\n",
       "      <th>10423</th>\n",
       "      <td>전동드릴</td>\n",
       "      <td>1일</td>\n",
       "      <td>1</td>\n",
       "      <td>반포반딧불센터</td>\n",
       "      <td>서울특별시 서초구 신반포로42길 12 1층</td>\n",
       "      <td>02-516-7887</td>\n",
       "      <td>10:00</td>\n",
       "      <td>18:00</td>\n",
       "      <td>2018-01-23 17:33:00</td>\n",
       "      <td>10000원</td>\n",
       "    </tr>\n",
       "    <tr>\n",
       "      <th>10306</th>\n",
       "      <td>전동드릴</td>\n",
       "      <td>없음</td>\n",
       "      <td>1</td>\n",
       "      <td>잠원동주민센터</td>\n",
       "      <td>나루터로 38</td>\n",
       "      <td>02-2155-7543</td>\n",
       "      <td>09:00</td>\n",
       "      <td>18:00</td>\n",
       "      <td>2023-08-02 07:49:01</td>\n",
       "      <td>무료</td>\n",
       "    </tr>\n",
       "  </tbody>\n",
       "</table>\n",
       "</div>"
      ],
      "text/plain": [
       "      공구 이름 과금기준  수량      대여장소명                         상세주소          전화번호  \\\n",
       "10414  전동드릴   1일   3  서초1동반딧불센터  서울특별시 서초구 남부순환로339길 47-1 2층   02-521-0364   \n",
       "10423  전동드릴   1일   1    반포반딧불센터      서울특별시 서초구 신반포로42길 12 1층   02-516-7887   \n",
       "10306  전동드릴   없음   1    잠원동주민센터                      나루터로 38  02-2155-7543   \n",
       "\n",
       "      평일오픈시간 평일클로즈시간                 생성일시      요금  \n",
       "10414  10:00   18:00  2018-01-23 17:33:00  10000원  \n",
       "10423  10:00   18:00  2018-01-23 17:33:00  10000원  \n",
       "10306  09:00   18:00  2023-08-02 07:49:01      무료  "
      ]
     },
     "metadata": {},
     "output_type": "display_data"
    },
    {
     "name": "stdout",
     "output_type": "stream",
     "text": [
      "전동드릴을 사용해서 나무를 고정하려면, 다음과 같은 공구를 함께 대여하는 게 좋습니다:\n",
      "\n",
      "1. **드릴 비트 세트**: 나무에 구멍을 뚫기 위한 다양한 크기의 드릴 비트가 필요합니다.\n",
      "2. **스크루**: 나무를 고정하기 위한 적절한 크기와 길이의 스크루가 필요합니다.\n",
      "3. **스크루드라이버**: 드릴로 스크루를 박기 어려운 작은 공간에서는 스크루드라이버가 유용할 수 있습니다.\n",
      "4. **클램프**: 작업 중 나무를 고정시켜 안정성을 높여줄 수 있는 클램프가 있으면 좋습니다.\n",
      "5. **수평기**: 나무를 수평으로 고정하기 위해 수평기를 사용하면 작업의 정확성을 높일 수 있습니다.\n",
      "6. **줄자**: 정확한 측정을 위해 필수적입니다.\n",
      "7. **연필 및 표시 도구**: 정확한 위치를 표시하는 데 필요합니다.\n",
      "\n",
      "서울시에서는 주민들이 다양한 공구를 대여할 수 있는 공구 대여소를 운영하고 있습니다. 가까운 주민센터에 문의하시거나 서울시 공구 대여소 웹사이트를 통해 대여 가능 여부와 절차를 확인해보세요. 안전하게 작업하시길 바랍니다!"
     ]
    }
   ],
   "source": [
    "display(\"가까운 대여소 : \", df_filter)\n",
    "for chunk in invoke(question):\n",
    "    if chunk.choices[0].delta.content:\n",
    "        print(chunk.choices[0].delta.content, end='', flush=True)"
   ]
  },
  {
   "cell_type": "markdown",
   "id": "66e3d556",
   "metadata": {},
   "source": [
    "# Ver. Gemma3:12b"
   ]
  },
  {
   "cell_type": "code",
   "execution_count": 35,
   "id": "67642fb3",
   "metadata": {},
   "outputs": [],
   "source": [
    "from langchain_ollama.chat_models import ChatOllama\n",
    "\n",
    "def invoke(question, info = None, model=\"gemma3:12b\", temperature=0.7):\n",
    "    chat = ChatOllama(model=model,\n",
    "                      base_url=base_url,\n",
    "                      temperature=temperature,)\n",
    "    # 시스템 메시지 조건 처리\n",
    "    if info is not None:\n",
    "        system_content = (\n",
    "            f\"\"\"너는 사람들의 질문에 친절히 답해주는 도우미야.\n",
    "서울시에서 운영하는 대여 공구 찾기 정보 시스템이야.\n",
    "관련 정보는 다음과 같아: {info}\n",
    "이 정보를 참고해서 사용자의 질문에 친절히 답해줘.\"\"\"\n",
    "        )\n",
    "    else:\n",
    "        system_content = (\n",
    "            \"\"\"너는 사람들의 질문에 친절히 답해주는 도우미야.\n",
    "서울시에서 운영하는 대여 공구 찾기 정보 시스템이야.\n",
    "사용자의 질문에 친절히 답해줘.\"\"\"\n",
    "        )\n",
    "\n",
    "    # 메시지 구성\n",
    "    messages = [\n",
    "        {\"role\": \"system\", \"content\": system_content},\n",
    "        {\"role\": \"user\", \"content\": question}\n",
    "    ]\n",
    "\n",
    "    # invoke로 전체 응답 받기\n",
    "    # response = chat.invoke(messages).content\n",
    "    response = chat.stream(messages)\n",
    "\n",
    "    # 응답 내용 반환\n",
    "    return response\n"
   ]
  },
  {
   "cell_type": "code",
   "execution_count": null,
   "id": "845cd5ff",
   "metadata": {},
   "outputs": [
    {
     "data": {
      "text/plain": [
       "'가까운 대여소 : '"
      ]
     },
     "metadata": {},
     "output_type": "display_data"
    },
    {
     "data": {
      "text/html": [
       "<div>\n",
       "<style scoped>\n",
       "    .dataframe tbody tr th:only-of-type {\n",
       "        vertical-align: middle;\n",
       "    }\n",
       "\n",
       "    .dataframe tbody tr th {\n",
       "        vertical-align: top;\n",
       "    }\n",
       "\n",
       "    .dataframe thead th {\n",
       "        text-align: right;\n",
       "    }\n",
       "</style>\n",
       "<table border=\"1\" class=\"dataframe\">\n",
       "  <thead>\n",
       "    <tr style=\"text-align: right;\">\n",
       "      <th></th>\n",
       "      <th>공구 이름</th>\n",
       "      <th>과금기준</th>\n",
       "      <th>수량</th>\n",
       "      <th>대여장소명</th>\n",
       "      <th>상세주소</th>\n",
       "      <th>전화번호</th>\n",
       "      <th>평일오픈시간</th>\n",
       "      <th>평일클로즈시간</th>\n",
       "      <th>생성일시</th>\n",
       "      <th>요금</th>\n",
       "    </tr>\n",
       "  </thead>\n",
       "  <tbody>\n",
       "    <tr>\n",
       "      <th>10414</th>\n",
       "      <td>전동드릴</td>\n",
       "      <td>1일</td>\n",
       "      <td>3</td>\n",
       "      <td>서초1동반딧불센터</td>\n",
       "      <td>서울특별시 서초구 남부순환로339길 47-1 2층</td>\n",
       "      <td>02-521-0364</td>\n",
       "      <td>10:00</td>\n",
       "      <td>18:00</td>\n",
       "      <td>2018-01-23 17:33:00</td>\n",
       "      <td>10000원</td>\n",
       "    </tr>\n",
       "    <tr>\n",
       "      <th>10423</th>\n",
       "      <td>전동드릴</td>\n",
       "      <td>1일</td>\n",
       "      <td>1</td>\n",
       "      <td>반포반딧불센터</td>\n",
       "      <td>서울특별시 서초구 신반포로42길 12 1층</td>\n",
       "      <td>02-516-7887</td>\n",
       "      <td>10:00</td>\n",
       "      <td>18:00</td>\n",
       "      <td>2018-01-23 17:33:00</td>\n",
       "      <td>10000원</td>\n",
       "    </tr>\n",
       "    <tr>\n",
       "      <th>10306</th>\n",
       "      <td>전동드릴</td>\n",
       "      <td>없음</td>\n",
       "      <td>1</td>\n",
       "      <td>잠원동주민센터</td>\n",
       "      <td>나루터로 38</td>\n",
       "      <td>02-2155-7543</td>\n",
       "      <td>09:00</td>\n",
       "      <td>18:00</td>\n",
       "      <td>2023-08-02 07:49:01</td>\n",
       "      <td>무료</td>\n",
       "    </tr>\n",
       "  </tbody>\n",
       "</table>\n",
       "</div>"
      ],
      "text/plain": [
       "      공구 이름 과금기준  수량      대여장소명                         상세주소          전화번호  \\\n",
       "10414  전동드릴   1일   3  서초1동반딧불센터  서울특별시 서초구 남부순환로339길 47-1 2층   02-521-0364   \n",
       "10423  전동드릴   1일   1    반포반딧불센터      서울특별시 서초구 신반포로42길 12 1층   02-516-7887   \n",
       "10306  전동드릴   없음   1    잠원동주민센터                      나루터로 38  02-2155-7543   \n",
       "\n",
       "      평일오픈시간 평일클로즈시간                 생성일시      요금  \n",
       "10414  10:00   18:00  2018-01-23 17:33:00  10000원  \n",
       "10423  10:00   18:00  2018-01-23 17:33:00  10000원  \n",
       "10306  09:00   18:00  2023-08-02 07:49:01      무료  "
      ]
     },
     "metadata": {},
     "output_type": "display_data"
    },
    {
     "name": "stdout",
     "output_type": "stream",
     "text": [
      "안녕하세요! 전동드릴을 찾으시는군요. 나무 고정 작업에 필요한 전동드릴과 함께 사용하면 좋은 공구 정보까지 자세히 안내해 드릴게요.\n",
      "\n",
      "**1. 전동드릴 대여 가능 위치**\n",
      "\n",
      "서울시에서 운영하는 공구 대여소는 다음과 같습니다.\n",
      "\n",
      "*   **서울시 공유소:** 서울시에서 직접 운영하는 공유소로, 다양한 공구를 대여할 수 있습니다.\n",
      "    *   위치: 서울시청 민원서고 (구청 민원서고에서도 이용 가능)\n",
      "    *   홈페이지: [https://공유소.seoul.go.kr/](https://공유소.seoul.go.kr/)\n",
      "*   **구 공유마을:** 각 구청에서 운영하는 공유마을에서도 전동드릴을 대여할 수 있습니다. 거주하시는 지역의 구 공유마을을 검색하여 확인해 보세요.\n",
      "    *   예시: 강남 공유마을, 서초 공유마을 등\n",
      "\n",
      "**2. 전동드릴과 함께 사용하면 좋은 공구**\n",
      "\n",
      "나무 고정 작업을 위해서는 다음과 같은 공구들이 함께 있으면 더욱 효율적입니다.\n",
      "\n",
      "*   **드라이버:** 전동드릴에 맞는 드라이버 비트를 사용하여 나사를 조일 때 사용합니다.\n",
      "*   **나사:** 나무를 고정할 때 필요한 나사를 준비해야 합니다. 작업하는 나무의 종류와 크기에 맞는 나사를 선택하세요.\n",
      "*   **줄자/자:** 나무를 정확하게 측정하고 자리를 잡을 때 필요합니다.\n",
      "*   **연필/마카:** 나무에 표시를 해두면 작업하기 편리합니다.\n",
      "*   **보안경:** 작업 중 파편이 튀는 것을 보호하기 위해 착용합니다.\n",
      "*   **장갑:** 손을 보호하고 그립감을 높여줍니다.\n",
      "\n",
      "**3. 대여 시 유의사항**\n",
      "\n",
      "*   **대여 가능 여부 확인:** 방문 전에 해당 공유소에 전화하거나 홈페이지에서 전동드릴의 대여 가능 여부를 확인하는 것이 좋습니다.\n",
      "*   **대여 조건 확인:** 대여 자격, 대여 기간, 사용 방법, 주의사항 등을 꼼꼼히 확인해야 합니다.\n",
      "*   **안전 교육 이수:** 일부 공유소에서는 전동드릴 사용 전 안전 교육을 이수해야 할 수도 있습니다.\n",
      "*   **사용 방법 숙지:** 전동드릴 사용 방법을 잘 모르는 경우, 공유소 직원에게 사용법을 문의하거나 관련 동영상을 참고하여 숙지해야 합니다.\n",
      "\n",
      "**4. 추가 정보**\n",
      "\n",
      "*   서울시 공유소 홈페이지에서 '전동드릴'을 검색하면 자세한 정보와 대여 규정을 확인할 수 있습니다.\n",
      "*   각 구 공유마을 홈페이지에서도 전동드릴 대여 정보를 확인할 수 있습니다.\n",
      "\n",
      "궁금한 점이 있다면 언제든지 다시 질문해주세요. 안전하고 즐거운 작업 되시길 바랍니다!"
     ]
    }
   ],
   "source": [
    "display(\"가까운 대여소 : \", df_filter)\n",
    "for chunk in invoke(question):\n",
    "    print(chunk.content, end='', flush=True)"
   ]
  },
  {
   "cell_type": "code",
   "execution_count": null,
   "id": "52d1c8e0",
   "metadata": {},
   "outputs": [],
   "source": []
  },
  {
   "cell_type": "code",
   "execution_count": null,
   "id": "859f54df",
   "metadata": {},
   "outputs": [],
   "source": []
  },
  {
   "cell_type": "code",
   "execution_count": null,
   "id": "d2fec0c0",
   "metadata": {},
   "outputs": [],
   "source": []
  },
  {
   "cell_type": "code",
   "execution_count": null,
   "id": "0a703b89",
   "metadata": {},
   "outputs": [],
   "source": []
  },
  {
   "cell_type": "code",
   "execution_count": null,
   "id": "ff6c5e4d",
   "metadata": {},
   "outputs": [],
   "source": []
  },
  {
   "cell_type": "code",
   "execution_count": null,
   "id": "675b505a",
   "metadata": {},
   "outputs": [],
   "source": []
  },
  {
   "cell_type": "code",
   "execution_count": null,
   "id": "114fabd7",
   "metadata": {},
   "outputs": [],
   "source": []
  },
  {
   "cell_type": "code",
   "execution_count": null,
   "id": "79d082ff",
   "metadata": {},
   "outputs": [],
   "source": []
  },
  {
   "cell_type": "code",
   "execution_count": null,
   "id": "baf1b48d",
   "metadata": {},
   "outputs": [],
   "source": []
  },
  {
   "cell_type": "code",
   "execution_count": null,
   "id": "921fb652",
   "metadata": {},
   "outputs": [],
   "source": []
  },
  {
   "cell_type": "code",
   "execution_count": null,
   "id": "03b5d1a4",
   "metadata": {},
   "outputs": [],
   "source": []
  },
  {
   "cell_type": "code",
   "execution_count": null,
   "id": "f3208ba7",
   "metadata": {},
   "outputs": [],
   "source": []
  },
  {
   "cell_type": "code",
   "execution_count": null,
   "id": "e3394c74",
   "metadata": {},
   "outputs": [],
   "source": []
  }
 ],
 "metadata": {
  "kernelspec": {
   "display_name": "pl_llm",
   "language": "python",
   "name": "python3"
  },
  "language_info": {
   "codemirror_mode": {
    "name": "ipython",
    "version": 3
   },
   "file_extension": ".py",
   "mimetype": "text/x-python",
   "name": "python",
   "nbconvert_exporter": "python",
   "pygments_lexer": "ipython3",
   "version": "3.12.0"
  }
 },
 "nbformat": 4,
 "nbformat_minor": 5
}
