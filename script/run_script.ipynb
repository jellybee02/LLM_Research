{
 "cells": [
  {
   "cell_type": "markdown",
   "id": "b24ad5b3",
   "metadata": {},
   "source": [
    "# Pckage List"
   ]
  },
  {
   "cell_type": "code",
   "execution_count": 5,
   "id": "4f5da466",
   "metadata": {},
   "outputs": [],
   "source": [
    "import numpy as np, pandas as pd, warnings, os, openai, json\n",
    "from tqdm.auto import tqdm\n",
    "from openai import OpenAI\n",
    "warnings.filterwarnings('ignore')\n",
    "import requests\n"
   ]
  },
  {
   "cell_type": "markdown",
   "id": "c8e74ff5",
   "metadata": {},
   "source": [
    "# Data Load"
   ]
  },
  {
   "cell_type": "code",
   "execution_count": 2,
   "id": "dd1c19a5",
   "metadata": {},
   "outputs": [],
   "source": [
    "df = pd.read_csv(\"../data/prep1.csv\", encoding='cp949')"
   ]
  },
  {
   "cell_type": "markdown",
   "id": "948bf96e",
   "metadata": {},
   "source": [
    "# Function"
   ]
  },
  {
   "cell_type": "markdown",
   "id": "e5a6db69",
   "metadata": {},
   "source": [
    "## 위치 관련 정보 제공"
   ]
  },
  {
   "cell_type": "code",
   "execution_count": 6,
   "id": "d290fa2b",
   "metadata": {},
   "outputs": [
    {
     "name": "stdout",
     "output_type": "stream",
     "text": [
      "진천군 위도/경도: (36.855461, 127.4353927)\n"
     ]
    }
   ],
   "source": [
    "def get_lat_lon(location_name):\n",
    "    url = 'https://nominatim.openstreetmap.org/search'\n",
    "    params = {\n",
    "        'q': location_name,\n",
    "        'format': 'json'\n",
    "    }\n",
    "    headers = {\n",
    "        'User-Agent': 'Mozilla/5.0 (compatible; ChatGPT-Example/1.0; +http://yourdomain.com)'\n",
    "    }\n",
    "\n",
    "    response = requests.get(url, params=params, headers=headers)\n",
    "\n",
    "    # 응답 확인\n",
    "    if response.status_code != 200:\n",
    "        print(f\"요청 실패: {response.status_code}\")\n",
    "        print(\"응답 내용:\", response.text)\n",
    "        return None\n",
    "\n",
    "    try:\n",
    "        data = response.json()\n",
    "        if data:\n",
    "            lat = data[0]['lat']\n",
    "            lon = data[0]['lon']\n",
    "            return float(lat), float(lon)\n",
    "        else:\n",
    "            print(\"위치 정보를 찾을 수 없습니다.\")\n",
    "            return None\n",
    "    except ValueError as e:\n",
    "        print(\"JSON 파싱 오류:\", e)\n",
    "        print(\"응답 내용:\", response.text)\n",
    "        return None\n",
    "\n",
    "# 테스트\n",
    "location = '진천군'\n",
    "result = get_lat_lon(location)\n",
    "print(f\"{location} 위도/경도: {result}\")\n"
   ]
  },
  {
   "cell_type": "markdown",
   "id": "a01f0f15",
   "metadata": {},
   "source": [
    "## API 키 설정"
   ]
  },
  {
   "cell_type": "code",
   "execution_count": 10,
   "id": "bb9ec44a",
   "metadata": {},
   "outputs": [
    {
     "ename": "FileNotFoundError",
     "evalue": "[Errno 2] No such file or directory: '../../../api_key.txt'",
     "output_type": "error",
     "traceback": [
      "\u001b[31m---------------------------------------------------------------------------\u001b[39m",
      "\u001b[31mFileNotFoundError\u001b[39m                         Traceback (most recent call last)",
      "\u001b[36mCell\u001b[39m\u001b[36m \u001b[39m\u001b[32mIn[10]\u001b[39m\u001b[32m, line 1\u001b[39m\n\u001b[32m----> \u001b[39m\u001b[32m1\u001b[39m key = \u001b[38;5;28;43mopen\u001b[39;49m\u001b[43m(\u001b[49m\u001b[33;43m'\u001b[39;49m\u001b[33;43m../../../api_key.txt\u001b[39;49m\u001b[33;43m'\u001b[39;49m\u001b[43m,\u001b[49m\u001b[33;43m'\u001b[39;49m\u001b[33;43mr\u001b[39;49m\u001b[33;43m'\u001b[39;49m\u001b[43m)\u001b[49m\n\u001b[32m      2\u001b[39m api_key = key.read()\n\u001b[32m      3\u001b[39m openai.api_key = api_key\n",
      "\u001b[36mFile \u001b[39m\u001b[32mc:\\Users\\82104\\miniconda3\\envs\\python311\\Lib\\site-packages\\IPython\\core\\interactiveshell.py:327\u001b[39m, in \u001b[36m_modified_open\u001b[39m\u001b[34m(file, *args, **kwargs)\u001b[39m\n\u001b[32m    320\u001b[39m \u001b[38;5;28;01mif\u001b[39;00m file \u001b[38;5;129;01min\u001b[39;00m {\u001b[32m0\u001b[39m, \u001b[32m1\u001b[39m, \u001b[32m2\u001b[39m}:\n\u001b[32m    321\u001b[39m     \u001b[38;5;28;01mraise\u001b[39;00m \u001b[38;5;167;01mValueError\u001b[39;00m(\n\u001b[32m    322\u001b[39m         \u001b[33mf\u001b[39m\u001b[33m\"\u001b[39m\u001b[33mIPython won\u001b[39m\u001b[33m'\u001b[39m\u001b[33mt let you open fd=\u001b[39m\u001b[38;5;132;01m{\u001b[39;00mfile\u001b[38;5;132;01m}\u001b[39;00m\u001b[33m by default \u001b[39m\u001b[33m\"\u001b[39m\n\u001b[32m    323\u001b[39m         \u001b[33m\"\u001b[39m\u001b[33mas it is likely to crash IPython. If you know what you are doing, \u001b[39m\u001b[33m\"\u001b[39m\n\u001b[32m    324\u001b[39m         \u001b[33m\"\u001b[39m\u001b[33myou can use builtins\u001b[39m\u001b[33m'\u001b[39m\u001b[33m open.\u001b[39m\u001b[33m\"\u001b[39m\n\u001b[32m    325\u001b[39m     )\n\u001b[32m--> \u001b[39m\u001b[32m327\u001b[39m \u001b[38;5;28;01mreturn\u001b[39;00m \u001b[43mio_open\u001b[49m\u001b[43m(\u001b[49m\u001b[43mfile\u001b[49m\u001b[43m,\u001b[49m\u001b[43m \u001b[49m\u001b[43m*\u001b[49m\u001b[43margs\u001b[49m\u001b[43m,\u001b[49m\u001b[43m \u001b[49m\u001b[43m*\u001b[49m\u001b[43m*\u001b[49m\u001b[43mkwargs\u001b[49m\u001b[43m)\u001b[49m\n",
      "\u001b[31mFileNotFoundError\u001b[39m: [Errno 2] No such file or directory: '../../../api_key.txt'"
     ]
    }
   ],
   "source": [
    "key = open('../../../api_key.txt','r')\n",
    "api_key = key.read()\n",
    "openai.api_key = api_key"
   ]
  },
  {
   "cell_type": "code",
   "execution_count": null,
   "id": "506a7bcf",
   "metadata": {},
   "outputs": [],
   "source": [
    "client = OpenAI(api_key=api_key)\n",
    "def invoke(question, info = user_info, model=\"gpt-4o\", temperature=0.7):\n",
    "    response = client.chat.completions.create(\n",
    "        model=model,\n",
    "        messages = [\n",
    "                    {\"role\": \"system\", \n",
    "                        \"content\": f\"\"\"너는 사람들의 질문에 친절히 답해주는 도우미야.\n",
    "                        너는 서울시에서 운영하는 대여 공구 찾기 정보 시스템이야. \n",
    "                        관련 정보는 {user_info}와 같아. \n",
    "                        이정보를 통해서 사용자의 답변에 친절해 답해줘.\n",
    "                        \"\"\"\n",
    "                        },\n",
    "                    {\"role\": \"user\", \n",
    "                    \"content\": question}\n",
    "                ],\n",
    "        temperature=temperature\n",
    "    )\n",
    "    return response.choices[0].message.content"
   ]
  },
  {
   "cell_type": "code",
   "execution_count": null,
   "id": "52d1c8e0",
   "metadata": {},
   "outputs": [],
   "source": [
    "question = f\"나는 고압세척기를 빌리고싶어. 내가 사는 곳은 황학동이야. 근처에 있는 대여 장소가 어디 있는지 알려줘\""
   ]
  },
  {
   "cell_type": "code",
   "execution_count": null,
   "id": "9bd12f4e",
   "metadata": {},
   "outputs": [],
   "source": [
    "answer = invoke(question)\n",
    "print(\"💬 GPT 응답:\", answer)"
   ]
  },
  {
   "cell_type": "code",
   "execution_count": null,
   "id": "69ccc641",
   "metadata": {},
   "outputs": [],
   "source": [
    "def invoke(question: str):\n",
    "    prompt = f\"\"\"\n",
    "    너는 도우미야 사용자의 물음에 친절히 답해줘야해.\n",
    "    \"\"\"\n",
    "    response = client.responses.create(\n",
    "        model='gpt-4.1',\n",
    "        messages=[\n",
    "                {\"role\": \"system\", \"content\": \"당신은 완벽한 도우미입니다.\"},\n",
    "                {\"role\": \"user\", \"content\": prompt}\n",
    "            ],\n",
    "        input = question\n",
    "        )\n",
    "    return response"
   ]
  },
  {
   "cell_type": "code",
   "execution_count": null,
   "id": "859f54df",
   "metadata": {},
   "outputs": [],
   "source": []
  },
  {
   "cell_type": "code",
   "execution_count": null,
   "id": "d2fec0c0",
   "metadata": {},
   "outputs": [],
   "source": []
  },
  {
   "cell_type": "code",
   "execution_count": null,
   "id": "0a703b89",
   "metadata": {},
   "outputs": [],
   "source": []
  },
  {
   "cell_type": "code",
   "execution_count": null,
   "id": "ff6c5e4d",
   "metadata": {},
   "outputs": [],
   "source": []
  },
  {
   "cell_type": "code",
   "execution_count": null,
   "id": "675b505a",
   "metadata": {},
   "outputs": [],
   "source": []
  },
  {
   "cell_type": "code",
   "execution_count": null,
   "id": "114fabd7",
   "metadata": {},
   "outputs": [],
   "source": []
  },
  {
   "cell_type": "code",
   "execution_count": null,
   "id": "79d082ff",
   "metadata": {},
   "outputs": [],
   "source": []
  },
  {
   "cell_type": "code",
   "execution_count": null,
   "id": "baf1b48d",
   "metadata": {},
   "outputs": [],
   "source": []
  },
  {
   "cell_type": "code",
   "execution_count": null,
   "id": "921fb652",
   "metadata": {},
   "outputs": [],
   "source": []
  },
  {
   "cell_type": "code",
   "execution_count": null,
   "id": "03b5d1a4",
   "metadata": {},
   "outputs": [],
   "source": []
  },
  {
   "cell_type": "code",
   "execution_count": null,
   "id": "f3208ba7",
   "metadata": {},
   "outputs": [],
   "source": []
  },
  {
   "cell_type": "code",
   "execution_count": null,
   "id": "e3394c74",
   "metadata": {},
   "outputs": [],
   "source": []
  }
 ],
 "metadata": {
  "kernelspec": {
   "display_name": "python311",
   "language": "python",
   "name": "python3"
  },
  "language_info": {
   "codemirror_mode": {
    "name": "ipython",
    "version": 3
   },
   "file_extension": ".py",
   "mimetype": "text/x-python",
   "name": "python",
   "nbconvert_exporter": "python",
   "pygments_lexer": "ipython3",
   "version": "3.11.13"
  }
 },
 "nbformat": 4,
 "nbformat_minor": 5
}
