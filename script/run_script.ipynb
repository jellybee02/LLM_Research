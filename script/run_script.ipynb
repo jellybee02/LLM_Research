{
 "cells": [
  {
   "cell_type": "markdown",
   "id": "b24ad5b3",
   "metadata": {},
   "source": [
    "# Pckage List"
   ]
  },
  {
   "cell_type": "code",
   "execution_count": 4,
   "id": "4f5da466",
   "metadata": {},
   "outputs": [],
   "source": [
    "import numpy as np, pandas as pd, warnings, os, openai, json\n",
    "from tqdm.auto import tqdm\n",
    "from openai import OpenAI\n",
    "warnings.filterwarnings('ignore')\n",
    "import requests\n",
    "from typing import List, Tuple, Union\n",
    "from langchain_ollama.embeddings import OllamaEmbeddings\n",
    "import pickle\n",
    "from sklearn.metrics.pairwise import cosine_similarity\n",
    "from haversine import haversine, Unit"
   ]
  },
  {
   "cell_type": "markdown",
   "id": "c8e74ff5",
   "metadata": {},
   "source": [
    "# Data Load"
   ]
  },
  {
   "cell_type": "code",
   "execution_count": 5,
   "id": "dd1c19a5",
   "metadata": {},
   "outputs": [],
   "source": [
    "df = pd.read_csv(\"../data/prep2.csv\", encoding='cp949')"
   ]
  },
  {
   "cell_type": "markdown",
   "id": "948bf96e",
   "metadata": {},
   "source": [
    "# Function"
   ]
  },
  {
   "cell_type": "code",
   "execution_count": 12,
   "id": "30b9be78",
   "metadata": {},
   "outputs": [],
   "source": [
    "class OllamaSentenceTransformer():\n",
    "    def __init__(\n",
    "            self,\n",
    "            *args,\n",
    "            **kargs,\n",
    "            ) -> None:\n",
    "                # self.base_url = kargs.get()\n",
    "                self.model = kargs.get(\"model\",\"bge-m3\")\n",
    "                self.embedding_model = OllamaEmbeddings(\n",
    "                            model = self.model,\n",
    "                            # base_url = self.base_rul,\n",
    "                        )\n",
    "                        \n",
    "    \n",
    "    def encode(\n",
    "            self,\n",
    "            documents:Union[str, List[str], np.ndarray],\n",
    "            *args,\n",
    "            **kargs,\n",
    "        )-> np.ndarray:\n",
    "        if isinstance(documents, str):\n",
    "            document_embeddings = self.embedding_model.embed_query(documents)\n",
    "            return np.array(document_embeddings)\n",
    "        \n",
    "        if isinstance(documents, np.ndarray):\n",
    "            documents = documents.tolist()\n",
    "        \n",
    "        document_embeddings = [self.embedding_model.embed_query(s) for s in documents]\n",
    "        return np.array(document_embeddings)\n",
    "        \n",
    "sentence_transformer = OllamaSentenceTransformer()"
   ]
  },
  {
   "cell_type": "markdown",
   "id": "e5a6db69",
   "metadata": {},
   "source": [
    "## 위치 관련 정보 제공"
   ]
  },
  {
   "cell_type": "code",
   "execution_count": 6,
   "id": "d290fa2b",
   "metadata": {},
   "outputs": [
    {
     "name": "stdout",
     "output_type": "stream",
     "text": [
      "진천군 위도/경도: (36.855461, 127.4353927)\n"
     ]
    }
   ],
   "source": [
    "def get_lat_lon(location_name):\n",
    "    url = 'https://nominatim.openstreetmap.org/search'\n",
    "    params = {\n",
    "        'q': location_name,\n",
    "        'format': 'json'\n",
    "    }\n",
    "    headers = {\n",
    "        'User-Agent': 'Mozilla/5.0 (compatible; ChatGPT-Example/1.0; +http://yourdomain.com)'\n",
    "    }\n",
    "\n",
    "    response = requests.get(url, params=params, headers=headers)\n",
    "\n",
    "    # 응답 확인\n",
    "    if response.status_code != 200:\n",
    "        print(f\"요청 실패: {response.status_code}\")\n",
    "        print(\"응답 내용:\", response.text)\n",
    "        return None\n",
    "\n",
    "    try:\n",
    "        data = response.json()\n",
    "        if data:\n",
    "            lat = data[0]['lat']\n",
    "            lon = data[0]['lon']\n",
    "            return float(lat), float(lon)\n",
    "        else:\n",
    "            print(\"위치 정보를 찾을 수 없습니다.\")\n",
    "            return None\n",
    "    except ValueError as e:\n",
    "        print(\"JSON 파싱 오류:\", e)\n",
    "        print(\"응답 내용:\", response.text)\n",
    "        return None\n",
    "\n",
    "# 테스트\n",
    "location = '진천군'\n",
    "result = get_lat_lon(location)\n",
    "print(f\"{location} 위도/경도: {result}\")\n"
   ]
  },
  {
   "cell_type": "markdown",
   "id": "a01f0f15",
   "metadata": {},
   "source": [
    "## API 키 설정"
   ]
  },
  {
   "cell_type": "code",
   "execution_count": 7,
   "id": "bb9ec44a",
   "metadata": {},
   "outputs": [],
   "source": [
    "key = open('../../../api_key.txt','r')\n",
    "api_key = key.read()\n",
    "openai.api_key = api_key"
   ]
  },
  {
   "cell_type": "markdown",
   "id": "63a9a845",
   "metadata": {},
   "source": [
    "# 전체 툴 인코딩 값"
   ]
  },
  {
   "cell_type": "code",
   "execution_count": 8,
   "id": "c067dc8c",
   "metadata": {},
   "outputs": [],
   "source": [
    "with open('../data/encoded_tool_name2.pkl', \"rb\") as f:\n",
    "    all_tool_encoded_array = pickle.load(f)"
   ]
  },
  {
   "cell_type": "markdown",
   "id": "cdc02ac7",
   "metadata": {},
   "source": [
    "# Input Content"
   ]
  },
  {
   "cell_type": "code",
   "execution_count": 28,
   "id": "a362b1c4",
   "metadata": {},
   "outputs": [],
   "source": [
    "input_content = {\n",
    "    'tool_name': '전동드릴',\n",
    "    'location': '강남역',\n",
    "    'job_content': '전동드릴을 사용해서 나무를 고정하고 싶어',    \n",
    "}"
   ]
  },
  {
   "cell_type": "code",
   "execution_count": 29,
   "id": "84df8505",
   "metadata": {},
   "outputs": [],
   "source": [
    "encoded_tool_name = sentence_transformer.encode(input_content['tool_name'])\n",
    "location_name = input_content['location']\n",
    "spot_location = get_lat_lon(location_name)\n",
    "\n"
   ]
  },
  {
   "cell_type": "code",
   "execution_count": 17,
   "id": "966c039d",
   "metadata": {},
   "outputs": [],
   "source": [
    "def compare_cosim(all_asset_encoded_val:np.array, asset_info:np.array) -> float:\n",
    "    \"\"\"\n",
    "    두 임베딩 벡터의 코사인 유사도를 계산합니다.\n",
    "    \n",
    "    Args:\n",
    "        all_asset_encoded_val (np.array): 첫 번째 임베딩 벡터\n",
    "        asset_info (np.array): 두 번째 임베딩 벡터\n",
    "    \n",
    "    Returns:\n",
    "        float: 코사인 유사도\n",
    "    \"\"\"\n",
    "    # return np.dot(all_asset_encoded_val, asset_info) / (np.linalg.norm(all_asset_encoded_val) * np.linalg.norm(asset_info))\n",
    "    \n",
    "    cos_sim = cosine_similarity(all_asset_encoded_val, [asset_info])\n",
    "    return cos_sim"
   ]
  },
  {
   "cell_type": "code",
   "execution_count": 21,
   "id": "acd47701",
   "metadata": {},
   "outputs": [],
   "source": [
    "df['tool_sim_result'] = compare_cosim(all_tool_encoded_array, encoded_tool_name)\n",
    "\n",
    "df_s = df[df['tool_sim_result']>0.9]\n",
    "df_s['Distance'] = df_s[[\"위도\",\"경도\"]].apply(lambda x : haversine((spot_location[0], spot_location[1]), (x['위도'], x['경도']), unit=Unit.KILOMETERS), axis=1)\n",
    "df_s.sort_values(by='Distance', ascending=True, inplace=True)"
   ]
  },
  {
   "cell_type": "code",
   "execution_count": 23,
   "id": "754610db",
   "metadata": {},
   "outputs": [
    {
     "data": {
      "text/html": [
       "<div>\n",
       "<style scoped>\n",
       "    .dataframe tbody tr th:only-of-type {\n",
       "        vertical-align: middle;\n",
       "    }\n",
       "\n",
       "    .dataframe tbody tr th {\n",
       "        vertical-align: top;\n",
       "    }\n",
       "\n",
       "    .dataframe thead th {\n",
       "        text-align: right;\n",
       "    }\n",
       "</style>\n",
       "<table border=\"1\" class=\"dataframe\">\n",
       "  <thead>\n",
       "    <tr style=\"text-align: right;\">\n",
       "      <th></th>\n",
       "      <th>구분자(PK)</th>\n",
       "      <th>공구 대분류 코드</th>\n",
       "      <th>공구 대분류</th>\n",
       "      <th>공구 중분류 코드</th>\n",
       "      <th>공구 중분류</th>\n",
       "      <th>공구 이름</th>\n",
       "      <th>과금기준</th>\n",
       "      <th>수량</th>\n",
       "      <th>장소 PK</th>\n",
       "      <th>대여장소명</th>\n",
       "      <th>...</th>\n",
       "      <th>경도</th>\n",
       "      <th>전화번호</th>\n",
       "      <th>평일오픈시간</th>\n",
       "      <th>평일클로즈시간</th>\n",
       "      <th>생성일시</th>\n",
       "      <th>요금</th>\n",
       "      <th>cluster</th>\n",
       "      <th>공구 중분류 new</th>\n",
       "      <th>tool_sim_result</th>\n",
       "      <th>Distance</th>\n",
       "    </tr>\n",
       "  </thead>\n",
       "  <tbody>\n",
       "    <tr>\n",
       "      <th>10414</th>\n",
       "      <td>6861</td>\n",
       "      <td>2</td>\n",
       "      <td>전동공구</td>\n",
       "      <td>21</td>\n",
       "      <td>전동드릴</td>\n",
       "      <td>전동드릴</td>\n",
       "      <td>1일</td>\n",
       "      <td>3</td>\n",
       "      <td>243</td>\n",
       "      <td>서초1동반딧불센터</td>\n",
       "      <td>...</td>\n",
       "      <td>127.021720</td>\n",
       "      <td>02-521-0364</td>\n",
       "      <td>1000.0</td>\n",
       "      <td>1800.0</td>\n",
       "      <td>2018-01-23 17:33:00</td>\n",
       "      <td>10000원</td>\n",
       "      <td>354</td>\n",
       "      <td>전동드릴</td>\n",
       "      <td>1.0</td>\n",
       "      <td>1.255399</td>\n",
       "    </tr>\n",
       "    <tr>\n",
       "      <th>10423</th>\n",
       "      <td>6818</td>\n",
       "      <td>2</td>\n",
       "      <td>전동공구</td>\n",
       "      <td>21</td>\n",
       "      <td>전동드릴</td>\n",
       "      <td>전동드릴</td>\n",
       "      <td>1일</td>\n",
       "      <td>1</td>\n",
       "      <td>238</td>\n",
       "      <td>반포반딧불센터</td>\n",
       "      <td>...</td>\n",
       "      <td>127.018460</td>\n",
       "      <td>02-516-7887</td>\n",
       "      <td>1000.0</td>\n",
       "      <td>1800.0</td>\n",
       "      <td>2018-01-23 17:33:00</td>\n",
       "      <td>10000원</td>\n",
       "      <td>354</td>\n",
       "      <td>전동드릴</td>\n",
       "      <td>1.0</td>\n",
       "      <td>1.985759</td>\n",
       "    </tr>\n",
       "    <tr>\n",
       "      <th>10306</th>\n",
       "      <td>15925</td>\n",
       "      <td>2</td>\n",
       "      <td>전동공구</td>\n",
       "      <td>21</td>\n",
       "      <td>전동드릴</td>\n",
       "      <td>전동드릴</td>\n",
       "      <td>없음</td>\n",
       "      <td>1</td>\n",
       "      <td>13360</td>\n",
       "      <td>잠원동주민센터</td>\n",
       "      <td>...</td>\n",
       "      <td>127.014077</td>\n",
       "      <td>02-2155-7543</td>\n",
       "      <td>900.0</td>\n",
       "      <td>1800.0</td>\n",
       "      <td>2023-08-02 07:49:01</td>\n",
       "      <td>무료</td>\n",
       "      <td>354</td>\n",
       "      <td>전동드릴</td>\n",
       "      <td>1.0</td>\n",
       "      <td>2.681247</td>\n",
       "    </tr>\n",
       "  </tbody>\n",
       "</table>\n",
       "<p>3 rows × 22 columns</p>\n",
       "</div>"
      ],
      "text/plain": [
       "       구분자(PK)  공구 대분류 코드 공구 대분류  공구 중분류 코드 공구 중분류 공구 이름 과금기준  수량  장소 PK  \\\n",
       "10414     6861          2   전동공구         21   전동드릴  전동드릴   1일   3    243   \n",
       "10423     6818          2   전동공구         21   전동드릴  전동드릴   1일   1    238   \n",
       "10306    15925          2   전동공구         21   전동드릴  전동드릴   없음   1  13360   \n",
       "\n",
       "           대여장소명  ...          경도          전화번호  평일오픈시간 평일클로즈시간  \\\n",
       "10414  서초1동반딧불센터  ...  127.021720   02-521-0364  1000.0  1800.0   \n",
       "10423    반포반딧불센터  ...  127.018460   02-516-7887  1000.0  1800.0   \n",
       "10306    잠원동주민센터  ...  127.014077  02-2155-7543   900.0  1800.0   \n",
       "\n",
       "                      생성일시      요금 cluster 공구 중분류 new  tool_sim_result  \\\n",
       "10414  2018-01-23 17:33:00  10000원     354       전동드릴              1.0   \n",
       "10423  2018-01-23 17:33:00  10000원     354       전동드릴              1.0   \n",
       "10306  2023-08-02 07:49:01      무료     354       전동드릴              1.0   \n",
       "\n",
       "       Distance  \n",
       "10414  1.255399  \n",
       "10423  1.985759  \n",
       "10306  2.681247  \n",
       "\n",
       "[3 rows x 22 columns]"
      ]
     },
     "execution_count": 23,
     "metadata": {},
     "output_type": "execute_result"
    }
   ],
   "source": [
    "df_s.head(3)"
   ]
  },
  {
   "cell_type": "code",
   "execution_count": null,
   "id": "f94caa08",
   "metadata": {},
   "outputs": [],
   "source": []
  },
  {
   "cell_type": "code",
   "execution_count": null,
   "id": "ed19c1a1",
   "metadata": {},
   "outputs": [],
   "source": []
  },
  {
   "cell_type": "code",
   "execution_count": null,
   "id": "5f4eb8a3",
   "metadata": {},
   "outputs": [],
   "source": []
  },
  {
   "cell_type": "code",
   "execution_count": 25,
   "id": "506a7bcf",
   "metadata": {},
   "outputs": [],
   "source": [
    "client = OpenAI(api_key=api_key)\n",
    "def invoke(question, info = None, model=\"gpt-4o\", temperature=0.7):\n",
    "    response = client.chat.completions.create(\n",
    "        model=model,\n",
    "        messages = [\n",
    "                    {\"role\": \"system\", \n",
    "                        \"content\": \n",
    "                            \n",
    "                        \n",
    "                            f\"\"\"너는 사람들의 질문에 친절히 답해주는 도우미야.\n",
    "                        너는 서울시에서 운영하는 대여 공구 찾기 정보 시스템이야. \n",
    "                        관련 정보는 {info}와 같아. \n",
    "                        이정보를 통해서 사용자의 답변에 친절해 답해줘.\n",
    "                        \"\"\" if info != None else\n",
    "                            f\"\"\"너는 사람들의 질문에 친절히 답해주는 도우미야.\n",
    "                        너는 서울시에서 운영하는 대여 공구 찾기 정보 시스템이야. \n",
    "                        사용자의 답변에 친절해 답해줘.\n",
    "                        \"\"\"\n",
    "                        },\n",
    "                    {\"role\": \"user\", \n",
    "                    \"content\": question}\n",
    "                ],\n",
    "        temperature=temperature\n",
    "    )\n",
    "    return response.choices[0].message.content"
   ]
  },
  {
   "cell_type": "code",
   "execution_count": 30,
   "id": "3a42dff2",
   "metadata": {},
   "outputs": [
    {
     "ename": "NameError",
     "evalue": "name 'tool_name' is not defined",
     "output_type": "error",
     "traceback": [
      "\u001b[31m---------------------------------------------------------------------------\u001b[39m",
      "\u001b[31mNameError\u001b[39m                                 Traceback (most recent call last)",
      "\u001b[36mCell\u001b[39m\u001b[36m \u001b[39m\u001b[32mIn[30]\u001b[39m\u001b[32m, line 1\u001b[39m\n\u001b[32m----> \u001b[39m\u001b[32m1\u001b[39m input_content[\u001b[43mtool_name\u001b[49m]\n",
      "\u001b[31mNameError\u001b[39m: name 'tool_name' is not defined"
     ]
    }
   ],
   "source": [
    "input_content[tool_name]"
   ]
  },
  {
   "cell_type": "code",
   "execution_count": 31,
   "id": "52d1c8e0",
   "metadata": {},
   "outputs": [],
   "source": [
    "question = f\"나는 {input_content['tool_name']}을(를) 빌리고 싶어. 그리고 이 도구를 이용해서 하려는 작업은 '{input_content['job_content']}' 이야. 해당 작업을 하면서 같이 빌리면 좋은 공구도 함께 알려줘\""
   ]
  },
  {
   "cell_type": "code",
   "execution_count": null,
   "id": "4f32fb3b",
   "metadata": {},
   "outputs": [],
   "source": []
  },
  {
   "cell_type": "code",
   "execution_count": null,
   "id": "5c4cb53d",
   "metadata": {},
   "outputs": [],
   "source": [
    "import pickle\n",
    "with open('../data/encoded_tool_name2.pkl', 'wb') as f:\n",
    "    pickle.dump(embeddings, f)"
   ]
  },
  {
   "cell_type": "code",
   "execution_count": 32,
   "id": "9bd12f4e",
   "metadata": {},
   "outputs": [
    {
     "name": "stdout",
     "output_type": "stream",
     "text": [
      "💬 GPT 응답: 전동드릴을 사용해서 나무를 고정하려는 작업을 계획하고 계시군요! 전동드릴은 매우 유용한 도구로, 나무를 고정하는 데 적합한 선택입니다. 이 작업을 하면서 함께 빌리면 좋은 공구는 다음과 같습니다:\n",
      "\n",
      "1. **드릴 비트 세트**: 나무 작업에 맞는 다양한 크기의 드릴 비트가 포함된 세트가 필요할 수 있습니다. 이는 나사 구멍을 뚫거나 나사못을 고정할 때 유용합니다.\n",
      "\n",
      "2. **나사못 세트**: 나무를 고정할 때 적합한 크기와 길이의 나사못이 필요합니다. 다양한 사이즈의 나사못이 포함된 세트를 준비하면 좋습니다.\n",
      "\n",
      "3. **클램프**: 나무를 고정하는 동안 안정적으로 잡아줄 클램프가 있으면 작업이 훨씬 수월합니다. 특히, 두 개 이상의 나무를 함께 고정할 때 유용합니다.\n",
      "\n",
      "4. **각도자**: 나무를 일정한 각도로 고정하거나 자를 때 각도자는 정확한 작업을 도와줍니다.\n",
      "\n",
      "5. **수평계**: 나무가 수평으로 고정되었는지 확인하는 데 사용됩니다.\n",
      "\n",
      "6. **작업용 장갑**: 손을 보호하고 작업의 안전성을 높이는 데 도움이 됩니다.\n",
      "\n",
      "서울시에서 운영하는 공구 대여 서비스를 통해 필요한 공구를 대여할 수 있습니다. 대여 가능 여부와 위치를 확인하시기 위해 가까운 주민센터나 구청에 문의하시거나, 서울시 공구 대여 서비스 웹사이트를 방문해 보세요. 즐거운 작업 되시길 바랍니다!\n"
     ]
    }
   ],
   "source": [
    "answer = invoke(question)\n",
    "print(\"💬 GPT 응답:\", answer)"
   ]
  },
  {
   "cell_type": "code",
   "execution_count": null,
   "id": "69ccc641",
   "metadata": {},
   "outputs": [],
   "source": [
    "def invoke(question: str):\n",
    "    prompt = f\"\"\"\n",
    "    너는 도우미야 사용자의 물음에 친절히 답해줘야해.\n",
    "    \"\"\"\n",
    "    response = client.responses.create(\n",
    "        model='gpt-4.1',\n",
    "        messages=[\n",
    "                {\"role\": \"system\", \"content\": \"당신은 완벽한 도우미입니다.\"},\n",
    "                {\"role\": \"user\", \"content\": prompt}\n",
    "            ],\n",
    "        input = question\n",
    "        )\n",
    "    return response"
   ]
  },
  {
   "cell_type": "code",
   "execution_count": null,
   "id": "859f54df",
   "metadata": {},
   "outputs": [],
   "source": []
  },
  {
   "cell_type": "code",
   "execution_count": null,
   "id": "d2fec0c0",
   "metadata": {},
   "outputs": [],
   "source": []
  },
  {
   "cell_type": "code",
   "execution_count": null,
   "id": "0a703b89",
   "metadata": {},
   "outputs": [],
   "source": []
  },
  {
   "cell_type": "code",
   "execution_count": null,
   "id": "ff6c5e4d",
   "metadata": {},
   "outputs": [],
   "source": []
  },
  {
   "cell_type": "code",
   "execution_count": null,
   "id": "675b505a",
   "metadata": {},
   "outputs": [],
   "source": []
  },
  {
   "cell_type": "code",
   "execution_count": null,
   "id": "114fabd7",
   "metadata": {},
   "outputs": [],
   "source": []
  },
  {
   "cell_type": "code",
   "execution_count": null,
   "id": "79d082ff",
   "metadata": {},
   "outputs": [],
   "source": []
  },
  {
   "cell_type": "code",
   "execution_count": null,
   "id": "baf1b48d",
   "metadata": {},
   "outputs": [],
   "source": []
  },
  {
   "cell_type": "code",
   "execution_count": null,
   "id": "921fb652",
   "metadata": {},
   "outputs": [],
   "source": []
  },
  {
   "cell_type": "code",
   "execution_count": null,
   "id": "03b5d1a4",
   "metadata": {},
   "outputs": [],
   "source": []
  },
  {
   "cell_type": "code",
   "execution_count": null,
   "id": "f3208ba7",
   "metadata": {},
   "outputs": [],
   "source": []
  },
  {
   "cell_type": "code",
   "execution_count": null,
   "id": "e3394c74",
   "metadata": {},
   "outputs": [],
   "source": []
  }
 ],
 "metadata": {
  "kernelspec": {
   "display_name": "pl_llm",
   "language": "python",
   "name": "python3"
  },
  "language_info": {
   "codemirror_mode": {
    "name": "ipython",
    "version": 3
   },
   "file_extension": ".py",
   "mimetype": "text/x-python",
   "name": "python",
   "nbconvert_exporter": "python",
   "pygments_lexer": "ipython3",
   "version": "3.12.0"
  }
 },
 "nbformat": 4,
 "nbformat_minor": 5
}
