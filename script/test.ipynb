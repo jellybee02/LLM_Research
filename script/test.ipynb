{
 "cells": [
  {
   "cell_type": "code",
   "execution_count": 1,
   "id": "70dffbcc",
   "metadata": {},
   "outputs": [
    {
     "name": "stderr",
     "output_type": "stream",
     "text": [
      "/home/jellybee/anaconda3/envs/llm_311/lib/python3.11/site-packages/tqdm/auto.py:21: TqdmWarning: IProgress not found. Please update jupyter and ipywidgets. See https://ipywidgets.readthedocs.io/en/stable/user_install.html\n",
      "  from .autonotebook import tqdm as notebook_tqdm\n"
     ]
    }
   ],
   "source": [
    "import numpy as np, pandas as pd, warnings, os\n",
    "from tqdm.auto import tqdm"
   ]
  },
  {
   "cell_type": "markdown",
   "id": "9790a9b0",
   "metadata": {},
   "source": [
    "# Data Load"
   ]
  },
  {
   "cell_type": "code",
   "execution_count": 98,
   "id": "429de379",
   "metadata": {},
   "outputs": [],
   "source": [
    "df = pd.read_csv(\"../data/서울시대여공구찾기정보.csv\", encoding='cp949')"
   ]
  },
  {
   "cell_type": "markdown",
   "id": "bf32656d",
   "metadata": {},
   "source": [
    "## Preprocessing"
   ]
  },
  {
   "cell_type": "code",
   "execution_count": null,
   "id": "cc4df576",
   "metadata": {},
   "outputs": [],
   "source": [
    "del_col = df.isnull().sum()[df.isnull().sum()/df.shape[0]>0.95].index.tolist()\n",
    "df = df[[x for x in df.columns if x not in del_col]]\n",
    "df['생성일시'] = pd.to_datetime(df['생성일시'], format='%Y%m%d%H%M%S')\n",
    "del df['위치(위도,경도)']\n",
    "del df['요금']"
   ]
  },
  {
   "cell_type": "code",
   "execution_count": 100,
   "id": "9fb88264",
   "metadata": {},
   "outputs": [
    {
     "name": "stderr",
     "output_type": "stream",
     "text": [
      "/tmp/ipykernel_14207/2815472384.py:1: FutureWarning: A value is trying to be set on a copy of a DataFrame or Series through chained assignment using an inplace method.\n",
      "The behavior will change in pandas 3.0. This inplace method will never work because the intermediate object on which we are setting values always behaves as a copy.\n",
      "\n",
      "For example, when doing 'df[col].method(value, inplace=True)', try using 'df.method({col: value}, inplace=True)' or df[col] = df[col].method(value) instead, to perform the operation inplace on the original object.\n",
      "\n",
      "\n",
      "  df['요금(과금기준 + 요금)'].fillna('0원', inplace=True)\n"
     ]
    }
   ],
   "source": [
    "df['요금(과금기준 + 요금)'].fillna('0원', inplace=True)\n",
    "def split_period_and_price(x):\n",
    "    if '1일' in x:\n",
    "        return pd.Series(['1일', x.replace('1일', '').strip()])\n",
    "    elif '1시간' in x:\n",
    "        return pd.Series(['1시간', x.replace('1시간', '').strip()])\n",
    "    else:\n",
    "        return pd.Series(['없음', x.strip()])\n",
    "\n",
    "df[['과금기준', '요금']] = df['요금(과금기준 + 요금)'].apply(split_period_and_price)\n",
    "del df['요금(과금기준 + 요금)']"
   ]
  },
  {
   "cell_type": "markdown",
   "id": "54d51743",
   "metadata": {},
   "source": [
    "# Location Info "
   ]
  },
  {
   "cell_type": "code",
   "execution_count": 30,
   "id": "b12e0136",
   "metadata": {},
   "outputs": [
    {
     "name": "stdout",
     "output_type": "stream",
     "text": [
      "강남역 위도/경도: (37.4999348, 127.0269678)\n"
     ]
    }
   ],
   "source": [
    "import requests\n",
    "\n",
    "def get_lat_lon(location_name):\n",
    "    url = 'https://nominatim.openstreetmap.org/search'\n",
    "    params = {\n",
    "        'q': location_name,\n",
    "        'format': 'json'\n",
    "    }\n",
    "    headers = {\n",
    "        'User-Agent': 'Mozilla/5.0 (compatible; ChatGPT-Example/1.0; +http://yourdomain.com)'\n",
    "    }\n",
    "\n",
    "    response = requests.get(url, params=params, headers=headers)\n",
    "\n",
    "    # 응답 확인\n",
    "    if response.status_code != 200:\n",
    "        print(f\"요청 실패: {response.status_code}\")\n",
    "        print(\"응답 내용:\", response.text)\n",
    "        return None\n",
    "\n",
    "    try:\n",
    "        data = response.json()\n",
    "        if data:\n",
    "            lat = data[0]['lat']\n",
    "            lon = data[0]['lon']\n",
    "            return float(lat), float(lon)\n",
    "        else:\n",
    "            print(\"위치 정보를 찾을 수 없습니다.\")\n",
    "            return None\n",
    "    except ValueError as e:\n",
    "        print(\"JSON 파싱 오류:\", e)\n",
    "        print(\"응답 내용:\", response.text)\n",
    "        return None\n",
    "\n",
    "# 테스트\n",
    "location = '강남역'\n",
    "result = get_lat_lon(location)\n",
    "print(f\"{location} 위도/경도: {result}\")\n"
   ]
  },
  {
   "cell_type": "code",
   "execution_count": null,
   "id": "39f33af8",
   "metadata": {},
   "outputs": [],
   "source": []
  },
  {
   "cell_type": "code",
   "execution_count": null,
   "id": "22a64eca",
   "metadata": {},
   "outputs": [],
   "source": []
  },
  {
   "cell_type": "code",
   "execution_count": null,
   "id": "322f7e5b",
   "metadata": {},
   "outputs": [],
   "source": []
  }
 ],
 "metadata": {
  "kernelspec": {
   "display_name": "llm_311",
   "language": "python",
   "name": "python3"
  },
  "language_info": {
   "codemirror_mode": {
    "name": "ipython",
    "version": 3
   },
   "file_extension": ".py",
   "mimetype": "text/x-python",
   "name": "python",
   "nbconvert_exporter": "python",
   "pygments_lexer": "ipython3",
   "version": "3.11.11"
  }
 },
 "nbformat": 4,
 "nbformat_minor": 5
}
