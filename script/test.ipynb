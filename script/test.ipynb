{
 "cells": [
  {
   "cell_type": "markdown",
   "id": "5677da99",
   "metadata": {},
   "source": [
    "# Package List"
   ]
  },
  {
   "cell_type": "code",
   "execution_count": 1,
   "id": "70dffbcc",
   "metadata": {},
   "outputs": [
    {
     "name": "stderr",
     "output_type": "stream",
     "text": [
      "/home/jellybee/anaconda3/envs/llm_311/lib/python3.11/site-packages/tqdm/auto.py:21: TqdmWarning: IProgress not found. Please update jupyter and ipywidgets. See https://ipywidgets.readthedocs.io/en/stable/user_install.html\n",
      "  from .autonotebook import tqdm as notebook_tqdm\n"
     ]
    }
   ],
   "source": [
    "import numpy as np, pandas as pd, warnings, os, openai, json\n",
    "from tqdm.auto import tqdm\n",
    "warnings.filterwarnings('ignore')"
   ]
  },
  {
   "cell_type": "markdown",
   "id": "9790a9b0",
   "metadata": {},
   "source": [
    "# Data Load"
   ]
  },
  {
   "cell_type": "code",
   "execution_count": 2,
   "id": "429de379",
   "metadata": {},
   "outputs": [],
   "source": [
    "df = pd.read_csv(\"../data/서울시대여공구찾기정보.csv\", encoding='cp949')"
   ]
  },
  {
   "cell_type": "markdown",
   "id": "bf32656d",
   "metadata": {},
   "source": [
    "## Preprocessing"
   ]
  },
  {
   "cell_type": "code",
   "execution_count": 3,
   "id": "cc4df576",
   "metadata": {},
   "outputs": [],
   "source": [
    "del_col = df.isnull().sum()[df.isnull().sum()/df.shape[0]>0.95].index.tolist()\n",
    "df = df[[x for x in df.columns if x not in del_col]]\n",
    "df['생성일시'] = pd.to_datetime(df['생성일시'], format='%Y%m%d%H%M%S')\n",
    "del df['위치(위도,경도)']\n",
    "del df['요금']"
   ]
  },
  {
   "cell_type": "code",
   "execution_count": 4,
   "id": "9fb88264",
   "metadata": {},
   "outputs": [],
   "source": [
    "df['요금(과금기준 + 요금)'].fillna('0원', inplace=True)\n",
    "def split_period_and_price(x):\n",
    "    if '1일' in x:\n",
    "        return pd.Series(['1일', x.replace('1일', '').strip()])\n",
    "    elif '1시간' in x:\n",
    "        return pd.Series(['1시간', x.replace('1시간', '').strip()])\n",
    "    else:\n",
    "        return pd.Series(['없음', x.strip()])\n",
    "\n",
    "df[['과금기준', '요금']] = df['요금(과금기준 + 요금)'].apply(split_period_and_price)\n",
    "del df['요금(과금기준 + 요금)']"
   ]
  },
  {
   "cell_type": "markdown",
   "id": "54d51743",
   "metadata": {},
   "source": [
    "# Location Info "
   ]
  },
  {
   "cell_type": "code",
   "execution_count": 5,
   "id": "b12e0136",
   "metadata": {},
   "outputs": [
    {
     "name": "stdout",
     "output_type": "stream",
     "text": [
      "강남역 위도/경도: (37.4999282, 127.0263182)\n"
     ]
    }
   ],
   "source": [
    "import requests\n",
    "\n",
    "def get_lat_lon(location_name):\n",
    "    url = 'https://nominatim.openstreetmap.org/search'\n",
    "    params = {\n",
    "        'q': location_name,\n",
    "        'format': 'json'\n",
    "    }\n",
    "    headers = {\n",
    "        'User-Agent': 'Mozilla/5.0 (compatible; ChatGPT-Example/1.0; +http://yourdomain.com)'\n",
    "    }\n",
    "\n",
    "    response = requests.get(url, params=params, headers=headers)\n",
    "\n",
    "    # 응답 확인\n",
    "    if response.status_code != 200:\n",
    "        print(f\"요청 실패: {response.status_code}\")\n",
    "        print(\"응답 내용:\", response.text)\n",
    "        return None\n",
    "\n",
    "    try:\n",
    "        data = response.json()\n",
    "        if data:\n",
    "            lat = data[0]['lat']\n",
    "            lon = data[0]['lon']\n",
    "            return float(lat), float(lon)\n",
    "        else:\n",
    "            print(\"위치 정보를 찾을 수 없습니다.\")\n",
    "            return None\n",
    "    except ValueError as e:\n",
    "        print(\"JSON 파싱 오류:\", e)\n",
    "        print(\"응답 내용:\", response.text)\n",
    "        return None\n",
    "\n",
    "# 테스트\n",
    "location = '강남역'\n",
    "result = get_lat_lon(location)\n",
    "print(f\"{location} 위도/경도: {result}\")\n"
   ]
  },
  {
   "cell_type": "code",
   "execution_count": 26,
   "id": "df4aadbb",
   "metadata": {},
   "outputs": [],
   "source": [
    "api_key =''\n",
    "openai.api_key = api_key"
   ]
  },
  {
   "cell_type": "code",
   "execution_count": 11,
   "id": "e471db90",
   "metadata": {},
   "outputs": [],
   "source": [
    "from openai import OpenAI"
   ]
  },
  {
   "cell_type": "code",
   "execution_count": 12,
   "id": "55785abe",
   "metadata": {},
   "outputs": [],
   "source": [
    "client = OpenAI(api_key=api_key)"
   ]
  },
  {
   "cell_type": "code",
   "execution_count": 23,
   "id": "69ff48c3",
   "metadata": {},
   "outputs": [],
   "source": [
    "def invoke(question, model=\"gpt-4o\", temperature=0.7):\n",
    "    response = client.chat.completions.create(\n",
    "        model=model,\n",
    "        messages = [\n",
    "                    {\"role\": \"system\", \n",
    "                        \"content\": \"너는 사람들의 질문에 친절히 답해주는 도우미야.\"},\n",
    "                    {\"role\": \"user\", \n",
    "                    \"content\": question}\n",
    "                ],\n",
    "        temperature=temperature\n",
    "    )\n",
    "    return response.choices[0].message.content"
   ]
  },
  {
   "cell_type": "code",
   "execution_count": null,
   "id": "65675301",
   "metadata": {},
   "outputs": [],
   "source": [
    "question = \"주식에 대해서 공부하고싶어. 회사의 재무재표를 보는 방법에 대해서 상세히 설명해줄래?\""
   ]
  },
  {
   "cell_type": "code",
   "execution_count": 25,
   "id": "ab0ac6d1",
   "metadata": {},
   "outputs": [
    {
     "name": "stdout",
     "output_type": "stream",
     "text": [
      "💬 GPT 응답: 재무제표는 회사의 재무 상태와 경영 성과를 파악할 수 있는 중요한 도구입니다. 주요 재무제표에는 대차대조표, 손익계산서, 현금흐름표가 포함됩니다. 각각의 재무제표를 어떻게 분석하는지 설명해드릴게요.\n",
      "\n",
      "### 1. 대차대조표 (Balance Sheet)\n",
      "대차대조표는 특정 시점에서 회사의 자산, 부채, 자본을 보여줍니다. \n",
      "\n",
      "- **자산 (Assets):** 회사가 소유하고 있는 모든 자원입니다. 유동자산(현금, 매출채권 등)과 비유동자산(건물, 장비 등)으로 구분됩니다.\n",
      "- **부채 (Liabilities):** 회사가 갚아야 할 채무입니다. 유동부채(단기 차입금, 미지급금 등)와 비유동부채(장기 차입금 등)로 구분됩니다.\n",
      "- **자본 (Equity):** 자산에서 부채를 뺀 것으로, 주주들이 회사에 투자한 자본과 이익잉여금으로 구성됩니다.\n",
      "\n",
      "**분석 포인트:**\n",
      "- **유동비율:** 유동자산/유동부채. 1 이상의 값은 단기 채무를 갚을 수 있는 능력을 의미합니다.\n",
      "- **부채비율:** 부채/자본. 낮을수록 재무 안정성이 높습니다.\n",
      "\n",
      "### 2. 손익계산서 (Income Statement)\n",
      "손익계산서는 일정 기간 동안의 수익, 비용, 이익을 보여줍니다.\n",
      "\n",
      "- **매출 (Revenue):** 제품이나 서비스를 판매하여 얻은 총 수익입니다.\n",
      "- **매출원가 (Cost of Goods Sold, COGS):** 제품을 생산하거나 서비스를 제공하는 데 들어간 직접 비용입니다.\n",
      "- **영업이익 (Operating Income):** 매출에서 매출원가와 영업비용을 뺀 금액으로, 회사의 기본 영업활동에서 발생한 이익입니다.\n",
      "- **순이익 (Net Income):** 모든 수익에서 모든 비용과 세금을 뺀 최종 이익입니다.\n",
      "\n",
      "**분석 포인트:**\n",
      "- **영업이익률:** 영업이익/매출. 영업 활동의 효율성을 나타냅니다.\n",
      "- **순이익률:** 순이익/매출. 전체적인 수익성을 보여줍니다.\n",
      "\n",
      "### 3. 현금흐름표 (Cash Flow Statement)\n",
      "현금흐름표는 일정 기간 동안 현금의 유입과 유출을 보여줍니다. 운영, 투자, 재무 활동으로 구분됩니다.\n",
      "\n",
      "- **영업활동으로 인한 현금흐름:** 회사의 기본적인 영업활동에서 발생한 현금 흐름입니다.\n",
      "- **투자활동으로 인한 현금흐름:** 설비 투자나 자산 매각 등에서 발생한 현금 흐름입니다.\n",
      "- **재무활동으로 인한 현금흐름:** 차입, 주식 발행, 배당 등에서 발생한 현금 흐름입니다.\n",
      "\n",
      "**분석 포인트:**\n",
      "- **자유 현금흐름 (Free Cash Flow):** 영업활동 현금흐름에서 투자활동 현금흐름을 뺀 값으로, 회사가 자율적으로 사용할 수 있는 현금입니다.\n",
      "\n",
      "이 세 가지 재무제표를 종합적으로 분석하면 회사의 재무 상태와 경영 성과를 더 잘 이해할 수 있습니다. 재무제표 분석은 회사의 건강 상태를 평가하고 투자 결정을 내리는 데 중요한 역할을 합니다.\n"
     ]
    }
   ],
   "source": [
    "answer = invoke(question)\n",
    "print(\"💬 GPT 응답:\", answer)"
   ]
  },
  {
   "cell_type": "code",
   "execution_count": 13,
   "id": "837a782b",
   "metadata": {},
   "outputs": [],
   "source": [
    "def invoke(question: str):\n",
    "    prompt = f\"\"\"\n",
    "    너는 도우미야 사용자의 물음에 친절히 답해줘야해.\n",
    "    \"\"\"\n",
    "    response = client.responses.create(\n",
    "        model='gpt-4.1',\n",
    "        messages=[\n",
    "                {\"role\": \"system\", \"content\": \"당신은 완벽한 도우미입니다.\"},\n",
    "                {\"role\": \"user\", \"content\": prompt}\n",
    "            ],\n",
    "        input = question\n",
    "        )\n",
    "    return response"
   ]
  },
  {
   "cell_type": "code",
   "execution_count": 14,
   "id": "06a652e3",
   "metadata": {},
   "outputs": [
    {
     "ename": "TypeError",
     "evalue": "Responses.create() got an unexpected keyword argument 'messages'",
     "output_type": "error",
     "traceback": [
      "\u001b[31m---------------------------------------------------------------------------\u001b[39m",
      "\u001b[31mTypeError\u001b[39m                                 Traceback (most recent call last)",
      "\u001b[36mCell\u001b[39m\u001b[36m \u001b[39m\u001b[32mIn[14]\u001b[39m\u001b[32m, line 1\u001b[39m\n\u001b[32m----> \u001b[39m\u001b[32m1\u001b[39m output = \u001b[43minvoke\u001b[49m\u001b[43m(\u001b[49m\u001b[33;43m'\u001b[39;49m\u001b[33;43m배가 고픈데 생선을 먹고싶어. 6월에 먹을 수 있는 제철 생선 있어?\u001b[39;49m\u001b[33;43m'\u001b[39;49m\u001b[43m)\u001b[49m\n",
      "\u001b[36mCell\u001b[39m\u001b[36m \u001b[39m\u001b[32mIn[13]\u001b[39m\u001b[32m, line 5\u001b[39m, in \u001b[36minvoke\u001b[39m\u001b[34m(question)\u001b[39m\n\u001b[32m      1\u001b[39m \u001b[38;5;28;01mdef\u001b[39;00m\u001b[38;5;250m \u001b[39m\u001b[34minvoke\u001b[39m(question: \u001b[38;5;28mstr\u001b[39m):\n\u001b[32m      2\u001b[39m     prompt = \u001b[33mf\u001b[39m\u001b[33m\"\"\"\u001b[39m\n\u001b[32m      3\u001b[39m \u001b[33m    너는 도우미야 사용자의 물음에 친절히 답해줘야해.\u001b[39m\n\u001b[32m      4\u001b[39m \u001b[33m    \u001b[39m\u001b[33m\"\"\"\u001b[39m\n\u001b[32m----> \u001b[39m\u001b[32m5\u001b[39m     response = \u001b[43mclient\u001b[49m\u001b[43m.\u001b[49m\u001b[43mresponses\u001b[49m\u001b[43m.\u001b[49m\u001b[43mcreate\u001b[49m\u001b[43m(\u001b[49m\n\u001b[32m      6\u001b[39m \u001b[43m        \u001b[49m\u001b[43mmodel\u001b[49m\u001b[43m=\u001b[49m\u001b[33;43m'\u001b[39;49m\u001b[33;43mgpt-4.1\u001b[39;49m\u001b[33;43m'\u001b[39;49m\u001b[43m,\u001b[49m\n\u001b[32m      7\u001b[39m \u001b[43m        \u001b[49m\u001b[43mmessages\u001b[49m\u001b[43m=\u001b[49m\u001b[43m[\u001b[49m\n\u001b[32m      8\u001b[39m \u001b[43m                \u001b[49m\u001b[43m{\u001b[49m\u001b[33;43m\"\u001b[39;49m\u001b[33;43mrole\u001b[39;49m\u001b[33;43m\"\u001b[39;49m\u001b[43m:\u001b[49m\u001b[43m \u001b[49m\u001b[33;43m\"\u001b[39;49m\u001b[33;43msystem\u001b[39;49m\u001b[33;43m\"\u001b[39;49m\u001b[43m,\u001b[49m\u001b[43m \u001b[49m\u001b[33;43m\"\u001b[39;49m\u001b[33;43mcontent\u001b[39;49m\u001b[33;43m\"\u001b[39;49m\u001b[43m:\u001b[49m\u001b[43m \u001b[49m\u001b[33;43m\"\u001b[39;49m\u001b[33;43m당신은 완벽한 도우미입니다.\u001b[39;49m\u001b[33;43m\"\u001b[39;49m\u001b[43m}\u001b[49m\u001b[43m,\u001b[49m\n\u001b[32m      9\u001b[39m \u001b[43m                \u001b[49m\u001b[43m{\u001b[49m\u001b[33;43m\"\u001b[39;49m\u001b[33;43mrole\u001b[39;49m\u001b[33;43m\"\u001b[39;49m\u001b[43m:\u001b[49m\u001b[43m \u001b[49m\u001b[33;43m\"\u001b[39;49m\u001b[33;43muser\u001b[39;49m\u001b[33;43m\"\u001b[39;49m\u001b[43m,\u001b[49m\u001b[43m \u001b[49m\u001b[33;43m\"\u001b[39;49m\u001b[33;43mcontent\u001b[39;49m\u001b[33;43m\"\u001b[39;49m\u001b[43m:\u001b[49m\u001b[43m \u001b[49m\u001b[43mprompt\u001b[49m\u001b[43m}\u001b[49m\n\u001b[32m     10\u001b[39m \u001b[43m            \u001b[49m\u001b[43m]\u001b[49m\u001b[43m,\u001b[49m\n\u001b[32m     11\u001b[39m \u001b[43m        \u001b[49m\u001b[38;5;28;43minput\u001b[39;49m\u001b[43m \u001b[49m\u001b[43m=\u001b[49m\u001b[43m \u001b[49m\u001b[43mquestion\u001b[49m\n\u001b[32m     12\u001b[39m \u001b[43m        \u001b[49m\u001b[43m)\u001b[49m\n\u001b[32m     13\u001b[39m     \u001b[38;5;28;01mreturn\u001b[39;00m response\n",
      "\u001b[36mFile \u001b[39m\u001b[32m~/anaconda3/envs/llm_311/lib/python3.11/site-packages/openai/_utils/_utils.py:287\u001b[39m, in \u001b[36mrequired_args.<locals>.inner.<locals>.wrapper\u001b[39m\u001b[34m(*args, **kwargs)\u001b[39m\n\u001b[32m    285\u001b[39m             msg = \u001b[33mf\u001b[39m\u001b[33m\"\u001b[39m\u001b[33mMissing required argument: \u001b[39m\u001b[38;5;132;01m{\u001b[39;00mquote(missing[\u001b[32m0\u001b[39m])\u001b[38;5;132;01m}\u001b[39;00m\u001b[33m\"\u001b[39m\n\u001b[32m    286\u001b[39m     \u001b[38;5;28;01mraise\u001b[39;00m \u001b[38;5;167;01mTypeError\u001b[39;00m(msg)\n\u001b[32m--> \u001b[39m\u001b[32m287\u001b[39m \u001b[38;5;28;01mreturn\u001b[39;00m \u001b[43mfunc\u001b[49m\u001b[43m(\u001b[49m\u001b[43m*\u001b[49m\u001b[43margs\u001b[49m\u001b[43m,\u001b[49m\u001b[43m \u001b[49m\u001b[43m*\u001b[49m\u001b[43m*\u001b[49m\u001b[43mkwargs\u001b[49m\u001b[43m)\u001b[49m\n",
      "\u001b[31mTypeError\u001b[39m: Responses.create() got an unexpected keyword argument 'messages'"
     ]
    }
   ],
   "source": [
    "output = invoke('배가 고픈데 생선을 먹고싶어. 6월에 먹을 수 있는 제철 생선 있어?')"
   ]
  },
  {
   "cell_type": "code",
   "execution_count": null,
   "id": "8ec723d8",
   "metadata": {},
   "outputs": [],
   "source": []
  },
  {
   "cell_type": "code",
   "execution_count": 20,
   "id": "5a152c96",
   "metadata": {},
   "outputs": [],
   "source": [
    "def invoke(question: str):\n",
    "    prompt = f\"\"\"\n",
    "    너는 도우미야 사용자의 물음에 친절히 답해줘야돼\n",
    "    \"\"\"\n",
    "    response = openai.ChatCompletion.create(\n",
    "        model=\"gpt-4.1\",\n",
    "        messages=[\n",
    "            {\"role\": \"system\", \"content\": \"당신은 완벽한 도우미입니다.\"},\n",
    "            {\"role\": \"user\", \"content\": prompt}\n",
    "        ],\n",
    "        temperature=0.2\n",
    "    )\n",
    "\n",
    "    result_text = response['choices'][0]['message']['content']\n",
    "\n",
    "    try:\n",
    "        result_dict = json.loads(result_text)\n",
    "        with open(\"clustered_equipment.json\", \"w\", encoding=\"utf-8\") as f:\n",
    "            json.dump(result_dict, f, ensure_ascii=False, indent=2)\n",
    "        print(\"✅ 클러스터링 결과 저장 완료: clustered_equipment.json\")\n",
    "        return result_dict\n",
    "    except json.JSONDecodeError:\n",
    "        print(\"⚠️ JSON 형식 오류. 출력 확인 필요:\")\n",
    "        print(result_text)\n",
    "        return None\n",
    "    "
   ]
  },
  {
   "cell_type": "code",
   "execution_count": null,
   "id": "149b63d3",
   "metadata": {},
   "outputs": [],
   "source": []
  },
  {
   "cell_type": "code",
   "execution_count": 19,
   "id": "d9de98c7",
   "metadata": {},
   "outputs": [
    {
     "ename": "APIRemovedInV1",
     "evalue": "\n\nYou tried to access openai.ChatCompletion, but this is no longer supported in openai>=1.0.0 - see the README at https://github.com/openai/openai-python for the API.\n\nYou can run `openai migrate` to automatically upgrade your codebase to use the 1.0.0 interface. \n\nAlternatively, you can pin your installation to the old version, e.g. `pip install openai==0.28`\n\nA detailed migration guide is available here: https://github.com/openai/openai-python/discussions/742\n",
     "output_type": "error",
     "traceback": [
      "\u001b[31m---------------------------------------------------------------------------\u001b[39m",
      "\u001b[31mAPIRemovedInV1\u001b[39m                            Traceback (most recent call last)",
      "\u001b[36mCell\u001b[39m\u001b[36m \u001b[39m\u001b[32mIn[19]\u001b[39m\u001b[32m, line 2\u001b[39m\n\u001b[32m      1\u001b[39m question = \u001b[33m'\u001b[39m\u001b[33m나 너무 배고파\u001b[39m\u001b[33m'\u001b[39m\n\u001b[32m----> \u001b[39m\u001b[32m2\u001b[39m result = \u001b[43minvoke\u001b[49m\u001b[43m(\u001b[49m\u001b[43mquestion\u001b[49m\u001b[43m)\u001b[49m\n\u001b[32m      4\u001b[39m \u001b[38;5;66;03m# 만약 JSON 결과를 바로 보고 싶으면\u001b[39;00m\n\u001b[32m      5\u001b[39m \u001b[38;5;28;01mimport\u001b[39;00m\u001b[38;5;250m \u001b[39m\u001b[34;01mpandas\u001b[39;00m\u001b[38;5;250m \u001b[39m\u001b[38;5;28;01mas\u001b[39;00m\u001b[38;5;250m \u001b[39m\u001b[34;01mpd\u001b[39;00m\n",
      "\u001b[36mCell\u001b[39m\u001b[36m \u001b[39m\u001b[32mIn[18]\u001b[39m\u001b[32m, line 5\u001b[39m, in \u001b[36minvoke\u001b[39m\u001b[34m(question)\u001b[39m\n\u001b[32m      1\u001b[39m \u001b[38;5;28;01mdef\u001b[39;00m\u001b[38;5;250m \u001b[39m\u001b[34minvoke\u001b[39m(question: \u001b[38;5;28mstr\u001b[39m):\n\u001b[32m      2\u001b[39m     prompt = \u001b[33mf\u001b[39m\u001b[33m\"\"\"\u001b[39m\n\u001b[32m      3\u001b[39m \u001b[33m    너는 도우미야 사용자의 물음에 친절히 답해줘야돼\u001b[39m\n\u001b[32m      4\u001b[39m \u001b[33m    \u001b[39m\u001b[33m\"\"\"\u001b[39m\n\u001b[32m----> \u001b[39m\u001b[32m5\u001b[39m     response = \u001b[43mopenai\u001b[49m\u001b[43m.\u001b[49m\u001b[43mChatCompletion\u001b[49m\u001b[43m.\u001b[49m\u001b[43mcreate\u001b[49m\u001b[43m(\u001b[49m\n\u001b[32m      6\u001b[39m \u001b[43m        \u001b[49m\u001b[43mmodel\u001b[49m\u001b[43m=\u001b[49m\u001b[33;43m\"\u001b[39;49m\u001b[33;43mgpt-4.1\u001b[39;49m\u001b[33;43m\"\u001b[39;49m\u001b[43m,\u001b[49m\n\u001b[32m      7\u001b[39m \u001b[43m        \u001b[49m\u001b[43mmessages\u001b[49m\u001b[43m=\u001b[49m\u001b[43m[\u001b[49m\n\u001b[32m      8\u001b[39m \u001b[43m            \u001b[49m\u001b[43m{\u001b[49m\u001b[33;43m\"\u001b[39;49m\u001b[33;43mrole\u001b[39;49m\u001b[33;43m\"\u001b[39;49m\u001b[43m:\u001b[49m\u001b[43m \u001b[49m\u001b[33;43m\"\u001b[39;49m\u001b[33;43msystem\u001b[39;49m\u001b[33;43m\"\u001b[39;49m\u001b[43m,\u001b[49m\u001b[43m \u001b[49m\u001b[33;43m\"\u001b[39;49m\u001b[33;43mcontent\u001b[39;49m\u001b[33;43m\"\u001b[39;49m\u001b[43m:\u001b[49m\u001b[43m \u001b[49m\u001b[33;43m\"\u001b[39;49m\u001b[33;43m당신은 완벽한 도우미입니다.\u001b[39;49m\u001b[33;43m\"\u001b[39;49m\u001b[43m}\u001b[49m\u001b[43m,\u001b[49m\n\u001b[32m      9\u001b[39m \u001b[43m            \u001b[49m\u001b[43m{\u001b[49m\u001b[33;43m\"\u001b[39;49m\u001b[33;43mrole\u001b[39;49m\u001b[33;43m\"\u001b[39;49m\u001b[43m:\u001b[49m\u001b[43m \u001b[49m\u001b[33;43m\"\u001b[39;49m\u001b[33;43muser\u001b[39;49m\u001b[33;43m\"\u001b[39;49m\u001b[43m,\u001b[49m\u001b[43m \u001b[49m\u001b[33;43m\"\u001b[39;49m\u001b[33;43mcontent\u001b[39;49m\u001b[33;43m\"\u001b[39;49m\u001b[43m:\u001b[49m\u001b[43m \u001b[49m\u001b[43mprompt\u001b[49m\u001b[43m}\u001b[49m\n\u001b[32m     10\u001b[39m \u001b[43m        \u001b[49m\u001b[43m]\u001b[49m\u001b[43m,\u001b[49m\n\u001b[32m     11\u001b[39m \u001b[43m        \u001b[49m\u001b[43mtemperature\u001b[49m\u001b[43m=\u001b[49m\u001b[32;43m0.2\u001b[39;49m\n\u001b[32m     12\u001b[39m \u001b[43m    \u001b[49m\u001b[43m)\u001b[49m\n\u001b[32m     14\u001b[39m     result_text = response[\u001b[33m'\u001b[39m\u001b[33mchoices\u001b[39m\u001b[33m'\u001b[39m][\u001b[32m0\u001b[39m][\u001b[33m'\u001b[39m\u001b[33mmessage\u001b[39m\u001b[33m'\u001b[39m][\u001b[33m'\u001b[39m\u001b[33mcontent\u001b[39m\u001b[33m'\u001b[39m]\n\u001b[32m     16\u001b[39m     \u001b[38;5;28;01mtry\u001b[39;00m:\n",
      "\u001b[36mFile \u001b[39m\u001b[32m~/anaconda3/envs/llm_311/lib/python3.11/site-packages/openai/lib/_old_api.py:39\u001b[39m, in \u001b[36mAPIRemovedInV1Proxy.__call__\u001b[39m\u001b[34m(self, *_args, **_kwargs)\u001b[39m\n\u001b[32m     38\u001b[39m \u001b[38;5;28;01mdef\u001b[39;00m\u001b[38;5;250m \u001b[39m\u001b[34m__call__\u001b[39m(\u001b[38;5;28mself\u001b[39m, *_args: Any, **_kwargs: Any) -> Any:\n\u001b[32m---> \u001b[39m\u001b[32m39\u001b[39m     \u001b[38;5;28;01mraise\u001b[39;00m APIRemovedInV1(symbol=\u001b[38;5;28mself\u001b[39m._symbol)\n",
      "\u001b[31mAPIRemovedInV1\u001b[39m: \n\nYou tried to access openai.ChatCompletion, but this is no longer supported in openai>=1.0.0 - see the README at https://github.com/openai/openai-python for the API.\n\nYou can run `openai migrate` to automatically upgrade your codebase to use the 1.0.0 interface. \n\nAlternatively, you can pin your installation to the old version, e.g. `pip install openai==0.28`\n\nA detailed migration guide is available here: https://github.com/openai/openai-python/discussions/742\n"
     ]
    }
   ],
   "source": [
    "question = '나 너무 배고파'\n",
    "result = invoke(question)\n",
    "\n",
    "# 만약 JSON 결과를 바로 보고 싶으면\n",
    "import pandas as pd\n",
    "\n",
    "# if result:\n",
    "#     df_result = pd.DataFrame(result)\n",
    "#     display(df_result)"
   ]
  },
  {
   "cell_type": "code",
   "execution_count": 25,
   "id": "22a64eca",
   "metadata": {},
   "outputs": [],
   "source": [
    "prompt = f\"\"\"\n",
    "    너는 도구가 어디있는지 찾아주는 도우미야. \n",
    "    사용자가 필요한 도구와 현재 위치를 알려주거야.\n",
    "    너는 {df}를 참고해서 **사용자가 필요로 하는 도구**와 **현재 위치**에서 가장 가까이에있는 대여소를 찾아주면 돼.\n",
    "\n",
    "    \"\"\""
   ]
  },
  {
   "cell_type": "code",
   "execution_count": null,
   "id": "322f7e5b",
   "metadata": {},
   "outputs": [],
   "source": []
  }
 ],
 "metadata": {
  "kernelspec": {
   "display_name": "llm_311",
   "language": "python",
   "name": "python3"
  },
  "language_info": {
   "codemirror_mode": {
    "name": "ipython",
    "version": 3
   },
   "file_extension": ".py",
   "mimetype": "text/x-python",
   "name": "python",
   "nbconvert_exporter": "python",
   "pygments_lexer": "ipython3",
   "version": "3.11.11"
  }
 },
 "nbformat": 4,
 "nbformat_minor": 5
}
