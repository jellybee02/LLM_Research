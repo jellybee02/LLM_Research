{
 "cells": [
  {
   "cell_type": "markdown",
   "id": "92786eed",
   "metadata": {},
   "source": [
    "# README\n",
    "해당 작업은 관련 작업내용을 진행하던 중 랭그래프에 대한 내용을 인지. \n",
    "\n",
    "질문에 따른 적절한 GPT 처리 흐름(역할)을 선택해서 사용하는 것에 대해서 기술 관심이 생김\n",
    "\n",
    "해당 내용에 대한 간단한 예시를 이용해보려고 함"
   ]
  },
  {
   "cell_type": "code",
   "execution_count": 5,
   "id": "1a570550",
   "metadata": {},
   "outputs": [],
   "source": [
    "from langchain_ollama.chat_models import ChatOllama\n",
    "from langchain_ollama.embeddings import OllamaEmbeddings\n",
    "from langchain_core.runnables import RunnableLambda\n",
    "from langchain.memory import ConversationBufferMemory\n",
    "# from langchain_ollama.chat_models import ChatOpenAI\n",
    "# from langchain.schema import Sys\n",
    "from langgraph.graph import StateGraph, END\n",
    "# .graph import StateGraph, END"
   ]
  },
  {
   "cell_type": "code",
   "execution_count": 2,
   "id": "98b59114",
   "metadata": {},
   "outputs": [],
   "source": [
    "key = open('../../../api_key.txt','r')\n",
    "api_key = key.read()\n",
    "# openai.api_key = api_key\n",
    "\n",
    "base_ = open('../../../base_url.txt','r')\n",
    "base_url = base_.read()\n",
    "# openai.api_key = api_key"
   ]
  },
  {
   "cell_type": "code",
   "execution_count": 3,
   "id": "1855bc42",
   "metadata": {},
   "outputs": [],
   "source": [
    "# 상태 정의 (우리는 간단히 dict 씀)\n",
    "state_type = dict"
   ]
  },
  {
   "cell_type": "code",
   "execution_count": null,
   "id": "bc3f591c",
   "metadata": {},
   "outputs": [
    {
     "data": {
      "text/plain": [
       "OllamaEmbeddings(model='bge-m3', base_url='http://104.59.217.59:11434\\n', client_kwargs={}, async_client_kwargs={}, sync_client_kwargs={}, mirostat=None, mirostat_eta=None, mirostat_tau=None, num_ctx=None, num_gpu=None, keep_alive=None, num_thread=None, repeat_last_n=None, repeat_penalty=None, temperature=None, stop=None, tfs_z=None, top_k=None, top_p=None)"
      ]
     },
     "execution_count": 6,
     "metadata": {},
     "output_type": "execute_result"
    }
   ],
   "source": [
    " = OllamaEmbeddings(model = 'bge-m3',\n",
    "                 base_url=base_url)"
   ]
  },
  {
   "cell_type": "code",
   "execution_count": 4,
   "id": "f3791b95",
   "metadata": {},
   "outputs": [],
   "source": [
    "llm = ChatOllama(model = 'gemma3:12b',\n",
    "                 base_url=base_url)\n"
   ]
  },
  {
   "cell_type": "code",
   "execution_count": null,
   "id": "feab2fb1",
   "metadata": {},
   "outputs": [],
   "source": [
    "llm = ChatOllama(model = 'gemma3:12b',\n",
    "                 base_url=base_url)\n"
   ]
  },
  {
   "cell_type": "code",
   "execution_count": 48,
   "id": "5e27e853",
   "metadata": {},
   "outputs": [
    {
     "name": "stderr",
     "output_type": "stream",
     "text": [
      "/tmp/ipykernel_1271325/3614923015.py:1: LangChainDeprecationWarning: Please see the migration guide at: https://python.langchain.com/docs/versions/migrating_memory/\n",
      "  memory = ConversationBufferMemory(return_messages=True)\n"
     ]
    }
   ],
   "source": [
    "memory = ConversationBufferMemory(return_messages=True)"
   ]
  },
  {
   "cell_type": "code",
   "execution_count": 47,
   "id": "bd91ef79",
   "metadata": {},
   "outputs": [
    {
     "data": {
      "text/plain": [
       "'Hi there! 😊 \\n\\nHow can I help you today?'"
      ]
     },
     "execution_count": 47,
     "metadata": {},
     "output_type": "execute_result"
    }
   ],
   "source": [
    "llm.invoke('hi').content"
   ]
  },
  {
   "cell_type": "code",
   "execution_count": 23,
   "id": "eb315097",
   "metadata": {},
   "outputs": [],
   "source": [
    "# Node 1: 질문 내용 구분 함수\n",
    "def classify_question(stats):\n",
    "    # input_question = {\"question\": \"3 곱하기 7은 얼마야?\"}\n",
    "\n",
    "    question = stats[\"question\"]\n",
    "    messages = [\n",
    "                    {\"role\": \"system\", \n",
    "                        \"content\": f\"\"\"당신은 질문이 '수학 문제'인지 아닌지를 분류하는 분류기입니다. \n",
    "                        수학 문제면 'math', 아니면 'general'로만 대답하세요.\n",
    "                        \"\"\"\n",
    "                        },\n",
    "                    {\"role\": \"user\", \n",
    "                    \"content\": question}\n",
    "                ]\n",
    "    response = llm.invoke(messages).content.strip().lower()\n",
    "    stats['type']=response\n",
    "    return stats"
   ]
  },
  {
   "cell_type": "code",
   "execution_count": 24,
   "id": "5b7cb691",
   "metadata": {},
   "outputs": [],
   "source": [
    "# Node 2: 수학 질문 처리\n",
    "def answer_math(state):\n",
    "    question = state[\"question\"]\n",
    "    messages = [\n",
    "                    {\"role\": \"system\", \n",
    "                        \"content\": f\"당신은 수학 문제만 푸는 계산기입니다.\"\n",
    "                        },\n",
    "                    {\"role\": \"user\", \n",
    "                    \"content\": question}\n",
    "                ]\n",
    "    answer = llm.invoke(messages).content\n",
    "    state[\"answer\"] = answer\n",
    "    return state"
   ]
  },
  {
   "cell_type": "code",
   "execution_count": 25,
   "id": "37896774",
   "metadata": {},
   "outputs": [],
   "source": [
    "# Node 3: 일반 질문 처리\n",
    "def answer_general(state):\n",
    "    question = state[\"question\"]\n",
    "    messages = [\n",
    "                    {\"role\": \"system\", \n",
    "                        \"content\": f\"당신은 다양한 질문에 답변하는 AI입니다.\"\n",
    "                        },\n",
    "                    {\"role\": \"user\", \n",
    "                    \"content\": question}\n",
    "                ]\n",
    "    answer = llm.invoke(messages).content\n",
    "    state[\"answer\"] = answer\n",
    "    return state"
   ]
  },
  {
   "cell_type": "code",
   "execution_count": 30,
   "id": "26c098a9",
   "metadata": {},
   "outputs": [],
   "source": [
    "builder = StateGraph(state_schema=state_type)"
   ]
  },
  {
   "cell_type": "code",
   "execution_count": 31,
   "id": "96b60c79",
   "metadata": {},
   "outputs": [
    {
     "data": {
      "text/plain": [
       "<langgraph.graph.state.StateGraph at 0x7fae9625c8f0>"
      ]
     },
     "execution_count": 31,
     "metadata": {},
     "output_type": "execute_result"
    }
   ],
   "source": [
    "builder.add_node(\"classify\", classify_question)\n",
    "builder.add_node(\"math_mode\", answer_math)\n",
    "builder.add_node(\"general_mode\", answer_general)"
   ]
  },
  {
   "cell_type": "code",
   "execution_count": 32,
   "id": "77de16fb",
   "metadata": {},
   "outputs": [
    {
     "data": {
      "text/plain": [
       "<langgraph.graph.state.StateGraph at 0x7fae9625c8f0>"
      ]
     },
     "execution_count": 32,
     "metadata": {},
     "output_type": "execute_result"
    }
   ],
   "source": [
    "builder.set_entry_point(\"classify\")"
   ]
  },
  {
   "cell_type": "code",
   "execution_count": 34,
   "id": "964fe79f",
   "metadata": {},
   "outputs": [],
   "source": [
    "# 분기 조건 설정\n",
    "def route_based_on_type(state):\n",
    "    if state[\"type\"] == \"math\":\n",
    "        return \"math_mode\"\n",
    "    else:\n",
    "        return \"general_mode\""
   ]
  },
  {
   "cell_type": "code",
   "execution_count": 35,
   "id": "6d6c21f3",
   "metadata": {},
   "outputs": [
    {
     "data": {
      "text/plain": [
       "<langgraph.graph.state.StateGraph at 0x7fae9625c8f0>"
      ]
     },
     "execution_count": 35,
     "metadata": {},
     "output_type": "execute_result"
    }
   ],
   "source": [
    "builder.add_conditional_edges(\"classify\", route_based_on_type)\n",
    "builder.add_edge(\"math_mode\", END)\n",
    "builder.add_edge(\"general_mode\", END)"
   ]
  },
  {
   "cell_type": "code",
   "execution_count": 36,
   "id": "b137592c",
   "metadata": {},
   "outputs": [],
   "source": [
    "# 그래프 컴파일\n",
    "graph = builder.compile()\n"
   ]
  },
  {
   "cell_type": "code",
   "execution_count": 42,
   "id": "5b579592",
   "metadata": {},
   "outputs": [
    {
     "name": "stdout",
     "output_type": "stream",
     "text": [
      "## 근의 공식 설명 및 예시\n",
      "\n",
      "근의 공식은 2차 방정식의 해를 구하는 공식입니다. 2차 방정식은 일반적으로 다음과 같은 형태로 표현됩니다.\n",
      "\n",
      "**ax² + bx + c = 0**\n",
      "\n",
      "여기서 a, b, c는 상수이며, a는 0이 아니어야 합니다. 근의 공식은 이 2차 방정식의 해(x 값)를 다음과 같이 나타냅니다.\n",
      "\n",
      "**x = (-b ± √(b² - 4ac)) / 2a**\n",
      "\n",
      "**각 부분의 의미:**\n",
      "\n",
      "*   **a, b, c:** 2차 방정식의 계수\n",
      "*   **±:** 더하기 또는 빼기 (두 개의 해를 의미)\n",
      "*   **√:** 제곱근\n",
      "*   **b² - 4ac:** 판별식 (Discriminant)이라고 하며, 해의 종류를 판별하는 데 사용됩니다.\n",
      "\n",
      "**판별식에 따른 해의 종류:**\n",
      "\n",
      "*   **b² - 4ac > 0:** 서로 다른 두 실근을 갖습니다.\n",
      "*   **b² - 4ac = 0:** 중근(실근)을 갖습니다.\n",
      "*   **b² - 4ac < 0:** 서로 다른 두 허근을 갖습니다. (실수 범위에서는 해가 없습니다.)\n",
      "\n",
      "**예시:**\n",
      "\n",
      "다음 2차 방정식의 해를 근의 공식을 사용하여 구해보겠습니다.\n",
      "\n",
      "**2x² + 5x - 3 = 0**\n",
      "\n",
      "1.  **계수 확인:**\n",
      "    *   a = 2\n",
      "    *   b = 5\n",
      "    *   c = -3\n",
      "\n",
      "2.  **근의 공식 적용:**\n",
      "    *   x = (-5 ± √(5² - 4 * 2 * -3)) / (2 * 2)\n",
      "    *   x = (-5 ± √(25 + 24)) / 4\n",
      "    *   x = (-5 ± √49) / 4\n",
      "    *   x = (-5 ± 7) / 4\n",
      "\n",
      "3.  **두 개의 해 계산:**\n",
      "    *   x₁ = (-5 + 7) / 4 = 2 / 4 = 1/2\n",
      "    *   x₂ = (-5 - 7) / 4 = -12 / 4 = -3\n",
      "\n",
      "따라서, 2차 방정식 2x² + 5x - 3 = 0의 해는 x = 1/2 와 x = -3 입니다.\n",
      "\n",
      "**다른 예시:**\n",
      "\n",
      "1.  **x² - 4x + 4 = 0**\n",
      "    *   a = 1, b = -4, c = 4\n",
      "    *   x = (4 ± √(16 - 16)) / 2 = 2 (중근)\n",
      "\n",
      "2.  **x² + 2x + 5 = 0**\n",
      "    *   a = 1, b = 2, c = 5\n",
      "    *   x = (-2 ± √(4 - 20)) / 2 = (-2 ± √(-16)) / 2 (허근)\n",
      "\n",
      "이 외에도 다양한 2차 방정식에 근의 공식을 적용하여 해를 구할 수 있습니다.\n"
     ]
    }
   ],
   "source": [
    "# 실행 예시\n",
    "input_question = {\"question\": \"근의 공식에 대해서 설명해주고 예시를 들어줄래?\"}\n",
    "result = graph.invoke(input_question)\n",
    "print(result[\"answer\"])"
   ]
  },
  {
   "cell_type": "code",
   "execution_count": 40,
   "id": "8bce8410",
   "metadata": {},
   "outputs": [
    {
     "name": "stdout",
     "output_type": "stream",
     "text": [
      "인도와 인도네시아는 지리적 위치, 문화, 역사 등 여러 면에서 차이가 있습니다. 두 나라의 주요 차이점을 자세히 살펴보겠습니다.\n",
      "\n",
      "**1. 지리 및 위치:**\n",
      "\n",
      "*   **인도:** 남아시아에 위치하며, 파키스탄, 중국, 네팔, 부탄, 방글라데시, 미얀마와 국경을 접하고 있습니다. 힌두스탄 반도에 위치하며, 다양한 지형을 가지고 있습니다.\n",
      "*   **인도네시아:** 동남아시아와 태평양 사이에 위치한 섬나라로, 수많은 섬들로 이루어져 있습니다. 세계에서 가장 큰 군도 국가입니다.\n",
      "\n",
      "**2. 인구 및 민족:**\n",
      "\n",
      "*   **인도:** 세계에서 가장 인구가 많은 나라 중 하나이며, 다양한 민족과 언어가 공존합니다. 힌두교 신자가 다수를 차지합니다.\n",
      "*   **인도네시아:** 세계에서 네 번째로 인구가 많은 나라이며, 다양한 민족과 언어가 존재합니다. 이슬람교 신자가 다수를 차지합니다.\n",
      "\n",
      "**3. 문화:**\n",
      "\n",
      "*   **인도:** 힌두교 문화의 영향을 많이 받았으며, 요가, 아유르베다, 인도 음악, 인도 영화 등 독특한 문화를 가지고 있습니다.\n",
      "*   **인도네시아:** 다양한 문화적 영향을 받았으며, 인도, 중국, 아랍, 유럽 등의 문화가 혼합되어 있습니다. 전통 춤, 음악, 미술, 공예 등이 발달했습니다.\n",
      "\n",
      "**4. 역사:**\n",
      "\n",
      "*   **인도:** 고대 문명이 발달했으며, 불교, 자이나교 등 다양한 종교의 발상지입니다. 영국 식민지였다가 독립했습니다.\n",
      "*   **인도네시아:** 다양한 왕국들이 번성했으며, 네덜란드 식민지였다가 독립했습니다.\n",
      "\n",
      "**5. 경제:**\n",
      "\n",
      "*   **인도:** 서비스업이 발달했으며, IT 산업이 빠르게 성장하고 있습니다.\n",
      "*   **인도네시아:** 천연자원이 풍부하며, 농업, 광업, 제조업이 발달했습니다.\n",
      "\n",
      "**6. 언어:**\n",
      "\n",
      "*   **인도:** 힌디어, 영어, 그리고 다양한 지역 언어가 사용됩니다.\n",
      "*   **인도네시아:** 인도네시아어를 사용하며, 지역적으로 다양한 언어가 사용됩니다.\n",
      "\n",
      "**요약:**\n",
      "\n",
      "| 특징 | 인도 | 인도네시아 |\n",
      "|---|---|---|\n",
      "| 위치 | 남아시아 | 동남아시아 및 태평양 |\n",
      "| 주요 종교 | 힌두교 | 이슬람교 |\n",
      "| 주요 언어 | 힌디어, 영어 | 인도네시아어 |\n",
      "| 문화적 영향 | 힌두교, 불교 | 인도, 중국, 아랍, 유럽 |\n",
      "| 경제 | 서비스업, IT 산업 | 천연자원, 농업, 제조업 |\n",
      "\n",
      "이 외에도 두 나라는 정치, 사회, 외교 등 다양한 측면에서 차이가 있습니다.\n"
     ]
    }
   ],
   "source": [
    "# 실행 예시\n",
    "input_question = {\"question\": \"인도와 인도네시아는 뭐가 달라?\"}\n",
    "result = graph.invoke(input_question)\n",
    "print(result[\"answer\"])"
   ]
  },
  {
   "cell_type": "code",
   "execution_count": null,
   "id": "25f3f2ed",
   "metadata": {},
   "outputs": [],
   "source": []
  }
 ],
 "metadata": {
  "kernelspec": {
   "display_name": "pl_llm",
   "language": "python",
   "name": "python3"
  },
  "language_info": {
   "codemirror_mode": {
    "name": "ipython",
    "version": 3
   },
   "file_extension": ".py",
   "mimetype": "text/x-python",
   "name": "python",
   "nbconvert_exporter": "python",
   "pygments_lexer": "ipython3",
   "version": "3.12.0"
  }
 },
 "nbformat": 4,
 "nbformat_minor": 5
}
