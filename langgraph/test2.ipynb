{
 "cells": [
  {
   "cell_type": "markdown",
   "id": "0026a2ce",
   "metadata": {},
   "source": [
    "# README\n",
    "\n",
    "랭그래프의 기본적인 작업 후 대화 내용을 기억하는 챗봇 관련 랭그래프를 구성해보려고 함"
   ]
  },
  {
   "cell_type": "code",
   "execution_count": 12,
   "id": "adeb4ae7",
   "metadata": {},
   "outputs": [],
   "source": [
    "from langchain_ollama.chat_models import ChatOllama\n",
    "from langchain_core.runnables import RunnableLambda\n",
    "from langchain.memory import ConversationBufferMemory\n",
    "# from langchain_ollama.chat_models import ChatOpenAI\n",
    "# from langchain.schema import Sys\n",
    "from langgraph.graph import StateGraph, END\n",
    "# .graph import StateGraph, END"
   ]
  },
  {
   "cell_type": "code",
   "execution_count": null,
   "id": "c7560a0a",
   "metadata": {},
   "outputs": [],
   "source": [
    "key = open('../../../api_key.txt','r')\n",
    "api_key = key.read()\n",
    "# openai.api_key = api_key\n",
    "\n",
    "base_ = open('../../../base_url.txt','r')\n",
    "base_url = base_.read()\n",
    "# openai.api_key = api_key"
   ]
  },
  {
   "cell_type": "code",
   "execution_count": 72,
   "id": "43b69d6e",
   "metadata": {},
   "outputs": [],
   "source": [
    "llm = ChatOllama(model = 'gemma3:12b',\n",
    "                 base_url=base_url)\n",
    "\n",
    "# 전체 대화 기억\n",
    "memory = ConversationBufferMemory(return_messages=True)"
   ]
  },
  {
   "cell_type": "code",
   "execution_count": 45,
   "id": "31d4cdaf",
   "metadata": {},
   "outputs": [
    {
     "data": {
      "text/plain": [
       "'저는 실시간 날씨 정보를 제공할 수 없습니다. 현재 날씨를 확인하시려면 날씨 앱이나 웹사이트를 이용해 주세요. 예를 들어 다음과 같은 곳에서 확인하실 수 있습니다:\\n\\n*   **네이버 날씨:** [https://weather.naver.com/](https://weather.naver.com/)\\n*   **기상청 날씨누리:** [https://www.weather.go.kr/](https://www.weather.go.kr/)\\n\\n어느 지역의 날씨를 알고 싶으신가요? 지역을 알려주시면 해당 지역의 날씨를 검색하는 방법을 알려드릴 수 있습니다.'"
      ]
     },
     "execution_count": 45,
     "metadata": {},
     "output_type": "execute_result"
    }
   ],
   "source": [
    "llm.invoke(\"오늘 날씨 어때?\").content.strip().lower()"
   ]
  },
  {
   "cell_type": "code",
   "execution_count": 49,
   "id": "ed202b6a",
   "metadata": {},
   "outputs": [],
   "source": [
    "# Node 1: 질문 내용 구분 함수\n",
    "def classify_question(stats):\n",
    "    # input_question = {\"question\": \"3 곱하기 7은 얼마야?\"}\n",
    "\n",
    "    question = stats[\"question\"]\n",
    "    messages = [\n",
    "                    {\"role\": \"system\", \n",
    "                        \"content\": f\"\"\"당신은 질문이 어떤 분야의 질문을 하는 분류하는 분류기입니다. \n",
    "                        수학 문제면 'math', 역사 문제면 'history', 과학문제면 'science', 아니면 'general'로만 대답하세요.\n",
    "                        \"\"\"\n",
    "                        },\n",
    "                    {\"role\": \"user\", \n",
    "                    \"content\": question}\n",
    "                ]\n",
    "    response = llm.invoke(messages).content.strip().lower()\n",
    "    stats['type']=response\n",
    "    return stats"
   ]
  },
  {
   "cell_type": "code",
   "execution_count": 73,
   "id": "6a8543c2",
   "metadata": {},
   "outputs": [],
   "source": [
    "def generate_response(state, category):\n",
    "    history = memory.chat_memory.messages  # 이전 대화\n",
    "    current_question = state[\"question\"]\n",
    "    \n",
    "    # 현재 질문과 카테고리에 맞는 프롬프트 구성\n",
    "    prompt = f\"사용자가 이렇게 질문했습니다: '{current_question}'\\n\"\n",
    "    if category == \"math\":\n",
    "        prompt += \"→ 질문에 대해서 개념 및 풀이과정을 상세히 설명해주세요.\"\n",
    "    elif category == \"history\":\n",
    "        prompt += \"→ 역사적 사건에 대한 배경 및 순서, 내용에 대해서 상세히 설명해주세요.\"\n",
    "    elif category == \"science\":\n",
    "        prompt += \"→ 과학적인 근거를 이용한 개념 및 관련 정보 대해서 상세히 설명해주세요.\"\n",
    "    else:\n",
    "        prompt += \"→ 사용자의 물음에 친절히 답해주세요.\"\n",
    "    \n",
    "    # 모델 호출\n",
    "    answer = llm.invoke(history + [{\"role\": \"user\", \"content\": prompt}])\n",
    "    response = answer.content\n",
    "    \n",
    "    # 응답을 메모리에 저장\n",
    "    memory.chat_memory.add_user_message(current_question)\n",
    "    memory.chat_memory.add_ai_message(response)\n",
    "    \n",
    "    state[\"response\"] = response\n",
    "    return state"
   ]
  },
  {
   "cell_type": "code",
   "execution_count": 74,
   "id": "eb1394b9",
   "metadata": {},
   "outputs": [],
   "source": [
    "# Node Wrappers\n",
    "math_node = RunnableLambda(lambda s: generate_response(s, \"math\"))\n",
    "history_node = RunnableLambda(lambda s: generate_response(s, \"history\"))\n",
    "science_node = RunnableLambda(lambda s: generate_response(s, \"science\"))\n",
    "general_node = RunnableLambda(lambda s: generate_response(s, \"general\"))"
   ]
  },
  {
   "cell_type": "code",
   "execution_count": 81,
   "id": "b0d2d210",
   "metadata": {},
   "outputs": [],
   "source": [
    "def decide_next(state):\n",
    "    return state[\"type\"]"
   ]
  },
  {
   "cell_type": "code",
   "execution_count": 82,
   "id": "7e1fe134",
   "metadata": {},
   "outputs": [
    {
     "data": {
      "text/plain": [
       "<langgraph.graph.state.StateGraph at 0x7f5582984ad0>"
      ]
     },
     "execution_count": 82,
     "metadata": {},
     "output_type": "execute_result"
    }
   ],
   "source": [
    "# ✅ LangGraph 구성\n",
    "state_type = dict\n",
    "graph = StateGraph(state_schema=state_type)\n",
    "\n",
    "graph.add_node(\"classify\", RunnableLambda(classify_question))\n",
    "graph.add_node(\"math\", math_node)\n",
    "graph.add_node(\"history\", history_node)\n",
    "graph.add_node(\"science\", science_node)\n",
    "graph.add_node(\"general\", general_node)\n",
    "\n",
    "\n",
    "graph.add_edge(\"math\", END)\n",
    "graph.add_edge(\"history\", END)\n",
    "graph.add_edge(\"science\", END)\n",
    "graph.add_edge(\"general\", END)\n"
   ]
  },
  {
   "cell_type": "code",
   "execution_count": 83,
   "id": "8aa94633",
   "metadata": {},
   "outputs": [
    {
     "data": {
      "text/plain": [
       "<langgraph.graph.state.StateGraph at 0x7f5582984ad0>"
      ]
     },
     "execution_count": 83,
     "metadata": {},
     "output_type": "execute_result"
    }
   ],
   "source": [
    "graph.set_entry_point(\"classify\")\n",
    "\n",
    "graph.add_conditional_edges(\n",
    "    \"classify\",\n",
    "    path=RunnableLambda(decide_next),\n",
    "    path_map={\n",
    "        \"math\": \"math\",\n",
    "        \"history\": \"history\",\n",
    "        \"science\": \"science\",\n",
    "        \"general\": \"general\",\n",
    "    }\n",
    ")"
   ]
  },
  {
   "cell_type": "code",
   "execution_count": 84,
   "id": "637f231a",
   "metadata": {},
   "outputs": [],
   "source": [
    "chat_agent = graph.compile()\n"
   ]
  },
  {
   "cell_type": "code",
   "execution_count": 98,
   "id": "b1f6bdbc",
   "metadata": {},
   "outputs": [
    {
     "data": {
      "text/plain": [
       "{'question': 'Thinkpad 에 대해서 설명해줘',\n",
       " 'type': 'general',\n",
       " 'response': '안녕하세요! Thinkpad에 대해 궁금하시군요. Thinkpad는 레노버(Lenovo)에서 출시하는 노트북 브랜드인데, 정말 오랜 역사를 가지고 있고, 특유의 디자인과 뛰어난 성능으로 많은 사랑을 받고 있습니다. Thinkpad에 대해 자세히 설명해 드릴게요.\\n\\n**1. Thinkpad의 역사와 특징**\\n\\n* **IBM 시절의 명성:** Thinkpad는 원래 IBM에서 개발하고 생산하던 노트북 브랜드였습니다. 1990년대부터 시작하여 뛰어난 내구성과 안정성, 키보드의 훌륭한 타건감으로 기업 시장에서 큰 인기를 얻었습니다. \\n* **레노버 인수:** 2005년 IBM의 PC 사업부문이 레노버에 인수되면서 Thinkpad 브랜드도 레노버로 옮겨왔습니다. 레노버는 Thinkpad의 전통을 잘 이어받아 혁신적인 기술과 디자인을 더하며 Thinkpad의 명성을 더욱 높였습니다.\\n* **주요 특징:**\\n    * **뛰어난 내구성과 안정성:** Thinkpad는 밀리터리 스펙(MIL-STD)을 만족하는 내구성을 갖추고 있어 충격, 먼지, 진동, 극한 온도 등 다양한 환경에서도 안정적인 사용이 가능합니다.\\n    * **훌륭한 키보드:** Thinkpad의 키보드는 깊은 키 스트로크와 정확한 입력감으로 유명합니다. 장시간 타이핑 작업에도 피로감이 덜하고 생산성을 높여줍니다.\\n    * **트랙포인트:** Thinkpad의 가장 큰 특징 중 하나인 트랙포인트는 키보드 중앙에 위치한 빨간색 점으로, 마우스 없이도 커서를 움직일 수 있도록 해줍니다. 익숙해지면 Thinkpad만의 독특한 조작감을 느낄 수 있습니다.\\n* **다양한 라인업:** Thinkpad는 사용 목적과 예산에 따라 다양한 라인업을 제공합니다.\\n    * **T 시리즈:** Thinkpad의 대표적인 라인업으로, 뛰어난 성능과 휴대성을 겸비하여 비즈니스 사용자에게 인기가 많습니다.\\n    * **X 시리즈:** X 시리즈는 얇고 가벼운 울트라북으로, 휴대성을 중시하는 사용자에게 적합합니다.\\n    * **P 시리즈:** P 시리즈는 고성능 워크스테이션으로, 그래픽 작업이나 데이터 분석 등 전문적인 작업에 적합합니다.\\n    * **L 시리즈:** L 시리즈는 가성비가 좋은 라인업으로, 일반적인 사용 목적에 적합합니다.\\n\\n**2. Thinkpad를 선택하는 이유**\\n\\n* **신뢰성과 안정성:** 오랜 역사와 검증된 기술력을 바탕으로 뛰어난 신뢰성과 안정성을 제공합니다.\\n* **탁월한 사용자 경험:** 훌륭한 키보드와 트랙포인트를 통해 최적의 사용자 경험을 제공합니다.\\n* **세련된 디자인:** 검은색의 무채색 디자인과 Thinkpad 로고는 Thinkpad만의 개성을 나타냅니다.\\n* **다양한 선택지:** 사용 목적과 예산에 따라 다양한 모델을 선택할 수 있습니다.\\n\\nThinkpad에 대해 더 궁금한 점이 있으시면 언제든지 질문해주세요! 어떤 모델을 찾고 계신지 알려주시면 더욱 자세한 정보를 드릴 수 있습니다.'}"
      ]
     },
     "execution_count": 98,
     "metadata": {},
     "output_type": "execute_result"
    }
   ],
   "source": [
    "chat_agent.invoke({\"question\": \"Thinkpad 에 대해서 설명해줘\"})"
   ]
  },
  {
   "cell_type": "code",
   "execution_count": 102,
   "id": "ece1f247",
   "metadata": {},
   "outputs": [
    {
     "data": {
      "text/plain": [
       "'## 이순신 장군의 “마린 메딕(Marine Medic)” 전략: 조선 수군의 혁신적인 생존 전략 상세 분석\\n\\n사용자께서 질문하신 “마린 메딕(Marine Medic)” 전략은 정확히 기록에 남아있는 용어는 아닙니다. 하지만, 이순신 장군이 지휘했던 조선 수군이 보여준 혁신적인 구조와 운영 방식, 특히 전투 중 부상병을 구조하고 치료하는 과정을 포괄적으로 설명하는 현대적 표현으로 이해할 수 있습니다. 당시 조선 수군은 위기 상황 속에서 부상병을 보호하고 전투력을 유지하기 위한 독특한 시스템을 구축했고, 이는 현대의 ‘전술적 후방 지원’ 개념과 일맥상통합니다.\\n\\n**1. 역사적 배경: 임진왜란과 조선 수군의 위기**\\n\\n* **임진왜란 발발 (1592년):** 일본의 무사 출신인 도요토미 히데요시는 조선을 정복하고 명나라를 공격하기 위해 조선에 침략했습니다.\\n* **조선 수군의 열세:** 당시 조선 수군은 병력과 장비 면에서 일본 수군에 비해 열세였습니다.\\n* **잦은 전투와 높은 부상병 발생:** 끊임없는 전투로 인해 부상병 발생률이 높았고, 이는 조선 수군의 전투력 약화로 이어졌습니다.\\n* **획일적인 치료 방식의 한계:** 기존의 획일적인 치료 방식으로는 모든 부상병을 효과적으로 치료하기 어려웠습니다.\\n\\n**2. 이순신 장군의 혁신적인 생존 전략: 마린 메딕 (Marine Medic) 등장 배경**\\n\\n이러한 상황 속에서 이순신 장군은 기존의 의료 시스템의 한계를 극복하고, 전투력을 유지하기 위한 혁신적인 전략을 도입합니다.\\n\\n* **전투 중 부상병 구조의 중요성 인식:** 이순신 장군은 전투 중 부상병을 신속하게 구조하고 치료하는 것이 전투 승패를 좌우하는 중요한 요소임을 인식합니다.\\n* **전투함 내 의료팀 운영:** 각 전투함에 의무병, 약사, 훈련된 병사로 구성된 의료팀을 배치하여 전투 중 발생하는 부상병을 즉시 치료하도록 했습니다.\\n* **정규 의료선 운영:** 부상병 수송 및 집중 치료를 위해 ‘의료선’이라고 불리는 정규 선박을 운영했습니다. 이 선박에는 숙련된 의료진과 충분한 의약품을 비치하여 신속하게 부상병을 치료하고 회복시킬 수 있도록 했습니다.\\n* **해상 병원 구축:** 주요 거점에 해상 병원을 구축하여 부상병의 집중 치료 및 재활을 지원했습니다.\\n* **후방 지원 시스템 강화:** 전투 현장에 가까운 곳에 후방 지원 기지를 설치하여 의약품, 의료 장비, 인력 등을 지원했습니다.\\n\\n**3. 마린 메딕 전략의 내용 및 순서**\\n\\n이순신 장군의 “마린 메딕” 전략은 다음과 같은 단계로 실행되었습니다.\\n\\n1. **전투 개시:** 전투가 시작되면 각 전투함의 의료팀은 부상병 발생 상황을 주시합니다.\\n2. **신속한 구조:** 부상병이 발생하면 의료팀은 즉시 부상병을 구조하고 응급 처치를 시행합니다.\\n3. **전투함 내 응급 치료:** 부상병은 전투함 내에서 응급 치료를 받습니다. 의료팀은 지혈, 봉합, 골절 고정 등 기본적인 응급 처치를 시행합니다.\\n4. **의료선으로 이송:** 응급 처치가 완료된 부상병은 의료선으로 이송됩니다.\\n5. **의료선 집중 치료:** 의료선에서 부상병은 숙련된 의료진의 집중적인 치료를 받습니다.\\n6. **해상 병원으로 이송:** 상태가 심각한 부상병은 해상 병원으로 이송되어 집중적인 치료를 받습니다.\\n7. **후방 지원 기지:** 의약품, 의료 장비, 인력 등을 후방 지원 기지로부터 지원받습니다.\\n\\n**4. “마린 메딕” 전략의 효과**\\n\\n* **전투력 유지:** 부상병을 신속하게 치료하고 회복시켜 전투력을 유지하는 데 기여했습니다.\\n* **사기 진작:** 부상병에 대한 적절한 치료는 병사들의 사기를 진작시키는 데 큰 영향을 미쳤습니다.\\n* **전쟁 승리에 기여:** 이순신 장군의 “마린 메딕” 전략은 임진왜란 승리에 크게 기여했습니다.\\n\\n**결론적으로,** “마린 메딕” 전략은 이순신 장군이 보여준 뛰어난 리더십과 혁신적인 사고방식의 결과물입니다. 이 전략은 조선 수군이 보여준 생존 전략의 정수를 보여주는 사례이며, 현대의 전술적 후방 지원 개념과도 일맥상통합니다.'"
      ]
     },
     "execution_count": 102,
     "metadata": {},
     "output_type": "execute_result"
    }
   ],
   "source": [
    "result=chat_agent.invoke({\"question\": \"이순신 장군이 사용하였던 마린 메딕 전략에 대해서 설명해줘 \"})\n",
    "result['response']"
   ]
  },
  {
   "cell_type": "code",
   "execution_count": null,
   "id": "043efb68",
   "metadata": {},
   "outputs": [],
   "source": []
  },
  {
   "cell_type": "code",
   "execution_count": null,
   "id": "4ea900ea",
   "metadata": {},
   "outputs": [
    {
     "data": {
      "text/plain": [
       "{'question': '근의공식이 뭐야?',\n",
       " 'type': 'math',\n",
       " 'response': '## 사용자의 질문 \"근의공식이 뭐야?\"에 대한 상세 설명 (개념 및 풀이 과정 포함)\\n\\n사용자의 질문에 답하기 위해 근의공식의 개념과 풀이 과정을 최대한 자세하고 쉽게 설명하겠습니다.\\n\\n**1. 왜 근의공식을 알아야 할까요? (도입)**\\n\\n우선, 근의공식이 왜 중요한지, 왜 배워야 하는지부터 알아봅시다.\\n\\n* **2차 방정식 풀이:** 우리 주변에는 다양한 문제가 2차 방정식으로 표현될 수 있습니다. 예를 들어, 물체의 운동 궤적, 최적화 문제 등입니다. 하지만 2차 방정식을 인수분해하기 어려울 때가 많습니다. 이때 근의공식이 빛을 발합니다.\\n* **수학적 사고력 향상:** 근의공식은 방정식의 해를 찾는 과정을 이해하고, 추상적인 수학적 사고력을 키우는 데 도움이 됩니다.\\n* **다른 분야와의 연계:** 물리학, 공학 등 다양한 분야에서 2차 방정식이 사용되므로, 근의공식은 실생활 문제 해결에도 활용될 수 있습니다.\\n\\n**2. 2차 방정식이란 무엇인가? (개념 정리)**\\n\\n근의공식을 이해하기 위해서는 2차 방정식에 대한 기본적인 이해가 필요합니다. 2차 방정식은 다음과 같은 형태를 띠는 방정식입니다.\\n\\n**ax² + bx + c = 0** (단, a ≠ 0)\\n\\n* **a, b, c:** 상수 (정수, 분수, 실수 등)\\n* **x:** 미지수 (우리가 구해야 할 값)\\n\\n예를 들어: 2x² + 3x - 1 = 0  (a = 2, b = 3, c = -1)\\n\\n**3. 근의공식이란 무엇인가? (핵심 개념)**\\n\\n근의공식은 2차 방정식 ax² + bx + c = 0 의 해(근)를 구하는 공식입니다.  즉, x에 어떤 값을 대입하면 방정식이 성립하는 x 값을 찾는 것입니다.\\n\\n**근의공식:**\\n\\n**x₁ = (-b + √(b² - 4ac)) / 2a**\\n\\n**x₂ = (-b - √(b² - 4ac)) / 2a**\\n\\n**4. 각 기호는 무엇을 의미할까요?**\\n\\n* **a, b, c:** 2차 방정식의 계수 (위에서 설명했습니다.)\\n* **√ (루트):** 제곱근을 의미합니다. 예를 들어, √9 = 3 입니다.\\n* **b² - 4ac:**  이 부분은 **판별식**이라고 불립니다. 판별식의 값에 따라 해의 종류가 결정됩니다.  (아래 5번에서 자세히 설명합니다.)\\n* **2a:** a의 2배입니다.\\n\\n**5. 판별식(b² - 4ac) 이란 무엇이며, 왜 중요할까요?**\\n\\n판별식은 2차 방정식의 해의 특징을 알려주는 중요한 지표입니다.\\n\\n* **b² - 4ac > 0:** 서로 다른 두 실근을 갖습니다. (실수 범위에서 두 개의 해를 가짐)\\n* **b² - 4ac = 0:** 중근(같은 값의 두 실근)을 갖습니다. (실수 범위에서 하나의 해를 가짐, 중복)\\n* **b² - 4ac < 0:** 서로 다른 두 허근을 갖습니다. (실수 범위에서는 해가 없음, 복소수 해 존재)\\n\\n**6. 풀이 과정 예시 (실제 문제 적용)**\\n\\n다음 2차 방정식을 풀어보겠습니다:  **x² + 2x - 1 = 0**\\n\\n1. **계수 확인:** a = 1, b = 2, c = -1\\n2. **근의 공식에 대입:**\\n   * x₁ = (-2 + √(2² - 4 * 1 * -1)) / (2 * 1)\\n   * x₂ = (-2 - √(2² - 4 * 1 * -1)) / (2 * 1)\\n3. **계산:**\\n   * x₁ = (-2 + √(4 + 4)) / 2 = (-2 + √8) / 2 = (-2 + 2√2) / 2 = -1 + √2\\n   * x₂ = (-2 - √(4 + 4)) / 2 = (-2 - √8) / 2 = (-2 - 2√2) / 2 = -1 - √2\\n\\n따라서, 이 2차 방정식의 해는 x = -1 + √2 와 x = -1 - √2 입니다.\\n\\n**7. 주의 사항**\\n\\n* **계수 정확히 대입:** a, b, c 값을 정확하게 대입해야 합니다. 잘못 대입하면 해를 제대로 구할 수 없습니다.\\n* **계산 실수 방지:** 특히 루트 안의 계산과 분수 계산에서 실수를 하지 않도록 주의해야 합니다.\\n* **판별식 확인:** 판별식이 음수이면 실근이 없다는 것을 인지해야 합니다.\\n\\n**마무리:**\\n\\n근의공식은 처음에는 복잡해 보일 수 있지만, 연습을 통해 익숙해지면 2차 방정식을 풀 때 매우 유용한 도구가 될 것입니다. 꾸준히 문제를 풀어보면서 숙달하는 것이 중요합니다!'}"
      ]
     },
     "execution_count": 88,
     "metadata": {},
     "output_type": "execute_result"
    }
   ],
   "source": [
    "chat_agent.invoke({\"question\": \"근의공식이 뭐야?\"})"
   ]
  },
  {
   "cell_type": "code",
   "execution_count": null,
   "id": "3072dcf6",
   "metadata": {},
   "outputs": [],
   "source": [
    "result = chat_agent.invoke({\"question\": \"세종대왕의 업적은?\"})\n",
    "print(result['question'])\n",
    "print(result['response'])"
   ]
  },
  {
   "cell_type": "code",
   "execution_count": 94,
   "id": "3803cbad",
   "metadata": {},
   "outputs": [
    {
     "name": "stdout",
     "output_type": "stream",
     "text": [
      "세종대왕의 업적은?\n",
      "## 세종대왕의 업적 상세 설명: 역사적 배경과 순서, 내용\n",
      "\n",
      "세종대왕(세종, 1397년 ~ 1450년)은 조선 제4대 왕으로, 한국 역사상 가장 위대한 왕 중 한 명으로 꼽힙니다. 그의 업적은 단순히 훈민정음 창제를 넘어, 과학 기술 발전, 국방 강화, 민생 안정 등 다방면에서 빛을 발했습니다. 세종대왕의 업적을 역사적 배경과 순서, 내용을 자세히 설명하겠습니다.\n",
      "\n",
      "**1. 역사적 배경: 혼란과 새로운 시대의 요구**\n",
      "\n",
      "세종대왕이 즉위할 당시 조선은 여러 가지 어려움에 직면했습니다. 이러한 어려움들은 세종대왕이 백성을 위한 정치를 펼치고, 국가의 위상을 높이기 위한 노력의 배경이 되었습니다.\n",
      "\n",
      "* **정치적 혼란:** 성리학의 영향력이 강해지면서 사림 세력과 훈구 세력 간의 갈등이 심화되었습니다. 이는 왕권 약화로 이어져 정책 추진에 어려움을 겪게 했습니다.\n",
      "* **사회적 불평등:** 양반과 평민 간의 경제적, 사회적 격차가 심화되어 민생이 어려웠습니다. 특히 한자를 읽고 쓰지 못하는 백성들의 불만이 컸습니다.\n",
      "* **문맹률의 심각성:** 한자의 복잡성으로 인해 일반 백성은 한자를 읽고 쓸 수 없어, 정치 참여와 정보 습득에 어려움을 겪었습니다.\n",
      "* **잦은 외침:** 왜구의 침략이 끊이지 않아 백성들의 삶과 안전을 위협했습니다.\n",
      "* **농업 생산의 어려움:** 흉년이 잦아 농민들의 생활이 어려웠고, 이는 사회 불안으로 이어졌습니다.\n",
      "\n",
      "**2. 즉위와 초기 노력 (1418-1420): 훈정치 기틀 마련**\n",
      "\n",
      "* **1418년 즉위:** 세종은 태종의 셋째 아들로, 훈구 세력의 지지 속에서 즉위합니다.\n",
      "* **1418년 잦은 간신들의 폐출:** 간신들의 폐출을 통해 왕권을 강화하고, 공정한 관료 임용을 시작합니다.\n",
      "* **1419년 신미대반란 진압:** 신미대반란을 진압하며 왕권의 안정을 확립합니다.\n",
      "\n",
      "**3. 훈민정음 창제와 민본주의 정책 (1420-1430): 백성을 위한 개혁**\n",
      "\n",
      "* **1420년 훈민정음 창제:** 백성들이 쉽게 글을 읽고 쓸 수 있도록 훈민정음을 창제합니다. 이는 세종의 가장 위대한 업적으로 꼽힙니다.\n",
      "* **1421년 집현전 설치:** 학자들의 역량을 활용하여 국정을 자문하는 집현전을 설치합니다.\n",
      "* **1423년 오만 승정 필체 시행:** 공문서의 글씨체를 통일하여 문서의 효율성을 높입니다.\n",
      "* **1424년 국가의 재정 확립:** 국가 재정을 확립하여 백성들의 부담을 줄이고 국가의 기반을 다집니다.\n",
      "* **1428년 경국대전을 완성:** 국가의 통치 원리를 담은 경국대전을 완성하여 국가 체계를 확립합니다.\n",
      "\n",
      "**4. 과학 기술 발전 (1430-1440): 국위선양을 위한 노력**\n",
      "\n",
      "* **1434년 측우기 제작:** 강홍의 주도하에 측우기를 제작하여 과학적인 기상 관측 시스템을 구축합니다.\n",
      "* **1437년 자격루 설치:** 물시계인 자격루를 설치하여 시간을 정확하게 측정하고 백성들에게 시간 정보를 제공합니다.\n",
      "* **1439년 해시계 과학적 제작:** 앙부일구와 구현무영기를 제작하여 과학 기술의 발전을 이끌고 천문 관측의 정확성을 높입니다.\n",
      "* **1439년 청산별곡 간행:** 금속활자를 이용한 최초의 책인 청산별곡을 간행하여 인쇄 기술의 발전에 기여합니다.\n",
      "* **1441년 혼천도 제작:** 이천의 주도하에 혼천도를 제작하여 천문 관측의 정확성을 높입니다.\n",
      "\n",
      "**5. 국방 강화 및 외교 (1440-1450): 국익 확보를 위한 노력**\n",
      "\n",
      "* **1440년 성종 즉위:** 성종에게 왕위를 이어주고, 국정을 위한 기반을 마련합니다.\n",
      "* **1443년 갑자사화:** 훈구 세력의 권력 다툼으로 인해 발생한 갑자사화로 인해 많은 학자들이 희생됩니다.\n",
      "* **1447년 팔도 사신 파견:** 팔도에 사신을 파견하여 각 지역의 상황을 파악하고, 백성들의 불만을 해소합니다.\n",
      "* **1449년 외침 방어 위한 해전 및 거북선 제작:** 외침 방어를 위한 해전을 실시하고, 거북선을 제작하여 해군력을 강화합니다.\n",
      "\n",
      "**6. 세종의 업적 평가:**\n",
      "\n",
      "세종대왕은 훈민정음 창제를 통해 백성들에게 문맹 퇴치와 정보 접근성을 제공했을 뿐만 아니라, 과학 기술 발전, 국방 강화, 정치 개혁 등 다양한 분야에서 괄목할 만한 업적을 남겼습니다. 그의 업적은 한국 사회의 발전과 문화적 번영에 지대한 영향을 미쳤으며, 오늘날까지도 많은 사람들에게 영감을 주고 있습니다. 세종대왕은 한국 역사상 가장 위대한 왕 중 한 명으로 평가받고 있습니다.\n",
      "\n",
      "이처럼 세종대왕의 업적은 단순한 사건 나열이 아닌, 당시의 시대적 배경과 맞물려 백성을 위한 개혁을 이루어낸 위대한 업적입니다.\n"
     ]
    }
   ],
   "source": [
    "print(result['question'])\n",
    "print(result['response'])"
   ]
  },
  {
   "cell_type": "code",
   "execution_count": 90,
   "id": "97e727a4",
   "metadata": {},
   "outputs": [
    {
     "data": {
      "text/plain": [
       "{'question': '일식과 월식은 뭐야?',\n",
       " 'type': 'science',\n",
       " 'response': '## 일식과 월식: 천체 현상의 정석, 상세 과학 해설\\n\\n\"일식과 월식은 뭐야?\" 라는 질문에 대한 답변입니다. 이 두 현상은 하늘에서 관측되는 아름다운 천체 현상이지만, 그 원리는 꽤 흥미롭습니다. 과학적인 근거를 바탕으로 일식과 월식의 개념, 원리, 그리고 관련 정보를 상세히 설명하겠습니다.\\n\\n**1. 일식(Solar Eclipse): 태양이 가려지는 순간**\\n\\n* **개념:** 일식은 달이 태양과 지구 사이에 위치하여 태양을 가리는 현상입니다. 달의 그림자가 지구 표면에 드리워지면서 발생합니다.\\n* **원리:** 지구, 달, 태양이 정확히 일직선상에 놓여야 일식이 발생합니다. 달의 궤도가 지구 궤도와 약 5도 기울어져 있기 때문에 일식이 자주 발생하지 않습니다.\\n* **종류:**\\n    * **개기일식 (Total Solar Eclipse):** 달이 태양을 완전히 가려 태양이 보이지 않는 현상입니다. 일식 전체가 관측 가능하며, 태양 코로나(태양 대기의 가장 바깥층)를 관측할 수 있는 귀한 기회입니다.\\n    * **부분일식 (Partial Solar Eclipse):** 달이 태양의 일부만 가리는 현상입니다.\\n    * **반쪽그림자일식 (Annular Solar Eclipse):** 달이 태양을 완전히 가리지 못하고 태양의 가장자리가 보이는 현상입니다. 지구에서 달과의 거리가 멀 때 발생합니다.\\n* **관측 시 주의사항:** **반드시 태양 필터를 사용해야 합니다!** 맨눈으로 태양을 보면 심각한 시력 손상을 입을 수 있습니다.\\n\\n**2. 월식(Lunar Eclipse): 달이 붉게 물드는 밤**\\n\\n* **개념:** 월식은 지구가 태양과 달 사이에 위치하여 달에 그림자를 드리우는 현상입니다. 달이 지구의 그림자 속으로 들어가면서 발생합니다.\\n* **원리:** 지구, 달, 태양이 일직선상에 놓여야 월식이 발생합니다. 달은 태양의 빛을 직접 받지 않고 지구에 반사된 빛을 받기 때문에, 지구의 그림자가 드리워지면서 발생합니다.\\n* **종류:**\\n    * **전월식 (Total Lunar Eclipse):** 달이 지구의 본그림자 속에 완전히 들어가면서 발생합니다. 달은 완전히 어두워지지 않고 붉게 보이는 경우가 많습니다. 이는 지구 대기를 통과하면서 붉은 빛이 더 많이 산란되기 때문입니다 (레일리 산란).\\n    * **부분월식 (Partial Lunar Eclipse):** 달의 일부만 지구의 본그림자 속에 들어가는 현상입니다.\\n    * **반쪽그림자월식 (Penumbral Lunar Eclipse):** 달이 지구의 반그림자 속에 들어가는 현상입니다. 달이 약간 어두워 보이지만, 일반적인 경우에는 잘 알아차리기 어렵습니다.\\n* **관측 시 주의사항:** **맨눈으로도 안전하게 관측 가능합니다.** 특별한 장비가 필요하지 않습니다.\\n\\n**3. 일식과 월식의 예측 및 주기**\\n\\n* **일식 주기:** 일식은 매년 두 번 이상 발생하지만, 특정 지역에서는 수백 년에 한 번밖에 관측할 수 없는 경우도 있습니다.\\n* **월식 주기:** 월식은 일식보다 관측 빈도가 높습니다. 매년 2~3회 정도 발생합니다.\\n* **예측:** 천문학자들은 지구와 달의 궤도를 정확하게 계산하여 일식과 월식의 발생 시기와 위치를 예측합니다.\\n\\n**4. 추가적인 정보**\\n\\n* **대응:** 일식과 월식은 고대부터 다양한 문화권에서 중요하게 여겨졌으며, 종교적인 의미를 부여받기도 했습니다.\\n* **과학적 연구:** 일식은 태양 코로나를 연구할 수 있는 중요한 기회를 제공하며, 월식은 지구 대기의 구조를 연구하는 데 도움을 줍니다.\\n* **천문 관측:** 천문 동호회나 과학관 등에서 일식과 월식 관측 행사를 개최하는 경우가 많으니, 참여하여 직접 천체 현상을 경험해 보는 것도 좋은 방법입니다.\\n\\n**주의사항:** 일식은 반드시 안전한 방법으로 관측해야 합니다. 절대 맨눈으로 태양을 보지 마세요! 안전한 관측 장비를 사용하고, 전문가의 지도를 받는 것이 좋습니다.'}"
      ]
     },
     "execution_count": 90,
     "metadata": {},
     "output_type": "execute_result"
    }
   ],
   "source": [
    "chat_agent.invoke({\"question\": \"일식과 월식은 뭐야?\"})\n"
   ]
  },
  {
   "cell_type": "code",
   "execution_count": 91,
   "id": "f3c8cbf7",
   "metadata": {},
   "outputs": [
    {
     "data": {
      "text/plain": [
       "{'question': '저녁 뭐 먹을까?',\n",
       " 'type': 'general',\n",
       " 'response': '저녁 메뉴 고민이시군요! 어떤 음식을 좋아하시나요? \\n\\n몇 가지 추천을 드리자면…\\n\\n* **간단한 메뉴:** 김치볶음밥, 라면, 계란찜 같은 간단한 메뉴도 좋구요.\\n* **든든한 메뉴:** 삼겹살, 파스타, 찜닭처럼 푸짐한 메뉴도 괜찮죠!\\n* **특별한 메뉴:** 평소에 잘 안 먹는 음식이나 새로운 레시피에 도전해 보는 것도 재밌을 거예요.\\n\\n혹시 특별히 생각나는 메뉴가 있으신가요? 아니면 냉장고에 있는 재료를 알려주시면, 그걸로 만들 수 있는 요리를 추천해 드릴 수도 있어요! 😊'}"
      ]
     },
     "execution_count": 91,
     "metadata": {},
     "output_type": "execute_result"
    }
   ],
   "source": [
    "chat_agent.invoke({\"question\": \"저녁 뭐 먹을까?\"})"
   ]
  },
  {
   "cell_type": "code",
   "execution_count": null,
   "id": "527db458",
   "metadata": {},
   "outputs": [],
   "source": []
  }
 ],
 "metadata": {
  "kernelspec": {
   "display_name": "pl_llm",
   "language": "python",
   "name": "python3"
  },
  "language_info": {
   "codemirror_mode": {
    "name": "ipython",
    "version": 3
   },
   "file_extension": ".py",
   "mimetype": "text/x-python",
   "name": "python",
   "nbconvert_exporter": "python",
   "pygments_lexer": "ipython3",
   "version": "3.12.0"
  }
 },
 "nbformat": 4,
 "nbformat_minor": 5
}
