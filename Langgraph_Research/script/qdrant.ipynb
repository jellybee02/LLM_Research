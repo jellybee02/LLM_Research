{
 "cells": [
  {
   "cell_type": "code",
   "execution_count": 3,
   "id": "f7857537",
   "metadata": {},
   "outputs": [],
   "source": [
    "import numpy as np, pandas as pd, json, glob, os, openai\n",
    "# from sentence_transformers import SentenceTransformer\n",
    "from openai import OpenAI\n",
    "from typing import List, Tuple, Union\n",
    "from langchain_ollama.embeddings import OllamaEmbeddings\n",
    "from tqdm.auto import tqdm\n",
    "# import shutil\n",
    "from sentence_transformers import SentenceTransformer\n",
    "\n"
   ]
  },
  {
   "cell_type": "code",
   "execution_count": 4,
   "id": "9f758266",
   "metadata": {},
   "outputs": [],
   "source": [
    "from qdrant_client import QdrantClient\n",
    "from qdrant_client.models import VectorParams, Distance, PointStruct\n"
   ]
  },
  {
   "cell_type": "code",
   "execution_count": null,
   "id": "2365d497",
   "metadata": {},
   "outputs": [],
   "source": [
    "client = QdrantClient(path=\"../data/qdrant_local\")  # 데이터는 ./qdrant_local 폴더에 저장됨\n",
    "\n",
    "# 2️⃣ 컬렉션 이름 및 파라미터 정의\n",
    "collection_name = \"TL_내과\""
   ]
  },
  {
   "cell_type": "code",
   "execution_count": 27,
   "id": "83735951",
   "metadata": {},
   "outputs": [
    {
     "data": {
      "text/plain": [
       "True"
      ]
     },
     "execution_count": 27,
     "metadata": {},
     "output_type": "execute_result"
    }
   ],
   "source": [
    "client.delete_collection(collection_name=collection_name)"
   ]
  },
  {
   "cell_type": "code",
   "execution_count": 20,
   "id": "72ad8bfe",
   "metadata": {},
   "outputs": [],
   "source": [
    "# client.create_collection(\n",
    "#         collection_name=collection_name,\n",
    "#         vectors_config=VectorParams(size=1024, distance=Distance.COSINE)\n",
    "#     )\n",
    "model = SentenceTransformer(\"BAAI/bge-m3\")\n"
   ]
  },
  {
   "cell_type": "code",
   "execution_count": 28,
   "id": "611a985e",
   "metadata": {},
   "outputs": [
    {
     "name": "stdout",
     "output_type": "stream",
     "text": [
      "TL_내과\n"
     ]
    },
    {
     "name": "stderr",
     "output_type": "stream",
     "text": [
      "  0%|          | 0/10299 [00:00<?, ?it/s]"
     ]
    },
    {
     "name": "stderr",
     "output_type": "stream",
     "text": [
      "100%|██████████| 10299/10299 [09:56<00:00, 17.28it/s]\n"
     ]
    },
    {
     "name": "stdout",
     "output_type": "stream",
     "text": [
      "TL_내과 done===============\n",
      "TL_산부인과\n"
     ]
    },
    {
     "name": "stderr",
     "output_type": "stream",
     "text": [
      "100%|██████████| 1991/1991 [01:53<00:00, 17.48it/s]\n"
     ]
    },
    {
     "name": "stdout",
     "output_type": "stream",
     "text": [
      "TL_산부인과 done===============\n",
      "TL_소아청소년과\n"
     ]
    },
    {
     "name": "stderr",
     "output_type": "stream",
     "text": [
      "100%|██████████| 2421/2421 [02:13<00:00, 18.12it/s]\n"
     ]
    },
    {
     "name": "stdout",
     "output_type": "stream",
     "text": [
      "TL_소아청소년과 done===============\n",
      "TL_응급의학과\n"
     ]
    },
    {
     "name": "stderr",
     "output_type": "stream",
     "text": [
      "100%|██████████| 649/649 [00:27<00:00, 23.68it/s]"
     ]
    },
    {
     "name": "stdout",
     "output_type": "stream",
     "text": [
      "TL_응급의학과 done===============\n"
     ]
    },
    {
     "name": "stderr",
     "output_type": "stream",
     "text": [
      "\n"
     ]
    }
   ],
   "source": [
    "path = '../../../data/1.데이터/Training/02.라벨링데이터/'\n",
    "os.listdir(path)\n",
    "for name_ in os.listdir(path):\n",
    "    print(name_)\n",
    "    collection_name = name_\n",
    "    client.create_collection(\n",
    "    collection_name=collection_name,\n",
    "    vectors_config=VectorParams(size=1024, distance=Distance.COSINE)\n",
    "    )\n",
    "    for i in tqdm(os.listdir(path+name_)):\n",
    "        with open(path+name_+'/'+i, \"r\", encoding=\"utf-8-sig\") as f:\n",
    "            data = json.load(f)\n",
    "        \n",
    "        \n",
    "        embedding = model.encode(data[\"question\"]).tolist()\n",
    "        \n",
    "        client.upsert(\n",
    "        collection_name=collection_name,\n",
    "        points=[\n",
    "            PointStruct(\n",
    "                id=data[\"qa_id\"],\n",
    "                vector=embedding,\n",
    "                payload={\n",
    "                    \"domain\": data[\"domain\"],\n",
    "                    \"q_type\": data[\"q_type\"],\n",
    "                    \"question\": data[\"question\"],\n",
    "                    \"answer\": data[\"answer\"],\n",
    "                    },\n",
    "                )\n",
    "            ],\n",
    "        )\n",
    "    print(f\"{name_} done===============\")\n",
    "        \n",
    "        \n",
    "        \n",
    "        \n",
    "        \n",
    "        \n",
    "    #     break\n",
    "    # break        "
   ]
  },
  {
   "cell_type": "code",
   "execution_count": null,
   "id": "a4a4b4b5",
   "metadata": {},
   "outputs": [
    {
     "data": {
      "text/plain": [
       "'1) 생활 습관 개선 교육 및 상담'"
      ]
     },
     "execution_count": 18,
     "metadata": {},
     "output_type": "execute_result"
    }
   ],
   "source": []
  },
  {
   "cell_type": "code",
   "execution_count": null,
   "id": "bc3b891e",
   "metadata": {},
   "outputs": [
    {
     "name": "stdout",
     "output_type": "stream",
     "text": [
      "✅ 데이터 업로드 완료!\n"
     ]
    }
   ],
   "source": [
    "# 3️⃣ 임베딩 모델 로드 (bge-m3)\n",
    "model = SentenceTransformer(\"BAAI/bge-m3\")\n",
    "\n",
    "\n",
    "# 5️⃣ question 임베딩 생성\n",
    "# embedding = model.encode(data[\"question\"]).tolist()\n",
    "\n",
    "# 6️⃣ Qdrant에 데이터 업로드\n",
    "client.upsert(\n",
    "    collection_name=collection_name,\n",
    "    points=[\n",
    "        PointStruct(\n",
    "            id=data[\"qa_id\"],\n",
    "            vector=embedding,\n",
    "            payload={\n",
    "                \"domain\": data[\"domain\"],\n",
    "                \"q_type\": data[\"q_type\"],\n",
    "                \"question\": data[\"question\"],\n",
    "                \"answer\": data[\"answer\"],\n",
    "            },\n",
    "        )\n",
    "    ],\n",
    ")\n",
    "\n",
    "print(\"✅ 데이터 업로드 완료!\")"
   ]
  },
  {
   "cell_type": "code",
   "execution_count": null,
   "id": "e2b7fff0",
   "metadata": {},
   "outputs": [],
   "source": []
  },
  {
   "cell_type": "code",
   "execution_count": 5,
   "id": "0489e7e1",
   "metadata": {},
   "outputs": [
    {
     "name": "stdout",
     "output_type": "stream",
     "text": [
      "ℹ️ 컬렉션 'medical_qa' 이미 존재\n"
     ]
    }
   ],
   "source": [
    "if collection_name not in [c.name for c in client.get_collections().collections]:\n",
    "    client.create_collection(\n",
    "        collection_name=collection_name,\n",
    "        vectors_config=VectorParams(size=1024, distance=Distance.COSINE)\n",
    "    )\n",
    "    print(f\"✅ 컬렉션 '{collection_name}' 생성 완료\")\n",
    "else:\n",
    "    print(f\"ℹ️ 컬렉션 '{collection_name}' 이미 존재\")"
   ]
  },
  {
   "cell_type": "code",
   "execution_count": null,
   "id": "7d677044",
   "metadata": {},
   "outputs": [],
   "source": []
  },
  {
   "cell_type": "code",
   "execution_count": null,
   "id": "53d82147",
   "metadata": {},
   "outputs": [],
   "source": []
  },
  {
   "cell_type": "code",
   "execution_count": null,
   "id": "3a076a23",
   "metadata": {},
   "outputs": [],
   "source": []
  }
 ],
 "metadata": {
  "kernelspec": {
   "display_name": "llm_311",
   "language": "python",
   "name": "python3"
  },
  "language_info": {
   "codemirror_mode": {
    "name": "ipython",
    "version": 3
   },
   "file_extension": ".py",
   "mimetype": "text/x-python",
   "name": "python",
   "nbconvert_exporter": "python",
   "pygments_lexer": "ipython3",
   "version": "3.11.11"
  }
 },
 "nbformat": 4,
 "nbformat_minor": 5
}
