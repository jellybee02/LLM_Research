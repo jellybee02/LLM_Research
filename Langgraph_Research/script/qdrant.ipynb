{
 "cells": [
  {
   "cell_type": "code",
   "execution_count": 2,
   "id": "f7857537",
   "metadata": {},
   "outputs": [],
   "source": [
    "import numpy as np, pandas as pd, json, glob, os, openai\n",
    "# from sentence_transformers import SentenceTransformer\n",
    "from openai import OpenAI\n",
    "from typing import List, Tuple, Union\n",
    "from langchain_ollama.embeddings import OllamaEmbeddings\n",
    "from tqdm.auto import tqdm\n",
    "# import shutil\n",
    "from sentence_transformers import SentenceTransformer\n",
    "from qdrant_client.http import models\n",
    "from qdrant_client import QdrantClient\n",
    "from qdrant_client.models import VectorParams, Distance, PointStruct\n"
   ]
  },
  {
   "cell_type": "code",
   "execution_count": 3,
   "id": "2365d497",
   "metadata": {},
   "outputs": [],
   "source": [
    "client = QdrantClient(path=\"../data/qdrant_local\")  # 데이터는 ./qdrant_local 폴더에 저장됨\n",
    "\n",
    "# 2️⃣ 컬렉션 이름 및 파라미터 정의\n",
    "collection_name = \"medical_qa\"\n"
   ]
  },
  {
   "cell_type": "code",
   "execution_count": 4,
   "id": "83735951",
   "metadata": {},
   "outputs": [],
   "source": [
    "# client.delete_collection(collection_name=collection_name)"
   ]
  },
  {
   "cell_type": "code",
   "execution_count": 5,
   "id": "72ad8bfe",
   "metadata": {},
   "outputs": [],
   "source": [
    "# client.create_collection(\n",
    "#         collection_name=collection_name,\n",
    "#         vectors_config=VectorParams(size=1024, distance=Distance.COSINE)\n",
    "#     )\n",
    "model = SentenceTransformer(\"BAAI/bge-m3\")\n"
   ]
  },
  {
   "cell_type": "code",
   "execution_count": 6,
   "id": "611a985e",
   "metadata": {},
   "outputs": [],
   "source": [
    "path = '../../../data/1.데이터/Training/02.라벨링데이터/'\n",
    "path = '../../../medical_data/02.라벨링데이터/'\n",
    "path = '/home/ethan/git_rp/data/1.데이터/Training/02.라벨링데이터/'\n",
    "# os.listdir(path)\n",
    "# for name_ in os.listdir(path):\n",
    "#     print(name_)\n",
    "#     collection_name = name_\n",
    "\n",
    "# NOTE Create Collection\n",
    "# client.recreate_collection(\n",
    "# collection_name=collection_name,\n",
    "# vectors_config=VectorParams(size=1024, distance=Distance.COSINE))\n",
    "# for i in tqdm(os.listdir(path)):\n",
    "#     for j in tqdm(os.listdir(path+'/'+i)):\n",
    "#         with open(path+i+'/'+j, \"r\", encoding=\"utf-8-sig\") as f:\n",
    "#             data = json.load(f)\n",
    "        \n",
    "        \n",
    "#         embedding = model.encode(data[\"question\"]).tolist()\n",
    "        \n",
    "#         client.upsert(\n",
    "#         collection_name=collection_name,\n",
    "#         points=[\n",
    "#             PointStruct(\n",
    "#                 id=data[\"qa_id\"],\n",
    "#                 vector=embedding,\n",
    "#                 payload={\n",
    "#                     \"domain\": data[\"domain\"],\n",
    "#                     \"q_type\": data[\"q_type\"],\n",
    "#                     \"question\": data[\"question\"],\n",
    "#                     \"answer\": data[\"answer\"],\n",
    "#                     },\n",
    "#                 )\n",
    "#             ],\n",
    "#         )\n",
    "#     print(f\"{i} done===============\")\n",
    "    \n",
    "        \n",
    "        \n",
    "        \n",
    "        \n",
    "        \n",
    "    #     break\n",
    "    # break        "
   ]
  },
  {
   "cell_type": "markdown",
   "id": "c87cd159",
   "metadata": {},
   "source": [
    "# RAG Description 추가"
   ]
  },
  {
   "cell_type": "markdown",
   "id": "58df2faf",
   "metadata": {},
   "source": [
    "## Qdrant Collection 추가"
   ]
  },
  {
   "cell_type": "code",
   "execution_count": 25,
   "id": "d56b4f2a",
   "metadata": {},
   "outputs": [
    {
     "name": "stderr",
     "output_type": "stream",
     "text": [
      "/tmp/ipykernel_1874709/552978515.py:3: DeprecationWarning: `recreate_collection` method is deprecated and will be removed in the future. Use `collection_exists` to check collection existence and `create_collection` instead.\n",
      "  client.recreate_collection(\n"
     ]
    },
    {
     "data": {
      "text/plain": [
       "True"
      ]
     },
     "execution_count": 25,
     "metadata": {},
     "output_type": "execute_result"
    }
   ],
   "source": [
    "content_collection = 'Major_Content'\n",
    "collection_name\n",
    "client.recreate_collection(\n",
    "collection_name=content_collection,\n",
    "vectors_config=VectorParams(size=1024, distance=Distance.COSINE))\n",
    "\n",
    "\n"
   ]
  },
  {
   "cell_type": "markdown",
   "id": "3bb048bc",
   "metadata": {},
   "source": [
    "### Collection Upload"
   ]
  },
  {
   "cell_type": "code",
   "execution_count": 29,
   "id": "2a13929a",
   "metadata": {},
   "outputs": [
    {
     "data": {
      "text/plain": [
       "{'c_id': '53715_1',\n",
       " 'domain': 2,\n",
       " 'source': 7,\n",
       " 'source_spec': '세브란스병원',\n",
       " 'creation_year': '2024',\n",
       " 'content': '소아 신경외과에서 시행하는 선택적 후신경근 절제술은 약물이나 재활치료로 효과가 거의 없는 경직성 사지마비 환자에게 주로 시행됩니다. 이 수술은 척수 후각으로 들어오는 감각신경 중 과민한 신호를 선택적으로 차단하여 경직을 완화하는 데 목적이 있습니다. 특히 미숙아로 태어난 아이들 중 2세에서 6세 사이의 환자에게 적합하며, 경직으로 인해 걸을 수 있는 상태일 때 가장 좋은 결과를 기대할 수 있습니다. 이 수술은 심한 경직으로 인해 발생할 수 있는 근골격 변형, 척추측만증, 고관절 탈구 등을 줄이는 데 효과적입니다. 수술 과정은 다음과 같습니다. 환자를 엎드린 자세로 눕히고 하지에 근전도 검사를 위한 장치를 부착한 후, 요추부 후궁을 절제하여 경막을 노출시킵니다. 경막을 열고 신경을 확인한 뒤, 후신경근을 분리합니다. 이후 전기 자극술을 이용해 정상 및 비정상적인 반응을 보이는 신경세근을 선별하여 절제합니다. 구체적으로, 후신경근을 구분하고 근전도로 각 신경을 자극하여 반응 강도를 확인한 뒤, 기준보다 강한 반응을 보이는 신경을 선택적으로 절제합니다. 수술 후 경막을 복원하고 피부를 봉합하며, 수술 시간은 약 4~5시간이 소요됩니다. 수술 후 발생할 수 있는 합병증으로는 신경통증(다리 저림, 감각 이상, 통증 등), 방광 조절 이상, 장운동 이상 등이 있습니다. 이러한 증상은 대부분 일시적이며, 환자마다 차이가 있습니다. 수술 후 약 1주일 후부터 물리치료 및 운동치료를 시작합니다. 수술의 효과를 극대화하고 유지하기 위해 지속적인 재활치료가 필요하며, 경우에 따라 보조기나 정형외과적 치료가 병행될 수 있습니다. 수술 중에는 척수 신경을 노출하고 자극을 주기 때문에, 이에 따른 증상이 수술 후 나타날 수 있습니다. 또한, 수술 중 환자의 상태에 따라 긴급히 수술 방법이나 범위를 변경해야 하는 경우가 발생할 수 있으며, 이 경우 수술 후 환자나 보호자에게 변경 사유와 결과를 설명합니다. 선택적 후신경근 절제술 외에도 약물치료나 재활치료가 가능하지만, 뇌성마비로 인한 경직 환자에게는 수술적 치료가 큰 도움이 됩니다. 만약 이 수술을 시행하지 않을 경우, 근육 긴장과 외부 자극에 대한 이상 반응이 점점 심해질 수 있으며, 다리가 가위 모양으로 굳거나 허벅지가 과도하게 굴곡되는 등의 특징적인 자세를 취하게 됩니다. 이는 물리치료나 재활치료를 어렵게 하고, 통증을 유발하며, 휠체어 사용, 침상 생활, 수면 등 일상생활에 큰 지장을 초래할 수 있습니다. 또한, 변비나 방광 경직으로 인한 배뇨 장애 등 장기능에도 영향을 미칠 수 있습니다. 수술의 성공률은 약 95% 이상으로 보고되며, 이는 일반적인 성공률로 환자의 임상적 상태에 따라 차이가 있을 수 있습니다. 수술 중 주치의가 변경되는 경우는 출산 등 개인적인 사유나 기타 불가피한 상황에 의해 발생할 수 있으며, 긴급한 상황에서는 사전 동의 없이 변경될 수 있습니다. 이 경우, 수술 후 환자나 보호자에게 변경 사유와 결과를 신속히 설명합니다.'}"
      ]
     },
     "execution_count": 29,
     "metadata": {},
     "output_type": "execute_result"
    }
   ],
   "source": [
    "data"
   ]
  },
  {
   "cell_type": "code",
   "execution_count": null,
   "id": "41566017",
   "metadata": {},
   "outputs": [
    {
     "data": {
      "text/plain": [
       "(23, 1024)"
      ]
     },
     "execution_count": 34,
     "metadata": {},
     "output_type": "execute_result"
    }
   ],
   "source": [
    "model.encode(data['content'].split('. ')).shape"
   ]
  },
  {
   "cell_type": "code",
   "execution_count": null,
   "id": "b34fc4a4",
   "metadata": {},
   "outputs": [],
   "source": [
    "folder_path = '../../../data/1.데이터/Training/01.원천데이터/'\n",
    "# 폴더 구분\n",
    "points = []\n",
    "for folder_ in tqdm(os.listdir(folder_path)):\n",
    "    print(folder_path+folder_)\n",
    "    # 파일 선택\n",
    "    print(f\"Folder count : {len(os.listdir(folder_path+folder_))}\")\n",
    "    for file_ in tqdm(os.listdir(folder_path+folder_)):\n",
    "        # print(folder_path+folder_+\"/\"+file_)\n",
    "        with open(folder_path+folder_+\"/\"+file_, \"r\", encoding=\"utf-8-sig\") as f:\n",
    "            data = json.load(f)\n",
    "        \n",
    "        embed = model.encode(data['content'].split('. ')).shape\n",
    "        payload = {\n",
    "            **data,  # 편, 장, 절, 조, content\n",
    "        }\n",
    "\n",
    "        point = PointStruct(\n",
    "            id=file_.split('.')[0],\n",
    "            vector=embed,\n",
    "            payload=payload\n",
    "        )\n",
    "        points.append(point)    \n",
    "        \n",
    "    \n",
    "        # break\n",
    "    # break\n",
    "    "
   ]
  },
  {
   "cell_type": "code",
   "execution_count": null,
   "id": "e093c683",
   "metadata": {},
   "outputs": [
    {
     "data": {
      "text/plain": [
       "{'c_id': '53715_1',\n",
       " 'domain': 2,\n",
       " 'source': 7,\n",
       " 'source_spec': '세브란스병원',\n",
       " 'creation_year': '2024',\n",
       " 'content': '소아 신경외과에서 시행하는 선택적 후신경근 절제술은 약물이나 재활치료로 효과가 거의 없는 경직성 사지마비 환자에게 주로 시행됩니다. 이 수술은 척수 후각으로 들어오는 감각신경 중 과민한 신호를 선택적으로 차단하여 경직을 완화하는 데 목적이 있습니다. 특히 미숙아로 태어난 아이들 중 2세에서 6세 사이의 환자에게 적합하며, 경직으로 인해 걸을 수 있는 상태일 때 가장 좋은 결과를 기대할 수 있습니다. 이 수술은 심한 경직으로 인해 발생할 수 있는 근골격 변형, 척추측만증, 고관절 탈구 등을 줄이는 데 효과적입니다. 수술 과정은 다음과 같습니다. 환자를 엎드린 자세로 눕히고 하지에 근전도 검사를 위한 장치를 부착한 후, 요추부 후궁을 절제하여 경막을 노출시킵니다. 경막을 열고 신경을 확인한 뒤, 후신경근을 분리합니다. 이후 전기 자극술을 이용해 정상 및 비정상적인 반응을 보이는 신경세근을 선별하여 절제합니다. 구체적으로, 후신경근을 구분하고 근전도로 각 신경을 자극하여 반응 강도를 확인한 뒤, 기준보다 강한 반응을 보이는 신경을 선택적으로 절제합니다. 수술 후 경막을 복원하고 피부를 봉합하며, 수술 시간은 약 4~5시간이 소요됩니다. 수술 후 발생할 수 있는 합병증으로는 신경통증(다리 저림, 감각 이상, 통증 등), 방광 조절 이상, 장운동 이상 등이 있습니다. 이러한 증상은 대부분 일시적이며, 환자마다 차이가 있습니다. 수술 후 약 1주일 후부터 물리치료 및 운동치료를 시작합니다. 수술의 효과를 극대화하고 유지하기 위해 지속적인 재활치료가 필요하며, 경우에 따라 보조기나 정형외과적 치료가 병행될 수 있습니다. 수술 중에는 척수 신경을 노출하고 자극을 주기 때문에, 이에 따른 증상이 수술 후 나타날 수 있습니다. 또한, 수술 중 환자의 상태에 따라 긴급히 수술 방법이나 범위를 변경해야 하는 경우가 발생할 수 있으며, 이 경우 수술 후 환자나 보호자에게 변경 사유와 결과를 설명합니다. 선택적 후신경근 절제술 외에도 약물치료나 재활치료가 가능하지만, 뇌성마비로 인한 경직 환자에게는 수술적 치료가 큰 도움이 됩니다. 만약 이 수술을 시행하지 않을 경우, 근육 긴장과 외부 자극에 대한 이상 반응이 점점 심해질 수 있으며, 다리가 가위 모양으로 굳거나 허벅지가 과도하게 굴곡되는 등의 특징적인 자세를 취하게 됩니다. 이는 물리치료나 재활치료를 어렵게 하고, 통증을 유발하며, 휠체어 사용, 침상 생활, 수면 등 일상생활에 큰 지장을 초래할 수 있습니다. 또한, 변비나 방광 경직으로 인한 배뇨 장애 등 장기능에도 영향을 미칠 수 있습니다. 수술의 성공률은 약 95% 이상으로 보고되며, 이는 일반적인 성공률로 환자의 임상적 상태에 따라 차이가 있을 수 있습니다. 수술 중 주치의가 변경되는 경우는 출산 등 개인적인 사유나 기타 불가피한 상황에 의해 발생할 수 있으며, 긴급한 상황에서는 사전 동의 없이 변경될 수 있습니다. 이 경우, 수술 후 환자나 보호자에게 변경 사유와 결과를 신속히 설명합니다.'}"
      ]
     },
     "execution_count": 22,
     "metadata": {},
     "output_type": "execute_result"
    }
   ],
   "source": [
    "\n",
    "vectors_config={\n",
    "        \"text_embedding\": VectorParams(size=1024, distance=Distance.COSINE),\n",
    "        \"content_embedding\": VectorParams(size=1024, distance=Distance.COSINE),\n",
    "    }"
   ]
  },
  {
   "cell_type": "code",
   "execution_count": null,
   "id": "00225a03",
   "metadata": {},
   "outputs": [],
   "source": []
  },
  {
   "cell_type": "code",
   "execution_count": null,
   "id": "2441ed9a",
   "metadata": {},
   "outputs": [],
   "source": []
  },
  {
   "cell_type": "code",
   "execution_count": null,
   "id": "a35ddd2b",
   "metadata": {},
   "outputs": [],
   "source": []
  },
  {
   "cell_type": "code",
   "execution_count": null,
   "id": "923d079c",
   "metadata": {},
   "outputs": [],
   "source": []
  },
  {
   "cell_type": "code",
   "execution_count": null,
   "id": "fef531fa",
   "metadata": {},
   "outputs": [],
   "source": []
  },
  {
   "cell_type": "code",
   "execution_count": null,
   "id": "efbd133f",
   "metadata": {},
   "outputs": [],
   "source": []
  },
  {
   "cell_type": "markdown",
   "id": "333782ac",
   "metadata": {},
   "source": [
    "# Question"
   ]
  },
  {
   "cell_type": "code",
   "execution_count": 7,
   "id": "f111177e",
   "metadata": {},
   "outputs": [],
   "source": [
    "query_data = {\n",
    "    \"qa_id\": 4286,\n",
    "    \"domain\": 17,\n",
    "    \"q_type\": 1,\n",
    "    \"question\": \"65세 남자가 심질환으로 현재 aspirin을 복용 중이다. 이 환자에서 aspirin 복용으로 인해 나타날 수 있는 소견으로 가장 적절한 것은?  \\n1) PTT 증가  \\n2) TT 증가  \\n3) 혈소판 감소  \\n4) PT 증가  \\n5) BT 증가\",\n",
    "    \"answer\": \"5) BT 증가\"\n",
    "}\n",
    "\n",
    "# domain, q_type 기준으로 필터 설정\n",
    "filters = models.Filter(\n",
    "    must=[\n",
    "        models.FieldCondition(\n",
    "            key=\"domain\",\n",
    "            match=models.MatchValue(value=query_data[\"domain\"])\n",
    "        ),\n",
    "        models.FieldCondition(\n",
    "            key=\"q_type\",\n",
    "            match=models.MatchValue(value=query_data[\"q_type\"])\n",
    "        ),\n",
    "    ]\n",
    ")"
   ]
  },
  {
   "cell_type": "code",
   "execution_count": 8,
   "id": "705672b6",
   "metadata": {},
   "outputs": [],
   "source": [
    "query_vector = model.encode(query_data[\"question\"]).tolist()"
   ]
  },
  {
   "cell_type": "code",
   "execution_count": 9,
   "id": "69fbe8a8",
   "metadata": {},
   "outputs": [
    {
     "name": "stderr",
     "output_type": "stream",
     "text": [
      "/tmp/ipykernel_1874709/1981553409.py:1: DeprecationWarning: `search` method is deprecated and will be removed in the future. Use `query_points` instead.\n",
      "  results = client.search(\n"
     ]
    }
   ],
   "source": [
    "results = client.search(\n",
    "    collection_name=collection_name,\n",
    "    query_vector=query_vector,\n",
    "    limit=3,\n",
    "    query_filter=filters\n",
    ")"
   ]
  },
  {
   "cell_type": "code",
   "execution_count": 10,
   "id": "cc097913",
   "metadata": {},
   "outputs": [
    {
     "name": "stdout",
     "output_type": "stream",
     "text": [
      "1. Score: 0.7091\n",
      "Question: 65세 남성이 급성 심근경색으로 응급실에 내원하였다. 이 환자의 초기 치료로 권장되는 aspirin의 최소 부하 용량은 얼마인가?  \n",
      "1) 50 mg  \n",
      "2) 75 mg  \n",
      "3) 100 mg  \n",
      "4) 160~325 mg  \n",
      "5) 500 mg\n",
      "Answer: 4) 160~325 mg\n",
      "\n",
      "2. Score: 0.7024\n",
      "Question: 65세 남성이 관상동맥 스텐트 시술 후 항혈전 치료를 받고 있다. 티클로피딘과 아스피린을 병용 투여할 경우, 다음 중 주요한 치료 효과로 기대되는 것은 무엇인가?  \n",
      "1) 총 사망률 감소  \n",
      "2) 혈전성 혈소판 감소성 자반증(TTP) 발생 감소  \n",
      "3) 비치명적 심근경색 발생 감소  \n",
      "4) 백혈구 감소증 발생 감소  \n",
      "5) 경미한 출혈 증가\n",
      "Answer: 3) 비치명적 심근경색 발생 감소\n",
      "\n",
      "3. Score: 0.6967\n",
      "Question: 60세 남성이 갑작스러운 심한 가슴 통증으로 응급실에 내원하였습니다. 심전도에서 ST 분절 상승이 관찰되었고, 혈액 검사에서 트로포닌 수치가 상승하였습니다. 이 환자에서 가장 우선적으로 시행해야 할 치료는 무엇인가요?\n",
      "\n",
      "1) 심장 초음파  \n",
      "2) 혈전 용해제 투여  \n",
      "3) 응급 관상동맥 중재술(PCI) \n",
      "4) 니트로글리세린 설하정  \n",
      "5) 아스피린 복용\n",
      "Answer: 3) 응급 관상동맥 중재술(PCI)\n",
      "\n"
     ]
    }
   ],
   "source": [
    "for i, r in enumerate(results):\n",
    "    print(f\"{i+1}. Score: {r.score:.4f}\")\n",
    "    print(f\"Question: {r.payload['question']}\")\n",
    "    print(f\"Answer: {r.payload['answer']}\\n\")\n"
   ]
  },
  {
   "cell_type": "code",
   "execution_count": null,
   "id": "17fa84a8",
   "metadata": {},
   "outputs": [],
   "source": []
  },
  {
   "cell_type": "code",
   "execution_count": 12,
   "id": "bc3b891e",
   "metadata": {},
   "outputs": [],
   "source": [
    "# # 3️⃣ 임베딩 모델 로드 (bge-m3)\n",
    "# model = SentenceTransformer(\"BAAI/bge-m3\")\n",
    "\n",
    "# # 5️⃣ question 임베딩 생성\n",
    "# # embedding = model.encode(data[\"question\"]).tolist()\n",
    "\n",
    "# # 6️⃣ Qdrant에 데이터 업로드\n",
    "# client.upsert(\n",
    "#     collection_name=collection_name,\n",
    "#     points=[\n",
    "#         PointStruct(\n",
    "#             id=data[\"qa_id\"],\n",
    "#             vector=embedding,\n",
    "#             payload={\n",
    "#                 \"domain\": data[\"domain\"],\n",
    "#                 \"q_type\": data[\"q_type\"],\n",
    "#                 \"question\": data[\"question\"],\n",
    "#                 \"answer\": data[\"answer\"],\n",
    "#             },\n",
    "#         )\n",
    "#     ],\n",
    "# )\n",
    "\n",
    "# print(\"✅ 데이터 업로드 완료!\")"
   ]
  },
  {
   "cell_type": "code",
   "execution_count": null,
   "id": "e2b7fff0",
   "metadata": {},
   "outputs": [],
   "source": []
  },
  {
   "cell_type": "code",
   "execution_count": 13,
   "id": "0489e7e1",
   "metadata": {},
   "outputs": [],
   "source": [
    "# if collection_name not in [c.name for c in client.get_collections().collections]:\n",
    "#     client.create_collection(\n",
    "#         collection_name=collection_name,\n",
    "#         vectors_config=VectorParams(size=1024, distance=Distance.COSINE)\n",
    "#     )\n",
    "#     print(f\"✅ 컬렉션 '{collection_name}' 생성 완료\")\n",
    "# else:\n",
    "#     print(f\"ℹ️ 컬렉션 '{collection_name}' 이미 존재\")"
   ]
  },
  {
   "cell_type": "code",
   "execution_count": null,
   "id": "7d677044",
   "metadata": {},
   "outputs": [],
   "source": []
  },
  {
   "cell_type": "code",
   "execution_count": null,
   "id": "53d82147",
   "metadata": {},
   "outputs": [],
   "source": []
  },
  {
   "cell_type": "code",
   "execution_count": null,
   "id": "3a076a23",
   "metadata": {},
   "outputs": [],
   "source": []
  }
 ],
 "metadata": {
  "kernelspec": {
   "display_name": "pl_llm",
   "language": "python",
   "name": "python3"
  },
  "language_info": {
   "codemirror_mode": {
    "name": "ipython",
    "version": 3
   },
   "file_extension": ".py",
   "mimetype": "text/x-python",
   "name": "python",
   "nbconvert_exporter": "python",
   "pygments_lexer": "ipython3",
   "version": "3.12.0"
  }
 },
 "nbformat": 4,
 "nbformat_minor": 5
}
