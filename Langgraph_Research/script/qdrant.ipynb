{
 "cells": [
  {
   "cell_type": "code",
   "execution_count": 19,
   "id": "f7857537",
   "metadata": {},
   "outputs": [],
   "source": [
    "import numpy as np, pandas as pd, json, glob, os, openai\n",
    "# from sentence_transformers import SentenceTransformer\n",
    "from openai import OpenAI\n",
    "from typing import List, Tuple, Union\n",
    "from langchain_ollama.embeddings import OllamaEmbeddings\n",
    "from tqdm.auto import tqdm\n",
    "# import shutil\n",
    "from sentence_transformers import SentenceTransformer\n",
    "from qdrant_client.http import models\n",
    "from qdrant_client import QdrantClient\n",
    "from qdrant_client.models import VectorParams, Distance, PointStruct\n"
   ]
  },
  {
   "cell_type": "code",
   "execution_count": 3,
   "id": "2365d497",
   "metadata": {},
   "outputs": [],
   "source": [
    "client = QdrantClient(path=\"../data/qdrant_local\")  # 데이터는 ./qdrant_local 폴더에 저장됨\n",
    "\n",
    "# 2️⃣ 컬렉션 이름 및 파라미터 정의\n",
    "collection_name = \"medical_qa\""
   ]
  },
  {
   "cell_type": "code",
   "execution_count": 15,
   "id": "83735951",
   "metadata": {},
   "outputs": [
    {
     "data": {
      "text/plain": [
       "True"
      ]
     },
     "execution_count": 15,
     "metadata": {},
     "output_type": "execute_result"
    }
   ],
   "source": [
    "client.delete_collection(collection_name=collection_name)"
   ]
  },
  {
   "cell_type": "code",
   "execution_count": 5,
   "id": "72ad8bfe",
   "metadata": {},
   "outputs": [],
   "source": [
    "# client.create_collection(\n",
    "#         collection_name=collection_name,\n",
    "#         vectors_config=VectorParams(size=1024, distance=Distance.COSINE)\n",
    "#     )\n",
    "model = SentenceTransformer(\"BAAI/bge-m3\")\n"
   ]
  },
  {
   "cell_type": "code",
   "execution_count": 11,
   "id": "c6fa8b6c",
   "metadata": {},
   "outputs": [
    {
     "data": {
      "text/plain": [
       "'../../../medical_data/02.라벨링데이터/TL_내과'"
      ]
     },
     "execution_count": 11,
     "metadata": {},
     "output_type": "execute_result"
    }
   ],
   "source": [
    "path+i"
   ]
  },
  {
   "cell_type": "code",
   "execution_count": null,
   "id": "611a985e",
   "metadata": {},
   "outputs": [
    {
     "name": "stderr",
     "output_type": "stream",
     "text": [
      "/tmp/ipykernel_1082/4247610530.py:7: DeprecationWarning: `recreate_collection` method is deprecated and will be removed in the future. Use `collection_exists` to check collection existence and `create_collection` instead.\n",
      "  client.recreate_collection(\n",
      "  0%|          | 0/4 [00:00<?, ?it/s]"
     ]
    },
    {
     "name": "stderr",
     "output_type": "stream",
     "text": [
      "100%|██████████| 10299/10299 [11:37<00:00, 14.76it/s]\n",
      " 25%|██▌       | 1/4 [11:37<34:53, 697.96s/it]"
     ]
    },
    {
     "name": "stdout",
     "output_type": "stream",
     "text": [
      "TL_내과 done===============\n"
     ]
    },
    {
     "name": "stderr",
     "output_type": "stream",
     "text": [
      "100%|██████████| 649/649 [00:39<00:00, 16.47it/s]\n",
      " 50%|█████     | 2/4 [12:17<10:21, 310.57s/it]"
     ]
    },
    {
     "name": "stdout",
     "output_type": "stream",
     "text": [
      "TL_응급의학과 done===============\n"
     ]
    },
    {
     "name": "stderr",
     "output_type": "stream",
     "text": [
      "100%|██████████| 1991/1991 [02:09<00:00, 15.39it/s]\n",
      " 75%|███████▌  | 3/4 [14:26<03:47, 227.85s/it]"
     ]
    },
    {
     "name": "stdout",
     "output_type": "stream",
     "text": [
      "TL_산부인과 done===============\n"
     ]
    },
    {
     "name": "stderr",
     "output_type": "stream",
     "text": [
      "100%|██████████| 2421/2421 [02:40<00:00, 15.06it/s]\n",
      "100%|██████████| 4/4 [17:07<00:00, 256.87s/it]"
     ]
    },
    {
     "name": "stdout",
     "output_type": "stream",
     "text": [
      "TL_소아청소년과 done===============\n"
     ]
    },
    {
     "name": "stderr",
     "output_type": "stream",
     "text": [
      "\n"
     ]
    }
   ],
   "source": [
    "path = '../../../data/1.데이터/Training/02.라벨링데이터/'\n",
    "path = '../../../medical_data/02.라벨링데이터/'\n",
    "# os.listdir(path)\n",
    "# for name_ in os.listdir(path):\n",
    "#     print(name_)\n",
    "#     collection_name = name_\n",
    "\n",
    "# NOTE Create Collection\n",
    "# client.recreate_collection(\n",
    "# collection_name=collection_name,\n",
    "# vectors_config=VectorParams(size=1024, distance=Distance.COSINE))\n",
    "# for i in tqdm(os.listdir(path)):\n",
    "#     for j in tqdm(os.listdir(path+'/'+i)):\n",
    "#         with open(path+i+'/'+j, \"r\", encoding=\"utf-8-sig\") as f:\n",
    "#             data = json.load(f)\n",
    "        \n",
    "        \n",
    "#         embedding = model.encode(data[\"question\"]).tolist()\n",
    "        \n",
    "#         client.upsert(\n",
    "#         collection_name=collection_name,\n",
    "#         points=[\n",
    "#             PointStruct(\n",
    "#                 id=data[\"qa_id\"],\n",
    "#                 vector=embedding,\n",
    "#                 payload={\n",
    "#                     \"domain\": data[\"domain\"],\n",
    "#                     \"q_type\": data[\"q_type\"],\n",
    "#                     \"question\": data[\"question\"],\n",
    "#                     \"answer\": data[\"answer\"],\n",
    "#                     },\n",
    "#                 )\n",
    "#             ],\n",
    "#         )\n",
    "#     print(f\"{i} done===============\")\n",
    "    \n",
    "        \n",
    "        \n",
    "        \n",
    "        \n",
    "        \n",
    "    #     break\n",
    "    # break        "
   ]
  },
  {
   "cell_type": "markdown",
   "id": "333782ac",
   "metadata": {},
   "source": [
    "# Question"
   ]
  },
  {
   "cell_type": "code",
   "execution_count": 20,
   "id": "f111177e",
   "metadata": {},
   "outputs": [],
   "source": [
    "query_data = {\n",
    "    \"qa_id\": 4286,\n",
    "    \"domain\": 17,\n",
    "    \"q_type\": 1,\n",
    "    \"question\": \"65세 남자가 심질환으로 현재 aspirin을 복용 중이다. 이 환자에서 aspirin 복용으로 인해 나타날 수 있는 소견으로 가장 적절한 것은?  \\n1) PTT 증가  \\n2) TT 증가  \\n3) 혈소판 감소  \\n4) PT 증가  \\n5) BT 증가\",\n",
    "    \"answer\": \"5) BT 증가\"\n",
    "}\n",
    "\n",
    "# domain, q_type 기준으로 필터 설정\n",
    "filters = models.Filter(\n",
    "    must=[\n",
    "        models.FieldCondition(\n",
    "            key=\"domain\",\n",
    "            match=models.MatchValue(value=query_data[\"domain\"])\n",
    "        ),\n",
    "        models.FieldCondition(\n",
    "            key=\"q_type\",\n",
    "            match=models.MatchValue(value=query_data[\"q_type\"])\n",
    "        ),\n",
    "    ]\n",
    ")"
   ]
  },
  {
   "cell_type": "code",
   "execution_count": 21,
   "id": "705672b6",
   "metadata": {},
   "outputs": [],
   "source": [
    "query_vector = model.encode(query_data[\"question\"]).tolist()"
   ]
  },
  {
   "cell_type": "code",
   "execution_count": 22,
   "id": "69fbe8a8",
   "metadata": {},
   "outputs": [
    {
     "name": "stderr",
     "output_type": "stream",
     "text": [
      "/tmp/ipykernel_1082/1981553409.py:1: DeprecationWarning: `search` method is deprecated and will be removed in the future. Use `query_points` instead.\n",
      "  results = client.search(\n"
     ]
    }
   ],
   "source": [
    "results = client.search(\n",
    "    collection_name=collection_name,\n",
    "    query_vector=query_vector,\n",
    "    limit=3,\n",
    "    query_filter=filters\n",
    ")"
   ]
  },
  {
   "cell_type": "code",
   "execution_count": 25,
   "id": "cc097913",
   "metadata": {},
   "outputs": [
    {
     "name": "stdout",
     "output_type": "stream",
     "text": [
      "1. Score: 0.7091\n",
      "Question: 65세 남성이 급성 심근경색으로 응급실에 내원하였다. 이 환자의 초기 치료로 권장되는 aspirin의 최소 부하 용량은 얼마인가?  \n",
      "1) 50 mg  \n",
      "2) 75 mg  \n",
      "3) 100 mg  \n",
      "4) 160~325 mg  \n",
      "5) 500 mg\n",
      "Answer: 4) 160~325 mg\n",
      "\n",
      "2. Score: 0.7024\n",
      "Question: 65세 남성이 관상동맥 스텐트 시술 후 항혈전 치료를 받고 있다. 티클로피딘과 아스피린을 병용 투여할 경우, 다음 중 주요한 치료 효과로 기대되는 것은 무엇인가?  \n",
      "1) 총 사망률 감소  \n",
      "2) 혈전성 혈소판 감소성 자반증(TTP) 발생 감소  \n",
      "3) 비치명적 심근경색 발생 감소  \n",
      "4) 백혈구 감소증 발생 감소  \n",
      "5) 경미한 출혈 증가\n",
      "Answer: 3) 비치명적 심근경색 발생 감소\n",
      "\n",
      "3. Score: 0.6967\n",
      "Question: 60세 남성이 갑작스러운 심한 가슴 통증으로 응급실에 내원하였습니다. 심전도에서 ST 분절 상승이 관찰되었고, 혈액 검사에서 트로포닌 수치가 상승하였습니다. 이 환자에서 가장 우선적으로 시행해야 할 치료는 무엇인가요?\n",
      "\n",
      "1) 심장 초음파  \n",
      "2) 혈전 용해제 투여  \n",
      "3) 응급 관상동맥 중재술(PCI) \n",
      "4) 니트로글리세린 설하정  \n",
      "5) 아스피린 복용\n",
      "Answer: 3) 응급 관상동맥 중재술(PCI)\n",
      "\n"
     ]
    }
   ],
   "source": [
    "for i, r in enumerate(results):\n",
    "    print(f\"{i+1}. Score: {r.score:.4f}\")\n",
    "    print(f\"Question: {r.payload['question']}\")\n",
    "    print(f\"Answer: {r.payload['answer']}\\n\")\n"
   ]
  },
  {
   "cell_type": "code",
   "execution_count": null,
   "id": "17fa84a8",
   "metadata": {},
   "outputs": [],
   "source": []
  },
  {
   "cell_type": "code",
   "execution_count": null,
   "id": "bc3b891e",
   "metadata": {},
   "outputs": [
    {
     "name": "stdout",
     "output_type": "stream",
     "text": [
      "✅ 데이터 업로드 완료!\n"
     ]
    }
   ],
   "source": [
    "# 3️⃣ 임베딩 모델 로드 (bge-m3)\n",
    "model = SentenceTransformer(\"BAAI/bge-m3\")\n",
    "\n",
    "# 5️⃣ question 임베딩 생성\n",
    "# embedding = model.encode(data[\"question\"]).tolist()\n",
    "\n",
    "# 6️⃣ Qdrant에 데이터 업로드\n",
    "client.upsert(\n",
    "    collection_name=collection_name,\n",
    "    points=[\n",
    "        PointStruct(\n",
    "            id=data[\"qa_id\"],\n",
    "            vector=embedding,\n",
    "            payload={\n",
    "                \"domain\": data[\"domain\"],\n",
    "                \"q_type\": data[\"q_type\"],\n",
    "                \"question\": data[\"question\"],\n",
    "                \"answer\": data[\"answer\"],\n",
    "            },\n",
    "        )\n",
    "    ],\n",
    ")\n",
    "\n",
    "print(\"✅ 데이터 업로드 완료!\")"
   ]
  },
  {
   "cell_type": "code",
   "execution_count": null,
   "id": "e2b7fff0",
   "metadata": {},
   "outputs": [],
   "source": []
  },
  {
   "cell_type": "code",
   "execution_count": 5,
   "id": "0489e7e1",
   "metadata": {},
   "outputs": [
    {
     "name": "stdout",
     "output_type": "stream",
     "text": [
      "ℹ️ 컬렉션 'medical_qa' 이미 존재\n"
     ]
    }
   ],
   "source": [
    "if collection_name not in [c.name for c in client.get_collections().collections]:\n",
    "    client.create_collection(\n",
    "        collection_name=collection_name,\n",
    "        vectors_config=VectorParams(size=1024, distance=Distance.COSINE)\n",
    "    )\n",
    "    print(f\"✅ 컬렉션 '{collection_name}' 생성 완료\")\n",
    "else:\n",
    "    print(f\"ℹ️ 컬렉션 '{collection_name}' 이미 존재\")"
   ]
  },
  {
   "cell_type": "code",
   "execution_count": null,
   "id": "7d677044",
   "metadata": {},
   "outputs": [],
   "source": []
  },
  {
   "cell_type": "code",
   "execution_count": null,
   "id": "53d82147",
   "metadata": {},
   "outputs": [],
   "source": []
  },
  {
   "cell_type": "code",
   "execution_count": null,
   "id": "3a076a23",
   "metadata": {},
   "outputs": [],
   "source": []
  }
 ],
 "metadata": {
  "kernelspec": {
   "display_name": "llm_311",
   "language": "python",
   "name": "python3"
  },
  "language_info": {
   "codemirror_mode": {
    "name": "ipython",
    "version": 3
   },
   "file_extension": ".py",
   "mimetype": "text/x-python",
   "name": "python",
   "nbconvert_exporter": "python",
   "pygments_lexer": "ipython3",
   "version": "3.11.11"
  }
 },
 "nbformat": 4,
 "nbformat_minor": 5
}
