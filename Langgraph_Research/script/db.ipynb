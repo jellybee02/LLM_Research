{
 "cells": [
  {
   "cell_type": "code",
   "execution_count": 1,
   "id": "20b50d8f",
   "metadata": {},
   "outputs": [
    {
     "name": "stderr",
     "output_type": "stream",
     "text": [
      "/home/jellybee/anaconda3/envs/llm_311/lib/python3.11/site-packages/tqdm/auto.py:21: TqdmWarning: IProgress not found. Please update jupyter and ipywidgets. See https://ipywidgets.readthedocs.io/en/stable/user_install.html\n",
      "  from .autonotebook import tqdm as notebook_tqdm\n"
     ]
    }
   ],
   "source": [
    "import numpy as np, pandas as pd, json, glob, os, chromadb, openai\n",
    "# from sentence_transformers import SentenceTransformer\n",
    "from openai import OpenAI\n",
    "from typing import List, Tuple, Union\n",
    "from langchain_ollama.embeddings import OllamaEmbeddings\n",
    "from tqdm.auto import tqdm\n",
    "import shutil\n",
    "from chromadb import Documents, EmbeddingFunction, Embeddings\n"
   ]
  },
  {
   "cell_type": "code",
   "execution_count": 2,
   "id": "3e565679",
   "metadata": {},
   "outputs": [],
   "source": [
    "key = open('../../../../api_key.txt','r')\n",
    "api_key = key.read()\n",
    "openai.api_key = api_key\n",
    "\n",
    "base_ = open('../../../../base_url.txt','r')\n",
    "base_url = base_.read()\n",
    "# openai.api_key = api_key"
   ]
  },
  {
   "cell_type": "code",
   "execution_count": 3,
   "id": "a1d2b110",
   "metadata": {},
   "outputs": [],
   "source": [
    "# class OllamaSentenceTransformer():\n",
    "#     def __init__(\n",
    "#             self,\n",
    "#             *args,\n",
    "#             **kargs,\n",
    "#             ) -> None:\n",
    "                \n",
    "#                 self.model = kargs.get(\"model\",\"bge-m3\")\n",
    "#                 self.embedding_model = OllamaEmbeddings(\n",
    "#                             model = self.model,\n",
    "\n",
    "#                         )\n",
    "                        \n",
    "    \n",
    "#     def encode(\n",
    "#             self,\n",
    "#             documents:Union[str, List[str], np.ndarray],\n",
    "#             *args,\n",
    "#             **kargs,\n",
    "#         )-> np.ndarray:\n",
    "#         if isinstance(documents, str):\n",
    "#             document_embeddings = self.embedding_model.embed_query(documents)\n",
    "#             return np.array(document_embeddings)\n",
    "        \n",
    "#         if isinstance(documents, np.ndarray):\n",
    "#             documents = documents.tolist()\n",
    "        \n",
    "#         document_embeddings = [self.embedding_model.embed_query(s) for s in documents]\n",
    "#         return np.array(document_embeddings)\n",
    "\n",
    "# sentence_transformer = OllamaSentenceTransformer()\n"
   ]
  },
  {
   "cell_type": "code",
   "execution_count": 4,
   "id": "5be47a54",
   "metadata": {},
   "outputs": [],
   "source": [
    "# class OllamaSentenceTransformer(EmbeddingFunction):\n",
    "#     def __init__(\n",
    "#             self,\n",
    "#             *args,\n",
    "#             **kargs,\n",
    "#             ) -> Embeddings:\n",
    "#                 # self.base_url = kargs.get(\"base_url\", \"http://localhost:11434\")\n",
    "#                 self.model = kargs.get(\"model\",\"bge-m3\")\n",
    "#                 self.embedding_model = OllamaEmbeddings(\n",
    "#                             model = self.model,\n",
    "#                             # base_url = base_url,\n",
    "#                         )\n",
    "                        \n",
    "    \n",
    "#     def encode(\n",
    "#             self,\n",
    "#             documents:Union[str, List[str], np.ndarray],\n",
    "#             *args,\n",
    "#             **kargs,\n",
    "#         )-> np.ndarray:\n",
    "#         if isinstance(documents, str):\n",
    "#             document_embeddings = self.embedding_model.embed_query(documents)\n",
    "#             return np.array(document_embeddings)\n",
    "        \n",
    "#         if isinstance(documents, np.ndarray):\n",
    "#             documents = documents.tolist()\n",
    "        \n",
    "#         document_embeddings = [self.embedding_model.embed_query(s) for s in documents]\n",
    "#         return np.array(document_embeddings)\n",
    "\n",
    "# sentence_transformer = OllamaSentenceTransformer()\n"
   ]
  },
  {
   "cell_type": "code",
   "execution_count": 5,
   "id": "cec160e7",
   "metadata": {},
   "outputs": [],
   "source": [
    "# from chromadb import Documents, EmbeddingFunction, Embeddings\n",
    "\n",
    "# class MyEmbeddingFunction(EmbeddingFunction):\n",
    "#     def __init__(self, input: Documents) -> Embeddings:\n",
    "#         # embed the documents somehow\n",
    "#         # self.model = kargs.get(\"model\",\"bge-m3\")\n",
    "#         self.embedding_model = OllamaEmbeddings(\n",
    "#                             model = 'bge-m3',)\n",
    "        \n",
    "        \n",
    "        \n",
    "#         return embeddings"
   ]
  },
  {
   "cell_type": "code",
   "execution_count": 6,
   "id": "5d2b3d33",
   "metadata": {},
   "outputs": [],
   "source": [
    "class MyEmbeddingFunction(EmbeddingFunction):\n",
    "    def __init__(self, model: str = \"bge-m3\"):\n",
    "        self.model = model\n",
    "        self.embedding_model = OllamaEmbeddings(model=self.model)\n",
    "\n",
    "    def __call__(self, input: Documents) -> Embeddings:\n",
    "        # input은 List[str] 형태로 들어옴\n",
    "        if isinstance(input, str):\n",
    "            input = [input]\n",
    "\n",
    "        embeddings = [self.embedding_model.embed_query(doc) for doc in input]\n",
    "        return np.array(embeddings).tolist()  # ChromaDB는 List[List[float]] 기대\n",
    "embedding_fn = MyEmbeddingFunction(model=\"bge-m3\")\n"
   ]
  },
  {
   "cell_type": "code",
   "execution_count": 7,
   "id": "6d02a787",
   "metadata": {},
   "outputs": [],
   "source": [
    "# embedding_fn"
   ]
  },
  {
   "cell_type": "code",
   "execution_count": 8,
   "id": "f9858862",
   "metadata": {},
   "outputs": [],
   "source": [
    "db_path = \"../data/chroma_db\"\n",
    "if os.path.exists(db_path):\n",
    "    shutil.rmtree(db_path)\n",
    "    print(\"기존 ChromaDB 삭제 완료\")"
   ]
  },
  {
   "cell_type": "code",
   "execution_count": 9,
   "id": "b30c8645",
   "metadata": {},
   "outputs": [],
   "source": [
    "# from chromadb.utils import embedding_functions\n",
    "\n",
    "# bge_embed = embedding_functions.SentenceTransformerEmbeddingFunction(\n",
    "#     model_name=\"BAAI/bge-m3\"\n",
    "# )"
   ]
  },
  {
   "cell_type": "code",
   "execution_count": 10,
   "id": "146c1f8f",
   "metadata": {},
   "outputs": [],
   "source": [
    "# ChromaDB 클라이언트\n",
    "# db_path = \"../../../../data/chroma_db\"\n",
    "client = chromadb.PersistentClient(path =db_path)\n",
    "\n",
    "#collection 삭제\n",
    "# client.delete_collection('medical_qa')\n",
    "\n",
    "# Collection 생성\n",
    "collection = client.get_or_create_collection('medical_qa',\n",
    "                                             embedding_function=embedding_fn\n",
    "                                             )\n"
   ]
  },
  {
   "cell_type": "code",
   "execution_count": 11,
   "id": "8a6bdeaa",
   "metadata": {},
   "outputs": [
    {
     "data": {
      "text/plain": [
       "'../../../medical_data/02.라벨링데이터/'"
      ]
     },
     "execution_count": 11,
     "metadata": {},
     "output_type": "execute_result"
    }
   ],
   "source": [
    "'../../../medical_data/02.라벨링데이터/'"
   ]
  },
  {
   "cell_type": "code",
   "execution_count": 11,
   "id": "c6f29117",
   "metadata": {},
   "outputs": [
    {
     "name": "stdout",
     "output_type": "stream",
     "text": [
      "TL_내과\n"
     ]
    },
    {
     "name": "stderr",
     "output_type": "stream",
     "text": [
      "  0%|          | 0/3 [00:00<?, ?it/s]"
     ]
    },
    {
     "name": "stdout",
     "output_type": "stream",
     "text": [
      "{'qa_id': 629424, 'domain': 17, 'q_type': 1, 'question': \"67세 여성이 우상복부 통증을 주소로 내원하였다. 통증은 간헐적으로 발생하며, 특히 기름진 음식을 섭취한 후 더 심해진다고 한다. 환자는 최근 피로감과 미열을 동반하였으며, 체중 감소를 호소하였다. 신체검사에서 우상복부 압통이 관찰되었고, Murphy's sign이 양성이었다. 이 환자의 진단을 위해 가장 적절한 첫 번째 영상 검사는 무엇인가?  \\n1) 복부 초음파  \\n2) 복부 X-ray  \\n3) 혈청 아밀라아제 검사  \\n4) 대변 잠혈 검사  \\n5) 상부 위장관 내시경\", 'answer': '1) 복부 초음파'}\n"
     ]
    },
    {
     "name": "stderr",
     "output_type": "stream",
     "text": [
      " 33%|███▎      | 1/3 [00:00<00:01,  1.98it/s]"
     ]
    },
    {
     "name": "stdout",
     "output_type": "stream",
     "text": [
      "{'qa_id': 615373, 'domain': 17, 'q_type': 1, 'question': '유전성 혈색소 침착증의 주요 치료 방법 중 하나로, 과도한 철분을 제거하기 위해 시행되는 치료는 무엇인가요?  \\n1) 방사선 치료  \\n2) 화학 요법  \\n3) 정맥 절개술(사혈 치료) \\n4) 면역 요법  \\n5) 항생제 투여', 'answer': '3) 정맥 절개술(사혈 치료)'}\n"
     ]
    },
    {
     "name": "stderr",
     "output_type": "stream",
     "text": [
      " 67%|██████▋   | 2/3 [00:00<00:00,  2.82it/s]"
     ]
    },
    {
     "name": "stdout",
     "output_type": "stream",
     "text": [
      "{'qa_id': 612657, 'domain': 17, 'q_type': 1, 'question': '경증에서 중등증의 COVID-19 환자에서 이버멕틴의 사용이 사망률에 미치는 영향을 평가한 연구 결과는 무엇인가?\\n\\n1) 사망률이 유의미하게 감소한다.  \\n2) 사망률이 유의미하게 증가한다.  \\n3) 사망률에 유의미한 변화가 없다.  \\n4) 사망률이 약간 감소한다.  \\n5) 사망률이 약간 증가한다.', 'answer': '3) 사망률에 유의미한 변화가 없다.'}\n"
     ]
    },
    {
     "name": "stderr",
     "output_type": "stream",
     "text": [
      "100%|██████████| 3/3 [00:01<00:00,  2.56it/s]\n"
     ]
    },
    {
     "name": "stdout",
     "output_type": "stream",
     "text": [
      "TL_응급의학과\n"
     ]
    },
    {
     "name": "stderr",
     "output_type": "stream",
     "text": [
      "  0%|          | 0/3 [00:00<?, ?it/s]"
     ]
    },
    {
     "name": "stdout",
     "output_type": "stream",
     "text": [
      "{'qa_id': 625882, 'domain': 16, 'q_type': 3, 'question': '58세 남성이 갑작스러운 흉통을 호소하며 응급실에 내원하였다. 심전도 검사에서 ST 분절 상승이 확인되었으며, 심근경색이 의심된다. 환자는 10년 전부터 고혈압 약물을 복용 중이며, 최근에는 고지혈증으로 인해 스타틴을 추가로 복용하고 있다. 이 환자에게 응급실에서 시행해야 할 초기 처치와 이후의 치료 계획을 서술하시오.', 'answer': '응급실에서 이 환자에게 시행해야 할 초기 처치로는 산소 공급을 통해 저산소증을 예방하고, 아스피린 300mg을 경구로 투여하여 혈소판 응집을 억제하며, 니트로글리세린 설하정을 투여하여 흉통을 완화하고 심근 산소 요구량을 줄인다. 또한, 심한 통증이 있는 경우 모르핀을 투여하여 통증을 조절하고 교감신경 자극을 완화한다. 이후 치료로는 가능한 한 신속히 관상동맥 중재술(PCI)을 시행하거나, PCI가 불가능한 경우 혈전 용해제를 투여하여 혈류를 회복시킨다. 장기적인 치료 계획으로는 베타 차단제를 사용하여 심박수를 조절하고 심근 산소 요구량을 줄이며, ACE 억제제 또는 ARB를 사용하여 심부전 및 재발 위험을 감소시킨다. 또한, 스타틴을 지속적으로 사용하여 LDL 콜레스테롤을 낮추고, 금연, 식이 조절, 운동 등 생활 습관 개선을 통해 심혈관 위험 인자를 관리한다.'}\n"
     ]
    },
    {
     "name": "stderr",
     "output_type": "stream",
     "text": [
      " 33%|███▎      | 1/3 [00:00<00:00,  2.90it/s]"
     ]
    },
    {
     "name": "stdout",
     "output_type": "stream",
     "text": [
      "{'qa_id': 617405, 'domain': 16, 'q_type': 1, 'question': '65세 남성이 갑작스러운 흉통과 호흡곤란을 호소하며 응급실에 내원하였다. 환자는 고혈압과 흡연의 병력이 있으며, 심전도에서 ST 분절 상승이 관찰되었다. 이 환자에서 가장 먼저 시행해야 할 처치는 무엇인가?  \\n1) 산소 공급  \\n2) 아스피린 투여  \\n3) 심장 초음파  \\n4) 혈전 용해제 투여  \\n5) 심장 카테터 삽입', 'answer': '2) 아스피린 투여'}\n"
     ]
    },
    {
     "name": "stderr",
     "output_type": "stream",
     "text": [
      " 67%|██████▋   | 2/3 [00:00<00:00,  2.91it/s]"
     ]
    },
    {
     "name": "stdout",
     "output_type": "stream",
     "text": [
      "{'qa_id': 3736, 'domain': 16, 'q_type': 1, 'question': '45세 남성이 칼에 찔려 옆구리에 깊은 관통상을 입고 응급실에 도착했습니다. 환자는 지속적인 출혈이 확인되나 혈역학적으로는 안정된 상태입니다. 복부 검진에서 복부 전반에 걸친 반발통이 확인됩니다. 이 상황에서 가장 적절한 처치는 무엇입니까?  \\n\\n1) 항생제 투여  \\n2) 수액 공급  \\n3) 응급 개복술  \\n4) 진단적 복강세척  \\n5) 경과 관찰', 'answer': '3) 응급 개복술'}\n"
     ]
    },
    {
     "name": "stderr",
     "output_type": "stream",
     "text": [
      "100%|██████████| 3/3 [00:01<00:00,  2.89it/s]\n"
     ]
    },
    {
     "name": "stdout",
     "output_type": "stream",
     "text": [
      "TL_산부인과\n"
     ]
    },
    {
     "name": "stderr",
     "output_type": "stream",
     "text": [
      "  0%|          | 0/3 [00:00<?, ?it/s]"
     ]
    },
    {
     "name": "stdout",
     "output_type": "stream",
     "text": [
      "{'qa_id': 627611, 'domain': 14, 'q_type': 1, 'question': '45세 여성 환자가 반복적인 질 칸디다증으로 플루코나졸(Fluconazole) 150mg 단일 용량 치료를 받았다. 이후 환자는 두통과 메스꺼움을 호소했다. 이 환자에게서 발생한 부작용의 발생률과 관련된 가장 적절한 설명은 무엇인가?  \\n1) 두통은 플루코나졸 단일 용량 투여 시 발생하는 흔한 부작용으로, 전체 환자의 약 13%에서 발생한다.  \\n2) 메스꺼움은 전체 환자의 약 7%에서 발생하며, 이는 두 번째로 흔한 부작용이다.  \\n3) 두통과 메스꺼움 모두 심각한 부작용으로 분류되며, 치료 중단을 고려해야 한다.  \\n4) 메스꺼움의 발생률은 두통보다 높으며, 이는 전체 환자의 약 15%에서 발생한다.  \\n5) 두통과 메스꺼움의 발생률은 각각 1% 미만으로 드물게 발생한다.', 'answer': '1) 두통은 플루코나졸 단일 용량 투여 시 발생하는 흔한 부작용으로, 전체 환자의 약 13%에서 발생한다.'}\n"
     ]
    },
    {
     "name": "stderr",
     "output_type": "stream",
     "text": [
      " 33%|███▎      | 1/3 [00:00<00:01,  1.70it/s]"
     ]
    },
    {
     "name": "stdout",
     "output_type": "stream",
     "text": [
      "{'qa_id': 625552, 'domain': 14, 'q_type': 3, 'question': '28세 여성이 월경 주기의 변화와 불규칙한 월경을 주소로 병원에 내원하였다. 환자는 최근 스트레스를 많이 받았고 체중 감소가 있었다고 한다. 혈액 검사 결과, 황체형성호르몬(LH)과 난포자극호르몬(FSH) 수치가 모두 감소되어 있다. 이 환자의 증상과 관련된 호르몬의 생성 및 분비에 관여하는 뇌의 구조와 그 기능을 설명하시오.', 'answer': '이 환자의 증상은 시상하부에서 분비되는 생식샘자극호르몬 방출호르몬(GnRH)의 감소와 관련이 있다. 시상하부는 뇌의 중심부에 위치한 구조로, 신경분비세포를 통해 GnRH를 생성하고 분비한다. GnRH는 뇌하수체 전엽으로 전달되어, 뇌하수체 전엽의 생식샘자극세포를 자극함으로써 LH와 FSH의 분비를 촉진한다. LH와 FSH는 난소를 자극하여 난포의 발달과 배란을 유도하며, 월경 주기를 조절하는 데 중요한 역할을 한다. 그러나 스트레스와 체중 감소는 시상하부의 기능을 억제하여 GnRH의 분비를 감소시키고, 이로 인해 LH와 FSH 수치가 낮아지며 월경 주기의 변화와 불규칙한 월경이 발생할 수 있다.'}\n"
     ]
    },
    {
     "name": "stderr",
     "output_type": "stream",
     "text": [
      " 67%|██████▋   | 2/3 [00:00<00:00,  2.27it/s]"
     ]
    },
    {
     "name": "stdout",
     "output_type": "stream",
     "text": [
      "{'qa_id': 629499, 'domain': 14, 'q_type': 1, 'question': '30세 여성이 에토노게스트렐 및 에티닐 에스트라디올 질 고리를 사용하고 있으며, 최근 4주 이상 고리를 제거하지 않고 지속적으로 사용한 후 생리 주기가 불규칙해졌다고 병원에 방문했다. 그녀는 흡연을 하지 않으며, 특별한 건강 문제는 없다. 이 환자에게 적절한 처치 및 권고 사항은 무엇인가?\\n\\n1) 즉시 새로운 고리 삽입 및 추가적인 피임 방법 사용 7일  \\n2) 고리 제거 후 1주일 간의 휴식기 후 새로운 고리 삽입  \\n3) 임신 테스트 후 고리 사용 지속  \\n4) 경구 피임약으로 전환  \\n5) 주기 조절을 위해 호르몬 주사 처방', 'answer': '1) 즉시 새로운 고리 삽입 및 추가적인 피임 방법 사용 7일'}\n"
     ]
    },
    {
     "name": "stderr",
     "output_type": "stream",
     "text": [
      "100%|██████████| 3/3 [00:01<00:00,  2.18it/s]\n"
     ]
    },
    {
     "name": "stdout",
     "output_type": "stream",
     "text": [
      "TL_소아청소년과\n"
     ]
    },
    {
     "name": "stderr",
     "output_type": "stream",
     "text": [
      " 33%|███▎      | 1/3 [00:00<00:00,  5.63it/s]"
     ]
    },
    {
     "name": "stdout",
     "output_type": "stream",
     "text": [
      "{'qa_id': 620175, 'domain': 15, 'q_type': 2, 'question': '신생아 선별검사를 통해 조기에 발견하지 못하면 지능 저하와 같은 돌이킬 수 없는 손상이 발생할 수 있는 내분비 질환은 무엇인가?', 'answer': '선천성 갑상선 기능 저하증'}\n",
      "{'qa_id': 21009, 'domain': 15, 'q_type': 1, 'question': '8세 남아가 경련을 주소로 내원하였다. 10일 전 고열, 인두통, 구토가 있었고, 하루 뒤 목, 가슴 윗부분 및 허벅지 부위에 발진이 나타났으나 해열제 치료 후 5일 만에 소실되었다. 내원 전날 소변량 감소, 콜라색 소변, 안면 부종이 발생하였다. 이 환아에서 가장 시급히 시행해야 할 처치는 무엇인가?  \\n1) 혈압을 측정한다.  \\n2) 스테로이드를 투여한다.  \\n3) 알부민을 정맥 주사한다.  \\n4) 항생제를 투여한다.  \\n5) 생리식염수를 정맥 주사한다.', 'answer': '1) 혈압을 측정한다.'}\n"
     ]
    },
    {
     "name": "stderr",
     "output_type": "stream",
     "text": [
      " 67%|██████▋   | 2/3 [00:00<00:00,  2.91it/s]"
     ]
    },
    {
     "name": "stdout",
     "output_type": "stream",
     "text": [
      "{'qa_id': 62, 'domain': 15, 'q_type': 1, 'question': \"신생아 중환자실에서 기계환기를 받고 있는 3주 된 미숙아가 폐 분비물 제거를 위해 치료를 받고 있다. 다음 중 폐 분비물 제거를 위한 흉부 물리치료(CPT) 기법으로 권장되지 않는 것은 무엇인가?  \\n1) 자세배액, 타진, 진동(Postural Drainage, Percussion, and Vibration) \\n2) 흡인(Suction) 단독  \\n3) 발꿈치 접촉 타진(Contact Heel Percussion) \\n4) '컵핑' 타진(Cupping Percussion) \\n5) 폐 짜기 기법(Lung Squeezing Technique)\", 'answer': '5) 폐 짜기 기법(Lung Squeezing Technique)'}\n"
     ]
    },
    {
     "name": "stderr",
     "output_type": "stream",
     "text": [
      "100%|██████████| 3/3 [00:01<00:00,  2.79it/s]\n"
     ]
    }
   ],
   "source": [
    "path = '../../../medical_data/02.라벨링데이터/'\n",
    "for domain in os.listdir(path):\n",
    "    print(domain.split('/')[-1])\n",
    "    for file in tqdm(os.listdir(os.path.join(path, domain))[:3]):\n",
    "        file_path = os.path.join(path, domain, file)\n",
    "        with open(file_path, 'r', encoding='utf-8-sig') as f:\n",
    "            json_file = f.read()\n",
    "            data = json.loads(json_file)\n",
    "\n",
    "        print(data)\n",
    "        question = data.get(\"question\" , \"\").strip()\n",
    "        # print(question)\n",
    "    # break\n",
    "        # embedding = embedding_fn(question)\n",
    "        # embedding = embedding.astype('float64').tolist()\n",
    "        # print(embedding)\n",
    "        # break\n",
    "    # break\n",
    "        # embedding = embedding.astype(float).tolist()\n",
    "        # # print(embedding)\n",
    "        collection.add(\n",
    "            ids = [file],\n",
    "            documents=[question],\n",
    "            # embeddings = embedding,\n",
    "            metadatas = [{\n",
    "                \"answer\" : data['answer'],\n",
    "                \"qa_id\" : data[\"qa_id\"],\n",
    "                \"domain\" : data[\"domain\"],\n",
    "                \"q_type\" : data[\"q_type\"],\n",
    "            }],\n",
    "        )     \n",
    "        # collection.update(\n",
    "        #     ids = [file],\n",
    "        #     # documents=[question],\n",
    "        #     embeddings = [embedding],\n",
    "            \n",
    "        # )   \n",
    "\n",
    "        # break\n",
    "    # break\n",
    "        \n",
    "    "
   ]
  },
  {
   "cell_type": "code",
   "execution_count": 15,
   "id": "a30c1b0a",
   "metadata": {},
   "outputs": [
    {
     "data": {
      "text/plain": [
       "{'ids': [['필수_62.json', '필수_21009.json', '필수_620175.json']],\n",
       " 'embeddings': None,\n",
       " 'documents': [[\"신생아 중환자실에서 기계환기를 받고 있는 3주 된 미숙아가 폐 분비물 제거를 위해 치료를 받고 있다. 다음 중 폐 분비물 제거를 위한 흉부 물리치료(CPT) 기법으로 권장되지 않는 것은 무엇인가?  \\n1) 자세배액, 타진, 진동(Postural Drainage, Percussion, and Vibration) \\n2) 흡인(Suction) 단독  \\n3) 발꿈치 접촉 타진(Contact Heel Percussion) \\n4) '컵핑' 타진(Cupping Percussion) \\n5) 폐 짜기 기법(Lung Squeezing Technique)\",\n",
       "   '8세 남아가 경련을 주소로 내원하였다. 10일 전 고열, 인두통, 구토가 있었고, 하루 뒤 목, 가슴 윗부분 및 허벅지 부위에 발진이 나타났으나 해열제 치료 후 5일 만에 소실되었다. 내원 전날 소변량 감소, 콜라색 소변, 안면 부종이 발생하였다. 이 환아에서 가장 시급히 시행해야 할 처치는 무엇인가?  \\n1) 혈압을 측정한다.  \\n2) 스테로이드를 투여한다.  \\n3) 알부민을 정맥 주사한다.  \\n4) 항생제를 투여한다.  \\n5) 생리식염수를 정맥 주사한다.',\n",
       "   '신생아 선별검사를 통해 조기에 발견하지 못하면 지능 저하와 같은 돌이킬 수 없는 손상이 발생할 수 있는 내분비 질환은 무엇인가?']],\n",
       " 'uris': None,\n",
       " 'included': ['metadatas', 'documents', 'distances'],\n",
       " 'data': None,\n",
       " 'metadatas': [[{'answer': '5) 폐 짜기 기법(Lung Squeezing Technique)',\n",
       "    'q_type': 1,\n",
       "    'qa_id': 62,\n",
       "    'domain': 15},\n",
       "   {'qa_id': 21009, 'q_type': 1, 'domain': 15, 'answer': '1) 혈압을 측정한다.'},\n",
       "   {'qa_id': 620175, 'answer': '선천성 갑상선 기능 저하증', 'q_type': 2, 'domain': 15}]],\n",
       " 'distances': [[0.7978818416595459, 1.0939841270446777, 1.1748075485229492]]}"
      ]
     },
     "execution_count": 15,
     "metadata": {},
     "output_type": "execute_result"
    }
   ],
   "source": [
    "collection.query(\n",
    "    query_texts=[\"신생아 중환자실에서 기계환기를 받고 있는\"],\n",
    "    n_results=3,\n",
    "    where={\"domain\":15}\n",
    "    \n",
    "    \n",
    ")"
   ]
  },
  {
   "cell_type": "code",
   "execution_count": null,
   "id": "2b411c11",
   "metadata": {},
   "outputs": [],
   "source": []
  },
  {
   "cell_type": "code",
   "execution_count": 12,
   "id": "86c4e414",
   "metadata": {},
   "outputs": [],
   "source": [
    "all_doc = collection.get()"
   ]
  },
  {
   "cell_type": "code",
   "execution_count": null,
   "id": "8c9826e8",
   "metadata": {},
   "outputs": [
    {
     "data": {
      "text/plain": [
       "{'ids': ['필수_629424.json',\n",
       "  '필수_615373.json',\n",
       "  '필수_612657.json',\n",
       "  '필수_625882.json',\n",
       "  '필수_617405.json',\n",
       "  '필수_3736.json',\n",
       "  '필수_627611.json',\n",
       "  '필수_625552.json',\n",
       "  '필수_629499.json',\n",
       "  '필수_620175.json',\n",
       "  '필수_21009.json',\n",
       "  '필수_62.json'],\n",
       " 'embeddings': None,\n",
       " 'documents': [\"67세 여성이 우상복부 통증을 주소로 내원하였다. 통증은 간헐적으로 발생하며, 특히 기름진 음식을 섭취한 후 더 심해진다고 한다. 환자는 최근 피로감과 미열을 동반하였으며, 체중 감소를 호소하였다. 신체검사에서 우상복부 압통이 관찰되었고, Murphy's sign이 양성이었다. 이 환자의 진단을 위해 가장 적절한 첫 번째 영상 검사는 무엇인가?  \\n1) 복부 초음파  \\n2) 복부 X-ray  \\n3) 혈청 아밀라아제 검사  \\n4) 대변 잠혈 검사  \\n5) 상부 위장관 내시경\",\n",
       "  '유전성 혈색소 침착증의 주요 치료 방법 중 하나로, 과도한 철분을 제거하기 위해 시행되는 치료는 무엇인가요?  \\n1) 방사선 치료  \\n2) 화학 요법  \\n3) 정맥 절개술(사혈 치료) \\n4) 면역 요법  \\n5) 항생제 투여',\n",
       "  '경증에서 중등증의 COVID-19 환자에서 이버멕틴의 사용이 사망률에 미치는 영향을 평가한 연구 결과는 무엇인가?\\n\\n1) 사망률이 유의미하게 감소한다.  \\n2) 사망률이 유의미하게 증가한다.  \\n3) 사망률에 유의미한 변화가 없다.  \\n4) 사망률이 약간 감소한다.  \\n5) 사망률이 약간 증가한다.',\n",
       "  '58세 남성이 갑작스러운 흉통을 호소하며 응급실에 내원하였다. 심전도 검사에서 ST 분절 상승이 확인되었으며, 심근경색이 의심된다. 환자는 10년 전부터 고혈압 약물을 복용 중이며, 최근에는 고지혈증으로 인해 스타틴을 추가로 복용하고 있다. 이 환자에게 응급실에서 시행해야 할 초기 처치와 이후의 치료 계획을 서술하시오.',\n",
       "  '65세 남성이 갑작스러운 흉통과 호흡곤란을 호소하며 응급실에 내원하였다. 환자는 고혈압과 흡연의 병력이 있으며, 심전도에서 ST 분절 상승이 관찰되었다. 이 환자에서 가장 먼저 시행해야 할 처치는 무엇인가?  \\n1) 산소 공급  \\n2) 아스피린 투여  \\n3) 심장 초음파  \\n4) 혈전 용해제 투여  \\n5) 심장 카테터 삽입',\n",
       "  '45세 남성이 칼에 찔려 옆구리에 깊은 관통상을 입고 응급실에 도착했습니다. 환자는 지속적인 출혈이 확인되나 혈역학적으로는 안정된 상태입니다. 복부 검진에서 복부 전반에 걸친 반발통이 확인됩니다. 이 상황에서 가장 적절한 처치는 무엇입니까?  \\n\\n1) 항생제 투여  \\n2) 수액 공급  \\n3) 응급 개복술  \\n4) 진단적 복강세척  \\n5) 경과 관찰',\n",
       "  '45세 여성 환자가 반복적인 질 칸디다증으로 플루코나졸(Fluconazole) 150mg 단일 용량 치료를 받았다. 이후 환자는 두통과 메스꺼움을 호소했다. 이 환자에게서 발생한 부작용의 발생률과 관련된 가장 적절한 설명은 무엇인가?  \\n1) 두통은 플루코나졸 단일 용량 투여 시 발생하는 흔한 부작용으로, 전체 환자의 약 13%에서 발생한다.  \\n2) 메스꺼움은 전체 환자의 약 7%에서 발생하며, 이는 두 번째로 흔한 부작용이다.  \\n3) 두통과 메스꺼움 모두 심각한 부작용으로 분류되며, 치료 중단을 고려해야 한다.  \\n4) 메스꺼움의 발생률은 두통보다 높으며, 이는 전체 환자의 약 15%에서 발생한다.  \\n5) 두통과 메스꺼움의 발생률은 각각 1% 미만으로 드물게 발생한다.',\n",
       "  '28세 여성이 월경 주기의 변화와 불규칙한 월경을 주소로 병원에 내원하였다. 환자는 최근 스트레스를 많이 받았고 체중 감소가 있었다고 한다. 혈액 검사 결과, 황체형성호르몬(LH)과 난포자극호르몬(FSH) 수치가 모두 감소되어 있다. 이 환자의 증상과 관련된 호르몬의 생성 및 분비에 관여하는 뇌의 구조와 그 기능을 설명하시오.',\n",
       "  '30세 여성이 에토노게스트렐 및 에티닐 에스트라디올 질 고리를 사용하고 있으며, 최근 4주 이상 고리를 제거하지 않고 지속적으로 사용한 후 생리 주기가 불규칙해졌다고 병원에 방문했다. 그녀는 흡연을 하지 않으며, 특별한 건강 문제는 없다. 이 환자에게 적절한 처치 및 권고 사항은 무엇인가?\\n\\n1) 즉시 새로운 고리 삽입 및 추가적인 피임 방법 사용 7일  \\n2) 고리 제거 후 1주일 간의 휴식기 후 새로운 고리 삽입  \\n3) 임신 테스트 후 고리 사용 지속  \\n4) 경구 피임약으로 전환  \\n5) 주기 조절을 위해 호르몬 주사 처방',\n",
       "  '신생아 선별검사를 통해 조기에 발견하지 못하면 지능 저하와 같은 돌이킬 수 없는 손상이 발생할 수 있는 내분비 질환은 무엇인가?',\n",
       "  '8세 남아가 경련을 주소로 내원하였다. 10일 전 고열, 인두통, 구토가 있었고, 하루 뒤 목, 가슴 윗부분 및 허벅지 부위에 발진이 나타났으나 해열제 치료 후 5일 만에 소실되었다. 내원 전날 소변량 감소, 콜라색 소변, 안면 부종이 발생하였다. 이 환아에서 가장 시급히 시행해야 할 처치는 무엇인가?  \\n1) 혈압을 측정한다.  \\n2) 스테로이드를 투여한다.  \\n3) 알부민을 정맥 주사한다.  \\n4) 항생제를 투여한다.  \\n5) 생리식염수를 정맥 주사한다.',\n",
       "  \"신생아 중환자실에서 기계환기를 받고 있는 3주 된 미숙아가 폐 분비물 제거를 위해 치료를 받고 있다. 다음 중 폐 분비물 제거를 위한 흉부 물리치료(CPT) 기법으로 권장되지 않는 것은 무엇인가?  \\n1) 자세배액, 타진, 진동(Postural Drainage, Percussion, and Vibration) \\n2) 흡인(Suction) 단독  \\n3) 발꿈치 접촉 타진(Contact Heel Percussion) \\n4) '컵핑' 타진(Cupping Percussion) \\n5) 폐 짜기 기법(Lung Squeezing Technique)\"],\n",
       " 'uris': None,\n",
       " 'included': ['metadatas', 'documents'],\n",
       " 'data': None,\n",
       " 'metadatas': [{'answer': '1) 복부 초음파',\n",
       "   'q_type': 1,\n",
       "   'qa_id': 629424,\n",
       "   'domain': 17},\n",
       "  {'answer': '3) 정맥 절개술(사혈 치료)', 'domain': 17, 'q_type': 1, 'qa_id': 615373},\n",
       "  {'domain': 17,\n",
       "   'qa_id': 612657,\n",
       "   'answer': '3) 사망률에 유의미한 변화가 없다.',\n",
       "   'q_type': 1},\n",
       "  {'domain': 16,\n",
       "   'answer': '응급실에서 이 환자에게 시행해야 할 초기 처치로는 산소 공급을 통해 저산소증을 예방하고, 아스피린 300mg을 경구로 투여하여 혈소판 응집을 억제하며, 니트로글리세린 설하정을 투여하여 흉통을 완화하고 심근 산소 요구량을 줄인다. 또한, 심한 통증이 있는 경우 모르핀을 투여하여 통증을 조절하고 교감신경 자극을 완화한다. 이후 치료로는 가능한 한 신속히 관상동맥 중재술(PCI)을 시행하거나, PCI가 불가능한 경우 혈전 용해제를 투여하여 혈류를 회복시킨다. 장기적인 치료 계획으로는 베타 차단제를 사용하여 심박수를 조절하고 심근 산소 요구량을 줄이며, ACE 억제제 또는 ARB를 사용하여 심부전 및 재발 위험을 감소시킨다. 또한, 스타틴을 지속적으로 사용하여 LDL 콜레스테롤을 낮추고, 금연, 식이 조절, 운동 등 생활 습관 개선을 통해 심혈관 위험 인자를 관리한다.',\n",
       "   'q_type': 3,\n",
       "   'qa_id': 625882},\n",
       "  {'q_type': 1, 'qa_id': 617405, 'answer': '2) 아스피린 투여', 'domain': 16},\n",
       "  {'domain': 16, 'qa_id': 3736, 'answer': '3) 응급 개복술', 'q_type': 1},\n",
       "  {'answer': '1) 두통은 플루코나졸 단일 용량 투여 시 발생하는 흔한 부작용으로, 전체 환자의 약 13%에서 발생한다.',\n",
       "   'qa_id': 627611,\n",
       "   'domain': 14,\n",
       "   'q_type': 1},\n",
       "  {'domain': 14,\n",
       "   'q_type': 3,\n",
       "   'qa_id': 625552,\n",
       "   'answer': '이 환자의 증상은 시상하부에서 분비되는 생식샘자극호르몬 방출호르몬(GnRH)의 감소와 관련이 있다. 시상하부는 뇌의 중심부에 위치한 구조로, 신경분비세포를 통해 GnRH를 생성하고 분비한다. GnRH는 뇌하수체 전엽으로 전달되어, 뇌하수체 전엽의 생식샘자극세포를 자극함으로써 LH와 FSH의 분비를 촉진한다. LH와 FSH는 난소를 자극하여 난포의 발달과 배란을 유도하며, 월경 주기를 조절하는 데 중요한 역할을 한다. 그러나 스트레스와 체중 감소는 시상하부의 기능을 억제하여 GnRH의 분비를 감소시키고, 이로 인해 LH와 FSH 수치가 낮아지며 월경 주기의 변화와 불규칙한 월경이 발생할 수 있다.'},\n",
       "  {'answer': '1) 즉시 새로운 고리 삽입 및 추가적인 피임 방법 사용 7일',\n",
       "   'q_type': 1,\n",
       "   'qa_id': 629499,\n",
       "   'domain': 14},\n",
       "  {'answer': '선천성 갑상선 기능 저하증', 'q_type': 2, 'domain': 15, 'qa_id': 620175},\n",
       "  {'q_type': 1, 'qa_id': 21009, 'answer': '1) 혈압을 측정한다.', 'domain': 15},\n",
       "  {'qa_id': 62,\n",
       "   'q_type': 1,\n",
       "   'answer': '5) 폐 짜기 기법(Lung Squeezing Technique)',\n",
       "   'domain': 15}]}"
      ]
     },
     "execution_count": 13,
     "metadata": {},
     "output_type": "execute_result"
    }
   ],
   "source": [
    "all_doc['']"
   ]
  },
  {
   "cell_type": "code",
   "execution_count": null,
   "id": "e5fbdda7",
   "metadata": {},
   "outputs": [],
   "source": []
  },
  {
   "cell_type": "code",
   "execution_count": null,
   "id": "4621898b",
   "metadata": {},
   "outputs": [],
   "source": []
  },
  {
   "cell_type": "code",
   "execution_count": null,
   "id": "639f3aea",
   "metadata": {},
   "outputs": [],
   "source": []
  }
 ],
 "metadata": {
  "kernelspec": {
   "display_name": "llm_311",
   "language": "python",
   "name": "python3"
  },
  "language_info": {
   "codemirror_mode": {
    "name": "ipython",
    "version": 3
   },
   "file_extension": ".py",
   "mimetype": "text/x-python",
   "name": "python",
   "nbconvert_exporter": "python",
   "pygments_lexer": "ipython3",
   "version": "3.11.11"
  }
 },
 "nbformat": 4,
 "nbformat_minor": 5
}
