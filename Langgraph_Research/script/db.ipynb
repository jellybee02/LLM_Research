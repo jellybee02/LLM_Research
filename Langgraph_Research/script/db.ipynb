{
 "cells": [
  {
   "cell_type": "code",
   "execution_count": 2,
   "id": "20b50d8f",
   "metadata": {},
   "outputs": [
    {
     "name": "stderr",
     "output_type": "stream",
     "text": [
      "/home/ethan/anaconda3/envs/pl_llm/lib/python3.12/site-packages/tqdm/auto.py:21: TqdmWarning: IProgress not found. Please update jupyter and ipywidgets. See https://ipywidgets.readthedocs.io/en/stable/user_install.html\n",
      "  from .autonotebook import tqdm as notebook_tqdm\n"
     ]
    }
   ],
   "source": [
    "import numpy as np, pandas as pd, json, glob, os, chromadb, openai\n",
    "# from sentence_transformers import SentenceTransformer\n",
    "from openai import OpenAI\n",
    "from typing import List, Tuple, Union\n",
    "from langchain_ollama.embeddings import OllamaEmbeddings\n",
    "from tqdm.auto import tqdm\n",
    "import shutil\n",
    "from chromadb import Documents, EmbeddingFunction, Embeddings\n"
   ]
  },
  {
   "cell_type": "code",
   "execution_count": 3,
   "id": "3e565679",
   "metadata": {},
   "outputs": [],
   "source": [
    "key = open('../../../../api_key.txt','r')\n",
    "api_key = key.read()\n",
    "openai.api_key = api_key\n",
    "\n",
    "base_ = open('../../../../base_url.txt','r')\n",
    "base_url = base_.read()\n",
    "# openai.api_key = api_key"
   ]
  },
  {
   "cell_type": "code",
   "execution_count": 4,
   "id": "5d2b3d33",
   "metadata": {},
   "outputs": [],
   "source": [
    "class MyEmbeddingFunction(EmbeddingFunction):\n",
    "    def __init__(self, model: str = \"bge-m3\"):\n",
    "        self.model = model\n",
    "        self.embedding_model = OllamaEmbeddings(model=self.model,\n",
    "                                                # base_url = base_url,\n",
    "                                                )\n",
    "\n",
    "    def __call__(self, input: Documents) -> Embeddings:\n",
    "        # input은 List[str] 형태로 들어옴\n",
    "        if isinstance(input, str):\n",
    "            input = [input]\n",
    "\n",
    "        embeddings = [self.embedding_model.embed_query(doc) for doc in input]\n",
    "        return np.array(embeddings).tolist()  # ChromaDB는 List[List[float]] 기대\n",
    "embedding_fn = MyEmbeddingFunction(model=\"bge-m3\")\n"
   ]
  },
  {
   "cell_type": "code",
   "execution_count": 5,
   "id": "6d02a787",
   "metadata": {},
   "outputs": [],
   "source": [
    "# embedding_fn"
   ]
  },
  {
   "cell_type": "code",
   "execution_count": 5,
   "id": "f9858862",
   "metadata": {},
   "outputs": [
    {
     "name": "stdout",
     "output_type": "stream",
     "text": [
      "기존 ChromaDB 삭제 완료\n"
     ]
    }
   ],
   "source": [
    "db_path = \"../data/chroma_db\"\n",
    "if os.path.exists(db_path):\n",
    "    shutil.rmtree(db_path)\n",
    "    print(\"기존 ChromaDB 삭제 완료\")"
   ]
  },
  {
   "cell_type": "code",
   "execution_count": 6,
   "id": "b30c8645",
   "metadata": {},
   "outputs": [],
   "source": [
    "# from chromadb.utils import embedding_functions\n",
    "\n",
    "# bge_embed = embedding_functions.SentenceTransformerEmbeddingFunction(\n",
    "#     model_name=\"BAAI/bge-m3\"\n",
    "# )"
   ]
  },
  {
   "cell_type": "code",
   "execution_count": 6,
   "id": "146c1f8f",
   "metadata": {},
   "outputs": [],
   "source": [
    "# ChromaDB 클라이언트\n",
    "db_path = \"../data/chroma_db\"\n",
    "client = chromadb.PersistentClient(path =db_path)\n",
    "\n",
    "#collection 삭제\n",
    "# client.delete_collection('medical_qa')\n",
    "\n",
    "# Collection 생성\n",
    "collection = client.get_or_create_collection('medical_qa',\n",
    "                                             embedding_function=embedding_fn\n",
    "                                             )\n"
   ]
  },
  {
   "cell_type": "code",
   "execution_count": 15,
   "id": "8a6bdeaa",
   "metadata": {},
   "outputs": [
    {
     "data": {
      "text/plain": [
       "'../../../medical_data/02.라벨링데이터/'"
      ]
     },
     "execution_count": 15,
     "metadata": {},
     "output_type": "execute_result"
    }
   ],
   "source": [
    "'../../../medical_data/02.라벨링데이터/'"
   ]
  },
  {
   "cell_type": "code",
   "execution_count": 16,
   "id": "b96a4b38",
   "metadata": {},
   "outputs": [],
   "source": [
    "# base_url = 'http://211.170.172.234/'"
   ]
  },
  {
   "cell_type": "code",
   "execution_count": null,
   "id": "51c61be1",
   "metadata": {},
   "outputs": [],
   "source": []
  },
  {
   "cell_type": "markdown",
   "id": "221367e2",
   "metadata": {},
   "source": [
    "# 삽입 기능"
   ]
  },
  {
   "cell_type": "code",
   "execution_count": 17,
   "id": "c6f29117",
   "metadata": {},
   "outputs": [
    {
     "name": "stdout",
     "output_type": "stream",
     "text": [
      "TL_내과\n"
     ]
    },
    {
     "name": "stderr",
     "output_type": "stream",
     "text": [
      "100%|██████████| 10299/10299 [1:17:16<00:00,  2.22it/s]\n"
     ]
    },
    {
     "name": "stdout",
     "output_type": "stream",
     "text": [
      "TL_응급의학과\n"
     ]
    },
    {
     "name": "stderr",
     "output_type": "stream",
     "text": [
      "100%|██████████| 649/649 [04:20<00:00,  2.50it/s]\n"
     ]
    },
    {
     "name": "stdout",
     "output_type": "stream",
     "text": [
      "TL_산부인과\n"
     ]
    },
    {
     "name": "stderr",
     "output_type": "stream",
     "text": [
      "100%|██████████| 1991/1991 [14:27<00:00,  2.30it/s]\n"
     ]
    },
    {
     "name": "stdout",
     "output_type": "stream",
     "text": [
      "TL_소아청소년과\n"
     ]
    },
    {
     "name": "stderr",
     "output_type": "stream",
     "text": [
      "100%|██████████| 2421/2421 [18:36<00:00,  2.17it/s]\n"
     ]
    }
   ],
   "source": [
    "path = '../../../medical_data/02.라벨링데이터/'\n",
    "for domain in os.listdir(path):\n",
    "    print(domain.split('/')[-1])\n",
    "    for file in tqdm(os.listdir(os.path.join(path, domain))):\n",
    "        file_path = os.path.join(path, domain, file)\n",
    "        with open(file_path, 'r', encoding='utf-8-sig') as f:\n",
    "            json_file = f.read()\n",
    "            data = json.loads(json_file)\n",
    "\n",
    "        # print(data)\n",
    "        question = data.get(\"question\" , \"\").strip()\n",
    "        # print(question)\n",
    "    # break\n",
    "        # embedding = embedding_fn(question)\n",
    "        # embedding = embedding.astype('float64').tolist()\n",
    "        # print(embedding)\n",
    "        # break\n",
    "    # break\n",
    "        # embedding = embedding.astype(float).tolist()\n",
    "        # # print(embedding)\n",
    "        collection.add(\n",
    "            ids = [file],\n",
    "            documents=[question],\n",
    "            # embeddings = embedding,\n",
    "            metadatas = [{\n",
    "                \"answer\" : data['answer'],\n",
    "                \"qa_id\" : data[\"qa_id\"],\n",
    "                \"domain\" : data[\"domain\"],\n",
    "                \"q_type\" : data[\"q_type\"],\n",
    "            }],\n",
    "        )     \n",
    "        # collection.update(\n",
    "        #     ids = [file],\n",
    "        #     # documents=[question],\n",
    "        #     embeddings = [embedding],\n",
    "            \n",
    "        # )   \n",
    "\n",
    "        # break\n",
    "    # break\n",
    "        \n",
    "    "
   ]
  },
  {
   "cell_type": "code",
   "execution_count": 15,
   "id": "a30c1b0a",
   "metadata": {},
   "outputs": [
    {
     "data": {
      "text/plain": [
       "{'ids': [['필수_62.json', '필수_21009.json', '필수_620175.json']],\n",
       " 'embeddings': None,\n",
       " 'documents': [[\"신생아 중환자실에서 기계환기를 받고 있는 3주 된 미숙아가 폐 분비물 제거를 위해 치료를 받고 있다. 다음 중 폐 분비물 제거를 위한 흉부 물리치료(CPT) 기법으로 권장되지 않는 것은 무엇인가?  \\n1) 자세배액, 타진, 진동(Postural Drainage, Percussion, and Vibration) \\n2) 흡인(Suction) 단독  \\n3) 발꿈치 접촉 타진(Contact Heel Percussion) \\n4) '컵핑' 타진(Cupping Percussion) \\n5) 폐 짜기 기법(Lung Squeezing Technique)\",\n",
       "   '8세 남아가 경련을 주소로 내원하였다. 10일 전 고열, 인두통, 구토가 있었고, 하루 뒤 목, 가슴 윗부분 및 허벅지 부위에 발진이 나타났으나 해열제 치료 후 5일 만에 소실되었다. 내원 전날 소변량 감소, 콜라색 소변, 안면 부종이 발생하였다. 이 환아에서 가장 시급히 시행해야 할 처치는 무엇인가?  \\n1) 혈압을 측정한다.  \\n2) 스테로이드를 투여한다.  \\n3) 알부민을 정맥 주사한다.  \\n4) 항생제를 투여한다.  \\n5) 생리식염수를 정맥 주사한다.',\n",
       "   '신생아 선별검사를 통해 조기에 발견하지 못하면 지능 저하와 같은 돌이킬 수 없는 손상이 발생할 수 있는 내분비 질환은 무엇인가?']],\n",
       " 'uris': None,\n",
       " 'included': ['metadatas', 'documents', 'distances'],\n",
       " 'data': None,\n",
       " 'metadatas': [[{'answer': '5) 폐 짜기 기법(Lung Squeezing Technique)',\n",
       "    'q_type': 1,\n",
       "    'qa_id': 62,\n",
       "    'domain': 15},\n",
       "   {'qa_id': 21009, 'q_type': 1, 'domain': 15, 'answer': '1) 혈압을 측정한다.'},\n",
       "   {'qa_id': 620175, 'answer': '선천성 갑상선 기능 저하증', 'q_type': 2, 'domain': 15}]],\n",
       " 'distances': [[0.7978818416595459, 1.0939841270446777, 1.1748075485229492]]}"
      ]
     },
     "execution_count": 15,
     "metadata": {},
     "output_type": "execute_result"
    }
   ],
   "source": [
    "collection.query(\n",
    "    query_texts=[\"신생아 중환자실에서 기계환기를 받고 있는\"],\n",
    "    n_results=3,\n",
    "    where={\"domain\":15}\n",
    "    \n",
    "    \n",
    ")"
   ]
  },
  {
   "cell_type": "code",
   "execution_count": null,
   "id": "1f456eb4",
   "metadata": {},
   "outputs": [],
   "source": [
    "collection.query(\n",
    "    query_texts=[\"신생아 중환자실에서 기계환기를 받고 있는\"],\n",
    "    n_results=3,\n",
    "    where={\"domain\":15}\n",
    "    \n",
    "    \n",
    ")"
   ]
  },
  {
   "cell_type": "code",
   "execution_count": 12,
   "id": "86c4e414",
   "metadata": {},
   "outputs": [],
   "source": [
    "all_doc = collection.get()"
   ]
  },
  {
   "cell_type": "code",
   "execution_count": null,
   "id": "e5fbdda7",
   "metadata": {},
   "outputs": [],
   "source": []
  },
  {
   "cell_type": "code",
   "execution_count": null,
   "id": "4621898b",
   "metadata": {},
   "outputs": [],
   "source": []
  },
  {
   "cell_type": "code",
   "execution_count": null,
   "id": "639f3aea",
   "metadata": {},
   "outputs": [],
   "source": []
  }
 ],
 "metadata": {
  "kernelspec": {
   "display_name": "pl_llm",
   "language": "python",
   "name": "python3"
  },
  "language_info": {
   "codemirror_mode": {
    "name": "ipython",
    "version": 3
   },
   "file_extension": ".py",
   "mimetype": "text/x-python",
   "name": "python",
   "nbconvert_exporter": "python",
   "pygments_lexer": "ipython3",
   "version": "3.12.0"
  }
 },
 "nbformat": 4,
 "nbformat_minor": 5
}
