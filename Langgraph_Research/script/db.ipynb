{
 "cells": [
  {
   "cell_type": "code",
   "execution_count": 1,
   "id": "20b50d8f",
   "metadata": {},
   "outputs": [
    {
     "name": "stderr",
     "output_type": "stream",
     "text": [
      "/home/ubuntu2204/miniconda3/envs/llm/lib/python3.12/site-packages/tqdm/auto.py:21: TqdmWarning: IProgress not found. Please update jupyter and ipywidgets. See https://ipywidgets.readthedocs.io/en/stable/user_install.html\n",
      "  from .autonotebook import tqdm as notebook_tqdm\n"
     ]
    }
   ],
   "source": [
    "import numpy as np, pandas as pd, json, glob, os, chromadb, openai\n",
    "# from sentence_transformers import SentenceTransformer\n",
    "from openai import OpenAI\n",
    "from typing import List, Tuple, Union\n",
    "from langchain_ollama.embeddings import OllamaEmbeddings\n",
    "from tqdm.auto import tqdm\n",
    "import shutil"
   ]
  },
  {
   "cell_type": "code",
   "execution_count": 2,
   "id": "3e565679",
   "metadata": {},
   "outputs": [],
   "source": [
    "key = open('../../../../api_key.txt','r')\n",
    "api_key = key.read()\n",
    "openai.api_key = api_key\n",
    "\n",
    "base_ = open('../../../../base_url.txt','r')\n",
    "base_url = base_.read()\n",
    "# openai.api_key = api_key"
   ]
  },
  {
   "cell_type": "code",
   "execution_count": 3,
   "id": "a1d2b110",
   "metadata": {},
   "outputs": [],
   "source": [
    "class OllamaSentenceTransformer():\n",
    "    def __init__(\n",
    "            self,\n",
    "            *args,\n",
    "            **kargs,\n",
    "            ) -> None:\n",
    "                # self.base_url = kargs.get(\"base_url\", \"http://localhost:11434\")\n",
    "                self.model = kargs.get(\"model\",\"bge-m3\")\n",
    "                self.embedding_model = OllamaEmbeddings(\n",
    "                            model = self.model,\n",
    "                            # base_url = base_url,\n",
    "                        )\n",
    "                        \n",
    "    \n",
    "    def encode(\n",
    "            self,\n",
    "            documents:Union[str, List[str], np.ndarray],\n",
    "            *args,\n",
    "            **kargs,\n",
    "        )-> np.ndarray:\n",
    "        if isinstance(documents, str):\n",
    "            document_embeddings = self.embedding_model.embed_query(documents)\n",
    "            return np.array(document_embeddings)\n",
    "        \n",
    "        if isinstance(documents, np.ndarray):\n",
    "            documents = documents.tolist()\n",
    "        \n",
    "        document_embeddings = [self.embedding_model.embed_query(s) for s in documents]\n",
    "        return np.array(document_embeddings)\n",
    "\n",
    "sentence_transformer = OllamaSentenceTransformer()\n"
   ]
  },
  {
   "cell_type": "code",
   "execution_count": 4,
   "id": "f9858862",
   "metadata": {},
   "outputs": [
    {
     "name": "stdout",
     "output_type": "stream",
     "text": [
      "기존 ChromaDB 삭제 완료\n"
     ]
    }
   ],
   "source": [
    "db_path = \"./chroma_db\"\n",
    "if os.path.exists(db_path):\n",
    "    shutil.rmtree(db_path)\n",
    "    print(\"기존 ChromaDB 삭제 완료\")"
   ]
  },
  {
   "cell_type": "code",
   "execution_count": 5,
   "id": "b30c8645",
   "metadata": {},
   "outputs": [],
   "source": [
    "# from chromadb.utils import embedding_functions\n",
    "\n",
    "# bge_embed = embedding_functions.SentenceTransformerEmbeddingFunction(\n",
    "#     model_name=\"BAAI/bge-m3\"\n",
    "# )"
   ]
  },
  {
   "cell_type": "code",
   "execution_count": 6,
   "id": "146c1f8f",
   "metadata": {},
   "outputs": [],
   "source": [
    "# ChromaDB 클라이언트\n",
    "db_path = \"../../../../data/chroma_db\"\n",
    "client = chromadb.PersistentClient(path =db_path)\n",
    "\n",
    "#collection 삭제\n",
    "# client.delete_collection('medical_qa')\n",
    "\n",
    "# Collection 생성\n",
    "collection = client.get_or_create_collection('medical_qa',\n",
    "                                            #  embedding_function=bge_embed\n",
    "                                             )\n"
   ]
  },
  {
   "cell_type": "code",
   "execution_count": null,
   "id": "7fe5e95a",
   "metadata": {},
   "outputs": [],
   "source": []
  },
  {
   "cell_type": "code",
   "execution_count": null,
   "id": "76db3f06",
   "metadata": {},
   "outputs": [],
   "source": []
  },
  {
   "cell_type": "code",
   "execution_count": null,
   "id": "998221f4",
   "metadata": {},
   "outputs": [],
   "source": []
  },
  {
   "cell_type": "code",
   "execution_count": null,
   "id": "b5b5552a",
   "metadata": {},
   "outputs": [],
   "source": []
  },
  {
   "cell_type": "code",
   "execution_count": 9,
   "id": "c6f29117",
   "metadata": {},
   "outputs": [
    {
     "name": "stdout",
     "output_type": "stream",
     "text": [
      "TL_내과\n"
     ]
    },
    {
     "name": "stderr",
     "output_type": "stream",
     "text": [
      "  0%|          | 0/3 [00:00<?, ?it/s]"
     ]
    },
    {
     "name": "stdout",
     "output_type": "stream",
     "text": [
      "{'qa_id': 61200, 'domain': 17, 'q_type': 1, 'question': '62세 남성이 최근 발생한 심근경색 이후 심혈관 사건의 2차 예방을 위해 내원하였다. 환자는 이미 고혈압과 고콜레스테롤 혈증에 대해 최적의 약물 치료를 받고 있으며, 염증 생체지표(CRP)가 상승된 상태이다. 이 환자에게 추가로 고려할 수 있는 치료 옵션은 무엇인가?\\n\\n1) 고용량 아스피린  \\n2) 고용량 베타 차단제  \\n3) 저용량 콜히친  \\n4) 칼슘 채널 차단제  \\n5) 이뇨제', 'answer': '3) 저용량 콜히친'}\n"
     ]
    },
    {
     "name": "stderr",
     "output_type": "stream",
     "text": [
      " 33%|███▎      | 1/3 [00:00<00:01,  1.07it/s]"
     ]
    },
    {
     "name": "stdout",
     "output_type": "stream",
     "text": [
      "{'qa_id': 611190, 'domain': 17, 'q_type': 1, 'question': '45세 남성이 X-연관 심장 판막 이형성증으로 진단받았다. 이 질환과 관련된 유전적 돌연변이는 다음 중 어떤 세포 골격 단백질과 관련이 있는가?  \\n1) 콜라겐  \\n2) 엘라스틴  \\n3) 필라민 A  \\n4) 피브로넥틴  \\n5) 케라틴', 'answer': '3) 필라민 A'}\n"
     ]
    },
    {
     "name": "stderr",
     "output_type": "stream",
     "text": [
      " 67%|██████▋   | 2/3 [00:01<00:00,  1.53it/s]"
     ]
    },
    {
     "name": "stdout",
     "output_type": "stream",
     "text": [
      "{'qa_id': 624330, 'domain': 17, 'q_type': 3, 'question': '62세 여성 환자가 최근 3일간 좌측 흉부에 발생한 발진과 통증을 주소로 내원하였다. 환자는 고혈압과 고지혈증으로 치료 중이며, 면역억제제를 복용하고 있지 않다. 진찰 결과, 좌측 흉부에 군집성의 소수포가 관찰되었다. 이 환자의 가장 가능성 높은 진단과 적절한 치료 방안을 서술하시오.', 'answer': '이 환자는 좌측 흉부에 군집성 소수포와 통증이 동반된 증상을 보이고 있으며, 면역억제제를 복용하지 않는 상태에서 나타난 점을 고려할 때, 대상포진(herpes zoster)으로 진단할 수 있다. 치료로는 항바이러스제인 아시클로버(Acyclovir), 발라시클로버(Valacyclovir), 또는 팜시클로버(Famciclovir) 중 하나를 선택하여 투여하며, 발진 발생 후 72시간 이내에 치료를 시작하는 것이 중요하다. 또한, 환자의 통증을 완화하기 위해 비스테로이드성 소염제(NSAIDs)나 필요 시 신경통 치료제를 추가로 사용할 수 있다.'}\n"
     ]
    },
    {
     "name": "stderr",
     "output_type": "stream",
     "text": [
      "100%|██████████| 3/3 [00:01<00:00,  1.59it/s]\n"
     ]
    },
    {
     "name": "stdout",
     "output_type": "stream",
     "text": [
      "TL_산부인과\n"
     ]
    },
    {
     "name": "stderr",
     "output_type": "stream",
     "text": [
      "  0%|          | 0/3 [00:00<?, ?it/s]"
     ]
    },
    {
     "name": "stdout",
     "output_type": "stream",
     "text": [
      "{'qa_id': 6362, 'domain': 14, 'q_type': 1, 'question': '임신을 계획 중인 여성에게 권장되는 사전 건강 관리로 가장 적절한 것은?\\n1) 엽산 섭취를 줄여 신경관 결손을 예방한다.\\n2) 흡연, 음주, 약물 복용을 권장한다.\\n3) 현재 체중을 유지하고 체중 변화는 피한다.\\n4) 임신 전 당뇨병이나 고혈압과 같은 건강 문제를 해결한다.\\n5) 백신 접종을 피한다.', 'answer': '4) 임신 전 당뇨병이나 고혈압과 같은 건강 문제를 해결한다.'}\n"
     ]
    },
    {
     "name": "stderr",
     "output_type": "stream",
     "text": [
      " 33%|███▎      | 1/3 [00:00<00:01,  1.92it/s]"
     ]
    },
    {
     "name": "stdout",
     "output_type": "stream",
     "text": [
      "{'qa_id': 611122, 'domain': 14, 'q_type': 1, 'question': 'HIV 감염 여성을 대상으로 한 자궁경부암 검진에서 HPV DNA 검사를 권장하는 주요 이유는 무엇인가?  \\n1) 낮은 민감도  \\n2) 낮은 특이도  \\n3) 비용 효율성  \\n4) 높은 민감도  \\n5) 치료 과정 단축', 'answer': '4) 높은 민감도'}\n"
     ]
    },
    {
     "name": "stderr",
     "output_type": "stream",
     "text": [
      " 67%|██████▋   | 2/3 [00:00<00:00,  2.41it/s]"
     ]
    },
    {
     "name": "stdout",
     "output_type": "stream",
     "text": [
      "{'qa_id': 627962, 'domain': 14, 'q_type': 1, 'question': '35세 여성이 최근 만성적인 질 분비물과 가려움증을 호소하며 병원을 방문하였다. 검사 결과, 그녀는 세균성 질염(Bacterial Vaginosis)으로 진단되었다. 담당 의사는 티니다졸(tinidazole)을 처방하기로 결정하였다. 티니다졸의 약물 작용 기전에 대한 설명으로 가장 적절한 것은 무엇인가?  \\n1) 티니다졸은 세포막을 파괴하여 세균을 사멸시킨다.  \\n2) 티니다졸은 단백질 합성을 억제하여 세균 성장을 저해한다.  \\n3) 티니다졸은 엽산 합성을 저해하여 세균 증식을 억제한다.  \\n4) 티니다졸은 DNA 손상을 유발하여 세균과 원생동물의 세포 사멸을 유도한다.  \\n5) 티니다졸은 세포벽 합성을 억제하여 세균을 사멸시킨다.', 'answer': '4) 티니다졸은 DNA 손상을 유발하여 세균과 원생동물의 세포 사멸을 유도한다.'}\n"
     ]
    },
    {
     "name": "stderr",
     "output_type": "stream",
     "text": [
      "100%|██████████| 3/3 [00:01<00:00,  1.77it/s]\n"
     ]
    },
    {
     "name": "stdout",
     "output_type": "stream",
     "text": [
      "TL_응급의학과\n"
     ]
    },
    {
     "name": "stderr",
     "output_type": "stream",
     "text": [
      " 33%|███▎      | 1/3 [00:00<00:00,  5.30it/s]"
     ]
    },
    {
     "name": "stdout",
     "output_type": "stream",
     "text": [
      "{'qa_id': 2476, 'domain': 16, 'q_type': 3, 'question': '고혈당성 혼수의 주요 원인과 치료 방법을 구체적으로 설명하시오.', 'answer': '고혈당성 혼수는 주로 고삼투성 비케톤성 혼수(Hyperosmolar Hyperglycemic State, HHS)와 당뇨병성 케톤산증(Diabetic Ketoacidosis, DKA)로 인해 발생한다. HHS는 주로 제2형 당뇨병 환자에서 발생하며, 심한 고혈당과 탈수로 인해 의식 저하가 나타난다. DKA는 주로 제1형 당뇨병 환자에서 발생하며, 인슐린 부족으로 인해 케톤체가 축적되어 대사성 산증을 유발한다. 치료는 빠른 수액 공급으로 탈수를 교정하고, 인슐린을 투여하여 혈당을 조절하며, 전해질 불균형을 교정하는 것이 포함된다. 또한, 감염이나 스트레스와 같은 유발 요인을 찾아 치료하는 것이 중요하다. 고혈당성 혼수는 생명을 위협할 수 있는 응급 상황이므로 신속하고 체계적인 치료가 필요하다.'}\n",
      "{'qa_id': 620008, 'domain': 16, 'q_type': 1, 'question': '7세 남아가 응급실에 도착하여 인공호흡기 삽관이 필요하게 되었다. 의료진은 삽관 과정에서 발생할 수 있는 서맥(심박수 감소)을 예방하기 위해 약물 치료를 고려하고 있다. 다음 중 이 상황에서 서맥 예방을 위해 사용할 수 있는 약물은 무엇인가?  \\n1) 아트로핀  \\n2) 이부프로펜  \\n3) 아세트아미노펜  \\n4) 라니티딘  \\n5) 에페드린', 'answer': '1) 아트로핀'}\n"
     ]
    },
    {
     "name": "stderr",
     "output_type": "stream",
     "text": [
      " 67%|██████▋   | 2/3 [00:00<00:00,  2.61it/s]"
     ]
    },
    {
     "name": "stdout",
     "output_type": "stream",
     "text": [
      "{'qa_id': 65262, 'domain': 16, 'q_type': 1, 'question': '32세 남자가 정원에서 일을 하다가 갑자기 손에 통증과 함께 붉은 발진이 생겼다며 병원에 왔다. 환자는 이전에 벌에 쏘였을 때 경미한 알레르기 반응을 보인 적이 있다고 한다. 신체검사에서 손에 국소적인 붉은 발진과 부종이 관찰되었으며, 전신적인 증상은 없다. 이 환자에게 필요한 초기 처치는?  \\n1) 국소 항생제 도포  \\n2) 스테로이드 경구 투여  \\n3) 얼음 팩 또는 젖은 압박 적용  \\n4) 에피네프린 자가주사  \\n5) 알레르기 전문의 상담', 'answer': '3) 얼음 팩 또는 젖은 압박 적용'}\n"
     ]
    },
    {
     "name": "stderr",
     "output_type": "stream",
     "text": [
      "100%|██████████| 3/3 [00:01<00:00,  2.14it/s]\n"
     ]
    },
    {
     "name": "stdout",
     "output_type": "stream",
     "text": [
      "TL_소아청소년과\n"
     ]
    },
    {
     "name": "stderr",
     "output_type": "stream",
     "text": [
      " 33%|███▎      | 1/3 [00:00<00:00,  5.27it/s]"
     ]
    },
    {
     "name": "stdout",
     "output_type": "stream",
     "text": [
      "{'qa_id': 1920, 'domain': 15, 'q_type': 2, 'question': '소아에서 반복적인 발작을 진단하기 위해 확인해야 하는 뇌파 검사 소견은?', 'answer': '비정상 방전'}\n",
      "{'qa_id': 67405, 'domain': 15, 'q_type': 1, 'question': '미숙아의 산소 유리기 손상 방지를 위한 항산화제 보충에 대한 설명으로 옳은 것은?  \\n1) 루테인과 제아잔틴은 체내에서 합성되지 않는다.  \\n2) 베타카로틴은 루테인보다 미숙아에서 ROP 예방에 더 효과적이다.  \\n3) 루테인과 제아잔틴은 주로 어두운 잎 채소에 함유되어 있다.  \\n4) 루테인과 제아잔틴은 미숙아의 신경 발달에 부정적인 영향을 미친다.  \\n5) 루테인과 제아잔틴 보충은 미숙아의 혈중 카로티노이드 농도를 낮춘다.', 'answer': '3) 루테인과 제아잔틴은 주로 어두운 잎 채소에 함유되어 있다.'}\n"
     ]
    },
    {
     "name": "stderr",
     "output_type": "stream",
     "text": [
      " 67%|██████▋   | 2/3 [00:00<00:00,  2.06it/s]"
     ]
    },
    {
     "name": "stdout",
     "output_type": "stream",
     "text": [
      "{'qa_id': 612530, 'domain': 15, 'q_type': 1, 'question': '12세 소아가 반복적인 복통과 혈뇨로 내원하였다. 환자는 과거 낫적혈구병(SCD) 진단을 받은 적이 있다. 이 환자의 신장 기능 평가를 위해 가장 적절한 검사는 무엇인가?  \\n1) 혈중 요산 농도  \\n2) 사구체 여과율(GFR) 측정  \\n3) 소변 단백/크레아티닌 비율  \\n4) 신장 초음파  \\n5) 혈중 크레아티닌', 'answer': '2) 사구체 여과율(GFR) 측정'}\n"
     ]
    },
    {
     "name": "stderr",
     "output_type": "stream",
     "text": [
      "100%|██████████| 3/3 [00:01<00:00,  2.16it/s]\n"
     ]
    }
   ],
   "source": [
    "path = \"../../../../data/medical_data/\"\n",
    "for domain in os.listdir(path):\n",
    "    print(domain.split('/')[-1])\n",
    "    for file in tqdm(os.listdir(os.path.join(path, domain))[:3]):\n",
    "        file_path = os.path.join(path, domain, file)\n",
    "        with open(file_path, 'r', encoding='utf-8-sig') as f:\n",
    "            json_file = f.read()\n",
    "            data = json.loads(json_file)\n",
    "\n",
    "        print(data)\n",
    "        question = data.get(\"question\" , \"\").strip()\n",
    "    # break\n",
    "        embedding = sentence_transformer.encode(question)\n",
    "        embedding = embedding.astype('float64').tolist()\n",
    "        # print(embedding)\n",
    "        # break\n",
    "    # break\n",
    "        # embedding = embedding.astype(float).tolist()\n",
    "        # # print(embedding)\n",
    "        collection.add(\n",
    "            ids = [file],\n",
    "            documents=[question],\n",
    "            embeddings = [embedding],\n",
    "            metadatas = [{\n",
    "                \"answer\" : data['answer'],\n",
    "                \"qa_id\" : data[\"qa_id\"],\n",
    "                \"domain\" : data[\"domain\"],\n",
    "                \"q_type\" : data[\"q_type\"],\n",
    "            }],\n",
    "        )     \n",
    "        # collection.update(\n",
    "        #     ids = [file],\n",
    "        #     # documents=[question],\n",
    "        #     embeddings = [embedding],\n",
    "            \n",
    "        # )   \n",
    "\n",
    "        # break\n",
    "    # break\n",
    "        \n",
    "    "
   ]
  },
  {
   "cell_type": "code",
   "execution_count": 10,
   "id": "86c4e414",
   "metadata": {},
   "outputs": [],
   "source": [
    "all_doc = collection.get()"
   ]
  },
  {
   "cell_type": "code",
   "execution_count": null,
   "id": "8c9826e8",
   "metadata": {},
   "outputs": [
    {
     "data": {
      "text/plain": [
       "{'ids': ['필수_61200.json',\n",
       "  '필수_611190.json',\n",
       "  '필수_624330.json',\n",
       "  '필수_6362.json',\n",
       "  '필수_611122.json',\n",
       "  '필수_627962.json',\n",
       "  '필수_2476.json',\n",
       "  '필수_620008.json',\n",
       "  '필수_65262.json',\n",
       "  '필수_1920.json',\n",
       "  '필수_67405.json',\n",
       "  '필수_612530.json'],\n",
       " 'embeddings': None,\n",
       " 'documents': ['62세 남성이 최근 발생한 심근경색 이후 심혈관 사건의 2차 예방을 위해 내원하였다. 환자는 이미 고혈압과 고콜레스테롤 혈증에 대해 최적의 약물 치료를 받고 있으며, 염증 생체지표(CRP)가 상승된 상태이다. 이 환자에게 추가로 고려할 수 있는 치료 옵션은 무엇인가?\\n\\n1) 고용량 아스피린  \\n2) 고용량 베타 차단제  \\n3) 저용량 콜히친  \\n4) 칼슘 채널 차단제  \\n5) 이뇨제',\n",
       "  '45세 남성이 X-연관 심장 판막 이형성증으로 진단받았다. 이 질환과 관련된 유전적 돌연변이는 다음 중 어떤 세포 골격 단백질과 관련이 있는가?  \\n1) 콜라겐  \\n2) 엘라스틴  \\n3) 필라민 A  \\n4) 피브로넥틴  \\n5) 케라틴',\n",
       "  '62세 여성 환자가 최근 3일간 좌측 흉부에 발생한 발진과 통증을 주소로 내원하였다. 환자는 고혈압과 고지혈증으로 치료 중이며, 면역억제제를 복용하고 있지 않다. 진찰 결과, 좌측 흉부에 군집성의 소수포가 관찰되었다. 이 환자의 가장 가능성 높은 진단과 적절한 치료 방안을 서술하시오.',\n",
       "  '임신을 계획 중인 여성에게 권장되는 사전 건강 관리로 가장 적절한 것은?\\n1) 엽산 섭취를 줄여 신경관 결손을 예방한다.\\n2) 흡연, 음주, 약물 복용을 권장한다.\\n3) 현재 체중을 유지하고 체중 변화는 피한다.\\n4) 임신 전 당뇨병이나 고혈압과 같은 건강 문제를 해결한다.\\n5) 백신 접종을 피한다.',\n",
       "  'HIV 감염 여성을 대상으로 한 자궁경부암 검진에서 HPV DNA 검사를 권장하는 주요 이유는 무엇인가?  \\n1) 낮은 민감도  \\n2) 낮은 특이도  \\n3) 비용 효율성  \\n4) 높은 민감도  \\n5) 치료 과정 단축',\n",
       "  '35세 여성이 최근 만성적인 질 분비물과 가려움증을 호소하며 병원을 방문하였다. 검사 결과, 그녀는 세균성 질염(Bacterial Vaginosis)으로 진단되었다. 담당 의사는 티니다졸(tinidazole)을 처방하기로 결정하였다. 티니다졸의 약물 작용 기전에 대한 설명으로 가장 적절한 것은 무엇인가?  \\n1) 티니다졸은 세포막을 파괴하여 세균을 사멸시킨다.  \\n2) 티니다졸은 단백질 합성을 억제하여 세균 성장을 저해한다.  \\n3) 티니다졸은 엽산 합성을 저해하여 세균 증식을 억제한다.  \\n4) 티니다졸은 DNA 손상을 유발하여 세균과 원생동물의 세포 사멸을 유도한다.  \\n5) 티니다졸은 세포벽 합성을 억제하여 세균을 사멸시킨다.',\n",
       "  '고혈당성 혼수의 주요 원인과 치료 방법을 구체적으로 설명하시오.',\n",
       "  '7세 남아가 응급실에 도착하여 인공호흡기 삽관이 필요하게 되었다. 의료진은 삽관 과정에서 발생할 수 있는 서맥(심박수 감소)을 예방하기 위해 약물 치료를 고려하고 있다. 다음 중 이 상황에서 서맥 예방을 위해 사용할 수 있는 약물은 무엇인가?  \\n1) 아트로핀  \\n2) 이부프로펜  \\n3) 아세트아미노펜  \\n4) 라니티딘  \\n5) 에페드린',\n",
       "  '32세 남자가 정원에서 일을 하다가 갑자기 손에 통증과 함께 붉은 발진이 생겼다며 병원에 왔다. 환자는 이전에 벌에 쏘였을 때 경미한 알레르기 반응을 보인 적이 있다고 한다. 신체검사에서 손에 국소적인 붉은 발진과 부종이 관찰되었으며, 전신적인 증상은 없다. 이 환자에게 필요한 초기 처치는?  \\n1) 국소 항생제 도포  \\n2) 스테로이드 경구 투여  \\n3) 얼음 팩 또는 젖은 압박 적용  \\n4) 에피네프린 자가주사  \\n5) 알레르기 전문의 상담',\n",
       "  '소아에서 반복적인 발작을 진단하기 위해 확인해야 하는 뇌파 검사 소견은?',\n",
       "  '미숙아의 산소 유리기 손상 방지를 위한 항산화제 보충에 대한 설명으로 옳은 것은?  \\n1) 루테인과 제아잔틴은 체내에서 합성되지 않는다.  \\n2) 베타카로틴은 루테인보다 미숙아에서 ROP 예방에 더 효과적이다.  \\n3) 루테인과 제아잔틴은 주로 어두운 잎 채소에 함유되어 있다.  \\n4) 루테인과 제아잔틴은 미숙아의 신경 발달에 부정적인 영향을 미친다.  \\n5) 루테인과 제아잔틴 보충은 미숙아의 혈중 카로티노이드 농도를 낮춘다.',\n",
       "  '12세 소아가 반복적인 복통과 혈뇨로 내원하였다. 환자는 과거 낫적혈구병(SCD) 진단을 받은 적이 있다. 이 환자의 신장 기능 평가를 위해 가장 적절한 검사는 무엇인가?  \\n1) 혈중 요산 농도  \\n2) 사구체 여과율(GFR) 측정  \\n3) 소변 단백/크레아티닌 비율  \\n4) 신장 초음파  \\n5) 혈중 크레아티닌'],\n",
       " 'uris': None,\n",
       " 'included': ['metadatas', 'documents'],\n",
       " 'data': None,\n",
       " 'metadatas': [{'qa_id': 61200,\n",
       "   'domain': 17,\n",
       "   'q_type': 1,\n",
       "   'answer': '3) 저용량 콜히친'},\n",
       "  {'answer': '3) 필라민 A', 'qa_id': 611190, 'domain': 17, 'q_type': 1},\n",
       "  {'domain': 17,\n",
       "   'qa_id': 624330,\n",
       "   'answer': '이 환자는 좌측 흉부에 군집성 소수포와 통증이 동반된 증상을 보이고 있으며, 면역억제제를 복용하지 않는 상태에서 나타난 점을 고려할 때, 대상포진(herpes zoster)으로 진단할 수 있다. 치료로는 항바이러스제인 아시클로버(Acyclovir), 발라시클로버(Valacyclovir), 또는 팜시클로버(Famciclovir) 중 하나를 선택하여 투여하며, 발진 발생 후 72시간 이내에 치료를 시작하는 것이 중요하다. 또한, 환자의 통증을 완화하기 위해 비스테로이드성 소염제(NSAIDs)나 필요 시 신경통 치료제를 추가로 사용할 수 있다.',\n",
       "   'q_type': 3},\n",
       "  {'answer': '4) 임신 전 당뇨병이나 고혈압과 같은 건강 문제를 해결한다.',\n",
       "   'domain': 14,\n",
       "   'qa_id': 6362,\n",
       "   'q_type': 1},\n",
       "  {'q_type': 1, 'qa_id': 611122, 'domain': 14, 'answer': '4) 높은 민감도'},\n",
       "  {'answer': '4) 티니다졸은 DNA 손상을 유발하여 세균과 원생동물의 세포 사멸을 유도한다.',\n",
       "   'qa_id': 627962,\n",
       "   'q_type': 1,\n",
       "   'domain': 14},\n",
       "  {'answer': '고혈당성 혼수는 주로 고삼투성 비케톤성 혼수(Hyperosmolar Hyperglycemic State, HHS)와 당뇨병성 케톤산증(Diabetic Ketoacidosis, DKA)로 인해 발생한다. HHS는 주로 제2형 당뇨병 환자에서 발생하며, 심한 고혈당과 탈수로 인해 의식 저하가 나타난다. DKA는 주로 제1형 당뇨병 환자에서 발생하며, 인슐린 부족으로 인해 케톤체가 축적되어 대사성 산증을 유발한다. 치료는 빠른 수액 공급으로 탈수를 교정하고, 인슐린을 투여하여 혈당을 조절하며, 전해질 불균형을 교정하는 것이 포함된다. 또한, 감염이나 스트레스와 같은 유발 요인을 찾아 치료하는 것이 중요하다. 고혈당성 혼수는 생명을 위협할 수 있는 응급 상황이므로 신속하고 체계적인 치료가 필요하다.',\n",
       "   'domain': 16,\n",
       "   'qa_id': 2476,\n",
       "   'q_type': 3},\n",
       "  {'answer': '1) 아트로핀', 'domain': 16, 'qa_id': 620008, 'q_type': 1},\n",
       "  {'qa_id': 65262, 'q_type': 1, 'domain': 16, 'answer': '3) 얼음 팩 또는 젖은 압박 적용'},\n",
       "  {'domain': 15, 'qa_id': 1920, 'q_type': 2, 'answer': '비정상 방전'},\n",
       "  {'answer': '3) 루테인과 제아잔틴은 주로 어두운 잎 채소에 함유되어 있다.',\n",
       "   'q_type': 1,\n",
       "   'domain': 15,\n",
       "   'qa_id': 67405},\n",
       "  {'answer': '2) 사구체 여과율(GFR) 측정',\n",
       "   'domain': 15,\n",
       "   'q_type': 1,\n",
       "   'qa_id': 612530}]}"
      ]
     },
     "execution_count": 11,
     "metadata": {},
     "output_type": "execute_result"
    }
   ],
   "source": []
  },
  {
   "cell_type": "code",
   "execution_count": null,
   "id": "e5fbdda7",
   "metadata": {},
   "outputs": [],
   "source": []
  },
  {
   "cell_type": "code",
   "execution_count": null,
   "id": "4621898b",
   "metadata": {},
   "outputs": [],
   "source": []
  },
  {
   "cell_type": "code",
   "execution_count": null,
   "id": "639f3aea",
   "metadata": {},
   "outputs": [],
   "source": []
  }
 ],
 "metadata": {
  "kernelspec": {
   "display_name": "llm",
   "language": "python",
   "name": "python3"
  },
  "language_info": {
   "codemirror_mode": {
    "name": "ipython",
    "version": 3
   },
   "file_extension": ".py",
   "mimetype": "text/x-python",
   "name": "python",
   "nbconvert_exporter": "python",
   "pygments_lexer": "ipython3",
   "version": "3.12.11"
  }
 },
 "nbformat": 4,
 "nbformat_minor": 5
}
