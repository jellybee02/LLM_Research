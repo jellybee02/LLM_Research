{
 "cells": [
  {
   "cell_type": "code",
   "execution_count": 7,
   "id": "39d41904",
   "metadata": {},
   "outputs": [],
   "source": [
    "import numpy as np, pandas as pd, warnings, os, openai, json\n",
    "from tqdm.auto import tqdm\n",
    "from openai import OpenAI\n",
    "warnings.filterwarnings('ignore')\n",
    "import requests\n",
    "from typing import List, Tuple, Union\n",
    "from langchain_ollama.embeddings import OllamaEmbeddings\n",
    "import pickle\n",
    "from sklearn.metrics.pairwise import cosine_similarity\n",
    "from haversine import haversine, Unit\n",
    "from langchain_ollama.chat_models import ChatOllama\n",
    "from langchain_core.runnables import RunnableLambda\n",
    "from langchain.memory import ConversationBufferMemory\n",
    "# from langchain_ollama.chat_models import ChatOpenAI\n",
    "# from langchain.schema import Sys\n",
    "from langgraph.graph import StateGraph, END"
   ]
  },
  {
   "cell_type": "code",
   "execution_count": 11,
   "id": "7ebabb52",
   "metadata": {},
   "outputs": [],
   "source": [
    "key = open('../../../../api_key.txt','r')\n",
    "api_key = key.read()\n",
    "openai.api_key = api_key\n",
    "\n",
    "base_ = open('../../../../base_url.txt','r')\n",
    "base_url = base_.read()\n",
    "# openai.api_key = api_key"
   ]
  },
  {
   "cell_type": "code",
   "execution_count": null,
   "id": "ed63757a",
   "metadata": {},
   "outputs": [],
   "source": [
    "llm = ChatOllama(model = 'gemma3:12b',\n",
    "                #  base_url=base_url,\n",
    "                \n",
    "                 )\n"
   ]
  },
  {
   "cell_type": "markdown",
   "id": "ec315389",
   "metadata": {},
   "source": [
    "# GPT.ver"
   ]
  },
  {
   "cell_type": "code",
   "execution_count": 14,
   "id": "7c37fb6e",
   "metadata": {},
   "outputs": [],
   "source": [
    "def invoke(\n",
    "           prompt,\n",
    "           api_key=api_key,\n",
    "           model=\"gpt-4o\",\n",
    "           temperature=0.7):\n",
    "    client = OpenAI(api_key=api_key)\n",
    "\n",
    "    # 메시지 구성\n",
    "    messages = [\n",
    "        # {\"role\": \"system\", \"content\": prompt},\n",
    "        {\"role\": \"user\", \"content\": prompt}\n",
    "    ]\n",
    "    # 스트리밍 요청\n",
    "    stream = client.chat.completions.create(\n",
    "        model=model,\n",
    "        messages=messages,\n",
    "        temperature=temperature,\n",
    "        # stream=True  # ⭐ 핵심 옵션!\n",
    "    )\n",
    "\n",
    "    # generator 반환 (chunk 단위 텍스트 출력)\n",
    "    return stream"
   ]
  },
  {
   "cell_type": "code",
   "execution_count": 17,
   "id": "da0a42e1",
   "metadata": {},
   "outputs": [],
   "source": [
    "prompt = f\"\"\"\n",
    "                너는 사용자의 질문에 똑똑하고 정확하게 대답해주는 도우미야.\n",
    "                포카라에 대해서 설명해줘\n",
    "                \"\"\""
   ]
  },
  {
   "cell_type": "code",
   "execution_count": 27,
   "id": "3aaabe19",
   "metadata": {},
   "outputs": [],
   "source": [
    "response = invoke(prompt).choices[0].message.content"
   ]
  },
  {
   "cell_type": "code",
   "execution_count": null,
   "id": "e752e008",
   "metadata": {},
   "outputs": [],
   "source": []
  }
 ],
 "metadata": {
  "kernelspec": {
   "display_name": "llm_311",
   "language": "python",
   "name": "python3"
  },
  "language_info": {
   "codemirror_mode": {
    "name": "ipython",
    "version": 3
   },
   "file_extension": ".py",
   "mimetype": "text/x-python",
   "name": "python",
   "nbconvert_exporter": "python",
   "pygments_lexer": "ipython3",
   "version": "3.11.11"
  }
 },
 "nbformat": 4,
 "nbformat_minor": 5
}
