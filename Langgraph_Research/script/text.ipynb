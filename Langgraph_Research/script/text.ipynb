{
 "cells": [
  {
   "cell_type": "code",
   "execution_count": null,
   "id": "39d41904",
   "metadata": {},
   "outputs": [],
   "source": [
    "import numpy as np, pandas as pd, warnings, os, openai, json\n",
    "from tqdm.auto import tqdm\n",
    "from openai import OpenAI\n",
    "warnings.filterwarnings('ignore')\n",
    "# import requests\n",
    "from typing import List, Tuple, Union\n",
    "from langchain_ollama.embeddings import OllamaEmbeddings\n",
    "# import pickle\n",
    "from sklearn.metrics.pairwise import cosine_similarity\n",
    "# from langchain_ollama.chat_models import ChatOllama\n",
    "from langchain_core.runnables import RunnableLambda\n",
    "from langchain.memory import ConversationBufferMemory\n",
    "from langchain_ollama.chat_models import \n",
    "# from langchain.schema import Sys\n",
    "from langgraph.graph import StateGraph, END"
   ]
  },
  {
   "cell_type": "code",
   "execution_count": null,
   "id": "d186307b",
   "metadata": {},
   "outputs": [],
   "source": []
  },
  {
   "cell_type": "code",
   "execution_count": 2,
   "id": "7ebabb52",
   "metadata": {},
   "outputs": [],
   "source": [
    "key = open('../../../../api_key.txt','r')\n",
    "api_key = key.read()\n",
    "openai.api_key = api_key\n",
    "\n",
    "base_ = open('../../../../base_url.txt','r')\n",
    "base_url = base_.read()\n",
    "# openai.api_key = api_key"
   ]
  },
  {
   "cell_type": "markdown",
   "id": "ec315389",
   "metadata": {},
   "source": [
    "# GPT.ver"
   ]
  },
  {
   "cell_type": "code",
   "execution_count": null,
   "id": "9de28355",
   "metadata": {},
   "outputs": [],
   "source": []
  },
  {
   "cell_type": "code",
   "execution_count": null,
   "id": "d20745e4",
   "metadata": {},
   "outputs": [],
   "source": []
  },
  {
   "cell_type": "code",
   "execution_count": null,
   "id": "25fde62b",
   "metadata": {},
   "outputs": [],
   "source": []
  },
  {
   "cell_type": "code",
   "execution_count": 119,
   "id": "7c37fb6e",
   "metadata": {},
   "outputs": [],
   "source": [
    "def invoke(\n",
    "           prompt,\n",
    "           api_key=api_key,\n",
    "           model=\"gpt-4.1\",\n",
    "           temperature=0):\n",
    "    client = OpenAI(api_key=api_key)\n",
    "\n",
    "    # 메시지 구성\n",
    "    messages = [\n",
    "        # {\"role\": \"system\", \"content\": prompt},\n",
    "        {\"role\": \"user\", \"content\": prompt}\n",
    "    ]\n",
    "    # 스트리밍 요청\n",
    "    stream = client.chat.completions.create(\n",
    "        model=model,\n",
    "        messages=prompt,\n",
    "        temperature=temperature,\n",
    "        # stream=True  # ⭐ 핵심 옵션!\n",
    "    )\n",
    "\n",
    "    # generator 반환 (chunk 단위 텍스트 출력)\n",
    "    return stream\n",
    "\n",
    "memory = ConversationBufferMemory(return_messages=True)"
   ]
  },
  {
   "cell_type": "markdown",
   "id": "f1d3d736",
   "metadata": {},
   "source": [
    "# Fucntion"
   ]
  },
  {
   "cell_type": "code",
   "execution_count": 4,
   "id": "129e1f7d",
   "metadata": {},
   "outputs": [],
   "source": [
    "class OllamaSentenceTransformer():\n",
    "    def __init__(\n",
    "            self,\n",
    "            *args,\n",
    "            **kargs,\n",
    "            ) -> None:\n",
    "                # self.base_url = kargs.get(\"base_url\", \"http://localhost:11434\")\n",
    "                self.model = kargs.get(\"model\",\"bge-m3\")\n",
    "                self.embedding_model = OllamaEmbeddings(\n",
    "                            model = self.model,\n",
    "                            base_url = base_url,\n",
    "                        )\n",
    "                        \n",
    "    \n",
    "    def encode(\n",
    "            self,\n",
    "            documents:Union[str, List[str], np.ndarray],\n",
    "            *args,\n",
    "            **kargs,\n",
    "        )-> np.ndarray:\n",
    "        if isinstance(documents, str):\n",
    "            document_embeddings = self.embedding_model.embed_query(documents)\n",
    "            return np.array(document_embeddings)\n",
    "        \n",
    "        if isinstance(documents, np.ndarray):\n",
    "            documents = documents.tolist()\n",
    "        \n",
    "        document_embeddings = [self.embedding_model.embed_query(s) for s in documents]\n",
    "        return np.array(document_embeddings)\n",
    "        \n"
   ]
  },
  {
   "cell_type": "code",
   "execution_count": 127,
   "id": "edb36acd",
   "metadata": {},
   "outputs": [],
   "source": [
    "# Node 1: 질문 내용 구분 함수\n",
    "def classify_question(stats):\n",
    "    # input_question = {\"question\": \"3 곱하기 7은 얼마야?\"}\n",
    "\n",
    "    question = stats[\"question\"]\n",
    "    messages = [\n",
    "                    {\"role\": \"system\", \n",
    "                        \"content\": f\"\"\"당신은 의료분야의 전문 지식을 갖춘 병원 안내데스크 직원입니다.\n",
    "                        현재 환자가 들어와 간단한 질의에 대하여 상담을 받고 있습니다. 저희 병원에서 받고있는 과는 '산부인과','소아청소년과','응급의학과','내과'입니다.\n",
    "                        해당 과에 대한 질문이 들어온다면 해당 과를 뱉어주세요.\n",
    "                        만약 제시한 과 중 어느 곳에도 속하지 않는다면 'General'을 반환해줘.\n",
    "                        산부인과 관련 질문이 들어오면 '산부인과', 소아청소년과 관련 질문이 들어오면 '소아청소년과', 응급의학과 관련 질문이 들어오면 '응급의학과', 내과 관련 질문이 들어오면 '내과' \n",
    "                        너가 답변할 수 있는 내용은 ['산부인과','내과','응급의학과','소아청소년과','General'] 뿐이야.\n",
    "                        \"\"\"\n",
    "                        },\n",
    "                    {\"role\": \"user\", \n",
    "                    \"content\": question}\n",
    "                ]\n",
    "    response = invoke(messages).choices[0].message.content\n",
    "    stats['type']=response\n",
    "    return stats"
   ]
  },
  {
   "cell_type": "code",
   "execution_count": 111,
   "id": "8597bac2",
   "metadata": {},
   "outputs": [],
   "source": [
    "question = '배속이 너무 아프고 땀이 너무 나.'\n",
    "messages = [\n",
    "                    {\"role\": \"system\", \n",
    "                        \"content\": f\"\"\"당신은 의료분야의 전문 지식을 갖춘 병원 안내데스크 직원입니다.\n",
    "                        현재 환자가 들어와 간단한 질의에 대하여 상담을 받고 있습니다. 저희 병원에서 받고있는 과는 '산부인과','소아청소년과','응급의학과','내과'입니다.\n",
    "                        해당 과에 대한 질문이 들어온다면 해당 과를 뱉어주세요.\n",
    "                        만약 제시한 과 중 어느 곳에도 속하지 않는다면 'General'을 반환해줘.\n",
    "                        산부인과 관련 질문이 들어오면 '산부인과', 소아청소년과 관련 질문이 들어오면 '소아청소년과', 응급의학과 관련 질문이 들어오면 '응급의학과', 내과 관련 질문이 들어오면 '내과' \n",
    "                        너가 답변할 수 있는 내용은 '산부인과','내과','응급의학과','소아청소년과','General'] 뿐이야.\n",
    "                        \"\"\"\n",
    "                        },\n",
    "                    {\"role\": \"user\", \n",
    "                    \"content\": question}\n",
    "                ]"
   ]
  },
  {
   "cell_type": "code",
   "execution_count": 126,
   "id": "826dca3b",
   "metadata": {},
   "outputs": [],
   "source": [
    "response = invoke(messages)"
   ]
  },
  {
   "cell_type": "code",
   "execution_count": 128,
   "id": "ce79d5f8",
   "metadata": {},
   "outputs": [],
   "source": [
    "def generate_response(state, category):\n",
    "    history = memory.chat_memory.messages  # 이전 대화\n",
    "    current_question = state[\"question\"]\n",
    "    \n",
    "    # 현재 질문과 카테고리에 맞는 프롬프트 구성\n",
    "    prompt = f\"사용자가 이렇게 질문했습니다: '{current_question}'\\n\"\n",
    "    # if category == \"Normal\":\n",
    "    #     prompt += \"→ 질문에 대해서 개념 및 풀이과정을 상세히 설명해주세요.\"\n",
    "    if category == \"산부인과\":\n",
    "        prompt += \"→ 산부인과 질의입니다. 당신은 산부인과의 전설입니다. 물음에 대하여 친철하고, 상세히 설명해주세요.\"\n",
    "    elif category == \"소아청소년과\":\n",
    "        prompt += \"→ 소아청소년과 질의입니다. 당신은 소아청소년과의 전설입니다. 물음에 대하여 친철하고, 상세히 설명해주세요.\"\n",
    "    elif category == \"응급의학과\":\n",
    "        prompt += \"→ 응급의학과 질의입니다. 당신은 응급의학과의 전설입니다. 물음에 대하여 친철하고, 상세히 설명해주세요.\"\n",
    "    elif category == \"내과\":\n",
    "        prompt += \"→ 내과 질의입니다. 당신은 내과의 전설입니다. 물음에 대하여 친철하고, 상세히 설명해주세요.\"\n",
    "    else:\n",
    "        prompt += \"→ 사용자의 물음에 친절히 답해주세요.\"\n",
    "    \n",
    "    # 모델 호출\n",
    "    answer = invoke(history + [{\"role\": \"user\", \"content\": prompt}])\n",
    "    response = answer.choices[0].message.content\n",
    "    \n",
    "    # 응답을 메모리에 저장\n",
    "    memory.chat_memory.add_user_message(current_question)\n",
    "    memory.chat_memory.add_ai_message(response)\n",
    "    \n",
    "    state[\"response\"] = response\n",
    "    return state\n",
    "\n",
    "def decide_next(state):\n",
    "    return state[\"type\"]"
   ]
  },
  {
   "cell_type": "code",
   "execution_count": 129,
   "id": "ad5c2684",
   "metadata": {},
   "outputs": [],
   "source": [
    "# Node Wrappers\n",
    "baby_node = RunnableLambda(lambda s: generate_response(s, \"산부인과\"))\n",
    "kid_node = RunnableLambda(lambda s: generate_response(s, \"소아청소년과\"))\n",
    "emergency_node = RunnableLambda(lambda s: generate_response(s, \"응급의학과\"))\n",
    "internal_node = RunnableLambda(lambda s: generate_response(s, \"내과\"))\n",
    "general_node = RunnableLambda(lambda s: generate_response(s, \"General\"))"
   ]
  },
  {
   "cell_type": "code",
   "execution_count": 130,
   "id": "b9f31430",
   "metadata": {},
   "outputs": [
    {
     "data": {
      "text/plain": [
       "<langgraph.graph.state.StateGraph at 0x7f7f5e5d86b0>"
      ]
     },
     "execution_count": 130,
     "metadata": {},
     "output_type": "execute_result"
    }
   ],
   "source": [
    "# ✅ LangGraph 구성\n",
    "state_type = dict\n",
    "graph = StateGraph(state_schema=state_type)\n",
    "\n",
    "graph.add_node(\"classify\", RunnableLambda(classify_question))\n",
    "graph.add_node(\"산부인과\", baby_node)\n",
    "graph.add_node(\"소아청소년과\", kid_node)\n",
    "graph.add_node(\"응급의학과\", emergency_node)\n",
    "graph.add_node(\"내과\", internal_node)\n",
    "graph.add_node(\"General\", general_node)\n",
    "\n",
    "\n",
    "graph.add_edge(\"산부인과\", END)\n",
    "graph.add_edge(\"소아청소년과\", END)\n",
    "graph.add_edge(\"응급의학과\", END)\n",
    "graph.add_edge(\"내과\", END)\n",
    "graph.add_edge(\"General\", END)\n"
   ]
  },
  {
   "cell_type": "code",
   "execution_count": 131,
   "id": "7037b001",
   "metadata": {},
   "outputs": [
    {
     "data": {
      "text/plain": [
       "<langgraph.graph.state.StateGraph at 0x7f7f5e5d86b0>"
      ]
     },
     "execution_count": 131,
     "metadata": {},
     "output_type": "execute_result"
    }
   ],
   "source": [
    "graph.set_entry_point(\"classify\")\n",
    "\n",
    "graph.add_conditional_edges(\n",
    "    \"classify\",\n",
    "    path=RunnableLambda(decide_next),\n",
    "    path_map={\n",
    "        \"산부인과\": \"산부인과\",\n",
    "        \"소아청소년과\": \"소아청소년과\",\n",
    "        \"응급의학과\": \"응급의학과\",\n",
    "        \"내과\": \"내과\",\n",
    "        \"General\": \"General\",\n",
    "    \n",
    "    }\n",
    ")"
   ]
  },
  {
   "cell_type": "code",
   "execution_count": 132,
   "id": "58e69d30",
   "metadata": {},
   "outputs": [],
   "source": [
    "chat_agent = graph.compile()\n"
   ]
  },
  {
   "cell_type": "code",
   "execution_count": 133,
   "id": "a76f017c",
   "metadata": {},
   "outputs": [
    {
     "data": {
      "text/plain": [
       "{'question': '배속이 너무 아프고 땀이 너무 나.',\n",
       " 'type': '내과',\n",
       " 'response': '안녕하세요. 말씀해주신 \"배가 너무 아프고 땀이 너무 난다\"는 증상은 여러 가지 원인에 의해 발생할 수 있습니다. 내과적으로 중요한 증상일 수 있으니, 아래 내용을 참고해주시고 필요시 빠르게 진료를 받으시길 권유드립니다.\\n\\n### 1. 증상의 의미\\n- **복통(배 아픔)**과 **발한(땀이 남)**이 동시에 나타난다는 것은 몸에 급성(갑작스럽고 심각한) 변화가 있을 수 있음을 시사합니다.\\n- 특히, 땀이 식은땀(차가운 땀)처럼 느껴진다면, 통증이 매우 심하거나, 어지러움, 구토, 의식 저하 등이 동반된다면 응급상황일 수 있습니다.\\n\\n### 2. 가능한 원인\\n1. **소화기계 질환**\\n   - 급성 충수염(맹장염)\\n   - 급성 담낭염(쓸개염)\\n   - 급성 췌장염\\n   - 위궤양 천공, 장폐색 등\\n2. **심혈관계 질환**\\n   - 심근경색(심장마비): 특히 상복부 통증과 식은땀이 동반될 수 있습니다.\\n   - 대동맥 박리(대동맥이 찢어지는 질환)\\n3. **비뇨기계 질환**\\n   - 요로결석(신장결석)\\n   - 급성 신우신염(신장감염)\\n4. **기타**\\n   - 심한 감염(패혈증 등)\\n   - 저혈당, 쇼크 상태\\n\\n### 3. 위험 신호(즉시 응급실 방문이 필요한 경우)\\n- 통증이 매우 심하거나 갑자기 시작됨\\n- 식은땀이 나고, 어지럽거나 기운이 없음\\n- 구토, 혈변, 황달(눈이나 피부가 노래짐)\\n- 호흡곤란, 가슴통증, 의식 저하\\n\\n### 4. 대처 방법\\n- **즉시 응급실 방문**: 위의 위험 신호가 있거나, 통증이 심하고 땀이 많이 난다면 지체하지 말고 가까운 응급실로 가세요.\\n- **기록하기**: 통증의 위치, 양상(쥐어짜는, 찌르는 등), 시작 시간, 동반 증상(구토, 설사, 발열 등)을 기록해두면 진료에 도움이 됩니다.\\n- **금식**: 원인에 따라 수술이 필요할 수 있으니, 병원에 가기 전에는 음식이나 물을 삼가세요.\\n\\n### 5. 결론\\n배가 너무 아프고 땀이 많이 나는 증상은 단순한 소화불량부터 생명을 위협하는 응급질환까지 다양한 원인이 있을 수 있습니다. 증상이 심하거나, 위의 위험 신호가 있다면 즉시 병원에 방문하시길 강력히 권유드립니다.\\n\\n궁금한 점이 더 있으시면 추가로 질문해 주세요. 빠른 쾌유를 빕니다!'}"
      ]
     },
     "execution_count": 133,
     "metadata": {},
     "output_type": "execute_result"
    }
   ],
   "source": [
    "chat_agent.invoke({\"question\": '배속이 너무 아프고 땀이 너무 나.'})\n"
   ]
  },
  {
   "cell_type": "code",
   "execution_count": 14,
   "id": "da0a42e1",
   "metadata": {},
   "outputs": [],
   "source": [
    "prompt = f\"\"\"\n",
    "                너는 사용자의 질문에 똑똑하고 정확하게 대답해주는 도우미야.\n",
    "                포카라에 대해서 설명해줘\n",
    "                \"\"\""
   ]
  },
  {
   "cell_type": "code",
   "execution_count": 15,
   "id": "3aaabe19",
   "metadata": {},
   "outputs": [],
   "source": [
    "response = invoke(prompt).choices[0].message.content"
   ]
  },
  {
   "cell_type": "code",
   "execution_count": 17,
   "id": "e752e008",
   "metadata": {},
   "outputs": [
    {
     "name": "stdout",
     "output_type": "stream",
     "text": [
      "네, 포카라(Pokhara)에 대해 설명해드릴게요!\n",
      "\n",
      "**포카라**는 네팔 중서부에 위치한 도시로, 카트만두에 이어 네팔에서 두 번째로 큰 도시입니다. 해발 약 800m에 자리잡고 있으며, 히말라야 산맥의 아름다운 풍경과 자연 경관으로 매우 유명합니다.\n",
      "\n",
      "### 주요 특징\n",
      "\n",
      "1. **관광 명소**\n",
      "   - **페와 호수(Phewa Lake)**: 포카라에서 가장 유명한 호수로, 배를 타고 호수 한가운데에 있는 바라히 사원(Barahi Temple)까지 갈 수 있습니다.\n",
      "   - **사랑코트(Sarangkot)**: 일출과 히말라야 산맥(특히 마차푸차레와 안나푸르나 봉우리)을 감상할 수 있는 전망대로 유명합니다.\n",
      "   - **데이비스 폭포(Davis Falls)**: 강물이 지하로 빨려 들어가는 독특한 폭포입니다.\n",
      "   - **세계 평화 파고다(World Peace Pagoda)**: 멋진 전망과 평화로운 분위기를 즐길 수 있는 불교 사원입니다.\n",
      "\n",
      "2. **등산과 트레킹의 관문**\n",
      "   - 포카라는 안나푸르나(Annapurna) 트레킹의 출발점으로, 세계 각지의 트레커들이 모이는 곳입니다.\n",
      "   - 패러글라이딩, 래프팅, 산악자전거 등 다양한 액티비티도 인기가 많아요.\n",
      "\n",
      "3. **자연 경관**\n",
      "   - 히말라야의 눈 덮인 봉우리와 푸른 호수, 울창한 숲이 어우러져 그림 같은 풍경을 자랑합니다.\n",
      "\n",
      "4. **기후**\n",
      "   - 포카라는 카트만두보다 온화하고, 연중 대부분 날씨가 좋습니다.\n",
      "\n",
      "### 요약\n",
      "포카라는 히말라야 산맥의 아름다운 풍경, 트레킹과 다양한 액티비티, 그리고 평화로운 분위기로 유명한 네팔의 대표적인 관광 도시입니다. 자연을 좋아하거나, 트레킹과 액티비티를 즐기고 싶은 분들에게 꼭 추천하는 여행지입니다!\n"
     ]
    }
   ],
   "source": [
    "print(response)"
   ]
  },
  {
   "cell_type": "code",
   "execution_count": null,
   "id": "8450c152",
   "metadata": {},
   "outputs": [],
   "source": []
  }
 ],
 "metadata": {
  "kernelspec": {
   "display_name": "llm",
   "language": "python",
   "name": "python3"
  },
  "language_info": {
   "codemirror_mode": {
    "name": "ipython",
    "version": 3
   },
   "file_extension": ".py",
   "mimetype": "text/x-python",
   "name": "python",
   "nbconvert_exporter": "python",
   "pygments_lexer": "ipython3",
   "version": "3.12.11"
  }
 },
 "nbformat": 4,
 "nbformat_minor": 5
}
